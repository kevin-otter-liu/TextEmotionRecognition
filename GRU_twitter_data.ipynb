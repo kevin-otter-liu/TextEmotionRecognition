{
 "cells": [
  {
   "cell_type": "code",
   "execution_count": 1,
   "id": "ce0b8b5f",
   "metadata": {},
   "outputs": [
    {
     "name": "stderr",
     "output_type": "stream",
     "text": [
      "2022-11-06 05:20:06.308866: W tensorflow/stream_executor/platform/default/dso_loader.cc:64] Could not load dynamic library 'libcudart.so.11.0'; dlerror: libcudart.so.11.0: cannot open shared object file: No such file or directory\n",
      "2022-11-06 05:20:06.308883: I tensorflow/stream_executor/cuda/cudart_stub.cc:29] Ignore above cudart dlerror if you do not have a GPU set up on your machine.\n",
      "2022-11-06 05:20:08.107049: I tensorflow/stream_executor/cuda/cuda_gpu_executor.cc:975] successful NUMA node read from SysFS had negative value (-1), but there must be at least one NUMA node, so returning NUMA node zero\n",
      "2022-11-06 05:20:08.107414: W tensorflow/stream_executor/platform/default/dso_loader.cc:64] Could not load dynamic library 'libcudart.so.11.0'; dlerror: libcudart.so.11.0: cannot open shared object file: No such file or directory\n",
      "2022-11-06 05:20:08.107469: W tensorflow/stream_executor/platform/default/dso_loader.cc:64] Could not load dynamic library 'libcublas.so.11'; dlerror: libcublas.so.11: cannot open shared object file: No such file or directory\n",
      "2022-11-06 05:20:08.107515: W tensorflow/stream_executor/platform/default/dso_loader.cc:64] Could not load dynamic library 'libcublasLt.so.11'; dlerror: libcublasLt.so.11: cannot open shared object file: No such file or directory\n",
      "2022-11-06 05:20:08.110310: W tensorflow/stream_executor/platform/default/dso_loader.cc:64] Could not load dynamic library 'libcusolver.so.11'; dlerror: libcusolver.so.11: cannot open shared object file: No such file or directory\n",
      "2022-11-06 05:20:08.110385: W tensorflow/stream_executor/platform/default/dso_loader.cc:64] Could not load dynamic library 'libcusparse.so.11'; dlerror: libcusparse.so.11: cannot open shared object file: No such file or directory\n",
      "2022-11-06 05:20:08.110454: W tensorflow/stream_executor/platform/default/dso_loader.cc:64] Could not load dynamic library 'libcudnn.so.8'; dlerror: libcudnn.so.8: cannot open shared object file: No such file or directory\n",
      "2022-11-06 05:20:08.110460: W tensorflow/core/common_runtime/gpu/gpu_device.cc:1850] Cannot dlopen some GPU libraries. Please make sure the missing libraries mentioned above are installed properly if you would like to use GPU. Follow the guide at https://www.tensorflow.org/install/gpu for how to download and setup the required libraries for your platform.\n",
      "Skipping registering GPU devices...\n"
     ]
    }
   ],
   "source": [
    "import pandas as pd\n",
    "import os\n",
    "import tensorflow as tf\n",
    "from tensorflow import keras\n",
    "from tensorflow.keras import layers\n",
    "from tensorflow.keras.optimizers import Adam\n",
    "from tensorflow.keras.callbacks import EarlyStopping,ModelCheckpoint\n",
    "from tensorflow.keras.preprocessing.text import Tokenizer\n",
    "from tensorflow.keras.preprocessing.sequence import pad_sequences\n",
    "\n",
    "\n",
    "import numpy as np\n",
    "import io\n",
    "import re\n",
    "import string\n",
    "import tqdm\n",
    "import nltk\n",
    "from nltk.stem.wordnet import WordNetLemmatizer \n",
    "from nltk.tokenize import word_tokenize\n",
    "import contractions\n",
    "\n",
    "import matplotlib.pyplot as plt\n",
    "\n",
    "physical_devices = tf.config.list_physical_devices('GPU')\n",
    "#tf.config.experimental.set_memory_growth(physical_devices[0],True)"
   ]
  },
  {
   "cell_type": "code",
   "execution_count": 2,
   "id": "27427c6e",
   "metadata": {},
   "outputs": [],
   "source": [
    "%load_ext tensorboard\n",
    "SEED = 42\n",
    "AUTOTUNE = tf.data.AUTOTUNE"
   ]
  },
  {
   "cell_type": "code",
   "execution_count": 3,
   "id": "7c9eaef1",
   "metadata": {},
   "outputs": [],
   "source": [
    "pd.set_option('display.max_colwidth', None)\n",
    "df = pd.read_csv(\"./data/text_emotion.csv\")"
   ]
  },
  {
   "cell_type": "code",
   "execution_count": 4,
   "id": "962c59a5",
   "metadata": {
    "scrolled": true
   },
   "outputs": [],
   "source": [
    "cleaned_df = df.copy()\n",
    "# lowercasing 'content' column\n",
    "cleaned_df['content'] = cleaned_df['content'].str.lower()\n",
    "\n",
    "# tokenising words with nltk word tokeniser\n",
    "# cleaned_df['content'] = cleaned_df['content'].apply(lambda sentence: \" \".join(word_tokenize(sentence)))\n",
    "\n",
    "# expanding contractions\n",
    "cleaned_df['content'] = cleaned_df['content'].apply(lambda sentence: contractions.fix(sentence))\n",
    "\n",
    "# remove anything http\n",
    "cleaned_df['content'] = cleaned_df['content'].apply(lambda sentence: \" \".join([re.sub('.*http.*','',word) for word in sentence.split()]))\n",
    "\n",
    "# removing all words with #hastag and @name and urls\n",
    "cleaned_df['content'] = cleaned_df['content'].apply(lambda sentence: \" \".join([re.sub('@.*','',word) for word in sentence.split()]))\n",
    "cleaned_df['content'] = cleaned_df['content'].apply(lambda sentence: \" \".join([re.sub('#.*','',word) for word in sentence.split()]))\n",
    "cleaned_df['content'] = cleaned_df['content'].apply(lambda sentence: \" \".join([re.sub('.*www\\..*','',word) for word in sentence.split()]))\n",
    "\n",
    "# removing words with digits like game57\n",
    "cleaned_df['content'] = cleaned_df['content'].apply(lambda sentence: re.sub('\\w*\\d+\\w*','',sentence))\n",
    "\n",
    "\n",
    "# removing all punctuation marks\n",
    "exclude = set(string.punctuation)\n",
    "regex = re.compile('[%s]' % re.escape(string.punctuation))\n",
    "cleaned_df['content'] = cleaned_df['content'].apply(lambda sentence: regex.sub(\"\",sentence))\n",
    "\n",
    "# removing unicode characters\n",
    "cleaned_df['content'] = cleaned_df['content'].apply(lambda sentence: sentence.encode(\"ascii\",\"ignore\").decode())\n",
    "\n",
    "# removing stopwords\n",
    "from nltk.corpus import stopwords\n",
    "\n",
    "stop_words = stopwords.words('english')\n",
    "cleaned_df['content'] = cleaned_df['content'].apply(lambda sentence: \" \".join([word for word in sentence.split() if word not in stop_words]))\n",
    "\n",
    "# lemmatization\n",
    "lemmatizer = WordNetLemmatizer()\n",
    "cleaned_df['content'] = cleaned_df['content'].apply(lambda sentence: \" \".join([lemmatizer.lemmatize(word) for word in sentence.split()]))\n",
    "\n",
    "# remove empty sentences\n",
    "cleaned_df= cleaned_df[cleaned_df['content'] != '']"
   ]
  },
  {
   "cell_type": "markdown",
   "id": "8f652f21",
   "metadata": {},
   "source": [
    "## Distribution of lengths of sentences"
   ]
  },
  {
   "cell_type": "code",
   "execution_count": 5,
   "id": "0a2bba39",
   "metadata": {},
   "outputs": [
    {
     "data": {
      "image/png": "[encoded data removed]",
      "text/plain": [
       "<Figure size 2000x500 with 1 Axes>"
      ]
     },
     "metadata": {},
     "output_type": "display_data"
    }
   ],
   "source": [
    "lengths = [len(sentence.split()) for sentence in cleaned_df['content']]\n",
    "plt.rcParams['figure.figsize'] = [20, 5]\n",
    "plt.hist(lengths,bins=len(set(lengths)))\n",
    "plt.xlabel('sentence length')\n",
    "plt.ylabel('number of sentences')\n",
    "\n",
    "plt.show()"
   ]
  },
  {
   "cell_type": "code",
   "execution_count": 6,
   "id": "629cd7a8",
   "metadata": {
    "scrolled": false
   },
   "outputs": [
    {
     "name": "stdout",
     "output_type": "stream",
     "text": [
      "Unique labels:\n",
      "0) empty\n",
      "1) sadness\n",
      "2) enthusiasm\n",
      "3) neutral\n",
      "4) worry\n",
      "5) surprise\n",
      "6) love\n",
      "7) fun\n",
      "8) hate\n",
      "9) happiness\n",
      "10) boredom\n",
      "11) relief\n",
      "12) anger\n"
     ]
    }
   ],
   "source": [
    "print('Unique labels:')\n",
    "for i, label in enumerate(cleaned_df['sentiment'].unique()):\n",
    "    print('{}) {}'.format(i,label)) "
   ]
  },
  {
   "cell_type": "markdown",
   "id": "6f3896c3",
   "metadata": {},
   "source": [
    "### distribution of sentiments"
   ]
  },
  {
   "cell_type": "code",
   "execution_count": 7,
   "id": "77ff9f0b",
   "metadata": {
    "scrolled": true
   },
   "outputs": [
    {
     "data": {
      "image/png": "[encoded data removed]",
      "text/plain": [
       "<Figure size 2000x500 with 1 Axes>"
      ]
     },
     "metadata": {},
     "output_type": "display_data"
    }
   ],
   "source": [
    "plt.rcParams['figure.figsize'] = [20, 5]\n",
    "x= list(dict(cleaned_df.sentiment.value_counts()).keys())\n",
    "y = list(cleaned_df.sentiment.value_counts())\n",
    "plt.bar(x,y)\n",
    "plt.show()"
   ]
  },
  {
   "cell_type": "code",
   "execution_count": 8,
   "id": "d9df2294",
   "metadata": {
    "scrolled": true
   },
   "outputs": [
    {
     "data": {
      "text/plain": [
       "neutral       8480\n",
       "worry         8429\n",
       "happiness     5202\n",
       "sadness       5156\n",
       "love          3836\n",
       "surprise      2176\n",
       "fun           1775\n",
       "relief        1523\n",
       "hate          1320\n",
       "empty          801\n",
       "enthusiasm     759\n",
       "boredom        179\n",
       "anger          110\n",
       "Name: sentiment, dtype: int64"
      ]
     },
     "execution_count": 8,
     "metadata": {},
     "output_type": "execute_result"
    }
   ],
   "source": [
    "cleaned_df['sentiment'].value_counts()"
   ]
  },
  {
   "cell_type": "markdown",
   "id": "2bb5989d",
   "metadata": {},
   "source": [
    "## As we can see there are different amount of data for each sentiment, this can skew the Model's prediction accuracy. try to use data augmentation to increase all the data for each emotion to be equal"
   ]
  },
  {
   "cell_type": "code",
   "execution_count": 9,
   "id": "b0e9cbca",
   "metadata": {
    "scrolled": false
   },
   "outputs": [],
   "source": [
    "import nlpaug.augmenter.word as naw"
   ]
  },
  {
   "cell_type": "code",
   "execution_count": 10,
   "id": "9b2bbba6",
   "metadata": {},
   "outputs": [],
   "source": [
    "# split the train and test first\n",
    "\n",
    "# shuffle data\n",
    "cleaned_df = cleaned_df.drop(columns=['tweet_id','author']).sample(frac=1).reset_index(drop=True)\n",
    "\n",
    "TRAINING_SPLIT = int(0.7 * len(cleaned_df))\n",
    "X_train = cleaned_df.iloc[:TRAINING_SPLIT]\n",
    "X_test =  cleaned_df[TRAINING_SPLIT:]"
   ]
  },
  {
   "cell_type": "markdown",
   "id": "9a914fe0",
   "metadata": {},
   "source": [
    "### Do data augmentation on the training data. keep the test data unaugmented to prevent wrong test accuracy"
   ]
  },
  {
   "cell_type": "code",
   "execution_count": 11,
   "id": "45991319",
   "metadata": {},
   "outputs": [],
   "source": [
    "sentiment_count = dict(X_train['sentiment'].value_counts())\n",
    "\n",
    "# sentiment,count\n",
    "max_sentiment = [0,0]\n",
    "for sentiment,count in sentiment_count.items():\n",
    "    if(count > max_sentiment[1]):\n",
    "        max_sentiment[0] = sentiment\n",
    "        max_sentiment[1] = count"
   ]
  },
  {
   "cell_type": "code",
   "execution_count": 12,
   "id": "26be095a",
   "metadata": {
    "scrolled": false
   },
   "outputs": [
    {
     "name": "stderr",
     "output_type": "stream",
     "text": [
      "100%|███████████████████████████████████████████████████████████████████████████████████████████████████████████████████████████████████| 12/12 [00:25<00:00,  2.13s/it]\n"
     ]
    }
   ],
   "source": [
    "#synonym replacement\n",
    "# We augment data until each sentiment has equal number of data as the sentiment with the largest amount of data\n",
    "benchmark_count = max_sentiment[1]\n",
    "\n",
    "# remove the sentiment with the largest amount of data as it need not be augmented\n",
    "sentiments_to_augment = [sentiment for sentiment in cleaned_df['sentiment'].unique() if sentiment!= max_sentiment[0]]\n",
    "\n",
    "# augment each sentiment\n",
    "aug = naw.SynonymAug()\n",
    "\n",
    "augmented_df = {\n",
    "    \"content\":[],\n",
    "    \"sentiment\":[]\n",
    "}\n",
    "\n",
    "for i in tqdm.tqdm(range(len(sentiments_to_augment))):\n",
    "    sentiment = sentiments_to_augment[i]\n",
    "    current_no = sentiment_count[sentiment]\n",
    "    augment_no = benchmark_count -  current_no\n",
    "    data = X_train[X_train['sentiment'] == sentiment].reset_index(drop=True)\n",
    "    for i in range(augment_no):\n",
    "        content = data['content'].iloc[i % len(data)]\n",
    "        augmented_content = aug.augment(content)        \n",
    "        augmented_df['content'].append(augmented_content[0])\n",
    "        augmented_df['sentiment'].append(sentiment)"
   ]
  },
  {
   "cell_type": "code",
   "execution_count": 13,
   "id": "0c93cebd",
   "metadata": {
    "scrolled": true
   },
   "outputs": [],
   "source": [
    "# join the 2 training_data\n",
    "X_train = pd.concat([X_train,pd.DataFrame(augmented_df)],ignore_index=True)"
   ]
  },
  {
   "cell_type": "markdown",
   "id": "cb914674",
   "metadata": {},
   "source": [
    "## Combining the original Test dataset back to the training dataset to form the new dataset"
   ]
  },
  {
   "cell_type": "code",
   "execution_count": 14,
   "id": "c8b88da0",
   "metadata": {},
   "outputs": [],
   "source": [
    "# remember the where the train data ends in the merged data\n",
    "train_index = len(X_train)\n",
    "cleaned_df = pd.concat([X_train,X_test],ignore_index=True)"
   ]
  },
  {
   "cell_type": "markdown",
   "id": "cddce61f",
   "metadata": {},
   "source": [
    "# Training data after augmentation"
   ]
  },
  {
   "cell_type": "code",
   "execution_count": 15,
   "id": "ef87ad45",
   "metadata": {
    "scrolled": true
   },
   "outputs": [
    {
     "data": {
      "text/plain": [
       "worry         5904\n",
       "neutral       5904\n",
       "fun           5904\n",
       "happiness     5904\n",
       "love          5904\n",
       "surprise      5904\n",
       "sadness       5904\n",
       "hate          5904\n",
       "relief        5904\n",
       "enthusiasm    5904\n",
       "empty         5904\n",
       "boredom       5904\n",
       "anger         5904\n",
       "Name: sentiment, dtype: int64"
      ]
     },
     "execution_count": 15,
     "metadata": {},
     "output_type": "execute_result"
    }
   ],
   "source": [
    "cleaned_df['sentiment'][:train_index].value_counts()"
   ]
  },
  {
   "cell_type": "markdown",
   "id": "de973f1b",
   "metadata": {},
   "source": [
    "# Converting 'content' column to word vectors\n",
    "---"
   ]
  },
  {
   "cell_type": "code",
   "execution_count": 17,
   "id": "a35e1a82",
   "metadata": {
    "scrolled": false
   },
   "outputs": [
    {
     "name": "stdout",
     "output_type": "stream",
     "text": [
      "Found 36171 unique tokens\n"
     ]
    }
   ],
   "source": [
    "# if google EMBEDDING DIM is 300, Twitter, 50\n",
    "EMBEDDING_DIM = 300\n",
    "\n",
    "# get all the content lines train and test\n",
    "content_lines = list(cleaned_df['content'])\n",
    "tokeniser_obj = Tokenizer()\n",
    "tokeniser_obj.fit_on_texts(content_lines)\n",
    "\n",
    "word_index = tokeniser_obj.word_index\n",
    "print('Found {} unique tokens'.format(len(word_index)))\n",
    "\n",
    "sequences = tokeniser_obj.texts_to_sequences(content_lines)\n",
    "content_pad = pad_sequences(sequences,maxlen=EMBEDDING_DIM)\n",
    "# print(\"labels: {}\".format(labels))"
   ]
  },
  {
   "cell_type": "code",
   "execution_count": 18,
   "id": "4fdda978",
   "metadata": {},
   "outputs": [],
   "source": [
    "num_words = len(word_index) + 1\n",
    "embedding_matrix = np.zeros((num_words,EMBEDDING_DIM))"
   ]
  },
  {
   "cell_type": "code",
   "execution_count": 19,
   "id": "5b573ea1",
   "metadata": {},
   "outputs": [
    {
     "data": {
      "text/plain": [
       "(36172, 300)"
      ]
     },
     "execution_count": 19,
     "metadata": {},
     "output_type": "execute_result"
    }
   ],
   "source": [
    "embedding_matrix.shape"
   ]
  },
  {
   "cell_type": "markdown",
   "id": "b4435d11",
   "metadata": {},
   "source": [
    "# Reading embedded Google data (dimension = 300)\n",
    "---\n",
    "> Reading embedded vectors from google data that has a dimension of 300. You can download it from http://vectors.nlpl.eu/repository/ under Google News 2013\n",
    "\n",
    "it takes awhile to load ..."
   ]
  },
  {
   "cell_type": "code",
   "execution_count": 20,
   "id": "263c930f",
   "metadata": {
    "scrolled": true
   },
   "outputs": [],
   "source": [
    "from gensim.models import KeyedVectors\n",
    "model = KeyedVectors.load_word2vec_format('data/GoogleNews-vectors-negative300.bin',binary=True)"
   ]
  },
  {
   "cell_type": "code",
   "execution_count": 21,
   "id": "c7ef7ddc",
   "metadata": {},
   "outputs": [
    {
     "name": "stderr",
     "output_type": "stream",
     "text": [
      "100%|█████████████████████████████████████████████████████████████████████████████████████████████████████████████████████████████| 36171/36171 [12:19<00:00, 48.90it/s]"
     ]
    },
    {
     "name": "stdout",
     "output_type": "stream",
     "text": [
      "number of words vectorised from Gnews: 21276/36172\n",
      "number of words vectorised from GloVe: 21276/36172\n"
     ]
    },
    {
     "name": "stderr",
     "output_type": "stream",
     "text": [
      "\n"
     ]
    }
   ],
   "source": [
    "count_gnews = 0\n",
    "\n",
    "corpus = model.index_to_key\n",
    "for word,i in tqdm.tqdm(word_index.items()):\n",
    "    if i> num_words:\n",
    "        continue\n",
    "    if word in corpus:\n",
    "        embedding_vector_gnews = model[word]\n",
    "        embedding_matrix[i] = embedding_vector_gnews\n",
    "        count_gnews+=1\n",
    "            \n",
    "print(\"number of words vectorised from Gnews: {}/{}\".format(count_gnews,num_words))\n",
    "print(\"number of words vectorised from GloVe: {}/{}\".format(count_gnews,num_words))"
   ]
  },
  {
   "cell_type": "markdown",
   "id": "e6272b42",
   "metadata": {},
   "source": [
    "# Alternative: reading embedded Twitter vectors + custom trained w2v vectors (dimension =50)\n",
    "---"
   ]
  },
  {
   "cell_type": "markdown",
   "id": "1effa8f0",
   "metadata": {},
   "source": [
    "### Embeddings from Twitter:"
   ]
  },
  {
   "cell_type": "code",
   "execution_count": null,
   "id": "da5edecf",
   "metadata": {},
   "outputs": [],
   "source": [
    "def read_twitter_embeddings_file(path):\n",
    "    \n",
    "    word_embedding_map = {}\n",
    "    inverse_word_embedding_map = {}\n",
    "    \n",
    "    file = open(path,'r')\n",
    "    vocab_size, embedding_dim = file.readline().split()\n",
    "    vocab_size,embedding_dim = int(vocab_size),int(embedding_dim)\n",
    "    print(\"vocab size:{}\".format(vocab_size))\n",
    "    print(\"vocab size:{}\".format(embedding_dim))\n",
    "    \n",
    "    for i in tqdm.tqdm(range(vocab_size)):\n",
    "    #while(True):\n",
    "        line = file.readline()\n",
    "        word,embedding = line.split()[0],line.split()[1:]\n",
    "        \n",
    "        if not line:\n",
    "            break\n",
    "        word_embedding_map[word] = embedding\n",
    "        \n",
    "    file.close()\n",
    "    return word_embedding_map,vocab_size,embedding_dim"
   ]
  },
  {
   "cell_type": "code",
   "execution_count": null,
   "id": "10d3c7ba",
   "metadata": {},
   "outputs": [],
   "source": [
    "word_embedding_map,vocab_size,_ = read_twitter_embeddings_file(\"./data/glove.twitter.27B.50d.txt\")"
   ]
  },
  {
   "cell_type": "markdown",
   "id": "36cf61e1",
   "metadata": {},
   "source": [
    "### Embeddings from Custom w2v:"
   ]
  },
  {
   "cell_type": "code",
   "execution_count": null,
   "id": "c600a76a",
   "metadata": {},
   "outputs": [],
   "source": [
    "def read_tsv(path):\n",
    "    result = []\n",
    "    file = open(path,'r')\n",
    "    while (True):\n",
    "        line = file.readline()\n",
    "        if not line:\n",
    "            break\n",
    "        result.append([float(value) for value in line.split()])\n",
    "        \n",
    "    file.close()\n",
    "    return result"
   ]
  },
  {
   "cell_type": "code",
   "execution_count": null,
   "id": "264e24bc",
   "metadata": {},
   "outputs": [],
   "source": [
    "def read_meta(path):\n",
    "    result = []\n",
    "    file = open(path,'r')\n",
    "    while (True):\n",
    "        line = file.readline()\n",
    "        if not line:\n",
    "            break\n",
    "            \n",
    "        result.append(line.strip())\n",
    "    file.close()\n",
    "    return result"
   ]
  },
  {
   "cell_type": "code",
   "execution_count": null,
   "id": "8bda977d",
   "metadata": {},
   "outputs": [],
   "source": [
    "vectors = read_tsv('./data/vectors1.tsv')\n",
    "classes = read_meta('./data/metadata1.tsv')"
   ]
  },
  {
   "cell_type": "code",
   "execution_count": null,
   "id": "7ced8b87",
   "metadata": {},
   "outputs": [],
   "source": [
    "# make an inverse index of the classes name -> index\n",
    "word_vector_map = {}\n",
    "for index,word in enumerate(classes):\n",
    "    word_vector_map[word] = vectors[index]"
   ]
  },
  {
   "cell_type": "markdown",
   "id": "6675e1a1",
   "metadata": {},
   "source": [
    "### Map embeddings to the embedding Matrix to feed into GRU Model"
   ]
  },
  {
   "cell_type": "code",
   "execution_count": null,
   "id": "8db23397",
   "metadata": {},
   "outputs": [],
   "source": [
    "count_glove = 0\n",
    "count_w2v = 0\n",
    "\n",
    "for word,i in word_index.items():\n",
    "    if i> num_words:\n",
    "        continue\n",
    "    embedding_vector_glove = word_embedding_map.get(word)\n",
    "    embedding_vector_w2v = word_vector_map.get(word)\n",
    "    \n",
    "    if(embedding_vector_glove is not None):\n",
    "        # if embedding vector is not found, \n",
    "        embedding_matrix[i] = embedding_vector_glove\n",
    "        count_glove+=1\n",
    "        continue\n",
    "    if(embedding_vector_w2v is not None):\n",
    "        embedding_matrix[i] = embedding_vector_w2v\n",
    "        count_w2v+=1\n",
    "        continue\n",
    "        \n",
    "print(\"number of words vectorised from GloVe: {}/{}\".format(count_glove,num_words))\n",
    "print(\"number of words vectorised from w2v: {}/{}\".format(count_w2v,num_words))\n",
    "print(\"number of words vectorised from GloVe: {}/{}\".format(count_glove+count_w2v,num_words))"
   ]
  },
  {
   "cell_type": "markdown",
   "id": "1f842737",
   "metadata": {},
   "source": [
    "# Building GRU model"
   ]
  },
  {
   "cell_type": "code",
   "execution_count": 22,
   "id": "7cc573ab",
   "metadata": {},
   "outputs": [],
   "source": [
    "# callback to save the best weights for the model\n",
    "def saveWeightsCallback(path,monitor,mode,save_freq):\n",
    "    return tf.keras.callbacks.ModelCheckpoint(\n",
    "        filepath=path,\n",
    "        monitor = monitor,\n",
    "        verbose = 1,\n",
    "        save_best_only = True,\n",
    "        save_weights_only = True,\n",
    "        mode = mode,\n",
    "        save_freq=save_freq,\n",
    ")"
   ]
  },
  {
   "cell_type": "code",
   "execution_count": 23,
   "id": "19b13c82",
   "metadata": {},
   "outputs": [],
   "source": [
    "def build_model(embedding_dim,max_length):\n",
    "    model = keras.models.Sequential()\n",
    "    model.add(layers.Embedding(num_words,\n",
    "                               embedding_dim,\n",
    "                               weights=[embedding_matrix]))\n",
    "    model.add(\n",
    "        layers.Bidirectional(\n",
    "            layers.GRU(units=64,return_sequences=True)\n",
    "        ))\n",
    "#     model.add(\n",
    "#         layers.Bidirectional(\n",
    "#             layers.GRU(units=64,return_sequences=True)\n",
    "#         ))\n",
    "    \n",
    "    model.add(\n",
    "        layers.Bidirectional(\n",
    "            layers.GRU(units=64)\n",
    "        ))\n",
    "    model.add(layers.Dense(13,activation='softmax'))\n",
    "    \n",
    "    model.summary()\n",
    "    return model"
   ]
  },
  {
   "cell_type": "code",
   "execution_count": 24,
   "id": "e0c48db2",
   "metadata": {},
   "outputs": [
    {
     "name": "stderr",
     "output_type": "stream",
     "text": [
      "2022-11-06 05:34:22.395697: I tensorflow/core/platform/cpu_feature_guard.cc:193] This TensorFlow binary is optimized with oneAPI Deep Neural Network Library (oneDNN) to use the following CPU instructions in performance-critical operations:  AVX2 FMA\n",
      "To enable them in other operations, rebuild TensorFlow with the appropriate compiler flags.\n"
     ]
    },
    {
     "name": "stdout",
     "output_type": "stream",
     "text": [
      "Model: \"sequential\"\n",
      "_________________________________________________________________\n",
      " Layer (type)                Output Shape              Param #   \n",
      "=================================================================\n",
      " embedding (Embedding)       (None, None, 300)         10851600  \n",
      "                                                                 \n",
      " bidirectional (Bidirectiona  (None, None, 128)        140544    \n",
      " l)                                                              \n",
      "                                                                 \n",
      " bidirectional_1 (Bidirectio  (None, 128)              74496     \n",
      " nal)                                                            \n",
      "                                                                 \n",
      " dense (Dense)               (None, 13)                1677      \n",
      "                                                                 \n",
      "=================================================================\n",
      "Total params: 11,068,317\n",
      "Trainable params: 11,068,317\n",
      "Non-trainable params: 0\n",
      "_________________________________________________________________\n",
      "Model: \"sequential\"\n",
      "_________________________________________________________________\n",
      " Layer (type)                Output Shape              Param #   \n",
      "=================================================================\n",
      " embedding (Embedding)       (None, None, 300)         10851600  \n",
      "                                                                 \n",
      " bidirectional (Bidirectiona  (None, None, 128)        140544    \n",
      " l)                                                              \n",
      "                                                                 \n",
      " bidirectional_1 (Bidirectio  (None, 128)              74496     \n",
      " nal)                                                            \n",
      "                                                                 \n",
      " dense (Dense)               (None, 13)                1677      \n",
      "                                                                 \n",
      "=================================================================\n",
      "Total params: 11,068,317\n",
      "Trainable params: 11,068,317\n",
      "Non-trainable params: 0\n",
      "_________________________________________________________________\n"
     ]
    }
   ],
   "source": [
    "GRU_model = build_model(EMBEDDING_DIM,EMBEDDING_DIM)\n",
    "\n",
    "GRU_model.compile(\n",
    "    optimizer= Adam(learning_rate=0.0001),\n",
    "    loss='categorical_crossentropy',\n",
    "    metrics=[\n",
    "        'accuracy',\n",
    "    ]\n",
    ")\n",
    "\n",
    "GRU_model.summary()"
   ]
  },
  {
   "cell_type": "markdown",
   "id": "85ccede1",
   "metadata": {},
   "source": [
    "## One-hot encoding the indices"
   ]
  },
  {
   "cell_type": "code",
   "execution_count": 25,
   "id": "73620be7",
   "metadata": {},
   "outputs": [],
   "source": [
    "# map labels -> indices\n",
    "sentiment_labels = cleaned_df['sentiment'].unique().copy()\n",
    "\n",
    "# index key -> class\n",
    "label_map = {}\n",
    "\n",
    "# class -> index key\n",
    "inverse_label_map = {}\n",
    "for i, label in enumerate(sentiment_labels):\n",
    "    label_map[i] = label \n",
    "    inverse_label_map[label] = i"
   ]
  },
  {
   "cell_type": "code",
   "execution_count": 26,
   "id": "9ba684d8",
   "metadata": {},
   "outputs": [
    {
     "data": {
      "text/plain": [
       "[0, 1, 2, 3, 4, 5, 6, 7, 8, 9, 10, 11, 12]"
      ]
     },
     "execution_count": 26,
     "metadata": {},
     "output_type": "execute_result"
    }
   ],
   "source": [
    "# get all keys\n",
    "indices = list(label_map.keys())\n",
    "indices"
   ]
  },
  {
   "cell_type": "code",
   "execution_count": 27,
   "id": "7742394d",
   "metadata": {},
   "outputs": [],
   "source": [
    "# maps the word to the one hot vector\n",
    "depth = len(indices)\n",
    "one_hot_encoding = tf.one_hot(indices,depth)"
   ]
  },
  {
   "cell_type": "markdown",
   "id": "6b0dc9ad",
   "metadata": {},
   "source": [
    "## map for indices to labels"
   ]
  },
  {
   "cell_type": "code",
   "execution_count": 28,
   "id": "127d20dc",
   "metadata": {
    "scrolled": true
   },
   "outputs": [
    {
     "name": "stdout",
     "output_type": "stream",
     "text": [
      "[1. 0. 0. 0. 0. 0. 0. 0. 0. 0. 0. 0. 0.] --> worry\n",
      "[0. 1. 0. 0. 0. 0. 0. 0. 0. 0. 0. 0. 0.] --> neutral\n",
      "[0. 0. 1. 0. 0. 0. 0. 0. 0. 0. 0. 0. 0.] --> fun\n",
      "[0. 0. 0. 1. 0. 0. 0. 0. 0. 0. 0. 0. 0.] --> happiness\n",
      "[0. 0. 0. 0. 1. 0. 0. 0. 0. 0. 0. 0. 0.] --> love\n",
      "[0. 0. 0. 0. 0. 1. 0. 0. 0. 0. 0. 0. 0.] --> surprise\n",
      "[0. 0. 0. 0. 0. 0. 1. 0. 0. 0. 0. 0. 0.] --> sadness\n",
      "[0. 0. 0. 0. 0. 0. 0. 1. 0. 0. 0. 0. 0.] --> hate\n",
      "[0. 0. 0. 0. 0. 0. 0. 0. 1. 0. 0. 0. 0.] --> relief\n",
      "[0. 0. 0. 0. 0. 0. 0. 0. 0. 1. 0. 0. 0.] --> enthusiasm\n",
      "[0. 0. 0. 0. 0. 0. 0. 0. 0. 0. 1. 0. 0.] --> empty\n",
      "[0. 0. 0. 0. 0. 0. 0. 0. 0. 0. 0. 1. 0.] --> boredom\n",
      "[0. 0. 0. 0. 0. 0. 0. 0. 0. 0. 0. 0. 1.] --> anger\n"
     ]
    }
   ],
   "source": [
    "word_to_vec = {}    \n",
    "for i,oh in enumerate(one_hot_encoding):\n",
    "    print(\"{} --> {}\".format(oh,label_map[i]))\n",
    "    word_to_vec[label_map[i]] = oh.numpy()"
   ]
  },
  {
   "cell_type": "code",
   "execution_count": 29,
   "id": "3d3e062d",
   "metadata": {
    "scrolled": true
   },
   "outputs": [
    {
     "data": {
      "text/plain": [
       "{'worry': array([1., 0., 0., 0., 0., 0., 0., 0., 0., 0., 0., 0., 0.], dtype=float32),\n",
       " 'neutral': array([0., 1., 0., 0., 0., 0., 0., 0., 0., 0., 0., 0., 0.], dtype=float32),\n",
       " 'fun': array([0., 0., 1., 0., 0., 0., 0., 0., 0., 0., 0., 0., 0.], dtype=float32),\n",
       " 'happiness': array([0., 0., 0., 1., 0., 0., 0., 0., 0., 0., 0., 0., 0.], dtype=float32),\n",
       " 'love': array([0., 0., 0., 0., 1., 0., 0., 0., 0., 0., 0., 0., 0.], dtype=float32),\n",
       " 'surprise': array([0., 0., 0., 0., 0., 1., 0., 0., 0., 0., 0., 0., 0.], dtype=float32),\n",
       " 'sadness': array([0., 0., 0., 0., 0., 0., 1., 0., 0., 0., 0., 0., 0.], dtype=float32),\n",
       " 'hate': array([0., 0., 0., 0., 0., 0., 0., 1., 0., 0., 0., 0., 0.], dtype=float32),\n",
       " 'relief': array([0., 0., 0., 0., 0., 0., 0., 0., 1., 0., 0., 0., 0.], dtype=float32),\n",
       " 'enthusiasm': array([0., 0., 0., 0., 0., 0., 0., 0., 0., 1., 0., 0., 0.], dtype=float32),\n",
       " 'empty': array([0., 0., 0., 0., 0., 0., 0., 0., 0., 0., 1., 0., 0.], dtype=float32),\n",
       " 'boredom': array([0., 0., 0., 0., 0., 0., 0., 0., 0., 0., 0., 1., 0.], dtype=float32),\n",
       " 'anger': array([0., 0., 0., 0., 0., 0., 0., 0., 0., 0., 0., 0., 1.], dtype=float32)}"
      ]
     },
     "execution_count": 29,
     "metadata": {},
     "output_type": "execute_result"
    }
   ],
   "source": [
    "word_to_vec"
   ]
  },
  {
   "cell_type": "markdown",
   "id": "11e1452f",
   "metadata": {},
   "source": [
    "## replacing the labels with one-hhot encoding"
   ]
  },
  {
   "cell_type": "code",
   "execution_count": 30,
   "id": "94662270",
   "metadata": {},
   "outputs": [
    {
     "name": "stderr",
     "output_type": "stream",
     "text": [
      "100%|███████████████████████████████████████████████████████████████████████████████████████████████████████████████████████████| 88676/88676 [00:12<00:00, 7268.15it/s]\n"
     ]
    }
   ],
   "source": [
    "# getting one-hot encoding for labels\n",
    "\n",
    "labels=[]\n",
    "for sentiment in tqdm.tqdm(cleaned_df['sentiment'].values):\n",
    "    o_h = one_hot_encoding[inverse_label_map[sentiment]]\n",
    "    labels.append(o_h)\n",
    "labels = np.asarray(labels)"
   ]
  },
  {
   "cell_type": "code",
   "execution_count": 42,
   "id": "c8fbb3f8",
   "metadata": {},
   "outputs": [],
   "source": [
    "X_train_pad = content_pad[:train_index]\n",
    "y_train = labels[:train_index]\n",
    "\n",
    "X_test_pad = content_pad[train_index:]\n",
    "y_test = labels[train_index:]"
   ]
  },
  {
   "cell_type": "code",
   "execution_count": 46,
   "id": "5e1157fb",
   "metadata": {
    "scrolled": true
   },
   "outputs": [],
   "source": [
    "# checking oh encoding is done right\n",
    "for i,v in cleaned_df['sentiment'].items():\n",
    "    if False in (word_to_vec[v] == labels[i]):\n",
    "        print(\"Check failed\")"
   ]
  },
  {
   "cell_type": "code",
   "execution_count": null,
   "id": "a6cc91e3",
   "metadata": {
    "scrolled": false
   },
   "outputs": [
    {
     "name": "stdout",
     "output_type": "stream",
     "text": [
      "Epoch 1/25\n"
     ]
    }
   ],
   "source": [
    "history = GRU_model.fit(X_train_pad,\n",
    "                        y_train,\n",
    "                        batch_size=128,\n",
    "                        epochs = 25,\n",
    "                        verbose=2,\n",
    "                        validation_data = (X_test_pad,y_test))\n",
    "\n",
    "callbacks = [EarlyStopping(monitor='val_accuracy', patience=2),\n",
    "                     saveWeightsCallback(\n",
    "                         path='./weights/GRU',\n",
    "                         monitor = 'val_loss',\n",
    "                         mode = 'min',\n",
    "                         save_freq='epoch',\n",
    "                     )],         "
   ]
  },
  {
   "cell_type": "code",
   "execution_count": null,
   "id": "3949828c",
   "metadata": {},
   "outputs": [],
   "source": [
    "history.history.keys()"
   ]
  },
  {
   "cell_type": "code",
   "execution_count": null,
   "id": "6dd548c1",
   "metadata": {},
   "outputs": [],
   "source": [
    "loss = history.history['loss']\n",
    "plt.plot(loss,[epoch+1 for epoch in range(0,len(loss))])\n",
    "plt.xlabel('epochs')\n",
    "plt.ylabel('loss')"
   ]
  },
  {
   "cell_type": "code",
   "execution_count": null,
   "id": "dd6ad136",
   "metadata": {},
   "outputs": [],
   "source": [
    "val_accuracy = history.history['val_accuracy']\n",
    "plt.plot([epoch+1 for epoch in range(0,len(val_accuracy))],val_accuracy)\n",
    "plt.xlabel('epochs')\n",
    "plt.ylabel('val_accuracy')"
   ]
  },
  {
   "cell_type": "code",
   "execution_count": null,
   "id": "ea60b6f6",
   "metadata": {},
   "outputs": [],
   "source": []
  }
 ],
 "metadata": {
  "kernelspec": {
   "display_name": "neuralNetworks",
   "language": "python",
   "name": "neuralnetworks"
  },
  "language_info": {
   "codemirror_mode": {
    "name": "ipython",
    "version": 3
   },
   "file_extension": ".py",
   "mimetype": "text/x-python",
   "name": "python",
   "nbconvert_exporter": "python",
   "pygments_lexer": "ipython3",
   "version": "3.10.4"
  }
 },
 "nbformat": 4,
 "nbformat_minor": 5
}
