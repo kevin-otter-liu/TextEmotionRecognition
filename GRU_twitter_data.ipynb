{
 "cells": [
  {
   "cell_type": "code",
   "execution_count": 1,
   "id": "ce0b8b5f",
   "metadata": {},
   "outputs": [
    {
     "name": "stderr",
     "output_type": "stream",
     "text": [
      "2022-11-03 04:48:43.135668: W tensorflow/stream_executor/platform/default/dso_loader.cc:64] Could not load dynamic library 'libcudart.so.11.0'; dlerror: libcudart.so.11.0: cannot open shared object file: No such file or directory\n",
      "2022-11-03 04:48:43.135704: I tensorflow/stream_executor/cuda/cudart_stub.cc:29] Ignore above cudart dlerror if you do not have a GPU set up on your machine.\n",
      "2022-11-03 04:48:46.389990: I tensorflow/stream_executor/cuda/cuda_gpu_executor.cc:975] successful NUMA node read from SysFS had negative value (-1), but there must be at least one NUMA node, so returning NUMA node zero\n",
      "2022-11-03 04:48:46.390500: W tensorflow/stream_executor/platform/default/dso_loader.cc:64] Could not load dynamic library 'libcudart.so.11.0'; dlerror: libcudart.so.11.0: cannot open shared object file: No such file or directory\n",
      "2022-11-03 04:48:46.390650: W tensorflow/stream_executor/platform/default/dso_loader.cc:64] Could not load dynamic library 'libcublas.so.11'; dlerror: libcublas.so.11: cannot open shared object file: No such file or directory\n",
      "2022-11-03 04:48:46.390771: W tensorflow/stream_executor/platform/default/dso_loader.cc:64] Could not load dynamic library 'libcublasLt.so.11'; dlerror: libcublasLt.so.11: cannot open shared object file: No such file or directory\n",
      "2022-11-03 04:48:46.393954: W tensorflow/stream_executor/platform/default/dso_loader.cc:64] Could not load dynamic library 'libcusolver.so.11'; dlerror: libcusolver.so.11: cannot open shared object file: No such file or directory\n",
      "2022-11-03 04:48:46.394087: W tensorflow/stream_executor/platform/default/dso_loader.cc:64] Could not load dynamic library 'libcusparse.so.11'; dlerror: libcusparse.so.11: cannot open shared object file: No such file or directory\n",
      "2022-11-03 04:48:46.394194: W tensorflow/stream_executor/platform/default/dso_loader.cc:64] Could not load dynamic library 'libcudnn.so.8'; dlerror: libcudnn.so.8: cannot open shared object file: No such file or directory\n",
      "2022-11-03 04:48:46.394212: W tensorflow/core/common_runtime/gpu/gpu_device.cc:1850] Cannot dlopen some GPU libraries. Please make sure the missing libraries mentioned above are installed properly if you would like to use GPU. Follow the guide at https://www.tensorflow.org/install/gpu for how to download and setup the required libraries for your platform.\n",
      "Skipping registering GPU devices...\n"
     ]
    }
   ],
   "source": [
    "import pandas as pd\n",
    "import os\n",
    "import tensorflow as tf\n",
    "from tensorflow import keras\n",
    "from tensorflow.keras import layers\n",
    "from tensorflow.keras.optimizers import Adam\n",
    "from tensorflow.keras.callbacks import EarlyStopping,ModelCheckpoint\n",
    "from tensorflow.keras.preprocessing.text import Tokenizer\n",
    "from tensorflow.keras.preprocessing.sequence import pad_sequences\n",
    "\n",
    "\n",
    "import numpy as np\n",
    "import io\n",
    "import re\n",
    "import string\n",
    "import tqdm\n",
    "\n",
    "physical_devices = tf.config.list_physical_devices('GPU')\n",
    "#tf.config.experimental.set_memory_growth(physical_devices[0],True)"
   ]
  },
  {
   "cell_type": "code",
   "execution_count": 2,
   "id": "27427c6e",
   "metadata": {},
   "outputs": [],
   "source": [
    "%load_ext tensorboard\n",
    "SEED = 42\n",
    "AUTOTUNE = tf.data.AUTOTUNE"
   ]
  },
  {
   "cell_type": "code",
   "execution_count": 3,
   "id": "7c9eaef1",
   "metadata": {},
   "outputs": [],
   "source": [
    "pd.set_option('display.max_colwidth', None)\n",
    "df = pd.read_csv(\"./data/text_emotion.csv\")"
   ]
  },
  {
   "cell_type": "code",
   "execution_count": 4,
   "id": "962c59a5",
   "metadata": {},
   "outputs": [],
   "source": [
    "cleaned_df = df.copy()\n",
    "# lowercasing 'content' column\n",
    "cleaned_df['content'] = cleaned_df['content'].str.lower()\n",
    "\n",
    "# removing all words with #hastag and @name and urls\n",
    "cleaned_df['content'].apply(lambda sentence: re.sub('@[A-Za-z0-9_]+','',sentence))\n",
    "cleaned_df['content'].apply(lambda sentence: re.sub('#[A-Za-z0-9_]+','',sentence))\n",
    "cleaned_df['content'].apply(lambda sentence: re.sub(r'http\\S+','',sentence))\n",
    "\n",
    "# removing all punctuation marks\n",
    "exclude = set(string.punctuation)\n",
    "regex = re.compile('[%s]' % re.escape(string.punctuation))\n",
    "cleaned_df['content'] = cleaned_df['content'].apply(lambda sentence: regex.sub(\"\",sentence))\n",
    "\n",
    "# removing unicode characters\n",
    "cleaned_df['content'] = cleaned_df['content'].apply(lambda sentence: sentence.encode(\"ascii\",\"ignore\").decode())\n",
    "\n",
    "# removing stopwords\n",
    "\n",
    "stopwords = [ \"a\", \"about\", \"above\", \"after\", \"again\", \"against\", \"all\", \"am\", \"an\", \"and\", \"any\", \"are\", \"as\", \"at\", \"be\", \"because\", \n",
    "             \"been\", \"before\", \"being\", \"below\", \"between\", \"both\", \"but\", \"by\", \"could\", \"did\", \"do\", \"does\", \"doing\", \"down\", \"during\",\n",
    "             \"each\", \"few\", \"for\", \"from\", \"further\", \"had\", \"has\", \"have\", \"having\", \"he\", \"he'd\", \"he'll\", \"he's\", \"her\", \"here\", \n",
    "             \"here's\", \"hers\", \"herself\", \"him\", \"himself\", \"his\", \"how\", \"how's\", \"i\", \"i'd\", \"i'll\", \"i'm\", \"i've\", \"if\", \"in\", \"into\",\n",
    "             \"is\", \"it\", \"it's\", \"its\", \"itself\", \"let's\", \"me\", \"more\", \"most\", \"my\", \"myself\", \"nor\", \"of\", \"on\", \"once\", \"only\", \"or\",\n",
    "             \"other\", \"ought\", \"our\", \"ours\", \"ourselves\", \"out\", \"over\", \"own\", \"same\", \"she\", \"she'd\", \"she'll\", \"she's\", \"should\", \n",
    "             \"so\", \"some\", \"such\", \"than\", \"that\", \"that's\", \"the\", \"their\", \"theirs\", \"them\", \"themselves\", \"then\", \"there\", \"there's\",\n",
    "             \"these\", \"they\", \"they'd\", \"they'll\", \"they're\", \"they've\", \"this\", \"those\", \"through\", \"to\", \"too\", \"under\", \"until\", \"up\",\n",
    "             \"very\", \"was\", \"we\", \"we'd\", \"we'll\", \"we're\", \"we've\", \"were\", \"what\", \"what's\", \"when\", \"when's\", \"where\", \"where's\",\n",
    "             \"which\", \"while\", \"who\", \"who's\", \"whom\", \"why\", \"why's\", \"with\", \"would\", \"you\", \"you'd\", \"you'll\", \"you're\", \"you've\",\n",
    "             \"your\", \"yours\", \"yourself\", \"yourselves\" ]\n",
    "\n",
    "def remove_stopwords(data):\n",
    "    data['content'] = data['content'].apply(lambda x : ' '.join([word for word in x.split() if word not in (stopwords)]))\n",
    "    return data\n",
    "\n",
    "data_without_stopwords = remove_stopwords(cleaned_df)"
   ]
  },
  {
   "cell_type": "markdown",
   "id": "8190ee3a",
   "metadata": {},
   "source": [
    "# One hot encoding labels"
   ]
  },
  {
   "cell_type": "code",
   "execution_count": 5,
   "id": "629cd7a8",
   "metadata": {},
   "outputs": [
    {
     "name": "stdout",
     "output_type": "stream",
     "text": [
      "Unique labels:\n",
      "0) empty\n",
      "1) sadness\n",
      "2) enthusiasm\n",
      "3) neutral\n",
      "4) worry\n",
      "5) surprise\n",
      "6) love\n",
      "7) fun\n",
      "8) hate\n",
      "9) happiness\n",
      "10) boredom\n",
      "11) relief\n",
      "12) anger\n"
     ]
    }
   ],
   "source": [
    "print('Unique labels:')\n",
    "for i, label in enumerate(cleaned_df['sentiment'].unique()):\n",
    "    print('{}) {}'.format(i,label)) "
   ]
  },
  {
   "cell_type": "code",
   "execution_count": 6,
   "id": "68c29ce2",
   "metadata": {},
   "outputs": [],
   "source": [
    "# map labels -> indices\n",
    "sentiment_labels = cleaned_df['sentiment'].unique().copy()\n",
    "\n",
    "# index key -> class\n",
    "label_map = {}\n",
    "\n",
    "#class -> index key\n",
    "inverse_label_map = {}\n",
    "for i, label in enumerate(sentiment_labels):\n",
    "    label_map[i] = label \n",
    "    inverse_label_map[label] = i"
   ]
  },
  {
   "cell_type": "code",
   "execution_count": 7,
   "id": "446f4f82",
   "metadata": {},
   "outputs": [],
   "source": [
    "# get all keys\n",
    "indices = []\n",
    "for key,value in label_map.items():\n",
    "    indices.append(key)"
   ]
  },
  {
   "cell_type": "code",
   "execution_count": 8,
   "id": "6acea5ec",
   "metadata": {},
   "outputs": [
    {
     "name": "stderr",
     "output_type": "stream",
     "text": [
      "2022-11-03 04:48:54.862297: I tensorflow/core/platform/cpu_feature_guard.cc:193] This TensorFlow binary is optimized with oneAPI Deep Neural Network Library (oneDNN) to use the following CPU instructions in performance-critical operations:  AVX2 FMA\n",
      "To enable them in other operations, rebuild TensorFlow with the appropriate compiler flags.\n"
     ]
    }
   ],
   "source": [
    "# maps the word to the one hot vector\n",
    "depth = len(indices)\n",
    "one_hot_encoding = tf.one_hot(indices,depth)"
   ]
  },
  {
   "cell_type": "code",
   "execution_count": 9,
   "id": "a8955853",
   "metadata": {},
   "outputs": [
    {
     "data": {
      "text/plain": [
       "<tf.Tensor: shape=(13, 13), dtype=float32, numpy=\n",
       "array([[1., 0., 0., 0., 0., 0., 0., 0., 0., 0., 0., 0., 0.],\n",
       "       [0., 1., 0., 0., 0., 0., 0., 0., 0., 0., 0., 0., 0.],\n",
       "       [0., 0., 1., 0., 0., 0., 0., 0., 0., 0., 0., 0., 0.],\n",
       "       [0., 0., 0., 1., 0., 0., 0., 0., 0., 0., 0., 0., 0.],\n",
       "       [0., 0., 0., 0., 1., 0., 0., 0., 0., 0., 0., 0., 0.],\n",
       "       [0., 0., 0., 0., 0., 1., 0., 0., 0., 0., 0., 0., 0.],\n",
       "       [0., 0., 0., 0., 0., 0., 1., 0., 0., 0., 0., 0., 0.],\n",
       "       [0., 0., 0., 0., 0., 0., 0., 1., 0., 0., 0., 0., 0.],\n",
       "       [0., 0., 0., 0., 0., 0., 0., 0., 1., 0., 0., 0., 0.],\n",
       "       [0., 0., 0., 0., 0., 0., 0., 0., 0., 1., 0., 0., 0.],\n",
       "       [0., 0., 0., 0., 0., 0., 0., 0., 0., 0., 1., 0., 0.],\n",
       "       [0., 0., 0., 0., 0., 0., 0., 0., 0., 0., 0., 1., 0.],\n",
       "       [0., 0., 0., 0., 0., 0., 0., 0., 0., 0., 0., 0., 1.]],\n",
       "      dtype=float32)>"
      ]
     },
     "execution_count": 9,
     "metadata": {},
     "output_type": "execute_result"
    }
   ],
   "source": [
    "one_hot_encoding"
   ]
  },
  {
   "cell_type": "code",
   "execution_count": 10,
   "id": "05012a96",
   "metadata": {},
   "outputs": [
    {
     "name": "stderr",
     "output_type": "stream",
     "text": [
      "100%|███████████████████████████████████████████████████████████████████████████████████████████████████████████████████████████| 40000/40000 [00:16<00:00, 2496.72it/s]\n"
     ]
    }
   ],
   "source": [
    "# getting one-hot encoding for labels\n",
    "\n",
    "labels=[]\n",
    "for sentiment in tqdm.tqdm(cleaned_df['sentiment'].values):\n",
    "    o_h = one_hot_encoding[inverse_label_map[sentiment]]\n",
    "    labels.append(o_h)\n",
    "\n",
    "labels = np.asarray(labels)"
   ]
  },
  {
   "cell_type": "code",
   "execution_count": 11,
   "id": "6dc6a16c",
   "metadata": {},
   "outputs": [
    {
     "data": {
      "text/plain": [
       "(40000, 13)"
      ]
     },
     "execution_count": 11,
     "metadata": {},
     "output_type": "execute_result"
    }
   ],
   "source": [
    "# label shape is: \n",
    "# 40000 (no_of_sequences), 33(time_sequence which is also = max_length of sentence, classes_no)\n",
    "labels.shape"
   ]
  },
  {
   "cell_type": "markdown",
   "id": "de973f1b",
   "metadata": {},
   "source": [
    "# Converting content to word vectors"
   ]
  },
  {
   "cell_type": "markdown",
   "id": "a875984b",
   "metadata": {},
   "source": [
    "## Reading embedded Twitter data"
   ]
  },
  {
   "cell_type": "code",
   "execution_count": 12,
   "id": "4e545604",
   "metadata": {},
   "outputs": [],
   "source": [
    "def read_twitter_embeddings_file(path):\n",
    "    \n",
    "    word_embedding_map = {}\n",
    "    inverse_word_embedding_map = {}\n",
    "    \n",
    "    file = open(path,'r')\n",
    "    vocab_size, embedding_dim = file.readline().split()\n",
    "    vocab_size,embedding_dim = int(vocab_size),int(embedding_dim)\n",
    "    print(\"vocab size:{}\".format(vocab_size))\n",
    "    print(\"vocab size:{}\".format(embedding_dim))\n",
    "    \n",
    "    for i in tqdm.tqdm(range(vocab_size)):\n",
    "    #while(True):\n",
    "        line = file.readline()\n",
    "        word,embedding = line.split()[0],line.split()[1:]\n",
    "        \n",
    "        if not line:\n",
    "            break\n",
    "        word_embedding_map[word] = embedding\n",
    "        \n",
    "    file.close()\n",
    "    return word_embedding_map,vocab_size,embedding_dim"
   ]
  },
  {
   "cell_type": "code",
   "execution_count": 13,
   "id": "263c930f",
   "metadata": {
    "scrolled": true
   },
   "outputs": [
    {
     "name": "stdout",
     "output_type": "stream",
     "text": [
      "vocab size:1193514\n",
      "vocab size:50\n"
     ]
    },
    {
     "name": "stderr",
     "output_type": "stream",
     "text": [
      "100%|██████████████████████████████████████████████████████████████████████████████████████████████████████████████████████| 1193514/1193514 [00:37<00:00, 31862.56it/s]\n"
     ]
    }
   ],
   "source": [
    "word_embedding_map,vocab_size,EMBEDDING_DIM = read_twitter_embeddings_file(\"./data/glove.twitter.27B.50d.txt\")"
   ]
  },
  {
   "cell_type": "code",
   "execution_count": 14,
   "id": "3de2b273",
   "metadata": {},
   "outputs": [
    {
     "name": "stdout",
     "output_type": "stream",
     "text": [
      "Found 53490 unique tokens\n",
      "labels: [[1. 0. 0. ... 0. 0. 0.]\n",
      " [0. 1. 0. ... 0. 0. 0.]\n",
      " [0. 1. 0. ... 0. 0. 0.]\n",
      " ...\n",
      " [0. 0. 0. ... 0. 0. 0.]\n",
      " [0. 0. 0. ... 0. 0. 0.]\n",
      " [0. 0. 0. ... 0. 0. 0.]]\n"
     ]
    }
   ],
   "source": [
    "content_lines = list(cleaned_df['content'])\n",
    "tokeniser_obj = Tokenizer()\n",
    "tokeniser_obj.fit_on_texts(content_lines)\n",
    "sequences = tokeniser_obj.texts_to_sequences(content_lines)\n",
    "\n",
    "# pad sequences\n",
    "word_index = tokeniser_obj.word_index\n",
    "print('Found {} unique tokens'.format(len(word_index)))\n",
    "\n",
    "\n",
    "content_pad = pad_sequences(sequences,maxlen=EMBEDDING_DIM)\n",
    "print(\"labels: {}\".format(labels))"
   ]
  },
  {
   "cell_type": "code",
   "execution_count": 15,
   "id": "19ba58dc",
   "metadata": {},
   "outputs": [],
   "source": [
    "num_words = len(word_index) + 1\n",
    "embedding_matrix = np.zeros((num_words,EMBEDDING_DIM))"
   ]
  },
  {
   "cell_type": "code",
   "execution_count": 16,
   "id": "f0394cfb",
   "metadata": {},
   "outputs": [
    {
     "data": {
      "text/plain": [
       "(53491, 50)"
      ]
     },
     "execution_count": 16,
     "metadata": {},
     "output_type": "execute_result"
    }
   ],
   "source": [
    "embedding_matrix.shape"
   ]
  },
  {
   "cell_type": "code",
   "execution_count": 17,
   "id": "a270654f",
   "metadata": {},
   "outputs": [
    {
     "name": "stdout",
     "output_type": "stream",
     "text": [
      "number of words vectorised=24566/53491\n"
     ]
    }
   ],
   "source": [
    "count = 0\n",
    "for word,i in word_index.items():\n",
    "    if i> num_words:\n",
    "        continue\n",
    "    embedding_vector = word_embedding_map.get(word)\n",
    "    if(embedding_vector is not None):\n",
    "        # if embedding vector is not found, \n",
    "        embedding_matrix[i] = embedding_vector\n",
    "        count+=1\n",
    "print(\"number of words vectorised={}/{}\".format(count,num_words))"
   ]
  },
  {
   "cell_type": "markdown",
   "id": "1f842737",
   "metadata": {},
   "source": [
    "# Building GRU model"
   ]
  },
  {
   "cell_type": "code",
   "execution_count": 18,
   "id": "7cc573ab",
   "metadata": {},
   "outputs": [],
   "source": [
    "# callback to save the best weights for the model\n",
    "def saveWeightsCallback(path,monitor,mode,save_freq):\n",
    "    return tf.keras.callbacks.ModelCheckpoint(\n",
    "        filepath=path,\n",
    "        monitor = monitor,\n",
    "        verbose = 1,\n",
    "        save_best_only = True,\n",
    "        save_weights_only = True,\n",
    "        mode = mode,\n",
    "        save_freq=save_freq,\n",
    ")"
   ]
  },
  {
   "cell_type": "code",
   "execution_count": 19,
   "id": "19b13c82",
   "metadata": {},
   "outputs": [],
   "source": [
    "from keras.initializers import Constant\n",
    "\n",
    "def build_model(vocab_size,embedding_dim,max_length):\n",
    "    model = keras.models.Sequential()\n",
    "    model.add(layers.Embedding(num_words,\n",
    "                               EMBEDDING_DIM,\n",
    "                               weights=[embedding_matrix],\n",
    "                               input_length = max_length,\n",
    "                              trainable=False))\n",
    "    # return_sequences=True, \n",
    "    model.add(layers.GRU(128,return_sequences=True))\n",
    "    model.add(layers.GRU(128,return_sequences=True))\n",
    "    model.add(layers.GRU(128))\n",
    "    model.add(layers.Dense(13,activation='softmax'))\n",
    "    model.summary()\n",
    "    return model"
   ]
  },
  {
   "cell_type": "code",
   "execution_count": 20,
   "id": "e0c48db2",
   "metadata": {},
   "outputs": [
    {
     "name": "stdout",
     "output_type": "stream",
     "text": [
      "Model: \"sequential\"\n",
      "_________________________________________________________________\n",
      " Layer (type)                Output Shape              Param #   \n",
      "=================================================================\n",
      " embedding (Embedding)       (None, 50, 50)            2674550   \n",
      "                                                                 \n",
      " gru (GRU)                   (None, 50, 128)           69120     \n",
      "                                                                 \n",
      " gru_1 (GRU)                 (None, 50, 128)           99072     \n",
      "                                                                 \n",
      " gru_2 (GRU)                 (None, 128)               99072     \n",
      "                                                                 \n",
      " dense (Dense)               (None, 13)                1677      \n",
      "                                                                 \n",
      "=================================================================\n",
      "Total params: 2,943,491\n",
      "Trainable params: 268,941\n",
      "Non-trainable params: 2,674,550\n",
      "_________________________________________________________________\n",
      "Model: \"sequential\"\n",
      "_________________________________________________________________\n",
      " Layer (type)                Output Shape              Param #   \n",
      "=================================================================\n",
      " embedding (Embedding)       (None, 50, 50)            2674550   \n",
      "                                                                 \n",
      " gru (GRU)                   (None, 50, 128)           69120     \n",
      "                                                                 \n",
      " gru_1 (GRU)                 (None, 50, 128)           99072     \n",
      "                                                                 \n",
      " gru_2 (GRU)                 (None, 128)               99072     \n",
      "                                                                 \n",
      " dense (Dense)               (None, 13)                1677      \n",
      "                                                                 \n",
      "=================================================================\n",
      "Total params: 2,943,491\n",
      "Trainable params: 268,941\n",
      "Non-trainable params: 2,674,550\n",
      "_________________________________________________________________\n"
     ]
    }
   ],
   "source": [
    "GRU_model = build_model(vocab_size,EMBEDDING_DIM,EMBEDDING_DIM)\n",
    "\n",
    "GRU_model.compile(\n",
    "    optimizer= Adam(learning_rate=0.0001),\n",
    "    loss='categorical_crossentropy',\n",
    "    metrics=[\n",
    "        'accuracy',\n",
    "    ]\n",
    ")\n",
    "\n",
    "GRU_model.summary()"
   ]
  },
  {
   "cell_type": "code",
   "execution_count": 21,
   "id": "75abea66",
   "metadata": {},
   "outputs": [],
   "source": [
    "VALIDATION_SPLIT = 0.3\n",
    "\n",
    "indices = np.arange(content_pad.shape[0])\n",
    "np.random.shuffle(indices)\n",
    "\n",
    "content_pad = content_pad[indices]\n",
    "labels = labels[indices]\n",
    "num_validation_samples = int(VALIDATION_SPLIT * content_pad.shape[0])\n",
    "\n",
    "X_train_pad = content_pad[:-num_validation_samples]\n",
    "y_train = labels[:-num_validation_samples]\n",
    "X_test_pad = content_pad[-num_validation_samples:]\n",
    "y_test = labels[-num_validation_samples:]"
   ]
  },
  {
   "cell_type": "code",
   "execution_count": 22,
   "id": "a6cc91e3",
   "metadata": {
    "scrolled": false
   },
   "outputs": [
    {
     "name": "stdout",
     "output_type": "stream",
     "text": [
      "Epoch 1/200\n",
      "219/219 - 91s - loss: 2.1845 - accuracy: 0.2566 - val_loss: 2.0435 - val_accuracy: 0.3080 - 91s/epoch - 415ms/step\n",
      "Epoch 2/200\n",
      "219/219 - 78s - loss: 2.0117 - accuracy: 0.3135 - val_loss: 1.9811 - val_accuracy: 0.3197 - 78s/epoch - 354ms/step\n",
      "Epoch 3/200\n",
      "219/219 - 78s - loss: 1.9737 - accuracy: 0.3246 - val_loss: 1.9591 - val_accuracy: 0.3276 - 78s/epoch - 355ms/step\n",
      "Epoch 4/200\n",
      "219/219 - 77s - loss: 1.9537 - accuracy: 0.3301 - val_loss: 1.9427 - val_accuracy: 0.3315 - 77s/epoch - 353ms/step\n",
      "Epoch 5/200\n",
      "219/219 - 78s - loss: 1.9372 - accuracy: 0.3362 - val_loss: 1.9291 - val_accuracy: 0.3344 - 78s/epoch - 356ms/step\n",
      "Epoch 6/200\n",
      "219/219 - 77s - loss: 1.9260 - accuracy: 0.3377 - val_loss: 1.9247 - val_accuracy: 0.3368 - 77s/epoch - 354ms/step\n",
      "Epoch 7/200\n",
      "219/219 - 78s - loss: 1.9160 - accuracy: 0.3412 - val_loss: 1.9158 - val_accuracy: 0.3395 - 78s/epoch - 354ms/step\n",
      "Epoch 8/200\n",
      "219/219 - 78s - loss: 1.9071 - accuracy: 0.3454 - val_loss: 1.9122 - val_accuracy: 0.3367 - 78s/epoch - 355ms/step\n",
      "Epoch 9/200\n",
      "219/219 - 78s - loss: 1.8997 - accuracy: 0.3481 - val_loss: 1.9066 - val_accuracy: 0.3409 - 78s/epoch - 355ms/step\n",
      "Epoch 10/200\n",
      "219/219 - 78s - loss: 1.8924 - accuracy: 0.3483 - val_loss: 1.8995 - val_accuracy: 0.3419 - 78s/epoch - 357ms/step\n",
      "Epoch 11/200\n",
      "219/219 - 77s - loss: 1.8868 - accuracy: 0.3539 - val_loss: 1.8953 - val_accuracy: 0.3478 - 77s/epoch - 352ms/step\n",
      "Epoch 12/200\n",
      "219/219 - 81s - loss: 1.8793 - accuracy: 0.3560 - val_loss: 1.8892 - val_accuracy: 0.3480 - 81s/epoch - 370ms/step\n",
      "Epoch 13/200\n",
      "219/219 - 77s - loss: 1.8737 - accuracy: 0.3559 - val_loss: 1.8860 - val_accuracy: 0.3494 - 77s/epoch - 354ms/step\n",
      "Epoch 14/200\n",
      "219/219 - 78s - loss: 1.8688 - accuracy: 0.3575 - val_loss: 1.8827 - val_accuracy: 0.3476 - 78s/epoch - 355ms/step\n",
      "Epoch 15/200\n",
      "219/219 - 77s - loss: 1.8633 - accuracy: 0.3589 - val_loss: 1.8827 - val_accuracy: 0.3502 - 77s/epoch - 352ms/step\n",
      "Epoch 16/200\n",
      "219/219 - 78s - loss: 1.8587 - accuracy: 0.3626 - val_loss: 1.8764 - val_accuracy: 0.3544 - 78s/epoch - 356ms/step\n",
      "Epoch 17/200\n",
      "219/219 - 77s - loss: 1.8527 - accuracy: 0.3657 - val_loss: 1.8845 - val_accuracy: 0.3498 - 77s/epoch - 353ms/step\n",
      "Epoch 18/200\n",
      "219/219 - 78s - loss: 1.8491 - accuracy: 0.3665 - val_loss: 1.8722 - val_accuracy: 0.3573 - 78s/epoch - 356ms/step\n",
      "Epoch 19/200\n",
      "219/219 - 77s - loss: 1.8445 - accuracy: 0.3668 - val_loss: 1.8717 - val_accuracy: 0.3568 - 77s/epoch - 353ms/step\n",
      "Epoch 20/200\n",
      "219/219 - 78s - loss: 1.8398 - accuracy: 0.3697 - val_loss: 1.8737 - val_accuracy: 0.3516 - 78s/epoch - 356ms/step\n",
      "Epoch 21/200\n",
      "219/219 - 77s - loss: 1.8363 - accuracy: 0.3694 - val_loss: 1.8692 - val_accuracy: 0.3563 - 77s/epoch - 353ms/step\n",
      "Epoch 22/200\n",
      "219/219 - 78s - loss: 1.8316 - accuracy: 0.3701 - val_loss: 1.8660 - val_accuracy: 0.3615 - 78s/epoch - 356ms/step\n",
      "Epoch 23/200\n",
      "219/219 - 77s - loss: 1.8285 - accuracy: 0.3722 - val_loss: 1.8632 - val_accuracy: 0.3598 - 77s/epoch - 353ms/step\n",
      "Epoch 24/200\n",
      "219/219 - 78s - loss: 1.8245 - accuracy: 0.3731 - val_loss: 1.8629 - val_accuracy: 0.3619 - 78s/epoch - 356ms/step\n",
      "Epoch 25/200\n",
      "219/219 - 78s - loss: 1.8206 - accuracy: 0.3761 - val_loss: 1.8630 - val_accuracy: 0.3601 - 78s/epoch - 356ms/step\n",
      "Epoch 26/200\n",
      "219/219 - 78s - loss: 1.8194 - accuracy: 0.3749 - val_loss: 1.8648 - val_accuracy: 0.3622 - 78s/epoch - 356ms/step\n",
      "Epoch 27/200\n",
      "219/219 - 77s - loss: 1.8142 - accuracy: 0.3785 - val_loss: 1.8630 - val_accuracy: 0.3596 - 77s/epoch - 353ms/step\n",
      "Epoch 28/200\n",
      "219/219 - 78s - loss: 1.8114 - accuracy: 0.3779 - val_loss: 1.8600 - val_accuracy: 0.3638 - 78s/epoch - 356ms/step\n",
      "Epoch 29/200\n",
      "219/219 - 77s - loss: 1.8085 - accuracy: 0.3774 - val_loss: 1.8602 - val_accuracy: 0.3642 - 77s/epoch - 353ms/step\n",
      "Epoch 30/200\n",
      "219/219 - 78s - loss: 1.8055 - accuracy: 0.3814 - val_loss: 1.8642 - val_accuracy: 0.3591 - 78s/epoch - 358ms/step\n",
      "Epoch 31/200\n",
      "219/219 - 77s - loss: 1.8010 - accuracy: 0.3810 - val_loss: 1.8643 - val_accuracy: 0.3627 - 77s/epoch - 354ms/step\n",
      "Epoch 32/200\n",
      "219/219 - 78s - loss: 1.7980 - accuracy: 0.3828 - val_loss: 1.8626 - val_accuracy: 0.3657 - 78s/epoch - 356ms/step\n",
      "Epoch 33/200\n",
      "219/219 - 78s - loss: 1.7953 - accuracy: 0.3845 - val_loss: 1.8654 - val_accuracy: 0.3543 - 78s/epoch - 355ms/step\n",
      "Epoch 34/200\n",
      "219/219 - 78s - loss: 1.7927 - accuracy: 0.3845 - val_loss: 1.8596 - val_accuracy: 0.3612 - 78s/epoch - 356ms/step\n",
      "Epoch 35/200\n",
      "219/219 - 77s - loss: 1.7877 - accuracy: 0.3866 - val_loss: 1.8641 - val_accuracy: 0.3612 - 77s/epoch - 354ms/step\n",
      "Epoch 36/200\n",
      "219/219 - 78s - loss: 1.7861 - accuracy: 0.3879 - val_loss: 1.8567 - val_accuracy: 0.3659 - 78s/epoch - 357ms/step\n",
      "Epoch 37/200\n",
      "219/219 - 77s - loss: 1.7824 - accuracy: 0.3891 - val_loss: 1.8634 - val_accuracy: 0.3621 - 77s/epoch - 353ms/step\n",
      "Epoch 38/200\n",
      "219/219 - 78s - loss: 1.7806 - accuracy: 0.3898 - val_loss: 1.8590 - val_accuracy: 0.3650 - 78s/epoch - 356ms/step\n",
      "Epoch 39/200\n",
      "219/219 - 78s - loss: 1.7761 - accuracy: 0.3911 - val_loss: 1.8576 - val_accuracy: 0.3653 - 78s/epoch - 355ms/step\n",
      "Epoch 40/200\n",
      "219/219 - 78s - loss: 1.7741 - accuracy: 0.3886 - val_loss: 1.8575 - val_accuracy: 0.3687 - 78s/epoch - 358ms/step\n",
      "Epoch 41/200\n",
      "219/219 - 78s - loss: 1.7705 - accuracy: 0.3916 - val_loss: 1.8574 - val_accuracy: 0.3643 - 78s/epoch - 356ms/step\n",
      "Epoch 42/200\n",
      "219/219 - 78s - loss: 1.7669 - accuracy: 0.3952 - val_loss: 1.8649 - val_accuracy: 0.3633 - 78s/epoch - 354ms/step\n",
      "Epoch 43/200\n",
      "219/219 - 78s - loss: 1.7647 - accuracy: 0.3946 - val_loss: 1.8608 - val_accuracy: 0.3601 - 78s/epoch - 356ms/step\n",
      "Epoch 44/200\n",
      "219/219 - 78s - loss: 1.7607 - accuracy: 0.3956 - val_loss: 1.8677 - val_accuracy: 0.3611 - 78s/epoch - 355ms/step\n",
      "Epoch 45/200\n",
      "219/219 - 78s - loss: 1.7574 - accuracy: 0.3967 - val_loss: 1.8623 - val_accuracy: 0.3627 - 78s/epoch - 357ms/step\n",
      "Epoch 46/200\n",
      "219/219 - 77s - loss: 1.7543 - accuracy: 0.3973 - val_loss: 1.8686 - val_accuracy: 0.3576 - 77s/epoch - 353ms/step\n",
      "Epoch 47/200\n",
      "219/219 - 78s - loss: 1.7513 - accuracy: 0.4000 - val_loss: 1.8753 - val_accuracy: 0.3521 - 78s/epoch - 357ms/step\n",
      "Epoch 48/200\n",
      "219/219 - 78s - loss: 1.7478 - accuracy: 0.3980 - val_loss: 1.8652 - val_accuracy: 0.3618 - 78s/epoch - 354ms/step\n",
      "Epoch 49/200\n",
      "219/219 - 78s - loss: 1.7430 - accuracy: 0.4017 - val_loss: 1.8665 - val_accuracy: 0.3591 - 78s/epoch - 356ms/step\n",
      "Epoch 50/200\n",
      "219/219 - 79s - loss: 1.7412 - accuracy: 0.4021 - val_loss: 1.8690 - val_accuracy: 0.3621 - 79s/epoch - 362ms/step\n",
      "Epoch 51/200\n",
      "219/219 - 78s - loss: 1.7370 - accuracy: 0.4039 - val_loss: 1.8717 - val_accuracy: 0.3618 - 78s/epoch - 357ms/step\n",
      "Epoch 52/200\n",
      "219/219 - 78s - loss: 1.7337 - accuracy: 0.4050 - val_loss: 1.8680 - val_accuracy: 0.3626 - 78s/epoch - 356ms/step\n",
      "Epoch 53/200\n",
      "219/219 - 78s - loss: 1.7302 - accuracy: 0.4083 - val_loss: 1.8743 - val_accuracy: 0.3589 - 78s/epoch - 358ms/step\n",
      "Epoch 54/200\n",
      "219/219 - 78s - loss: 1.7272 - accuracy: 0.4083 - val_loss: 1.8727 - val_accuracy: 0.3627 - 78s/epoch - 354ms/step\n",
      "Epoch 55/200\n",
      "219/219 - 78s - loss: 1.7240 - accuracy: 0.4078 - val_loss: 1.8809 - val_accuracy: 0.3531 - 78s/epoch - 357ms/step\n",
      "Epoch 56/200\n",
      "219/219 - 78s - loss: 1.7191 - accuracy: 0.4089 - val_loss: 1.8757 - val_accuracy: 0.3614 - 78s/epoch - 357ms/step\n",
      "Epoch 57/200\n",
      "219/219 - 78s - loss: 1.7154 - accuracy: 0.4104 - val_loss: 1.8772 - val_accuracy: 0.3613 - 78s/epoch - 357ms/step\n",
      "Epoch 58/200\n",
      "219/219 - 78s - loss: 1.7131 - accuracy: 0.4123 - val_loss: 1.8789 - val_accuracy: 0.3642 - 78s/epoch - 354ms/step\n",
      "Epoch 59/200\n",
      "219/219 - 78s - loss: 1.7092 - accuracy: 0.4137 - val_loss: 1.8807 - val_accuracy: 0.3576 - 78s/epoch - 358ms/step\n",
      "Epoch 60/200\n",
      "219/219 - 78s - loss: 1.7061 - accuracy: 0.4136 - val_loss: 1.8867 - val_accuracy: 0.3586 - 78s/epoch - 355ms/step\n",
      "Epoch 61/200\n",
      "219/219 - 78s - loss: 1.7000 - accuracy: 0.4156 - val_loss: 1.8850 - val_accuracy: 0.3569 - 78s/epoch - 357ms/step\n",
      "Epoch 62/200\n",
      "219/219 - 76s - loss: 1.6975 - accuracy: 0.4177 - val_loss: 1.8852 - val_accuracy: 0.3567 - 76s/epoch - 347ms/step\n",
      "Epoch 63/200\n",
      "219/219 - 45s - loss: 1.6922 - accuracy: 0.4179 - val_loss: 1.8942 - val_accuracy: 0.3542 - 45s/epoch - 205ms/step\n",
      "Epoch 64/200\n",
      "219/219 - 45s - loss: 1.6904 - accuracy: 0.4214 - val_loss: 1.8931 - val_accuracy: 0.3571 - 45s/epoch - 206ms/step\n",
      "Epoch 65/200\n"
     ]
    },
    {
     "name": "stdout",
     "output_type": "stream",
     "text": [
      "219/219 - 45s - loss: 1.6845 - accuracy: 0.4246 - val_loss: 1.8933 - val_accuracy: 0.3571 - 45s/epoch - 204ms/step\n",
      "Epoch 66/200\n",
      "219/219 - 45s - loss: 1.6818 - accuracy: 0.4250 - val_loss: 1.8967 - val_accuracy: 0.3585 - 45s/epoch - 205ms/step\n",
      "Epoch 67/200\n",
      "219/219 - 44s - loss: 1.6768 - accuracy: 0.4237 - val_loss: 1.8961 - val_accuracy: 0.3574 - 44s/epoch - 203ms/step\n",
      "Epoch 68/200\n",
      "219/219 - 44s - loss: 1.6724 - accuracy: 0.4265 - val_loss: 1.9038 - val_accuracy: 0.3532 - 44s/epoch - 203ms/step\n",
      "Epoch 69/200\n",
      "219/219 - 44s - loss: 1.6686 - accuracy: 0.4279 - val_loss: 1.9042 - val_accuracy: 0.3564 - 44s/epoch - 202ms/step\n",
      "Epoch 70/200\n",
      "219/219 - 44s - loss: 1.6639 - accuracy: 0.4293 - val_loss: 1.9087 - val_accuracy: 0.3504 - 44s/epoch - 203ms/step\n",
      "Epoch 71/200\n",
      "219/219 - 44s - loss: 1.6609 - accuracy: 0.4304 - val_loss: 1.9074 - val_accuracy: 0.3579 - 44s/epoch - 200ms/step\n",
      "Epoch 72/200\n",
      "219/219 - 44s - loss: 1.6535 - accuracy: 0.4323 - val_loss: 1.9177 - val_accuracy: 0.3510 - 44s/epoch - 203ms/step\n",
      "Epoch 73/200\n",
      "219/219 - 44s - loss: 1.6502 - accuracy: 0.4341 - val_loss: 1.9220 - val_accuracy: 0.3428 - 44s/epoch - 200ms/step\n",
      "Epoch 74/200\n",
      "219/219 - 44s - loss: 1.6467 - accuracy: 0.4362 - val_loss: 1.9212 - val_accuracy: 0.3517 - 44s/epoch - 201ms/step\n",
      "Epoch 75/200\n",
      "219/219 - 44s - loss: 1.6394 - accuracy: 0.4380 - val_loss: 1.9277 - val_accuracy: 0.3491 - 44s/epoch - 201ms/step\n",
      "Epoch 76/200\n",
      "219/219 - 44s - loss: 1.6363 - accuracy: 0.4396 - val_loss: 1.9242 - val_accuracy: 0.3535 - 44s/epoch - 201ms/step\n",
      "Epoch 77/200\n",
      "219/219 - 55s - loss: 1.6303 - accuracy: 0.4416 - val_loss: 1.9287 - val_accuracy: 0.3539 - 55s/epoch - 252ms/step\n",
      "Epoch 78/200\n",
      "219/219 - 52s - loss: 1.6282 - accuracy: 0.4444 - val_loss: 1.9316 - val_accuracy: 0.3442 - 52s/epoch - 237ms/step\n",
      "Epoch 79/200\n",
      "219/219 - 48s - loss: 1.6225 - accuracy: 0.4450 - val_loss: 1.9369 - val_accuracy: 0.3465 - 48s/epoch - 220ms/step\n",
      "Epoch 80/200\n",
      "219/219 - 44s - loss: 1.6177 - accuracy: 0.4487 - val_loss: 1.9448 - val_accuracy: 0.3442 - 44s/epoch - 203ms/step\n",
      "Epoch 81/200\n",
      "219/219 - 45s - loss: 1.6114 - accuracy: 0.4500 - val_loss: 1.9545 - val_accuracy: 0.3406 - 45s/epoch - 204ms/step\n",
      "Epoch 82/200\n",
      "219/219 - 44s - loss: 1.6073 - accuracy: 0.4509 - val_loss: 1.9437 - val_accuracy: 0.3479 - 44s/epoch - 202ms/step\n",
      "Epoch 83/200\n",
      "219/219 - 44s - loss: 1.6032 - accuracy: 0.4538 - val_loss: 1.9491 - val_accuracy: 0.3492 - 44s/epoch - 203ms/step\n",
      "Epoch 84/200\n",
      "219/219 - 44s - loss: 1.5967 - accuracy: 0.4549 - val_loss: 1.9665 - val_accuracy: 0.3452 - 44s/epoch - 202ms/step\n",
      "Epoch 85/200\n",
      "219/219 - 44s - loss: 1.5919 - accuracy: 0.4546 - val_loss: 1.9639 - val_accuracy: 0.3390 - 44s/epoch - 202ms/step\n",
      "Epoch 86/200\n",
      "219/219 - 44s - loss: 1.5872 - accuracy: 0.4595 - val_loss: 1.9641 - val_accuracy: 0.3412 - 44s/epoch - 200ms/step\n",
      "Epoch 87/200\n",
      "219/219 - 44s - loss: 1.5821 - accuracy: 0.4618 - val_loss: 1.9656 - val_accuracy: 0.3442 - 44s/epoch - 201ms/step\n",
      "Epoch 88/200\n",
      "219/219 - 44s - loss: 1.5764 - accuracy: 0.4640 - val_loss: 1.9772 - val_accuracy: 0.3383 - 44s/epoch - 201ms/step\n",
      "Epoch 89/200\n",
      "219/219 - 44s - loss: 1.5739 - accuracy: 0.4659 - val_loss: 1.9764 - val_accuracy: 0.3449 - 44s/epoch - 199ms/step\n",
      "Epoch 90/200\n",
      "219/219 - 44s - loss: 1.5647 - accuracy: 0.4685 - val_loss: 1.9829 - val_accuracy: 0.3396 - 44s/epoch - 199ms/step\n",
      "Epoch 91/200\n",
      "219/219 - 44s - loss: 1.5590 - accuracy: 0.4694 - val_loss: 1.9930 - val_accuracy: 0.3390 - 44s/epoch - 202ms/step\n",
      "Epoch 92/200\n",
      "219/219 - 44s - loss: 1.5546 - accuracy: 0.4706 - val_loss: 2.0022 - val_accuracy: 0.3413 - 44s/epoch - 199ms/step\n",
      "Epoch 93/200\n",
      "219/219 - 44s - loss: 1.5475 - accuracy: 0.4753 - val_loss: 2.0127 - val_accuracy: 0.3344 - 44s/epoch - 201ms/step\n",
      "Epoch 94/200\n",
      "219/219 - 44s - loss: 1.5434 - accuracy: 0.4740 - val_loss: 1.9990 - val_accuracy: 0.3387 - 44s/epoch - 199ms/step\n",
      "Epoch 95/200\n",
      "219/219 - 43s - loss: 1.5359 - accuracy: 0.4791 - val_loss: 2.0189 - val_accuracy: 0.3305 - 43s/epoch - 197ms/step\n",
      "Epoch 96/200\n",
      "219/219 - 44s - loss: 1.5315 - accuracy: 0.4793 - val_loss: 2.0119 - val_accuracy: 0.3331 - 44s/epoch - 200ms/step\n",
      "Epoch 97/200\n",
      "219/219 - 44s - loss: 1.5256 - accuracy: 0.4818 - val_loss: 2.0241 - val_accuracy: 0.3330 - 44s/epoch - 203ms/step\n",
      "Epoch 98/200\n",
      "219/219 - 44s - loss: 1.5191 - accuracy: 0.4835 - val_loss: 2.0273 - val_accuracy: 0.3349 - 44s/epoch - 199ms/step\n",
      "Epoch 99/200\n",
      "219/219 - 43s - loss: 1.5148 - accuracy: 0.4874 - val_loss: 2.0322 - val_accuracy: 0.3306 - 43s/epoch - 199ms/step\n",
      "Epoch 100/200\n",
      "219/219 - 44s - loss: 1.5067 - accuracy: 0.4904 - val_loss: 2.0393 - val_accuracy: 0.3339 - 44s/epoch - 201ms/step\n",
      "Epoch 101/200\n",
      "219/219 - 44s - loss: 1.5021 - accuracy: 0.4912 - val_loss: 2.0404 - val_accuracy: 0.3309 - 44s/epoch - 199ms/step\n",
      "Epoch 102/200\n",
      "219/219 - 44s - loss: 1.4959 - accuracy: 0.4935 - val_loss: 2.0574 - val_accuracy: 0.3283 - 44s/epoch - 199ms/step\n",
      "Epoch 103/200\n",
      "219/219 - 44s - loss: 1.4885 - accuracy: 0.4963 - val_loss: 2.0602 - val_accuracy: 0.3262 - 44s/epoch - 200ms/step\n",
      "Epoch 104/200\n",
      "219/219 - 44s - loss: 1.4853 - accuracy: 0.4993 - val_loss: 2.0644 - val_accuracy: 0.3284 - 44s/epoch - 202ms/step\n",
      "Epoch 105/200\n",
      "219/219 - 44s - loss: 1.4767 - accuracy: 0.5011 - val_loss: 2.0727 - val_accuracy: 0.3288 - 44s/epoch - 200ms/step\n",
      "Epoch 106/200\n",
      "219/219 - 44s - loss: 1.4721 - accuracy: 0.5031 - val_loss: 2.1007 - val_accuracy: 0.3310 - 44s/epoch - 201ms/step\n",
      "Epoch 107/200\n",
      "219/219 - 44s - loss: 1.4679 - accuracy: 0.5046 - val_loss: 2.0754 - val_accuracy: 0.3304 - 44s/epoch - 199ms/step\n",
      "Epoch 108/200\n",
      "219/219 - 44s - loss: 1.4573 - accuracy: 0.5077 - val_loss: 2.0857 - val_accuracy: 0.3307 - 44s/epoch - 200ms/step\n",
      "Epoch 109/200\n",
      "219/219 - 44s - loss: 1.4535 - accuracy: 0.5095 - val_loss: 2.0913 - val_accuracy: 0.3223 - 44s/epoch - 199ms/step\n",
      "Epoch 110/200\n",
      "219/219 - 44s - loss: 1.4450 - accuracy: 0.5142 - val_loss: 2.1006 - val_accuracy: 0.3292 - 44s/epoch - 200ms/step\n",
      "Epoch 111/200\n",
      "219/219 - 44s - loss: 1.4403 - accuracy: 0.5145 - val_loss: 2.1142 - val_accuracy: 0.3235 - 44s/epoch - 200ms/step\n",
      "Epoch 112/200\n",
      "219/219 - 44s - loss: 1.4320 - accuracy: 0.5180 - val_loss: 2.1177 - val_accuracy: 0.3249 - 44s/epoch - 200ms/step\n",
      "Epoch 113/200\n",
      "219/219 - 44s - loss: 1.4267 - accuracy: 0.5189 - val_loss: 2.1199 - val_accuracy: 0.3239 - 44s/epoch - 199ms/step\n",
      "Epoch 114/200\n",
      "219/219 - 49s - loss: 1.4191 - accuracy: 0.5216 - val_loss: 2.1325 - val_accuracy: 0.3222 - 49s/epoch - 223ms/step\n",
      "Epoch 115/200\n",
      "219/219 - 46s - loss: 1.4121 - accuracy: 0.5245 - val_loss: 2.1671 - val_accuracy: 0.3167 - 46s/epoch - 212ms/step\n",
      "Epoch 116/200\n",
      "219/219 - 44s - loss: 1.4077 - accuracy: 0.5251 - val_loss: 2.1526 - val_accuracy: 0.3190 - 44s/epoch - 200ms/step\n",
      "Epoch 117/200\n",
      "219/219 - 43s - loss: 1.4014 - accuracy: 0.5285 - val_loss: 2.1589 - val_accuracy: 0.3213 - 43s/epoch - 197ms/step\n",
      "Epoch 118/200\n",
      "219/219 - 44s - loss: 1.3940 - accuracy: 0.5300 - val_loss: 2.1708 - val_accuracy: 0.3217 - 44s/epoch - 200ms/step\n",
      "Epoch 119/200\n",
      "219/219 - 44s - loss: 1.3873 - accuracy: 0.5344 - val_loss: 2.1721 - val_accuracy: 0.3179 - 44s/epoch - 200ms/step\n",
      "Epoch 120/200\n",
      "219/219 - 44s - loss: 1.3790 - accuracy: 0.5380 - val_loss: 2.1806 - val_accuracy: 0.3173 - 44s/epoch - 200ms/step\n",
      "Epoch 121/200\n",
      "219/219 - 44s - loss: 1.3726 - accuracy: 0.5396 - val_loss: 2.1986 - val_accuracy: 0.3117 - 44s/epoch - 200ms/step\n",
      "Epoch 122/200\n",
      "219/219 - 44s - loss: 1.3655 - accuracy: 0.5412 - val_loss: 2.2096 - val_accuracy: 0.3138 - 44s/epoch - 200ms/step\n",
      "Epoch 123/200\n",
      "219/219 - 44s - loss: 1.3588 - accuracy: 0.5440 - val_loss: 2.2255 - val_accuracy: 0.3142 - 44s/epoch - 199ms/step\n",
      "Epoch 124/200\n",
      "219/219 - 44s - loss: 1.3518 - accuracy: 0.5473 - val_loss: 2.2283 - val_accuracy: 0.3200 - 44s/epoch - 201ms/step\n",
      "Epoch 125/200\n",
      "219/219 - 45s - loss: 1.3462 - accuracy: 0.5485 - val_loss: 2.2240 - val_accuracy: 0.3155 - 45s/epoch - 204ms/step\n",
      "Epoch 126/200\n",
      "219/219 - 44s - loss: 1.3382 - accuracy: 0.5530 - val_loss: 2.2299 - val_accuracy: 0.3159 - 44s/epoch - 201ms/step\n",
      "Epoch 127/200\n",
      "219/219 - 44s - loss: 1.3310 - accuracy: 0.5529 - val_loss: 2.2546 - val_accuracy: 0.3145 - 44s/epoch - 200ms/step\n",
      "Epoch 128/200\n",
      "219/219 - 44s - loss: 1.3222 - accuracy: 0.5574 - val_loss: 2.2513 - val_accuracy: 0.3130 - 44s/epoch - 199ms/step\n"
     ]
    },
    {
     "name": "stdout",
     "output_type": "stream",
     "text": [
      "Epoch 129/200\n",
      "219/219 - 44s - loss: 1.3142 - accuracy: 0.5613 - val_loss: 2.2708 - val_accuracy: 0.3158 - 44s/epoch - 200ms/step\n",
      "Epoch 130/200\n",
      "219/219 - 44s - loss: 1.3083 - accuracy: 0.5636 - val_loss: 2.2816 - val_accuracy: 0.3147 - 44s/epoch - 200ms/step\n",
      "Epoch 131/200\n",
      "219/219 - 44s - loss: 1.3018 - accuracy: 0.5662 - val_loss: 2.2979 - val_accuracy: 0.3120 - 44s/epoch - 199ms/step\n",
      "Epoch 132/200\n",
      "219/219 - 44s - loss: 1.2944 - accuracy: 0.5683 - val_loss: 2.2933 - val_accuracy: 0.3077 - 44s/epoch - 200ms/step\n",
      "Epoch 133/200\n",
      "219/219 - 44s - loss: 1.2870 - accuracy: 0.5699 - val_loss: 2.3136 - val_accuracy: 0.3085 - 44s/epoch - 200ms/step\n",
      "Epoch 134/200\n",
      "219/219 - 44s - loss: 1.2766 - accuracy: 0.5760 - val_loss: 2.3292 - val_accuracy: 0.3126 - 44s/epoch - 199ms/step\n",
      "Epoch 135/200\n",
      "219/219 - 44s - loss: 1.2728 - accuracy: 0.5739 - val_loss: 2.3232 - val_accuracy: 0.3099 - 44s/epoch - 200ms/step\n",
      "Epoch 136/200\n",
      "219/219 - 44s - loss: 1.2647 - accuracy: 0.5763 - val_loss: 2.3468 - val_accuracy: 0.3092 - 44s/epoch - 200ms/step\n",
      "Epoch 137/200\n",
      "219/219 - 44s - loss: 1.2560 - accuracy: 0.5812 - val_loss: 2.3462 - val_accuracy: 0.3063 - 44s/epoch - 199ms/step\n",
      "Epoch 138/200\n",
      "219/219 - 44s - loss: 1.2446 - accuracy: 0.5853 - val_loss: 2.3604 - val_accuracy: 0.3054 - 44s/epoch - 201ms/step\n",
      "Epoch 139/200\n",
      "219/219 - 44s - loss: 1.2396 - accuracy: 0.5883 - val_loss: 2.3733 - val_accuracy: 0.3106 - 44s/epoch - 200ms/step\n",
      "Epoch 140/200\n",
      "219/219 - 44s - loss: 1.2333 - accuracy: 0.5900 - val_loss: 2.3844 - val_accuracy: 0.3088 - 44s/epoch - 200ms/step\n",
      "Epoch 141/200\n",
      "219/219 - 44s - loss: 1.2224 - accuracy: 0.5949 - val_loss: 2.4065 - val_accuracy: 0.3094 - 44s/epoch - 200ms/step\n",
      "Epoch 142/200\n",
      "219/219 - 44s - loss: 1.2154 - accuracy: 0.5974 - val_loss: 2.4201 - val_accuracy: 0.3016 - 44s/epoch - 199ms/step\n",
      "Epoch 143/200\n",
      "219/219 - 44s - loss: 1.2085 - accuracy: 0.5981 - val_loss: 2.4377 - val_accuracy: 0.3007 - 44s/epoch - 199ms/step\n",
      "Epoch 144/200\n",
      "219/219 - 44s - loss: 1.2010 - accuracy: 0.6030 - val_loss: 2.4372 - val_accuracy: 0.3042 - 44s/epoch - 200ms/step\n",
      "Epoch 145/200\n",
      "219/219 - 44s - loss: 1.1923 - accuracy: 0.6063 - val_loss: 2.4536 - val_accuracy: 0.2974 - 44s/epoch - 200ms/step\n",
      "Epoch 146/200\n",
      "219/219 - 44s - loss: 1.1852 - accuracy: 0.6063 - val_loss: 2.4583 - val_accuracy: 0.3009 - 44s/epoch - 201ms/step\n",
      "Epoch 147/200\n",
      "219/219 - 44s - loss: 1.1754 - accuracy: 0.6108 - val_loss: 2.4793 - val_accuracy: 0.3028 - 44s/epoch - 201ms/step\n",
      "Epoch 148/200\n",
      "219/219 - 44s - loss: 1.1666 - accuracy: 0.6150 - val_loss: 2.4888 - val_accuracy: 0.2977 - 44s/epoch - 200ms/step\n",
      "Epoch 149/200\n",
      "219/219 - 44s - loss: 1.1572 - accuracy: 0.6170 - val_loss: 2.5197 - val_accuracy: 0.3018 - 44s/epoch - 200ms/step\n",
      "Epoch 150/200\n",
      "219/219 - 44s - loss: 1.1510 - accuracy: 0.6216 - val_loss: 2.5354 - val_accuracy: 0.2973 - 44s/epoch - 199ms/step\n",
      "Epoch 151/200\n",
      "219/219 - 44s - loss: 1.1433 - accuracy: 0.6242 - val_loss: 2.5816 - val_accuracy: 0.2990 - 44s/epoch - 200ms/step\n",
      "Epoch 152/200\n",
      "219/219 - 44s - loss: 1.1362 - accuracy: 0.6250 - val_loss: 2.5543 - val_accuracy: 0.2994 - 44s/epoch - 202ms/step\n",
      "Epoch 153/200\n",
      "219/219 - 44s - loss: 1.1254 - accuracy: 0.6304 - val_loss: 2.5778 - val_accuracy: 0.2982 - 44s/epoch - 200ms/step\n",
      "Epoch 154/200\n",
      "219/219 - 44s - loss: 1.1203 - accuracy: 0.6310 - val_loss: 2.5720 - val_accuracy: 0.2947 - 44s/epoch - 201ms/step\n",
      "Epoch 155/200\n",
      "219/219 - 44s - loss: 1.1052 - accuracy: 0.6386 - val_loss: 2.5920 - val_accuracy: 0.2977 - 44s/epoch - 200ms/step\n",
      "Epoch 156/200\n",
      "219/219 - 44s - loss: 1.0974 - accuracy: 0.6406 - val_loss: 2.6176 - val_accuracy: 0.2957 - 44s/epoch - 199ms/step\n",
      "Epoch 157/200\n",
      "219/219 - 44s - loss: 1.0904 - accuracy: 0.6420 - val_loss: 2.6229 - val_accuracy: 0.2962 - 44s/epoch - 200ms/step\n",
      "Epoch 158/200\n",
      "219/219 - 44s - loss: 1.0845 - accuracy: 0.6449 - val_loss: 2.6506 - val_accuracy: 0.2919 - 44s/epoch - 199ms/step\n",
      "Epoch 159/200\n",
      "219/219 - 37s - loss: 1.0748 - accuracy: 0.6483 - val_loss: 2.6652 - val_accuracy: 0.2939 - 37s/epoch - 168ms/step\n",
      "Epoch 160/200\n",
      "219/219 - 40s - loss: 1.0635 - accuracy: 0.6519 - val_loss: 2.6819 - val_accuracy: 0.2865 - 40s/epoch - 183ms/step\n",
      "Epoch 161/200\n",
      "219/219 - 45s - loss: 1.0561 - accuracy: 0.6556 - val_loss: 2.7011 - val_accuracy: 0.2953 - 45s/epoch - 204ms/step\n",
      "Epoch 162/200\n",
      "219/219 - 44s - loss: 1.0515 - accuracy: 0.6580 - val_loss: 2.7142 - val_accuracy: 0.2878 - 44s/epoch - 202ms/step\n",
      "Epoch 163/200\n",
      "219/219 - 43s - loss: 1.0418 - accuracy: 0.6619 - val_loss: 2.7283 - val_accuracy: 0.2874 - 43s/epoch - 198ms/step\n",
      "Epoch 164/200\n",
      "219/219 - 43s - loss: 1.0307 - accuracy: 0.6638 - val_loss: 2.7624 - val_accuracy: 0.2876 - 43s/epoch - 196ms/step\n",
      "Epoch 165/200\n",
      "219/219 - 43s - loss: 1.0218 - accuracy: 0.6687 - val_loss: 2.7630 - val_accuracy: 0.2913 - 43s/epoch - 196ms/step\n",
      "Epoch 166/200\n",
      "219/219 - 43s - loss: 1.0150 - accuracy: 0.6724 - val_loss: 2.7803 - val_accuracy: 0.2892 - 43s/epoch - 197ms/step\n",
      "Epoch 167/200\n",
      "219/219 - 43s - loss: 1.0073 - accuracy: 0.6759 - val_loss: 2.8120 - val_accuracy: 0.2884 - 43s/epoch - 196ms/step\n",
      "Epoch 168/200\n",
      "219/219 - 43s - loss: 0.9997 - accuracy: 0.6785 - val_loss: 2.8218 - val_accuracy: 0.2901 - 43s/epoch - 197ms/step\n",
      "Epoch 169/200\n",
      "219/219 - 43s - loss: 0.9877 - accuracy: 0.6831 - val_loss: 2.8452 - val_accuracy: 0.2898 - 43s/epoch - 197ms/step\n",
      "Epoch 170/200\n",
      "219/219 - 43s - loss: 0.9773 - accuracy: 0.6862 - val_loss: 2.8689 - val_accuracy: 0.2819 - 43s/epoch - 197ms/step\n",
      "Epoch 171/200\n",
      "219/219 - 43s - loss: 0.9704 - accuracy: 0.6908 - val_loss: 2.8765 - val_accuracy: 0.2852 - 43s/epoch - 198ms/step\n",
      "Epoch 172/200\n",
      "219/219 - 43s - loss: 0.9643 - accuracy: 0.6911 - val_loss: 2.8897 - val_accuracy: 0.2815 - 43s/epoch - 198ms/step\n",
      "Epoch 173/200\n",
      "219/219 - 44s - loss: 0.9533 - accuracy: 0.6949 - val_loss: 2.9212 - val_accuracy: 0.2858 - 44s/epoch - 200ms/step\n",
      "Epoch 174/200\n",
      "219/219 - 43s - loss: 0.9431 - accuracy: 0.7005 - val_loss: 2.9316 - val_accuracy: 0.2872 - 43s/epoch - 198ms/step\n",
      "Epoch 175/200\n",
      "219/219 - 44s - loss: 0.9340 - accuracy: 0.7017 - val_loss: 2.9782 - val_accuracy: 0.2856 - 44s/epoch - 201ms/step\n",
      "Epoch 176/200\n",
      "219/219 - 44s - loss: 0.9260 - accuracy: 0.7060 - val_loss: 2.9889 - val_accuracy: 0.2828 - 44s/epoch - 201ms/step\n",
      "Epoch 177/200\n",
      "219/219 - 44s - loss: 0.9190 - accuracy: 0.7080 - val_loss: 3.0101 - val_accuracy: 0.2839 - 44s/epoch - 200ms/step\n",
      "Epoch 178/200\n",
      "219/219 - 43s - loss: 0.9078 - accuracy: 0.7139 - val_loss: 3.0233 - val_accuracy: 0.2849 - 43s/epoch - 198ms/step\n",
      "Epoch 179/200\n",
      "219/219 - 44s - loss: 0.8995 - accuracy: 0.7157 - val_loss: 3.0702 - val_accuracy: 0.2828 - 44s/epoch - 199ms/step\n",
      "Epoch 180/200\n",
      "219/219 - 44s - loss: 0.8932 - accuracy: 0.7163 - val_loss: 3.0942 - val_accuracy: 0.2812 - 44s/epoch - 201ms/step\n",
      "Epoch 181/200\n",
      "219/219 - 44s - loss: 0.8829 - accuracy: 0.7193 - val_loss: 3.1142 - val_accuracy: 0.2797 - 44s/epoch - 201ms/step\n",
      "Epoch 182/200\n",
      "219/219 - 43s - loss: 0.8713 - accuracy: 0.7253 - val_loss: 3.1201 - val_accuracy: 0.2821 - 43s/epoch - 198ms/step\n",
      "Epoch 183/200\n",
      "219/219 - 44s - loss: 0.8651 - accuracy: 0.7260 - val_loss: 3.1528 - val_accuracy: 0.2858 - 44s/epoch - 200ms/step\n",
      "Epoch 184/200\n",
      "219/219 - 44s - loss: 0.8607 - accuracy: 0.7280 - val_loss: 3.1753 - val_accuracy: 0.2809 - 44s/epoch - 200ms/step\n",
      "Epoch 185/200\n",
      "219/219 - 44s - loss: 0.8459 - accuracy: 0.7341 - val_loss: 3.2023 - val_accuracy: 0.2777 - 44s/epoch - 200ms/step\n",
      "Epoch 186/200\n",
      "219/219 - 44s - loss: 0.8420 - accuracy: 0.7352 - val_loss: 3.2266 - val_accuracy: 0.2754 - 44s/epoch - 200ms/step\n",
      "Epoch 187/200\n",
      "219/219 - 44s - loss: 0.8300 - accuracy: 0.7410 - val_loss: 3.2284 - val_accuracy: 0.2790 - 44s/epoch - 200ms/step\n",
      "Epoch 188/200\n",
      "219/219 - 44s - loss: 0.8239 - accuracy: 0.7421 - val_loss: 3.2795 - val_accuracy: 0.2759 - 44s/epoch - 200ms/step\n",
      "Epoch 189/200\n",
      "219/219 - 44s - loss: 0.8130 - accuracy: 0.7469 - val_loss: 3.2978 - val_accuracy: 0.2768 - 44s/epoch - 201ms/step\n",
      "Epoch 190/200\n",
      "219/219 - 44s - loss: 0.8066 - accuracy: 0.7471 - val_loss: 3.3299 - val_accuracy: 0.2827 - 44s/epoch - 201ms/step\n",
      "Epoch 191/200\n",
      "219/219 - 44s - loss: 0.8006 - accuracy: 0.7493 - val_loss: 3.3598 - val_accuracy: 0.2697 - 44s/epoch - 200ms/step\n",
      "Epoch 192/200\n",
      "219/219 - 44s - loss: 0.7894 - accuracy: 0.7549 - val_loss: 3.3718 - val_accuracy: 0.2767 - 44s/epoch - 200ms/step\n"
     ]
    },
    {
     "name": "stdout",
     "output_type": "stream",
     "text": [
      "Epoch 193/200\n",
      "219/219 - 44s - loss: 0.7783 - accuracy: 0.7607 - val_loss: 3.3834 - val_accuracy: 0.2802 - 44s/epoch - 200ms/step\n",
      "Epoch 194/200\n",
      "219/219 - 44s - loss: 0.7737 - accuracy: 0.7599 - val_loss: 3.4117 - val_accuracy: 0.2760 - 44s/epoch - 201ms/step\n",
      "Epoch 195/200\n",
      "219/219 - 44s - loss: 0.7636 - accuracy: 0.7631 - val_loss: 3.4520 - val_accuracy: 0.2766 - 44s/epoch - 200ms/step\n",
      "Epoch 196/200\n",
      "219/219 - 43s - loss: 0.7537 - accuracy: 0.7682 - val_loss: 3.4621 - val_accuracy: 0.2783 - 43s/epoch - 195ms/step\n",
      "Epoch 197/200\n",
      "219/219 - 35s - loss: 0.7478 - accuracy: 0.7679 - val_loss: 3.4977 - val_accuracy: 0.2706 - 35s/epoch - 161ms/step\n",
      "Epoch 198/200\n",
      "219/219 - 43s - loss: 0.7396 - accuracy: 0.7724 - val_loss: 3.5218 - val_accuracy: 0.2799 - 43s/epoch - 194ms/step\n",
      "Epoch 199/200\n",
      "219/219 - 45s - loss: 0.7316 - accuracy: 0.7747 - val_loss: 3.5492 - val_accuracy: 0.2732 - 45s/epoch - 204ms/step\n",
      "Epoch 200/200\n",
      "219/219 - 44s - loss: 0.7219 - accuracy: 0.7792 - val_loss: 3.5722 - val_accuracy: 0.2718 - 44s/epoch - 202ms/step\n"
     ]
    }
   ],
   "source": [
    "history = GRU_model.fit(X_train_pad,\n",
    "                        y_train,\n",
    "                        batch_size=128,\n",
    "                        epochs = 200,\n",
    "                        verbose=2,\n",
    "                        validation_data = (X_test_pad,y_test))\n",
    "\n",
    "callbacks = [EarlyStopping(monitor='val_loss', patience=3),\n",
    "                     saveWeightsCallback(\n",
    "                         path='./weights/GRU',\n",
    "                         monitor = 'val_loss',\n",
    "                         mode = 'min',\n",
    "                         save_freq='epoch',\n",
    "                     )],\n",
    "         "
   ]
  },
  {
   "cell_type": "code",
   "execution_count": null,
   "id": "63fb4248",
   "metadata": {
    "collapsed": true
   },
   "outputs": [],
   "source": []
  }
 ],
 "metadata": {
  "kernelspec": {
   "display_name": "neuralNetworks",
   "language": "python",
   "name": "neuralnetworks"
  },
  "language_info": {
   "codemirror_mode": {
    "name": "ipython",
    "version": 3
   },
   "file_extension": ".py",
   "mimetype": "text/x-python",
   "name": "python",
   "nbconvert_exporter": "python",
   "pygments_lexer": "ipython3",
   "version": "3.10.4"
  }
 },
 "nbformat": 4,
 "nbformat_minor": 5
}
