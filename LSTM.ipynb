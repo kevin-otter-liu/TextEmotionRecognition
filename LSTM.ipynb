{
 "cells": [
  {
   "cell_type": "code",
   "execution_count": 47,
   "id": "c5eeccb1",
   "metadata": {},
   "outputs": [],
   "source": [
    "import pandas as pd\n",
    "import os\n",
    "import tensorflow as tf\n",
    "from tensorflow import keras\n",
    "from tensorflow.keras import layers\n",
    "from tensorflow.keras.optimizers import Adam\n",
    "from tensorflow.keras.callbacks import EarlyStopping,ModelCheckpoint\n",
    "from tensorflow.keras.preprocessing.text import Tokenizer\n",
    "from tensorflow.keras.preprocessing.sequence import pad_sequences\n",
    "\n",
    "import numpy as np\n",
    "import io\n",
    "import re\n",
    "import string\n",
    "import tqdm\n",
    "import nltk\n",
    "from nltk.stem.wordnet import WordNetLemmatizer \n",
    "from nltk.tokenize import word_tokenize\n",
    "from nltk.corpus import stopwords\n",
    "from sklearn.model_selection import train_test_split\n",
    "\n",
    "import matplotlib.pyplot as plt"
   ]
  },
  {
   "cell_type": "markdown",
   "id": "5ea4f9d2",
   "metadata": {},
   "source": [
    "# Loading and cleaning dataset"
   ]
  },
  {
   "cell_type": "code",
   "execution_count": 8,
   "id": "8e8c5935",
   "metadata": {},
   "outputs": [],
   "source": [
    "df = pd.read_csv(\"./data/text_emotion.csv\")\n",
    "cleaned_df = df.copy()"
   ]
  },
  {
   "cell_type": "code",
   "execution_count": 9,
   "id": "d5bb6bd1",
   "metadata": {},
   "outputs": [],
   "source": [
    "# remove mentions, hashtags and links\n",
    "cleaned_df['content'] = cleaned_df['content'].apply(lambda sentence: re.sub(\"@[A-Za-z0-9_]+\",\"\", sentence))\n",
    "cleaned_df['content'] = cleaned_df['content'].apply(lambda sentence: re.sub(r\"http\\S+\", \"\", sentence))\n",
    "cleaned_df['content'] = cleaned_df['content'].apply(lambda sentence: re.sub(r\"http\\S+\", \"\", sentence))\n",
    "\n",
    "# removing stopwords\n",
    "stop_words = set(stopwords.words('english'))\n",
    "cleaned_df['content'] = cleaned_df['content'].apply(lambda sentence: \" \".join([word for word in sentence.split() if word not in stop_words]))\n",
    "\n",
    "# removing all punctuation marks\n",
    "exclude = set(string.punctuation)\n",
    "regex = re.compile('[%s]' % re.escape(string.punctuation))\n",
    "cleaned_df['content'] = cleaned_df['content'].apply(lambda sentence: regex.sub(\"\",sentence))\n",
    "\n",
    "# lowercasing 'content' column\n",
    "cleaned_df['content'] = cleaned_df['content'].str.lower()\n",
    "\n",
    "# removing unicode characters\n",
    "cleaned_df['content'] = cleaned_df['content'].apply(lambda sentence: sentence.encode(\"ascii\",\"ignore\").decode())"
   ]
  },
  {
   "cell_type": "markdown",
   "id": "f2528c50",
   "metadata": {},
   "source": [
    "# Preprocess data"
   ]
  },
  {
   "cell_type": "code",
   "execution_count": 20,
   "id": "c2fc85dc",
   "metadata": {},
   "outputs": [],
   "source": [
    "max_sentence_len = cleaned_df['content'].apply(lambda s: len(s.split())).max() + 1"
   ]
  },
  {
   "cell_type": "code",
   "execution_count": 10,
   "id": "988e5e41",
   "metadata": {},
   "outputs": [
    {
     "name": "stdout",
     "output_type": "stream",
     "text": [
      "Unique tokens: 35736\n"
     ]
    }
   ],
   "source": [
    "EMBEDDING_DIM = 50\n",
    "\n",
    "tokenizer = Tokenizer()\n",
    "tokenizer.fit_on_texts(list(cleaned_df['content']))\n",
    "sequences = tokenizer.texts_to_sequences(list(cleaned_df['content']))\n",
    "\n",
    "# pad sequences\n",
    "word_index = tokenizer.word_index\n",
    "print('Unique tokens: {}'.format(len(word_index)))\n",
    "\n",
    "content_pad = pad_sequences(sequences, maxlen=EMBEDDING_DIM)\n",
    "num_words = len(word_index) + 1"
   ]
  },
  {
   "cell_type": "markdown",
   "id": "a072714a",
   "metadata": {},
   "source": [
    "# Get glove embeddings"
   ]
  },
  {
   "cell_type": "code",
   "execution_count": 15,
   "id": "ecd81816",
   "metadata": {},
   "outputs": [],
   "source": [
    "def load_pretrained_embedding(embedding_fpath):\n",
    "    #loads embeddings from file e.g GloVe to a dict object\n",
    "    with open(embedding_fpath, 'r', encoding='UTF-8') as f:\n",
    "        words = set()\n",
    "        word_to_vec_map = {}\n",
    "        for line in f:\n",
    "            line = line.strip().split()\n",
    "            words.add(line[0])\n",
    "            word_to_vec_map[line[0]] = np.array(line[1:], dtype=np.float64)\n",
    "            \n",
    "        return word_to_vec_map"
   ]
  },
  {
   "cell_type": "code",
   "execution_count": 16,
   "id": "9ffb2b96",
   "metadata": {},
   "outputs": [],
   "source": [
    "word_to_vec_map = load_pretrained_embedding('./data/glove.twitter.27B.50d.txt')"
   ]
  },
  {
   "cell_type": "code",
   "execution_count": 17,
   "id": "74d31e07",
   "metadata": {},
   "outputs": [],
   "source": [
    "def get_embedding_weights(word_to_vec_map, vocab_len, word_index):\n",
    "    #function to get GloVe embedding weights\n",
    "    emb_dim = word_to_vec_map[\"the\"].shape[0]      # define dimensionality of your GloVe word vectors (= 50)\n",
    "\n",
    "    # Initialize the embedding matrix as a numpy array of zeros.\n",
    "    emb_matrix = np.zeros(shape=(vocab_len, emb_dim))\n",
    "    \n",
    "    unks = []\n",
    "    unk_count = 0\n",
    "    \n",
    "    # the word vector representation of the idx'th word of the vocabulary\n",
    "    for word, idx in word_index.items():\n",
    "        emb = word_to_vec_map.get(word)\n",
    "        if emb is not None:\n",
    "            emb_matrix[idx] = emb\n",
    "        else:\n",
    "            emb_matrix[idx] = word_to_vec_map.get('unk') #get the 'unk' embedding from glove for OOV\n",
    "            unk_count = unk_count + 1\n",
    "            unks.append(word)\n",
    "            \n",
    "    return emb_matrix, unks"
   ]
  },
  {
   "cell_type": "code",
   "execution_count": 18,
   "id": "63e56399",
   "metadata": {},
   "outputs": [],
   "source": [
    "#get the embedding matrix weights\n",
    "embedding_matrix_wgt, unks = get_embedding_weights(word_to_vec_map, num_words, word_index)"
   ]
  },
  {
   "cell_type": "markdown",
   "id": "48d96d49",
   "metadata": {},
   "source": [
    "# Build model"
   ]
  },
  {
   "cell_type": "code",
   "execution_count": 19,
   "id": "4f626779",
   "metadata": {},
   "outputs": [],
   "source": [
    "# callback to save the best weights for the model\n",
    "def saveWeightsCallback(path,monitor,mode,save_freq):\n",
    "    return tf.keras.callbacks.ModelCheckpoint(\n",
    "        filepath=path,\n",
    "        monitor = monitor,\n",
    "        verbose = 1,\n",
    "        save_best_only = True,\n",
    "        save_weights_only = True,\n",
    "        mode = mode,\n",
    "        save_freq=save_freq,\n",
    ")"
   ]
  },
  {
   "cell_type": "code",
   "execution_count": 55,
   "id": "4f290212",
   "metadata": {},
   "outputs": [],
   "source": [
    "def build_model(embedding_dim,max_length):\n",
    "    model = keras.models.Sequential()\n",
    "    model.add(layers.Embedding(input_dim=num_words,\n",
    "                               output_dim=embedding_dim))\n",
    "    model.add(layers.Bidirectional(\n",
    "        layers.LSTM(units=64,return_sequences=True)))\n",
    "    model.add(layers.Dropout(0.2))\n",
    "    model.add(layers.Bidirectional(\n",
    "        layers.LSTM(units=64)))\n",
    "    model.add(layers.Dropout(0.2))\n",
    "    model.add(layers.Dense(13,activation='softmax'))\n",
    "    return model"
   ]
  },
  {
   "cell_type": "code",
   "execution_count": 56,
   "id": "50047d07",
   "metadata": {},
   "outputs": [
    {
     "name": "stdout",
     "output_type": "stream",
     "text": [
      "Model: \"sequential_2\"\n",
      "_________________________________________________________________\n",
      " Layer (type)                Output Shape              Param #   \n",
      "=================================================================\n",
      " embedding_2 (Embedding)     (None, None, 50)          1786850   \n",
      "                                                                 \n",
      " bidirectional_4 (Bidirectio  (None, None, 128)        58880     \n",
      " nal)                                                            \n",
      "                                                                 \n",
      " dropout_4 (Dropout)         (None, None, 128)         0         \n",
      "                                                                 \n",
      " bidirectional_5 (Bidirectio  (None, 128)              98816     \n",
      " nal)                                                            \n",
      "                                                                 \n",
      " dropout_5 (Dropout)         (None, 128)               0         \n",
      "                                                                 \n",
      " dense_2 (Dense)             (None, 13)                1677      \n",
      "                                                                 \n",
      "=================================================================\n",
      "Total params: 1,946,223\n",
      "Trainable params: 159,373\n",
      "Non-trainable params: 1,786,850\n",
      "_________________________________________________________________\n"
     ]
    }
   ],
   "source": [
    "LSTM_model = build_model(EMBEDDING_DIM,EMBEDDING_DIM)\n",
    "\n",
    "LSTM_model.layers[0].set_weights([embedding_matrix_wgt])\n",
    "LSTM_model.layers[0].trainable = False\n",
    "\n",
    "LSTM_model.summary()"
   ]
  },
  {
   "cell_type": "code",
   "execution_count": 57,
   "id": "a791498d",
   "metadata": {},
   "outputs": [],
   "source": [
    "LSTM_model.compile(\n",
    "    optimizer= Adam(learning_rate=0.0001),\n",
    "    loss='categorical_crossentropy',\n",
    "    metrics=[\n",
    "        'accuracy',\n",
    "    ]\n",
    ")"
   ]
  },
  {
   "cell_type": "code",
   "execution_count": 58,
   "id": "32b83c4d",
   "metadata": {},
   "outputs": [
    {
     "name": "stdout",
     "output_type": "stream",
     "text": [
      "x shape: (40000, 50)\n",
      "y shape: (40000, 13)\n"
     ]
    }
   ],
   "source": [
    "y = pd.get_dummies(df['sentiment']).values\n",
    "print('x shape: {}'.format(content_pad.shape))\n",
    "print('y shape: {}'.format(y.shape))"
   ]
  },
  {
   "cell_type": "code",
   "execution_count": 59,
   "id": "e5a4f79f",
   "metadata": {},
   "outputs": [
    {
     "name": "stdout",
     "output_type": "stream",
     "text": [
      "(28000, 50) (28000, 13)\n",
      "(12000, 50) (12000, 13)\n"
     ]
    }
   ],
   "source": [
    "x_train, x_test, y_train, y_test = train_test_split(content_pad, y, test_size = 0.30, random_state = 42)\n",
    "print(x_train.shape, y_train.shape)\n",
    "print(x_test.shape, y_test.shape)"
   ]
  },
  {
   "cell_type": "code",
   "execution_count": 60,
   "id": "7215f088",
   "metadata": {},
   "outputs": [
    {
     "name": "stdout",
     "output_type": "stream",
     "text": [
      "Epoch 1/25\n",
      "219/219 - 34s - loss: 2.2314 - accuracy: 0.2423 - val_loss: 2.0987 - val_accuracy: 0.2707 - 34s/epoch - 155ms/step\n",
      "Epoch 2/25\n",
      "219/219 - 24s - loss: 2.0579 - accuracy: 0.2907 - val_loss: 2.0136 - val_accuracy: 0.3073 - 24s/epoch - 111ms/step\n",
      "Epoch 3/25\n",
      "219/219 - 25s - loss: 2.0090 - accuracy: 0.3057 - val_loss: 1.9870 - val_accuracy: 0.3198 - 25s/epoch - 113ms/step\n",
      "Epoch 4/25\n",
      "219/219 - 25s - loss: 1.9886 - accuracy: 0.3139 - val_loss: 1.9730 - val_accuracy: 0.3254 - 25s/epoch - 113ms/step\n",
      "Epoch 5/25\n",
      "219/219 - 24s - loss: 1.9725 - accuracy: 0.3214 - val_loss: 1.9603 - val_accuracy: 0.3319 - 24s/epoch - 111ms/step\n",
      "Epoch 6/25\n",
      "219/219 - 24s - loss: 1.9574 - accuracy: 0.3270 - val_loss: 1.9463 - val_accuracy: 0.3347 - 24s/epoch - 111ms/step\n",
      "Epoch 7/25\n",
      "219/219 - 24s - loss: 1.9496 - accuracy: 0.3296 - val_loss: 1.9390 - val_accuracy: 0.3378 - 24s/epoch - 110ms/step\n",
      "Epoch 8/25\n",
      "219/219 - 23s - loss: 1.9415 - accuracy: 0.3329 - val_loss: 1.9323 - val_accuracy: 0.3397 - 23s/epoch - 106ms/step\n",
      "Epoch 9/25\n",
      "219/219 - 23s - loss: 1.9350 - accuracy: 0.3331 - val_loss: 1.9393 - val_accuracy: 0.3344 - 23s/epoch - 106ms/step\n",
      "Epoch 10/25\n",
      "219/219 - 25s - loss: 1.9292 - accuracy: 0.3345 - val_loss: 1.9230 - val_accuracy: 0.3413 - 25s/epoch - 112ms/step\n",
      "Epoch 11/25\n",
      "219/219 - 24s - loss: 1.9204 - accuracy: 0.3370 - val_loss: 1.9198 - val_accuracy: 0.3436 - 24s/epoch - 111ms/step\n",
      "Epoch 12/25\n",
      "219/219 - 24s - loss: 1.9150 - accuracy: 0.3384 - val_loss: 1.9184 - val_accuracy: 0.3454 - 24s/epoch - 111ms/step\n",
      "Epoch 13/25\n",
      "219/219 - 24s - loss: 1.9089 - accuracy: 0.3426 - val_loss: 1.9139 - val_accuracy: 0.3444 - 24s/epoch - 109ms/step\n",
      "Epoch 14/25\n",
      "219/219 - 24s - loss: 1.9048 - accuracy: 0.3432 - val_loss: 1.9104 - val_accuracy: 0.3456 - 24s/epoch - 110ms/step\n",
      "Epoch 15/25\n",
      "219/219 - 24s - loss: 1.9005 - accuracy: 0.3431 - val_loss: 1.9085 - val_accuracy: 0.3455 - 24s/epoch - 109ms/step\n",
      "Epoch 16/25\n",
      "219/219 - 24s - loss: 1.8960 - accuracy: 0.3470 - val_loss: 1.9074 - val_accuracy: 0.3441 - 24s/epoch - 110ms/step\n",
      "Epoch 17/25\n",
      "219/219 - 24s - loss: 1.8904 - accuracy: 0.3465 - val_loss: 1.9090 - val_accuracy: 0.3423 - 24s/epoch - 112ms/step\n",
      "Epoch 18/25\n",
      "219/219 - 24s - loss: 1.8868 - accuracy: 0.3481 - val_loss: 1.9003 - val_accuracy: 0.3480 - 24s/epoch - 110ms/step\n",
      "Epoch 19/25\n",
      "219/219 - 24s - loss: 1.8827 - accuracy: 0.3505 - val_loss: 1.9004 - val_accuracy: 0.3468 - 24s/epoch - 109ms/step\n",
      "Epoch 20/25\n",
      "219/219 - 24s - loss: 1.8792 - accuracy: 0.3522 - val_loss: 1.9030 - val_accuracy: 0.3465 - 24s/epoch - 109ms/step\n",
      "Epoch 21/25\n",
      "219/219 - 24s - loss: 1.8735 - accuracy: 0.3511 - val_loss: 1.8993 - val_accuracy: 0.3473 - 24s/epoch - 109ms/step\n",
      "Epoch 22/25\n",
      "219/219 - 24s - loss: 1.8685 - accuracy: 0.3545 - val_loss: 1.9086 - val_accuracy: 0.3413 - 24s/epoch - 109ms/step\n",
      "Epoch 23/25\n",
      "219/219 - 24s - loss: 1.8671 - accuracy: 0.3534 - val_loss: 1.8944 - val_accuracy: 0.3474 - 24s/epoch - 109ms/step\n",
      "Epoch 24/25\n",
      "219/219 - 24s - loss: 1.8641 - accuracy: 0.3587 - val_loss: 1.8940 - val_accuracy: 0.3451 - 24s/epoch - 110ms/step\n",
      "Epoch 25/25\n",
      "219/219 - 24s - loss: 1.8606 - accuracy: 0.3587 - val_loss: 1.8961 - val_accuracy: 0.3454 - 24s/epoch - 110ms/step\n"
     ]
    }
   ],
   "source": [
    "history = LSTM_model.fit(x_train,\n",
    "                        y_train,\n",
    "                        batch_size=128,\n",
    "                        epochs = 25,\n",
    "                        verbose=2,\n",
    "                        validation_data = (x_test,y_test))\n",
    "\n",
    "callbacks = [EarlyStopping(monitor='val_accuracy', patience=2),\n",
    "                     saveWeightsCallback(\n",
    "                         path='./weights/LSTM',\n",
    "                         monitor = 'val_loss',\n",
    "                         mode = 'min',\n",
    "                         save_freq='epoch',\n",
    "                     )],      "
   ]
  },
  {
   "cell_type": "code",
   "execution_count": 61,
   "id": "9f4b4848",
   "metadata": {},
   "outputs": [
    {
     "data": {
      "image/png": "[encoded data removed]",
      "text/plain": [
       "<Figure size 640x480 with 1 Axes>"
      ]
     },
     "metadata": {},
     "output_type": "display_data"
    }
   ],
   "source": [
    "plt.plot(history.history['val_accuracy'])\n",
    "plt.ylabel('accuracy')\n",
    "plt.xlabel('epoch')\n",
    "plt.show()"
   ]
  },
  {
   "cell_type": "code",
   "execution_count": 62,
   "id": "beff0ba2",
   "metadata": {},
   "outputs": [
    {
     "data": {
      "image/png": "[encoded data removed]",
      "text/plain": [
       "<Figure size 640x480 with 1 Axes>"
      ]
     },
     "metadata": {},
     "output_type": "display_data"
    }
   ],
   "source": [
    "plt.plot(history.history['val_loss'])\n",
    "plt.ylabel('loss')\n",
    "plt.xlabel('epoch')\n",
    "plt.show()"
   ]
  },
  {
   "cell_type": "code",
   "execution_count": null,
   "id": "61dbafc3",
   "metadata": {},
   "outputs": [],
   "source": []
  }
 ],
 "metadata": {
  "kernelspec": {
   "display_name": "Python 3 (ipykernel)",
   "language": "python",
   "name": "python3"
  },
  "language_info": {
   "codemirror_mode": {
    "name": "ipython",
    "version": 3
   },
   "file_extension": ".py",
   "mimetype": "text/x-python",
   "name": "python",
   "nbconvert_exporter": "python",
   "pygments_lexer": "ipython3",
   "version": "3.7.5"
  }
 },
 "nbformat": 4,
 "nbformat_minor": 5
}
