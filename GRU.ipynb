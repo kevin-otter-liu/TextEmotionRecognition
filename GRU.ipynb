{
 "cells": [
  {
   "cell_type": "markdown",
   "id": "e9721736",
   "metadata": {},
   "source": [
    "# GRU"
   ]
  },
  {
   "cell_type": "markdown",
   "id": "b04a7f41",
   "metadata": {},
   "source": [
    "# Preprocessing"
   ]
  },
  {
   "cell_type": "code",
   "execution_count": 55,
   "id": "f64bea01",
   "metadata": {},
   "outputs": [],
   "source": [
    "import pandas as pd\n",
    "import os\n",
    "import tensorflow as tf\n",
    "from tensorflow import keras\n",
    "from tensorflow.keras import layers\n",
    "from tensorflow.keras.optimizers import Adam\n",
    "from tensorflow.keras.callbacks import EarlyStopping,ModelCheckpoint\n",
    "from tensorflow.keras.preprocessing.text import Tokenizer\n",
    "from tensorflow.keras.preprocessing.sequence import pad_sequences\n",
    "\n",
    "\n",
    "import numpy as np\n",
    "import io\n",
    "import re\n",
    "import string\n",
    "import tqdm\n",
    "\n",
    "physical_devices = tf.config.list_physical_devices('GPU')\n",
    "#tf.config.experimental.set_memory_growth(physical_devices[0],True)"
   ]
  },
  {
   "cell_type": "code",
   "execution_count": 56,
   "id": "c9f6996f",
   "metadata": {},
   "outputs": [
    {
     "name": "stdout",
     "output_type": "stream",
     "text": [
      "The tensorboard extension is already loaded. To reload it, use:\n",
      "  %reload_ext tensorboard\n"
     ]
    }
   ],
   "source": [
    "%load_ext tensorboard\n",
    "SEED = 42\n",
    "AUTOTUNE = tf.data.AUTOTUNE"
   ]
  },
  {
   "cell_type": "code",
   "execution_count": 57,
   "id": "cdd27823",
   "metadata": {},
   "outputs": [],
   "source": [
    "pd.set_option('display.max_colwidth', None)\n",
    "df = pd.read_csv(\"./data/text_emotion.csv\")"
   ]
  },
  {
   "cell_type": "markdown",
   "id": "f354d4ec",
   "metadata": {},
   "source": [
    "## Data Cleaning\n",
    "1. Getting rid of the punctuations marks from dataset\n",
    "2. converting all content to lowercase\n",
    "3. converting unicode characters to ascii"
   ]
  },
  {
   "cell_type": "code",
   "execution_count": 58,
   "id": "09517d35",
   "metadata": {},
   "outputs": [],
   "source": [
    "cleaned_df = df.copy()\n",
    "\n",
    "# lowercasing 'content' column\n",
    "cleaned_df['content'] = cleaned_df['content'].str.lower()\n",
    "\n",
    "# removing all words with #hastag and @name and urls\n",
    "cleaned_df['content'].apply(lambda sentence: re.sub('@[A-Za-z0-9_]+','',sentence))\n",
    "cleaned_df['content'].apply(lambda sentence: re.sub('#[A-Za-z0-9_]+','',sentence))\n",
    "cleaned_df['content'].apply(lambda sentence: re.sub(r'http\\S+','',sentence))\n",
    "\n",
    "# removing all punctuation marks\n",
    "exclude = set(string.punctuation)\n",
    "regex = re.compile('[%s]' % re.escape(string.punctuation))\n",
    "cleaned_df['content'] = cleaned_df['content'].apply(lambda sentence: regex.sub(\"\",sentence))\n",
    "\n",
    "# removing unicode characters\n",
    "cleaned_df['content'] = cleaned_df['content'].apply(lambda sentence: sentence.encode(\"ascii\",\"ignore\").decode())\n"
   ]
  },
  {
   "cell_type": "markdown",
   "id": "85871b38",
   "metadata": {},
   "source": [
    "1. Now we want to find the total number of unique words (vocab_size) to rationalise the size of a embedding vector\n",
    "1. We also want to find the maximum number of words that are in a sentence to justify the size of the input layer of the GRU"
   ]
  },
  {
   "cell_type": "code",
   "execution_count": 59,
   "id": "a451c62e",
   "metadata": {
    "scrolled": true
   },
   "outputs": [
    {
     "name": "stdout",
     "output_type": "stream",
     "text": [
      "max sentence length of 'content' is 33\n",
      "total number of words of content is 522873\n",
      "total number of unique words/vocab_size of content is 53611\n"
     ]
    }
   ],
   "source": [
    "max_sentence_len = cleaned_df['content'].apply(lambda s: len(s.split())).max()\n",
    "no_of_words = cleaned_df['content'].apply(lambda content: len(content.split())).sum()\n",
    "\n",
    "\n",
    "# count vocab size\n",
    "cache=set()\n",
    "\n",
    "#counting padding and [unkownd] token\n",
    "vocab_size= 1\n",
    "for key,sentence in cleaned_df['content'].items():\n",
    "    words = sentence.split()\n",
    "    for word in words:\n",
    "        if(word not in cache):\n",
    "            vocab_size+=1\n",
    "            cache.add(word)\n",
    "            \n",
    "print(\"max sentence length of 'content' is {}\".format(max_sentence_len))\n",
    "print(\"total number of words of content is {}\".format(no_of_words))\n",
    "print(\"total number of unique words/vocab_size of content is {}\".format(vocab_size))"
   ]
  },
  {
   "cell_type": "markdown",
   "id": "3b625945",
   "metadata": {},
   "source": [
    "Since our max sentence length is 33 we will make an embedding of shape (64,) and pad the difference of the sentence. <br>\n",
    "Since it is computationally heavy to have a vector of 63612 in size. <br>\n",
    "We will use a vector of only 64, meaning that in the skip_grams algorithm, the words will only take 64 other context words into account"
   ]
  },
  {
   "cell_type": "markdown",
   "id": "c8bad8ba",
   "metadata": {},
   "source": [
    "# using word2Vec to get continous vectors to use as embeddings instead of one-hot vectors\n",
    "> using continuous vectors instead of one-hot vectors is better as continuos vectors contain contextual meaning learned from the unsupervised learning performed in the word2vec training process"
   ]
  },
  {
   "cell_type": "markdown",
   "id": "fd12a678",
   "metadata": {},
   "source": [
    "Getting embeddings using Word2Vec. Word2vec has 2 algorithms, \n",
    "1. Continuous Bag of words\n",
    "    - word is predicted from context \"__ my name is Kevin\"\n",
    "2. Skip Gram\n",
    "    - context is predicted from target \"Hi __ __ __ __\""
   ]
  },
  {
   "cell_type": "markdown",
   "id": "eacfcb67",
   "metadata": {},
   "source": [
    "Combine the steps to one function"
   ]
  },
  {
   "cell_type": "code",
   "execution_count": 60,
   "id": "4f33c1e3",
   "metadata": {},
   "outputs": [],
   "source": [
    "def generate_training_data(sequences, window_size,num_ns,vocab_size,seed):\n",
    "    \n",
    "    # each training sentence is appended to these list\n",
    "    targets,contexts,labels = [],[],[]\n",
    "    \n",
    "    # sampling table for vocab_size tokens\n",
    "    sampling_table = tf.keras.preprocessing.sequence.make_sampling_table(vocab_size)\n",
    "    \n",
    "    # iterate over all sentences in dataset\n",
    "    for sequence in tqdm.tqdm(sequences):\n",
    "       \n",
    "\n",
    "        # generating positive skip-gram pairs for a sequence\n",
    "        positive_skip_grams,_ = tf.keras.preprocessing.sequence.skipgrams(\n",
    "            sequence,\n",
    "            vocabulary_size = vocab_size,\n",
    "            sampling_table=sampling_table,\n",
    "            window_size=window_size, # TODO: change window size\n",
    "            negative_samples=0\n",
    "        )\n",
    "        \n",
    "        # produce negative samples and create training samples (x_train,labels)\n",
    "        for target_word, context_word in positive_skip_grams:\n",
    "    \n",
    "    \n",
    "            # expand context word to frmo dim shape (1,0) to (1,1)\n",
    "            context_class = tf.expand_dims(\n",
    "                tf.constant([context_word],dtype='int64'),1)\n",
    "            negative_sampling_candidates, _, _ = tf.random.log_uniform_candidate_sampler(\n",
    "                true_classes=context_class, # to tell the which sample is positive\n",
    "                num_true=1,\n",
    "                num_sampled=num_ns,\n",
    "                unique=True,\n",
    "                range_max=vocab_size, #TODO: may need to change to just the negative samples of the sentence itself instead of the entire vocab\n",
    "                seed=seed,\n",
    "                name='negative_sampling')\n",
    "    \n",
    "    \n",
    "            # building the context and label vectors for a target word\n",
    "            context = tf.concat([tf.squeeze(context_class,1),negative_sampling_candidates],0)\n",
    "            label = tf.constant([1] + [0]*num_ns, dtype=\"int64\")\n",
    "    \n",
    "    \n",
    "            # append each element from the training ex to global lists\n",
    "            targets.append(target_word)\n",
    "            contexts.append(context)\n",
    "            labels.append(label)\n",
    "    \n",
    "    \n",
    "    return targets, contexts, labels \n",
    "            \n",
    "            "
   ]
  },
  {
   "cell_type": "markdown",
   "id": "78ddb6ce",
   "metadata": {},
   "source": [
    "## Preparing training data for word2vec"
   ]
  },
  {
   "cell_type": "code",
   "execution_count": 61,
   "id": "4fed3d3b",
   "metadata": {},
   "outputs": [],
   "source": [
    "# size of one sentence is 33 but we just use 64\n",
    "sequence_length = 33\n",
    "\n",
    "vectorize_layer = layers.TextVectorization(\n",
    "    max_tokens=vocab_size,\n",
    "    output_mode='int',\n",
    "    output_sequence_length=sequence_length)"
   ]
  },
  {
   "cell_type": "markdown",
   "id": "9f630be1",
   "metadata": {},
   "source": [
    "## Tokenise the words in content according to their indices"
   ]
  },
  {
   "cell_type": "markdown",
   "id": "421d7fbd",
   "metadata": {},
   "source": [
    "### replace words with their respective tokens:"
   ]
  },
  {
   "cell_type": "code",
   "execution_count": 69,
   "id": "5bc51038",
   "metadata": {},
   "outputs": [],
   "source": [
    "# creating a dataset of all sentences\n",
    "text_ds = tf.data.Dataset.from_tensor_slices(cleaned_df['content'])\n",
    "vectorize_layer.adapt(text_ds.batch(batch_size))"
   ]
  },
  {
   "cell_type": "markdown",
   "id": "d2b82457",
   "metadata": {},
   "source": [
    "### build a inverse vocab which maps indexes -> words which can be handy"
   ]
  },
  {
   "cell_type": "code",
   "execution_count": 70,
   "id": "56fdc089",
   "metadata": {
    "scrolled": false
   },
   "outputs": [],
   "source": [
    "inverse_vocab = vectorize_layer.get_vocabulary()"
   ]
  },
  {
   "cell_type": "code",
   "execution_count": 71,
   "id": "c0e9f8ae",
   "metadata": {},
   "outputs": [],
   "source": [
    "# Vectorize the data in text_ds.\n",
    "# prefetch does fetching of data and training at the same time using multiple thread\n",
    "# improving performance\n",
    "text_vector_ds = text_ds.batch(batch_size).prefetch(AUTOTUNE).map(vectorize_layer).unbatch()"
   ]
  },
  {
   "cell_type": "markdown",
   "id": "ac8623f6",
   "metadata": {},
   "source": [
    "As you can see we have successfully vectorised our sentences/sequences"
   ]
  },
  {
   "cell_type": "code",
   "execution_count": 72,
   "id": "f064d40f",
   "metadata": {},
   "outputs": [
    {
     "name": "stdout",
     "output_type": "stream",
     "text": [
      "40000\n"
     ]
    }
   ],
   "source": [
    "sequences = list(text_vector_ds.as_numpy_iterator())\n",
    "print(len(sequences))"
   ]
  },
  {
   "cell_type": "markdown",
   "id": "8208726b",
   "metadata": {},
   "source": [
    "## Using unsupervised learning (word2Vec skip_gram) to predict context from targets. \n",
    ">While doing so, we are also training the weights on the embeddings. We can increase window size so that the embeddings learn more contextutal knowledge with respect to the words around them"
   ]
  },
  {
   "cell_type": "code",
   "execution_count": 73,
   "id": "63b60b04",
   "metadata": {
    "scrolled": true
   },
   "outputs": [
    {
     "name": "stdout",
     "output_type": "stream",
     "text": [
      "12.0\n",
      "13.071825\n"
     ]
    }
   ],
   "source": [
    "# to determine window size, we see the median length of a sentence\n",
    "\n",
    "print(cleaned_df['content'].apply(lambda s: len(s.split())).median())\n",
    "print(cleaned_df['content'].apply(lambda s: len(s.split())).mean())"
   ]
  },
  {
   "cell_type": "markdown",
   "id": "bda81652",
   "metadata": {},
   "source": [
    "We go with window size of 7 since that the median length of a sentence is 12. we want to offer 5 slotssome space for negative sampling"
   ]
  },
  {
   "cell_type": "code",
   "execution_count": 75,
   "id": "f68d8211",
   "metadata": {},
   "outputs": [
    {
     "name": "stderr",
     "output_type": "stream",
     "text": [
      "100%|████████████████████████████████████████████████████████████████████████████████████████████████████████████████████████████| 40000/40000 [02:20<00:00, 285.29it/s]\n"
     ]
    },
    {
     "name": "stdout",
     "output_type": "stream",
     "text": [
      "\n",
      "\n",
      "targets.shape: (1089369,)\n",
      "contexts.shape: (1089369, 6)\n",
      "labels.shape: (1089369, 6)\n"
     ]
    }
   ],
   "source": [
    "# note higher window size is more computationally expensive\n",
    "# from documentation, it is said that for small datasets, negative samples of range 5to 20 yields the best results\n",
    "\n",
    "WINDOW_SIZE = 7\n",
    "num_ns = 5\n",
    "\n",
    "targets, contexts, labels = generate_training_data(\n",
    "    sequences=sequences,\n",
    "    window_size=WINDOW_SIZE,\n",
    "    num_ns=num_ns,\n",
    "    vocab_size=vocab_size,\n",
    "    seed=SEED)\n",
    "\n",
    "targets = np.array(targets)\n",
    "contexts = np.array(contexts)\n",
    "labels = np.array(labels)\n",
    "\n",
    "print('\\n')\n",
    "print(f\"targets.shape: {targets.shape}\")\n",
    "print(f\"contexts.shape: {contexts.shape}\")\n",
    "print(f\"labels.shape: {labels.shape}\")"
   ]
  },
  {
   "cell_type": "markdown",
   "id": "d83978a0",
   "metadata": {},
   "source": [
    "## Configuring training sets for Word2Vec model"
   ]
  },
  {
   "cell_type": "code",
   "execution_count": 94,
   "id": "d037e5a3",
   "metadata": {},
   "outputs": [
    {
     "name": "stdout",
     "output_type": "stream",
     "text": [
      "<BatchDataset element_spec=((TensorSpec(shape=(256,), dtype=tf.int64, name=None), TensorSpec(shape=(256, 6), dtype=tf.int64, name=None)), TensorSpec(shape=(256, 6), dtype=tf.int64, name=None))>\n"
     ]
    }
   ],
   "source": [
    "# batching the dataset\n",
    "BATCH_SIZE = 256\n",
    "BUFFER_SIZE = 10000\n",
    "dataset = tf.data.Dataset.from_tensor_slices(((targets, contexts), labels))\n",
    "dataset = dataset.shuffle(BUFFER_SIZE).batch(BATCH_SIZE, drop_remainder=True)\n",
    "print(dataset)"
   ]
  },
  {
   "cell_type": "code",
   "execution_count": 95,
   "id": "f8fcc8a7",
   "metadata": {},
   "outputs": [
    {
     "name": "stdout",
     "output_type": "stream",
     "text": [
      "<PrefetchDataset element_spec=((TensorSpec(shape=(256,), dtype=tf.int64, name=None), TensorSpec(shape=(256, 6), dtype=tf.int64, name=None)), TensorSpec(shape=(256, 6), dtype=tf.int64, name=None))>\n"
     ]
    }
   ],
   "source": [
    "dataset = dataset.cache().prefetch(buffer_size=AUTOTUNE)\n",
    "print(dataset)"
   ]
  },
  {
   "cell_type": "code",
   "execution_count": 96,
   "id": "9722c164",
   "metadata": {},
   "outputs": [],
   "source": [
    "class Word2Vec(tf.keras.Model):\n",
    "    def __init__(self, vocab_size, embedding_dim):\n",
    "        super(Word2Vec, self).__init__()\n",
    "        self.target_embedding = layers.Embedding(vocab_size,\n",
    "              embedding_dim,\n",
    "              input_length=1,\n",
    "              name=\"w2v_embedding\")\n",
    "        self.context_embedding = layers.Embedding(vocab_size,\n",
    "               embedding_dim,\n",
    "               input_length=num_ns+1)\n",
    "\n",
    "    def call(self, pair):\n",
    "        target, context = pair\n",
    "        # target: (batch, dummy?)  # The dummy axis doesn't exist in TF2.7+\n",
    "        # context: (batch, context)\n",
    "        if len(target.shape) == 2:\n",
    "            target = tf.squeeze(target, axis=1)\n",
    "        # target: (batch,)\n",
    "        word_emb = self.target_embedding(target)\n",
    "        # word_emb: (batch, embed)\n",
    "        context_emb = self.context_embedding(context)\n",
    "        # context_emb: (batch, context, embed)\n",
    "        dots = tf.einsum('be,bce->bc', word_emb, context_emb)\n",
    "        # dots: (batch, context)\n",
    "        return dots"
   ]
  },
  {
   "cell_type": "code",
   "execution_count": 97,
   "id": "4d598c4b",
   "metadata": {},
   "outputs": [],
   "source": [
    "# embedding size for word2vec is chosen to be of shape (32,)\n",
    "# the idea is that since there are a maximum of 33 words in a sentece\n",
    "# the vector that a word takes will be in 32 dimension \n",
    "# vocab size +1 because of padding\n",
    "embedding_dim = 50\n",
    "\n",
    "word2vec = Word2Vec(vocab_size, embedding_dim)\n",
    "word2vec.compile(optimizer='adam',\n",
    "                 loss=tf.keras.losses.CategoricalCrossentropy(from_logits=True),\n",
    "                 metrics=['accuracy'])\n",
    "# call back to log training stats for TensorBoard\n",
    "tensorboard_callback = tf.keras.callbacks.TensorBoard(log_dir=\"logs\")"
   ]
  },
  {
   "cell_type": "code",
   "execution_count": 99,
   "id": "7df77dbd",
   "metadata": {
    "scrolled": false
   },
   "outputs": [
    {
     "name": "stdout",
     "output_type": "stream",
     "text": [
      "Epoch 1/15\n",
      "4255/4255 [==============================] - 158s 37ms/step - loss: 1.6636 - accuracy: 0.2817\n",
      "Epoch 2/15\n",
      "4255/4255 [==============================] - 157s 37ms/step - loss: 1.5417 - accuracy: 0.3807\n",
      "Epoch 3/15\n",
      "4255/4255 [==============================] - 161s 38ms/step - loss: 1.3712 - accuracy: 0.4876\n",
      "Epoch 4/15\n",
      "4255/4255 [==============================] - 162s 38ms/step - loss: 1.1944 - accuracy: 0.5696\n",
      "Epoch 5/15\n",
      "4255/4255 [==============================] - 158s 37ms/step - loss: 1.0417 - accuracy: 0.6315\n",
      "Epoch 6/15\n",
      "4255/4255 [==============================] - 159s 37ms/step - loss: 0.9181 - accuracy: 0.6777\n",
      "Epoch 7/15\n",
      "4255/4255 [==============================] - 157s 37ms/step - loss: 0.8207 - accuracy: 0.7124\n",
      "Epoch 8/15\n",
      "4255/4255 [==============================] - 157s 37ms/step - loss: 0.7446 - accuracy: 0.7391\n",
      "Epoch 9/15\n",
      "4255/4255 [==============================] - 157s 37ms/step - loss: 0.6849 - accuracy: 0.7594\n",
      "Epoch 10/15\n",
      "4255/4255 [==============================] - 157s 37ms/step - loss: 0.6375 - accuracy: 0.7753\n",
      "Epoch 11/15\n",
      "4255/4255 [==============================] - 187s 44ms/step - loss: 0.5991 - accuracy: 0.7880\n",
      "Epoch 12/15\n",
      "4255/4255 [==============================] - 180s 42ms/step - loss: 0.5676 - accuracy: 0.7983\n",
      "Epoch 13/15\n",
      "4255/4255 [==============================] - 158s 37ms/step - loss: 0.5413 - accuracy: 0.8068\n",
      "Epoch 14/15\n",
      "4255/4255 [==============================] - 158s 37ms/step - loss: 0.5191 - accuracy: 0.8139\n",
      "Epoch 15/15\n",
      "4255/4255 [==============================] - 158s 37ms/step - loss: 0.5001 - accuracy: 0.8200\n"
     ]
    }
   ],
   "source": [
    "history = word2vec.fit(dataset, epochs=15, callbacks=[tensorboard_callback])"
   ]
  },
  {
   "cell_type": "code",
   "execution_count": 108,
   "id": "188152c3",
   "metadata": {
    "scrolled": true
   },
   "outputs": [
    {
     "data": {
      "text/plain": [
       "Text(0, 0.5, 'loss')"
      ]
     },
     "execution_count": 108,
     "metadata": {},
     "output_type": "execute_result"
    },
    {
     "data": {
      "image/png": "[encoded data removed]",
      "text/plain": [
       "<Figure size 432x288 with 1 Axes>"
      ]
     },
     "metadata": {
      "needs_background": "light"
     },
     "output_type": "display_data"
    }
   ],
   "source": [
    "import matplotlib.pyplot as plt\n",
    "y = history.history['loss']\n",
    "x = [i+1 for i in range(0,len(y))]\n",
    "plt.plot(x,y)\n",
    "plt.xlabel('epochs')\n",
    "plt.ylabel('loss')"
   ]
  },
  {
   "cell_type": "markdown",
   "id": "d4cb1ea3",
   "metadata": {},
   "source": [
    "## Writing vectors to file"
   ]
  },
  {
   "cell_type": "code",
   "execution_count": 109,
   "id": "fac836ce",
   "metadata": {},
   "outputs": [],
   "source": [
    "weights = word2vec.get_layer('w2v_embedding').get_weights()[0]\n",
    "vocab = vectorize_layer.get_vocabulary()"
   ]
  },
  {
   "cell_type": "code",
   "execution_count": 110,
   "id": "c5568f7c",
   "metadata": {},
   "outputs": [],
   "source": [
    "out_v = io.open('./data/vectors1.tsv', 'w')\n",
    "out_m = io.open('./data/metadata1.tsv', 'w')\n",
    "\n",
    "for index, word in enumerate(vocab):\n",
    "    if index == 0:\n",
    "        continue  # skip 0, it's padding.\n",
    "    vec = weights[index]\n",
    "    out_v.write('\\t'.join([str(x) for x in vec]) + \"\\n\")\n",
    "    out_m.write(word + \"\\n\")\n",
    "out_v.close()\n",
    "out_m.close()"
   ]
  },
  {
   "cell_type": "markdown",
   "id": "632f7c0b",
   "metadata": {},
   "source": [
    "# GRU model"
   ]
  },
  {
   "cell_type": "code",
   "execution_count": 111,
   "id": "52cb7422",
   "metadata": {},
   "outputs": [],
   "source": [
    "def read_tsv(path):\n",
    "    result = []\n",
    "    file = open(path,'r')\n",
    "    while (True):\n",
    "        line = file.readline()\n",
    "        if not line:\n",
    "            break\n",
    "        result.append([float(value) for value in line.split()])\n",
    "        \n",
    "    file.close()\n",
    "    return result"
   ]
  },
  {
   "cell_type": "code",
   "execution_count": 112,
   "id": "fc7b6cf7",
   "metadata": {},
   "outputs": [
    {
     "name": "stderr",
     "output_type": "stream",
     "text": [
      "2022-11-03 21:17:13.539047: W tensorflow/core/kernels/data/cache_dataset_ops.cc:856] The calling iterator did not fully read the dataset being cached. In order to avoid unexpected truncation of the dataset, the partially cached contents of the dataset  will be discarded. This can happen if you have an input pipeline similar to `dataset.cache().take(k).repeat()`. You should use `dataset.take(k).cache().repeat()` instead.\n",
      "2022-11-03 21:17:13.542948: W tensorflow/core/kernels/data/cache_dataset_ops.cc:856] The calling iterator did not fully read the dataset being cached. In order to avoid unexpected truncation of the dataset, the partially cached contents of the dataset  will be discarded. This can happen if you have an input pipeline similar to `dataset.cache().take(k).repeat()`. You should use `dataset.take(k).cache().repeat()` instead.\n",
      "2022-11-03 21:17:13.553089: W tensorflow/core/kernels/data/cache_dataset_ops.cc:856] The calling iterator did not fully read the dataset being cached. In order to avoid unexpected truncation of the dataset, the partially cached contents of the dataset  will be discarded. This can happen if you have an input pipeline similar to `dataset.cache().take(k).repeat()`. You should use `dataset.take(k).cache().repeat()` instead.\n",
      "2022-11-03 21:17:13.562783: W tensorflow/core/kernels/data/cache_dataset_ops.cc:856] The calling iterator did not fully read the dataset being cached. In order to avoid unexpected truncation of the dataset, the partially cached contents of the dataset  will be discarded. This can happen if you have an input pipeline similar to `dataset.cache().take(k).repeat()`. You should use `dataset.take(k).cache().repeat()` instead.\n"
     ]
    }
   ],
   "source": [
    "vectors = read_tsv('./data/vectors1.tsv')"
   ]
  },
  {
   "cell_type": "code",
   "execution_count": 113,
   "id": "4182c421",
   "metadata": {},
   "outputs": [],
   "source": [
    "def read_meta(path):\n",
    "    result = []\n",
    "    file = open(path,'r')\n",
    "    while (True):\n",
    "        line = file.readline()\n",
    "        if not line:\n",
    "            break\n",
    "            \n",
    "        result.append(line.strip())\n",
    "    file.close()\n",
    "    return result"
   ]
  },
  {
   "cell_type": "code",
   "execution_count": 114,
   "id": "76ee5548",
   "metadata": {
    "scrolled": true
   },
   "outputs": [],
   "source": [
    "classes = read_meta('./data/metadata1.tsv')"
   ]
  },
  {
   "cell_type": "code",
   "execution_count": 115,
   "id": "09a157dc",
   "metadata": {
    "scrolled": true
   },
   "outputs": [
    {
     "data": {
      "text/plain": [
       "53610"
      ]
     },
     "execution_count": 115,
     "metadata": {},
     "output_type": "execute_result"
    }
   ],
   "source": [
    "len(classes)"
   ]
  },
  {
   "cell_type": "markdown",
   "id": "8150b508",
   "metadata": {},
   "source": [
    "## Preprocessing for GRU: one hot encoding the labels"
   ]
  },
  {
   "cell_type": "code",
   "execution_count": 116,
   "id": "f59f854e",
   "metadata": {
    "scrolled": false
   },
   "outputs": [
    {
     "name": "stdout",
     "output_type": "stream",
     "text": [
      "Unique labels:\n",
      "0) empty\n",
      "1) sadness\n",
      "2) enthusiasm\n",
      "3) neutral\n",
      "4) worry\n",
      "5) surprise\n",
      "6) love\n",
      "7) fun\n",
      "8) hate\n",
      "9) happiness\n",
      "10) boredom\n",
      "11) relief\n",
      "12) anger\n"
     ]
    }
   ],
   "source": [
    "print('Unique labels:')\n",
    "for i, label in enumerate(cleaned_df['sentiment'].unique()):\n",
    "    print('{}) {}'.format(i,label)) "
   ]
  },
  {
   "cell_type": "code",
   "execution_count": 117,
   "id": "1f0ffb28",
   "metadata": {
    "scrolled": true
   },
   "outputs": [
    {
     "data": {
      "text/plain": [
       "13"
      ]
     },
     "execution_count": 117,
     "metadata": {},
     "output_type": "execute_result"
    }
   ],
   "source": [
    "cleaned_df['sentiment'].nunique()"
   ]
  },
  {
   "cell_type": "markdown",
   "id": "966e0625",
   "metadata": {},
   "source": [
    "# Build a one hot vector each of size 13 for sentiments as labels"
   ]
  },
  {
   "cell_type": "markdown",
   "id": "db7034d0",
   "metadata": {},
   "source": [
    "### build a map for the labels to the indices"
   ]
  },
  {
   "cell_type": "code",
   "execution_count": 118,
   "id": "24674dd3",
   "metadata": {},
   "outputs": [],
   "source": [
    "# map labels -> indices\n",
    "sentiment_labels = cleaned_df['sentiment'].unique().copy()\n",
    "\n",
    "# index key -> class\n",
    "label_map = {}\n",
    "\n",
    "#class -> index key\n",
    "inverse_label_map = {}\n",
    "for i, label in enumerate(sentiment_labels):\n",
    "    label_map[i] = label \n",
    "    inverse_label_map[label] = i"
   ]
  },
  {
   "cell_type": "code",
   "execution_count": 119,
   "id": "080fa0b1",
   "metadata": {
    "scrolled": true
   },
   "outputs": [],
   "source": [
    "# get all keys\n",
    "indices = []\n",
    "for key,value in label_map.items():\n",
    "    indices.append(key)"
   ]
  },
  {
   "cell_type": "markdown",
   "id": "168c2016",
   "metadata": {},
   "source": [
    "### Generates one-hot vector for labels"
   ]
  },
  {
   "cell_type": "code",
   "execution_count": 120,
   "id": "f5467ddd",
   "metadata": {},
   "outputs": [],
   "source": [
    "# maps the word to the one hot vector\n",
    "depth = len(indices)\n",
    "one_hot_encoding = tf.one_hot(indices,depth)"
   ]
  },
  {
   "cell_type": "code",
   "execution_count": 121,
   "id": "d31c9844",
   "metadata": {
    "scrolled": false
   },
   "outputs": [
    {
     "data": {
      "text/plain": [
       "<tf.Tensor: shape=(13, 13), dtype=float32, numpy=\n",
       "array([[1., 0., 0., 0., 0., 0., 0., 0., 0., 0., 0., 0., 0.],\n",
       "       [0., 1., 0., 0., 0., 0., 0., 0., 0., 0., 0., 0., 0.],\n",
       "       [0., 0., 1., 0., 0., 0., 0., 0., 0., 0., 0., 0., 0.],\n",
       "       [0., 0., 0., 1., 0., 0., 0., 0., 0., 0., 0., 0., 0.],\n",
       "       [0., 0., 0., 0., 1., 0., 0., 0., 0., 0., 0., 0., 0.],\n",
       "       [0., 0., 0., 0., 0., 1., 0., 0., 0., 0., 0., 0., 0.],\n",
       "       [0., 0., 0., 0., 0., 0., 1., 0., 0., 0., 0., 0., 0.],\n",
       "       [0., 0., 0., 0., 0., 0., 0., 1., 0., 0., 0., 0., 0.],\n",
       "       [0., 0., 0., 0., 0., 0., 0., 0., 1., 0., 0., 0., 0.],\n",
       "       [0., 0., 0., 0., 0., 0., 0., 0., 0., 1., 0., 0., 0.],\n",
       "       [0., 0., 0., 0., 0., 0., 0., 0., 0., 0., 1., 0., 0.],\n",
       "       [0., 0., 0., 0., 0., 0., 0., 0., 0., 0., 0., 1., 0.],\n",
       "       [0., 0., 0., 0., 0., 0., 0., 0., 0., 0., 0., 0., 1.]],\n",
       "      dtype=float32)>"
      ]
     },
     "execution_count": 121,
     "metadata": {},
     "output_type": "execute_result"
    }
   ],
   "source": [
    "one_hot_encoding"
   ]
  },
  {
   "cell_type": "code",
   "execution_count": 122,
   "id": "b1d9fe7d",
   "metadata": {},
   "outputs": [
    {
     "data": {
      "text/plain": [
       "TensorShape([13, 13])"
      ]
     },
     "execution_count": 122,
     "metadata": {},
     "output_type": "execute_result"
    }
   ],
   "source": [
    "one_hot_encoding.shape"
   ]
  },
  {
   "cell_type": "markdown",
   "id": "d06199e6",
   "metadata": {},
   "source": [
    "Map the one hot encodings to the labels in the dataframe"
   ]
  },
  {
   "cell_type": "code",
   "execution_count": 123,
   "id": "263b5a55",
   "metadata": {},
   "outputs": [
    {
     "data": {
      "text/plain": [
       "array(['empty', 'sadness', 'sadness', ..., 'love', 'happiness', 'love'],\n",
       "      dtype=object)"
      ]
     },
     "execution_count": 123,
     "metadata": {},
     "output_type": "execute_result"
    }
   ],
   "source": [
    "cleaned_df['sentiment'].values"
   ]
  },
  {
   "cell_type": "code",
   "execution_count": 124,
   "id": "79f4929f",
   "metadata": {},
   "outputs": [
    {
     "name": "stderr",
     "output_type": "stream",
     "text": [
      "100%|███████████████████████████████████████████████████████████████████████████████████████████████████████████████████████████| 40000/40000 [00:04<00:00, 8911.85it/s]\n"
     ]
    }
   ],
   "source": [
    "labels=[]\n",
    "for sentiment in tqdm.tqdm(cleaned_df['sentiment'].values):\n",
    "    o_h = one_hot_encoding[inverse_label_map[sentiment]]\n",
    "    labels.append(o_h)\n",
    "\n",
    "labels = np.asarray(labels)"
   ]
  },
  {
   "cell_type": "code",
   "execution_count": 125,
   "id": "54762954",
   "metadata": {},
   "outputs": [
    {
     "data": {
      "text/plain": [
       "(40000, 13)"
      ]
     },
     "execution_count": 125,
     "metadata": {},
     "output_type": "execute_result"
    }
   ],
   "source": [
    "labels.shape"
   ]
  },
  {
   "cell_type": "markdown",
   "id": "a518cb90",
   "metadata": {},
   "source": [
    "Getting embeddings using Word2Vec. Word2vec has 2 algorithms, \n",
    "1. Continuous Bag of words\n",
    "    - word is predicted from context \"__ my name is Kevin\"\n",
    "2. Skip Gram\n",
    "    - context is predicted from target \"Hi __ __ __ __\""
   ]
  },
  {
   "cell_type": "markdown",
   "id": "3b9f7269",
   "metadata": {},
   "source": [
    "## Convert Content to tokenized vectors"
   ]
  },
  {
   "cell_type": "code",
   "execution_count": 126,
   "id": "89e4727d",
   "metadata": {},
   "outputs": [
    {
     "name": "stdout",
     "output_type": "stream",
     "text": [
      "Found 53610 unique tokens\n",
      "labels: [[1. 0. 0. ... 0. 0. 0.]\n",
      " [0. 1. 0. ... 0. 0. 0.]\n",
      " [0. 1. 0. ... 0. 0. 0.]\n",
      " ...\n",
      " [0. 0. 0. ... 0. 0. 0.]\n",
      " [0. 0. 0. ... 0. 0. 0.]\n",
      " [0. 0. 0. ... 0. 0. 0.]]\n"
     ]
    }
   ],
   "source": [
    "content_lines = list(cleaned_df['content'])\n",
    "tokeniser_obj = Tokenizer()\n",
    "tokeniser_obj.fit_on_texts(content_lines)\n",
    "sequences = tokeniser_obj.texts_to_sequences(content_lines)\n",
    "\n",
    "# pad sequences\n",
    "word_index = tokeniser_obj.word_index\n",
    "print('Found {} unique tokens'.format(len(word_index)))\n",
    "\n",
    "max_length = max_sentence_len\n",
    "content_pad = pad_sequences(sequences,maxlen=max_length)\n",
    "print(\"labels: {}\".format(labels))"
   ]
  },
  {
   "cell_type": "code",
   "execution_count": 127,
   "id": "b31f7773",
   "metadata": {
    "scrolled": true
   },
   "outputs": [
    {
     "name": "stdout",
     "output_type": "stream",
     "text": [
      "shape of content tensor: (40000, 33)\n",
      "shape of sentiment tensor: (40000, 13)\n"
     ]
    }
   ],
   "source": [
    "print(\"shape of content tensor: {}\".format(content_pad.shape))\n",
    "print(\"shape of sentiment tensor: {}\".format(labels.shape))"
   ]
  },
  {
   "cell_type": "markdown",
   "id": "8b5a865e",
   "metadata": {},
   "source": [
    "## Map embeddings from word2vec model for each word to the sequences (sentences) by creating a matrix"
   ]
  },
  {
   "cell_type": "markdown",
   "id": "70488474",
   "metadata": {},
   "source": [
    "Map the embeddings to each word of the sentence"
   ]
  },
  {
   "cell_type": "code",
   "execution_count": 129,
   "id": "88f878f5",
   "metadata": {},
   "outputs": [],
   "source": [
    "# make an inverse index of the classes name -> index\n",
    "word_vector_map = {}\n",
    "for index,word in enumerate(classes):\n",
    "    word_vector_map[word] = vectors[index]"
   ]
  },
  {
   "cell_type": "code",
   "execution_count": 130,
   "id": "442fd199",
   "metadata": {},
   "outputs": [],
   "source": [
    "EMBEDDING_DIM=50\n",
    "num_words = len(word_index) + 1\n",
    "embedding_matrix = np.zeros((num_words,EMBEDDING_DIM))"
   ]
  },
  {
   "cell_type": "code",
   "execution_count": 131,
   "id": "d6f0f15b",
   "metadata": {},
   "outputs": [
    {
     "data": {
      "text/plain": [
       "(53611, 50)"
      ]
     },
     "execution_count": 131,
     "metadata": {},
     "output_type": "execute_result"
    }
   ],
   "source": [
    "embedding_matrix.shape"
   ]
  },
  {
   "cell_type": "code",
   "execution_count": 135,
   "id": "de7751be",
   "metadata": {
    "scrolled": true
   },
   "outputs": [
    {
     "name": "stdout",
     "output_type": "stream",
     "text": [
      "00\n",
      "number of words successfully mapped to vectors: 53609/53611\n"
     ]
    }
   ],
   "source": [
    "count = 0\n",
    "for word,i in word_index.items():\n",
    "    if i> num_words:\n",
    "        continue\n",
    "    embedding_vector = word_vector_map.get(word)\n",
    "    if(embedding_vector is not None):\n",
    "        # if embedding vector is not found, \n",
    "        embedding_matrix[i] = embedding_vector\n",
    "        count+=1\n",
    "    else:\n",
    "        print(word)\n",
    "print(\"number of words successfully mapped to vectors: {}/{}\".format(count,vocab_size))"
   ]
  },
  {
   "cell_type": "markdown",
   "id": "1156385b",
   "metadata": {},
   "source": [
    "# Model of GRU"
   ]
  },
  {
   "cell_type": "markdown",
   "id": "8ddbbe53",
   "metadata": {},
   "source": [
    "x (no_sequences,embeddings in a sequence=32,)"
   ]
  },
  {
   "cell_type": "code",
   "execution_count": 136,
   "id": "cbc58f92",
   "metadata": {},
   "outputs": [],
   "source": [
    "# callback to save the best weights for the model\n",
    "def saveWeightsCallback(path,monitor,mode,save_freq):\n",
    "    return tf.keras.callbacks.ModelCheckpoint(\n",
    "        filepath=path,\n",
    "        monitor = monitor,\n",
    "        verbose = 1,\n",
    "        save_best_only = True,\n",
    "        save_weights_only = True,\n",
    "        mode = mode,\n",
    "        save_freq=save_freq,\n",
    ")"
   ]
  },
  {
   "cell_type": "code",
   "execution_count": 137,
   "id": "f33f3875",
   "metadata": {},
   "outputs": [],
   "source": [
    "from keras.initializers import Constant\n",
    "\n",
    "def build_model(vocab_size,embedding_dim,max_length):\n",
    "    model = keras.models.Sequential()\n",
    "    model.add(layers.Embedding(num_words,\n",
    "                               EMBEDDING_DIM,\n",
    "                               weights=[embedding_matrix],\n",
    "                               input_length = max_length,\n",
    "                              trainable=False))\n",
    "    model.add(layers.GRU(128,return_sequences=True))\n",
    "    model.add(layers.GRU(128,return_sequences=True))\n",
    "    model.add(layers.GRU(128)) \n",
    "    model.add(layers.Dense(13,activation='softmax'))\n",
    "    model.summary()\n",
    "    return model"
   ]
  },
  {
   "cell_type": "code",
   "execution_count": 138,
   "id": "e54e8091",
   "metadata": {},
   "outputs": [
    {
     "name": "stdout",
     "output_type": "stream",
     "text": [
      "Model: \"sequential_1\"\n",
      "_________________________________________________________________\n",
      " Layer (type)                Output Shape              Param #   \n",
      "=================================================================\n",
      " embedding_7 (Embedding)     (None, 33, 50)            2680550   \n",
      "                                                                 \n",
      " gru_3 (GRU)                 (None, 33, 128)           69120     \n",
      "                                                                 \n",
      " gru_4 (GRU)                 (None, 33, 128)           99072     \n",
      "                                                                 \n",
      " gru_5 (GRU)                 (None, 128)               99072     \n",
      "                                                                 \n",
      " dense_1 (Dense)             (None, 13)                1677      \n",
      "                                                                 \n",
      "=================================================================\n",
      "Total params: 2,949,491\n",
      "Trainable params: 268,941\n",
      "Non-trainable params: 2,680,550\n",
      "_________________________________________________________________\n",
      "Model: \"sequential_1\"\n",
      "_________________________________________________________________\n",
      " Layer (type)                Output Shape              Param #   \n",
      "=================================================================\n",
      " embedding_7 (Embedding)     (None, 33, 50)            2680550   \n",
      "                                                                 \n",
      " gru_3 (GRU)                 (None, 33, 128)           69120     \n",
      "                                                                 \n",
      " gru_4 (GRU)                 (None, 33, 128)           99072     \n",
      "                                                                 \n",
      " gru_5 (GRU)                 (None, 128)               99072     \n",
      "                                                                 \n",
      " dense_1 (Dense)             (None, 13)                1677      \n",
      "                                                                 \n",
      "=================================================================\n",
      "Total params: 2,949,491\n",
      "Trainable params: 268,941\n",
      "Non-trainable params: 2,680,550\n",
      "_________________________________________________________________\n"
     ]
    }
   ],
   "source": [
    "GRU_model = build_model(vocab_size,EMBEDDING_DIM,max_length)\n",
    "\n",
    "GRU_model.compile(\n",
    "    optimizer= Adam(learning_rate=0.0001),\n",
    "    loss='categorical_crossentropy',\n",
    "    metrics=[\n",
    "        'accuracy',\n",
    "    ]\n",
    ")\n",
    "\n",
    "GRU_model.summary()"
   ]
  },
  {
   "cell_type": "code",
   "execution_count": 139,
   "id": "3dec5516",
   "metadata": {},
   "outputs": [],
   "source": [
    "VALIDATION_SPLIT = 0.3\n",
    "\n",
    "indices = np.arange(content_pad.shape[0])\n",
    "np.random.shuffle(indices)\n",
    "\n",
    "content_pad = content_pad[indices]\n",
    "labels = labels[indices]\n",
    "num_validation_samples = int(VALIDATION_SPLIT * content_pad.shape[0])\n",
    "\n",
    "X_train_pad = content_pad[:-num_validation_samples]\n",
    "y_train = labels[:-num_validation_samples]\n",
    "X_test_pad = content_pad[-num_validation_samples:]\n",
    "y_test = labels[-num_validation_samples:]"
   ]
  },
  {
   "cell_type": "code",
   "execution_count": 141,
   "id": "3fdd92bf",
   "metadata": {},
   "outputs": [
    {
     "name": "stdout",
     "output_type": "stream",
     "text": [
      "Epoch 1/20\n",
      "875/875 - 58s - loss: 2.0097 - accuracy: 0.3022 - val_loss: 2.0361 - val_accuracy: 0.3013 - 58s/epoch - 66ms/step\n",
      "Epoch 2/20\n",
      "875/875 - 62s - loss: 1.9980 - accuracy: 0.3060 - val_loss: 2.0223 - val_accuracy: 0.3061 - 62s/epoch - 70ms/step\n",
      "Epoch 3/20\n",
      "875/875 - 67s - loss: 1.9911 - accuracy: 0.3101 - val_loss: 2.0178 - val_accuracy: 0.3073 - 67s/epoch - 76ms/step\n",
      "Epoch 4/20\n",
      "875/875 - 59s - loss: 1.9858 - accuracy: 0.3125 - val_loss: 2.0158 - val_accuracy: 0.3087 - 59s/epoch - 67ms/step\n",
      "Epoch 5/20\n",
      "875/875 - 59s - loss: 1.9791 - accuracy: 0.3118 - val_loss: 2.0161 - val_accuracy: 0.3085 - 59s/epoch - 67ms/step\n",
      "Epoch 6/20\n",
      "875/875 - 59s - loss: 1.9746 - accuracy: 0.3171 - val_loss: 2.0098 - val_accuracy: 0.3085 - 59s/epoch - 67ms/step\n",
      "Epoch 7/20\n",
      "875/875 - 59s - loss: 1.9691 - accuracy: 0.3189 - val_loss: 2.0108 - val_accuracy: 0.3090 - 59s/epoch - 67ms/step\n",
      "Epoch 8/20\n",
      "875/875 - 59s - loss: 1.9639 - accuracy: 0.3195 - val_loss: 2.0085 - val_accuracy: 0.3056 - 59s/epoch - 67ms/step\n",
      "Epoch 9/20\n",
      "875/875 - 59s - loss: 1.9600 - accuracy: 0.3209 - val_loss: 2.0052 - val_accuracy: 0.3126 - 59s/epoch - 67ms/step\n",
      "Epoch 10/20\n",
      "875/875 - 59s - loss: 1.9541 - accuracy: 0.3210 - val_loss: 2.0088 - val_accuracy: 0.3086 - 59s/epoch - 67ms/step\n",
      "Epoch 11/20\n",
      "875/875 - 59s - loss: 1.9496 - accuracy: 0.3239 - val_loss: 2.0078 - val_accuracy: 0.3095 - 59s/epoch - 67ms/step\n",
      "Epoch 12/20\n",
      "875/875 - 59s - loss: 1.9431 - accuracy: 0.3267 - val_loss: 2.0007 - val_accuracy: 0.3117 - 59s/epoch - 67ms/step\n",
      "Epoch 13/20\n",
      "875/875 - 59s - loss: 1.9392 - accuracy: 0.3264 - val_loss: 2.0006 - val_accuracy: 0.3106 - 59s/epoch - 67ms/step\n",
      "Epoch 14/20\n",
      "875/875 - 59s - loss: 1.9330 - accuracy: 0.3302 - val_loss: 2.0015 - val_accuracy: 0.3128 - 59s/epoch - 67ms/step\n",
      "Epoch 15/20\n",
      "875/875 - 59s - loss: 1.9266 - accuracy: 0.3301 - val_loss: 1.9989 - val_accuracy: 0.3119 - 59s/epoch - 67ms/step\n",
      "Epoch 16/20\n",
      "875/875 - 59s - loss: 1.9211 - accuracy: 0.3338 - val_loss: 1.9966 - val_accuracy: 0.3142 - 59s/epoch - 67ms/step\n",
      "Epoch 17/20\n",
      "875/875 - 59s - loss: 1.9141 - accuracy: 0.3356 - val_loss: 1.9931 - val_accuracy: 0.3142 - 59s/epoch - 67ms/step\n",
      "Epoch 18/20\n",
      "875/875 - 59s - loss: 1.9077 - accuracy: 0.3393 - val_loss: 1.9956 - val_accuracy: 0.3146 - 59s/epoch - 67ms/step\n",
      "Epoch 19/20\n",
      "875/875 - 59s - loss: 1.9008 - accuracy: 0.3408 - val_loss: 2.0023 - val_accuracy: 0.3100 - 59s/epoch - 67ms/step\n",
      "Epoch 20/20\n",
      "875/875 - 59s - loss: 1.8945 - accuracy: 0.3435 - val_loss: 1.9955 - val_accuracy: 0.3167 - 59s/epoch - 67ms/step\n"
     ]
    }
   ],
   "source": [
    "history = GRU_model.fit(X_train_pad,\n",
    "                        y_train,\n",
    "                        batch_size=32,\n",
    "                        epochs = 20,\n",
    "                        verbose=2,\n",
    "                        validation_data = (X_test_pad,y_test))\n",
    "\n",
    "callbacks = [EarlyStopping(monitor='val_loss', patience=3),\n",
    "                     saveWeightsCallback(\n",
    "                         path='./weights/GRU_word2vec',\n",
    "                         monitor = 'val_loss',\n",
    "                         mode = 'min',\n",
    "                         save_freq='epoch',\n",
    "                     )],\n",
    "         "
   ]
  },
  {
   "cell_type": "markdown",
   "id": "d1454ba6",
   "metadata": {},
   "source": [
    "# Plot loss and accuracy of GRU Model "
   ]
  },
  {
   "cell_type": "code",
   "execution_count": 143,
   "id": "0a828cd5",
   "metadata": {},
   "outputs": [
    {
     "data": {
      "text/plain": [
       "Text(0, 0.5, 'loss')"
      ]
     },
     "execution_count": 143,
     "metadata": {},
     "output_type": "execute_result"
    },
    {
     "data": {
      "image/png": "[encoded data removed]",
      "text/plain": [
       "<Figure size 432x288 with 1 Axes>"
      ]
     },
     "metadata": {
      "needs_background": "light"
     },
     "output_type": "display_data"
    }
   ],
   "source": [
    "y = history.history['val_accuracy']\n",
    "x = [i+1 for i in range(0,len(y))]\n",
    "plt.plot(x,y)\n",
    "plt.xlabel('epochs')\n",
    "plt.ylabel('loss')"
   ]
  },
  {
   "cell_type": "markdown",
   "id": "d14e8978",
   "metadata": {},
   "source": [
    "# implementing GRU without word2vec"
   ]
  },
  {
   "cell_type": "code",
   "execution_count": null,
   "id": "09305e78",
   "metadata": {},
   "outputs": [
    {
     "name": "stderr",
     "output_type": "stream",
     "text": [
      "2022-11-03 06:10:33.270883: W tensorflow/core/framework/cpu_allocator_impl.cc:82] Allocation of 6400000000 exceeds 10% of free system memory.\n"
     ]
    }
   ],
   "source": [
    "depth = len(indices)\n",
    "one_hot_encoding = tf.one_hot(indices,depth)"
   ]
  },
  {
   "cell_type": "code",
   "execution_count": null,
   "id": "e4d55d0c",
   "metadata": {},
   "outputs": [],
   "source": [
    "labels=[]\n",
    "for sentiment in tqdm.tqdm(cleaned_df['sentiment'].values):\n",
    "    o_h = one_hot_encoding[inverse_label_map[sentiment]]\n",
    "    labels.append(o_h)\n",
    "\n",
    "labels = np.asarray(labels)"
   ]
  },
  {
   "cell_type": "code",
   "execution_count": null,
   "id": "02b36b2e",
   "metadata": {},
   "outputs": [],
   "source": [
    "train_split = int(0.7*len(cleaned_df['content']))\n",
    "X_train = cleaned_df.loc[:train_split-1,'content']\n",
    "y_train = labels[:train_split]\n",
    "\n",
    "X_test = cleaned_df.loc[train_split:,'content']\n",
    "y_test = labels[train_split:]"
   ]
  },
  {
   "cell_type": "code",
   "execution_count": null,
   "id": "26e3a8b8",
   "metadata": {},
   "outputs": [],
   "source": [
    "tokeniser_obj = Tokenizer()\n",
    "total_contents = cleaned_df['content']\n",
    "tokeniser_obj.fit_on_texts(total_contents)\n",
    "\n",
    "#pad sequences\n",
    "max_length = max([len(s.split()) for s in total_contents])\n",
    "\n",
    "# define vocan size \n",
    "vocab_size = len(tokeniser_obj.word_index)+1\n",
    "\n",
    "X_train_tokens =  tokeniser_obj.texts_to_sequences(X_train)\n",
    "X_test_tokens =tokeniser_obj.texts_to_sequences(X_test)\n",
    "\n",
    "X_train_pad = pad_sequences(X_train_tokens,maxlen=max_length,padding='post')\n",
    "X_test_pad = pad_sequences(X_test_tokens,maxlen=max_length,padding='post')"
   ]
  },
  {
   "cell_type": "code",
   "execution_count": null,
   "id": "7d8eea81",
   "metadata": {},
   "outputs": [],
   "source": [
    "model = keras.models.Sequential()\n",
    "\n",
    "EMBEDDING_DIM = 100\n",
    "\n",
    "model.add(layers.Embedding(vocab_size,EMBEDDING_DIM,input_length=max_length))\n",
    "model.add(layers.GRU(units=32,dropout=0.2,recurrent_dropout=0.2))\n",
    "model.add(layers.Dense(13,activation='softmax'))\n",
    "\n",
    "model.compile(loss='categorical_crossentropy',optimizer='adam',metrics=['accuracy'])"
   ]
  },
  {
   "cell_type": "code",
   "execution_count": null,
   "id": "721b68a6",
   "metadata": {
    "scrolled": true
   },
   "outputs": [],
   "source": [
    "model.fit(X_train_pad,y_train,batch_size=128,epochs=28,validation_data=(X_test_pad,y_test),verbose=2)"
   ]
  }
 ],
 "metadata": {
  "kernelspec": {
   "display_name": "neuralNetworks",
   "language": "python",
   "name": "neuralnetworks"
  },
  "language_info": {
   "codemirror_mode": {
    "name": "ipython",
    "version": 3
   },
   "file_extension": ".py",
   "mimetype": "text/x-python",
   "name": "python",
   "nbconvert_exporter": "python",
   "pygments_lexer": "ipython3",
   "version": "3.10.4"
  }
 },
 "nbformat": 4,
 "nbformat_minor": 5
}
