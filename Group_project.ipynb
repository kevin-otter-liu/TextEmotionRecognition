{
 "cells": [
  {
   "cell_type": "code",
   "execution_count": 1,
   "id": "ce0b8b5f",
   "metadata": {},
   "outputs": [
    {
     "name": "stderr",
     "output_type": "stream",
     "text": [
      "2022-11-11 20:41:09.195829: W tensorflow/stream_executor/platform/default/dso_loader.cc:64] Could not load dynamic library 'libcudart.so.11.0'; dlerror: libcudart.so.11.0: cannot open shared object file: No such file or directory\n",
      "2022-11-11 20:41:09.195861: I tensorflow/stream_executor/cuda/cudart_stub.cc:29] Ignore above cudart dlerror if you do not have a GPU set up on your machine.\n",
      "2022-11-11 20:41:12.897886: I tensorflow/stream_executor/cuda/cuda_gpu_executor.cc:936] successful NUMA node read from SysFS had negative value (-1), but there must be at least one NUMA node, so returning NUMA node zero\n",
      "2022-11-11 20:41:12.898438: W tensorflow/stream_executor/platform/default/dso_loader.cc:64] Could not load dynamic library 'libcudart.so.11.0'; dlerror: libcudart.so.11.0: cannot open shared object file: No such file or directory\n",
      "2022-11-11 20:41:12.898498: W tensorflow/stream_executor/platform/default/dso_loader.cc:64] Could not load dynamic library 'libcublas.so.11'; dlerror: libcublas.so.11: cannot open shared object file: No such file or directory\n",
      "2022-11-11 20:41:12.898707: W tensorflow/stream_executor/platform/default/dso_loader.cc:64] Could not load dynamic library 'libcublasLt.so.11'; dlerror: libcublasLt.so.11: cannot open shared object file: No such file or directory\n",
      "2022-11-11 20:41:12.915451: W tensorflow/stream_executor/platform/default/dso_loader.cc:64] Could not load dynamic library 'libcusolver.so.11'; dlerror: libcusolver.so.11: cannot open shared object file: No such file or directory\n",
      "2022-11-11 20:41:12.915669: W tensorflow/stream_executor/platform/default/dso_loader.cc:64] Could not load dynamic library 'libcusparse.so.11'; dlerror: libcusparse.so.11: cannot open shared object file: No such file or directory\n",
      "2022-11-11 20:41:12.915869: W tensorflow/stream_executor/platform/default/dso_loader.cc:64] Could not load dynamic library 'libcudnn.so.8'; dlerror: libcudnn.so.8: cannot open shared object file: No such file or directory\n",
      "2022-11-11 20:41:12.915877: W tensorflow/core/common_runtime/gpu/gpu_device.cc:1850] Cannot dlopen some GPU libraries. Please make sure the missing libraries mentioned above are installed properly if you would like to use GPU. Follow the guide at https://www.tensorflow.org/install/gpu for how to download and setup the required libraries for your platform.\n",
      "Skipping registering GPU devices...\n"
     ]
    }
   ],
   "source": [
    "import pandas as pd\n",
    "import os\n",
    "import tensorflow as tf\n",
    "from tensorflow import keras\n",
    "from tensorflow.keras import layers\n",
    "from tensorflow.keras.optimizers import Adam\n",
    "from tensorflow.keras.callbacks import EarlyStopping,ModelCheckpoint\n",
    "from tensorflow.keras.preprocessing.text import Tokenizer\n",
    "from tensorflow.keras.preprocessing.sequence import pad_sequences\n",
    "\n",
    "\n",
    "import numpy as np\n",
    "import io\n",
    "import re\n",
    "import string\n",
    "import tqdm\n",
    "import nltk\n",
    "from nltk.stem.wordnet import WordNetLemmatizer \n",
    "from nltk.tokenize import word_tokenize\n",
    "import contractions\n",
    "\n",
    "import matplotlib.pyplot as plt\n",
    "\n",
    "import nlpaug.augmenter.word as naw\n",
    "physical_devices = tf.config.list_physical_devices('GPU')\n",
    "#tf.config.experimental.set_memory_growth(physical_devices[0],True)"
   ]
  },
  {
   "cell_type": "code",
   "execution_count": 2,
   "id": "27427c6e",
   "metadata": {},
   "outputs": [],
   "source": [
    "%load_ext tensorboard\n",
    "SEED = 42\n",
    "AUTOTUNE = tf.data.AUTOTUNE"
   ]
  },
  {
   "cell_type": "markdown",
   "id": "77377333",
   "metadata": {},
   "source": [
    "### We are using dataset from https://data.world/crowdflower/sentiment-analysis-in-text"
   ]
  },
  {
   "cell_type": "code",
   "execution_count": 3,
   "id": "7c9eaef1",
   "metadata": {},
   "outputs": [],
   "source": [
    "pd.set_option('display.max_colwidth', None)\n",
    "df = pd.read_csv(\"./data/text_emotion.csv\")"
   ]
  },
  {
   "cell_type": "code",
   "execution_count": 4,
   "id": "962c59a5",
   "metadata": {
    "scrolled": true
   },
   "outputs": [],
   "source": [
    "cleaned_df = df.copy()\n",
    "# lowercasing 'content' column\n",
    "cleaned_df['content'] = cleaned_df['content'].str.lower()\n",
    "\n",
    "# expanding contractions\n",
    "cleaned_df['content'] = cleaned_df['content'].apply(lambda sentence: contractions.fix(sentence))\n",
    "\n",
    "# remove anything http\n",
    "cleaned_df['content'] = cleaned_df['content'].apply(lambda sentence: \" \".join([re.sub('.*http.*','',word) for word in sentence.split()]))\n",
    "\n",
    "# removing all words with #hastag and @name and urls\n",
    "cleaned_df['content'] = cleaned_df['content'].apply(lambda sentence: \" \".join([re.sub('@.*','',word) for word in sentence.split()]))\n",
    "cleaned_df['content'] = cleaned_df['content'].apply(lambda sentence: \" \".join([re.sub('#.*','',word) for word in sentence.split()]))\n",
    "cleaned_df['content'] = cleaned_df['content'].apply(lambda sentence: \" \".join([re.sub('.*www\\..*','',word) for word in sentence.split()]))\n",
    "\n",
    "# removing words with digits like game57\n",
    "cleaned_df['content'] = cleaned_df['content'].apply(lambda sentence: re.sub('\\w*\\d+\\w*','',sentence))\n",
    "\n",
    "# removing all punctuation marks\n",
    "exclude = set(string.punctuation)\n",
    "regex = re.compile('[%s]' % re.escape(string.punctuation))\n",
    "cleaned_df['content'] = cleaned_df['content'].apply(lambda sentence: regex.sub(\"\",sentence))\n",
    "\n",
    "# removing unicode characters\n",
    "cleaned_df['content'] = cleaned_df['content'].apply(lambda sentence: sentence.encode(\"ascii\",\"ignore\").decode())\n",
    "\n",
    "# removing stopwords\n",
    "from nltk.corpus import stopwords\n",
    "\n",
    "stop_words = stopwords.words('english')\n",
    "cleaned_df['content'] = cleaned_df['content'].apply(lambda sentence: \" \".join([word for word in sentence.split() if word not in stop_words]))\n",
    "\n",
    "# lemmatization\n",
    "lemmatizer = WordNetLemmatizer()\n",
    "cleaned_df['content'] = cleaned_df['content'].apply(lambda sentence: \" \".join([lemmatizer.lemmatize(word) for word in sentence.split()]))\n",
    "\n",
    "# remove empty sentences\n",
    "cleaned_df= cleaned_df[cleaned_df['content'] != '']\n",
    "\n",
    "# dropping unecessary columns\n",
    "cleaned_df = cleaned_df.drop(columns=['tweet_id','author']).sample(frac=1).reset_index(drop=True)"
   ]
  },
  {
   "cell_type": "markdown",
   "id": "b3b8a23b",
   "metadata": {},
   "source": [
    "# Using word2vec skip-gram algorithm to get non-contextual word vectors"
   ]
  },
  {
   "cell_type": "markdown",
   "id": "a25c2419",
   "metadata": {},
   "source": [
    "### Finding the length of the maximum sentence, and vocab size in the dataset"
   ]
  },
  {
   "cell_type": "code",
   "execution_count": 5,
   "id": "2b5d269e",
   "metadata": {},
   "outputs": [
    {
     "name": "stdout",
     "output_type": "stream",
     "text": [
      "max sentence length of 'content' is 25\n",
      "total number of words of content is 269556\n",
      "total number of unique words/vocab_size of content is 31045\n"
     ]
    }
   ],
   "source": [
    "max_length = cleaned_df['content'].apply(lambda s: len(s.split())).max()\n",
    "no_of_words = cleaned_df['content'].apply(lambda content: len(content.split())).sum()\n",
    "\n",
    "\n",
    "# count vocab size\n",
    "cache=set()\n",
    "\n",
    "#counting padding and [unkownd] token\n",
    "vocab_size= 1\n",
    "for key,sentence in cleaned_df['content'].items():\n",
    "    words = sentence.split()\n",
    "    for word in words:\n",
    "        if(word not in cache):\n",
    "            vocab_size+=1\n",
    "            cache.add(word)\n",
    "            \n",
    "print(\"max sentence length of 'content' is {}\".format(max_length))\n",
    "print(\"total number of words of content is {}\".format(no_of_words))\n",
    "print(\"total number of unique words/vocab_size of content is {}\".format(vocab_size))"
   ]
  },
  {
   "cell_type": "markdown",
   "id": "bc3a918f",
   "metadata": {},
   "source": [
    "### function to generate training data"
   ]
  },
  {
   "cell_type": "code",
   "execution_count": 6,
   "id": "cbbea4b5",
   "metadata": {},
   "outputs": [],
   "source": [
    "def generate_training_data(sequences, window_size,num_ns,vocab_size,seed):\n",
    "    \n",
    "    # each training sentence is appended to these list\n",
    "    targets,contexts,labels = [],[],[]\n",
    "    \n",
    "    # sampling table for vocab_size tokens\n",
    "    sampling_table = tf.keras.preprocessing.sequence.make_sampling_table(vocab_size)\n",
    "    \n",
    "    # iterate over all sentences in dataset\n",
    "    for sequence in tqdm.tqdm(sequences):\n",
    "       \n",
    "\n",
    "        # generating positive skip-gram pairs for a sequence\n",
    "        positive_skip_grams,_ = tf.keras.preprocessing.sequence.skipgrams(\n",
    "            sequence,\n",
    "            vocabulary_size = vocab_size,\n",
    "            sampling_table=sampling_table,\n",
    "            window_size=window_size, # TODO: change window size\n",
    "            negative_samples=0\n",
    "        )\n",
    "        \n",
    "        # produce negative samples and create training samples (x_train,labels)\n",
    "        for target_word, context_word in positive_skip_grams:\n",
    "    \n",
    "    \n",
    "            # expand context word to frmo dim shape (1,0) to (1,1)\n",
    "            context_class = tf.expand_dims(\n",
    "                tf.constant([context_word],dtype='int64'),1)\n",
    "            negative_sampling_candidates, _, _ = tf.random.log_uniform_candidate_sampler(\n",
    "                true_classes=context_class, # to tell the which sample is positive\n",
    "                num_true=1,\n",
    "                num_sampled=num_ns,\n",
    "                unique=True,\n",
    "                range_max=vocab_size, #TODO: may need to change to just the negative samples of the sentence itself instead of the entire vocab\n",
    "                seed=seed,\n",
    "                name='negative_sampling')\n",
    "    \n",
    "    \n",
    "            # building the context and label vectors for a target word\n",
    "            context = tf.concat([tf.squeeze(context_class,1),negative_sampling_candidates],0)\n",
    "            label = tf.constant([1] + [0]*num_ns, dtype=\"int64\")\n",
    "    \n",
    "    \n",
    "            # append each element from the training ex to global lists\n",
    "            targets.append(target_word)\n",
    "            contexts.append(context)\n",
    "            labels.append(label)\n",
    "    \n",
    "    \n",
    "    return targets, contexts, labels \n",
    "            \n",
    "            "
   ]
  },
  {
   "cell_type": "markdown",
   "id": "8c31d13e",
   "metadata": {},
   "source": [
    "### Vectorizing all vocab found in cleaned_df"
   ]
  },
  {
   "cell_type": "code",
   "execution_count": 7,
   "id": "95e1dd72",
   "metadata": {},
   "outputs": [
    {
     "name": "stderr",
     "output_type": "stream",
     "text": [
      "2022-11-11 20:41:17.588772: I tensorflow/core/platform/cpu_feature_guard.cc:151] This TensorFlow binary is optimized with oneAPI Deep Neural Network Library (oneDNN) to use the following CPU instructions in performance-critical operations:  AVX2 FMA\n",
      "To enable them in other operations, rebuild TensorFlow with the appropriate compiler flags.\n"
     ]
    }
   ],
   "source": [
    "vectorize_layer = layers.TextVectorization(\n",
    "    max_tokens=vocab_size,\n",
    "    output_mode='int',\n",
    "    output_sequence_length=int(max_length))"
   ]
  },
  {
   "cell_type": "markdown",
   "id": "dc12f517",
   "metadata": {},
   "source": [
    "### replace vocab with their respective tokens:"
   ]
  },
  {
   "cell_type": "code",
   "execution_count": 8,
   "id": "4c754da3",
   "metadata": {},
   "outputs": [],
   "source": [
    "BATCH_SIZE = 64"
   ]
  },
  {
   "cell_type": "code",
   "execution_count": 9,
   "id": "9ddc275d",
   "metadata": {},
   "outputs": [],
   "source": [
    "# creating a dataset of all sentences\n",
    "text_ds = tf.data.Dataset.from_tensor_slices(cleaned_df['content'])\n",
    "vectorize_layer.adapt(text_ds.batch(BATCH_SIZE))"
   ]
  },
  {
   "cell_type": "markdown",
   "id": "0848a8ec",
   "metadata": {},
   "source": [
    "### build a inverse vocab which maps indexes -> words which can be handy"
   ]
  },
  {
   "cell_type": "code",
   "execution_count": 10,
   "id": "c48fa6fd",
   "metadata": {},
   "outputs": [],
   "source": [
    "inverse_vocab = vectorize_layer.get_vocabulary()"
   ]
  },
  {
   "cell_type": "code",
   "execution_count": 11,
   "id": "6cb083d9",
   "metadata": {},
   "outputs": [],
   "source": [
    "# Vectorize the data in text_ds.\n",
    "# prefetch does fetching of data and training at the same time using multiple thread\n",
    "# improving performance\n",
    "text_vector_ds = text_ds.batch(BATCH_SIZE).prefetch(AUTOTUNE).map(vectorize_layer).unbatch()"
   ]
  },
  {
   "cell_type": "markdown",
   "id": "6a8e4dd9",
   "metadata": {},
   "source": [
    "### As you can see we have successfully vectorised our sentences/sequences"
   ]
  },
  {
   "cell_type": "code",
   "execution_count": 12,
   "id": "d895a62f",
   "metadata": {
    "scrolled": true
   },
   "outputs": [
    {
     "name": "stdout",
     "output_type": "stream",
     "text": [
      "39746\n"
     ]
    }
   ],
   "source": [
    "sequences = list(text_vector_ds.as_numpy_iterator())\n",
    "print(len(sequences))"
   ]
  },
  {
   "cell_type": "markdown",
   "id": "97ade707",
   "metadata": {},
   "source": [
    "## Using unsupervised learning (word2Vec skip_gram) to predict context from targets. \n",
    ">While doing so, we are also training the weights on the embeddings. We can increase window size so that the embeddings learn more contextutal knowledge with respect to the words around them"
   ]
  },
  {
   "cell_type": "code",
   "execution_count": 13,
   "id": "2c9d9d9e",
   "metadata": {},
   "outputs": [
    {
     "name": "stdout",
     "output_type": "stream",
     "text": [
      "6.0\n",
      "6.7819654808031\n"
     ]
    }
   ],
   "source": [
    "# to determine window size, we see the median length of a sentence\n",
    "\n",
    "print(cleaned_df['content'].apply(lambda s: len(s.split())).median())\n",
    "print(cleaned_df['content'].apply(lambda s: len(s.split())).mean())"
   ]
  },
  {
   "cell_type": "markdown",
   "id": "fae7e802",
   "metadata": {},
   "source": [
    "### We go with window size of 2 since that the median length of a sentence is 6. we want to offer 4 slots some space for negative sampling"
   ]
  },
  {
   "cell_type": "code",
   "execution_count": null,
   "id": "050277ee",
   "metadata": {},
   "outputs": [],
   "source": [
    "# note higher window size is more computationally expensive\n",
    "# from documentation, it is said that for small datasets, negative samples of range 5to 20 yields the best results\n",
    "\n",
    "WINDOW_SIZE = 2\n",
    "num_ns = 4\n",
    "\n",
    "targets, contexts, labels = generate_training_data(\n",
    "    sequences=sequences,\n",
    "    window_size=WINDOW_SIZE,\n",
    "    num_ns=num_ns,\n",
    "    vocab_size=vocab_size,\n",
    "    seed=SEED)\n",
    "\n",
    "targets = np.array(targets)\n",
    "contexts = np.array(contexts)\n",
    "labels = np.array(labels)\n",
    "\n",
    "print('\\n')\n",
    "print(f\"targets.shape: {targets.shape}\")\n",
    "print(f\"contexts.shape: {contexts.shape}\")\n",
    "print(f\"labels.shape: {labels.shape}\")"
   ]
  },
  {
   "cell_type": "markdown",
   "id": "394b47e9",
   "metadata": {},
   "source": [
    "### Configuring training sets for Word2Vec model"
   ]
  },
  {
   "cell_type": "code",
   "execution_count": null,
   "id": "9447aafa",
   "metadata": {},
   "outputs": [],
   "source": [
    "# batching the dataset\n",
    "BUFFER_SIZE = 10000\n",
    "dataset = tf.data.Dataset.from_tensor_slices(((targets, contexts), labels))\n",
    "dataset = dataset.shuffle(BUFFER_SIZE).batch(BATCH_SIZE, drop_remainder=True)\n",
    "print(dataset)"
   ]
  },
  {
   "cell_type": "code",
   "execution_count": null,
   "id": "6e512360",
   "metadata": {},
   "outputs": [],
   "source": [
    "dataset = dataset.cache().prefetch(buffer_size=AUTOTUNE)\n",
    "print(dataset)"
   ]
  },
  {
   "cell_type": "code",
   "execution_count": null,
   "id": "4fd5de0d",
   "metadata": {},
   "outputs": [],
   "source": [
    "class Word2Vec(tf.keras.Model):\n",
    "    def __init__(self, vocab_size, embedding_dim):\n",
    "        super(Word2Vec, self).__init__()\n",
    "        self.target_embedding = layers.Embedding(vocab_size,\n",
    "              embedding_dim,\n",
    "              input_length=1,\n",
    "              name=\"w2v_embedding\")\n",
    "        self.context_embedding = layers.Embedding(vocab_size,\n",
    "               embedding_dim,\n",
    "               input_length=num_ns+1)\n",
    "\n",
    "    def call(self, pair):\n",
    "        target, context = pair\n",
    "        if len(target.shape) == 2:\n",
    "            target = tf.squeeze(target, axis=1)\n",
    "        word_emb = self.target_embedding(target)\n",
    "        context_emb = self.context_embedding(context)\n",
    "        dots = tf.einsum('be,bce->bc', word_emb, context_emb)\n",
    "        return dots"
   ]
  },
  {
   "cell_type": "code",
   "execution_count": null,
   "id": "604a26cc",
   "metadata": {},
   "outputs": [],
   "source": [
    "# embedding size for a word is chosen to be 50\n",
    "\n",
    "EMBEDDING_DIM = 50\n",
    "\n",
    "word2vec = Word2Vec(vocab_size, EMBEDDING_DIM)\n",
    "word2vec.compile(optimizer='adam',\n",
    "                 loss=tf.keras.losses.CategoricalCrossentropy(from_logits=True),\n",
    "                 metrics=['accuracy'])\n",
    "# call back to log training stats for TensorBoard\n",
    "tensorboard_callback = tf.keras.callbacks.TensorBoard(log_dir=\"logs\")"
   ]
  },
  {
   "cell_type": "code",
   "execution_count": null,
   "id": "b9e8350a",
   "metadata": {
    "scrolled": true
   },
   "outputs": [],
   "source": [
    "history = word2vec.fit(dataset, epochs=15, callbacks=[tensorboard_callback])"
   ]
  },
  {
   "cell_type": "code",
   "execution_count": null,
   "id": "37cb3968",
   "metadata": {},
   "outputs": [],
   "source": [
    "import matplotlib.pyplot as plt\n",
    "y = history.history['loss']\n",
    "x = [i+1 for i in range(0,len(y))]\n",
    "plt.plot(x,y)\n",
    "plt.xlabel('epochs')\n",
    "plt.ylabel('loss')"
   ]
  },
  {
   "cell_type": "markdown",
   "id": "7624fba0",
   "metadata": {},
   "source": [
    "### Writing vectors to file"
   ]
  },
  {
   "cell_type": "code",
   "execution_count": null,
   "id": "6a8a0355",
   "metadata": {},
   "outputs": [],
   "source": [
    "weights = word2vec.get_layer('w2v_embedding').get_weights()[0]\n",
    "vocab = vectorize_layer.get_vocabulary()"
   ]
  },
  {
   "cell_type": "code",
   "execution_count": null,
   "id": "94b2b202",
   "metadata": {},
   "outputs": [],
   "source": [
    "out_v = io.open('./data/custom_vectors.tsv', 'w')\n",
    "out_m = io.open('./data/custom_metadata.tsv', 'w')\n",
    "\n",
    "for index, word in enumerate(vocab):\n",
    "    if index == 0:\n",
    "        continue  # skip 0, it's padding.\n",
    "    vec = weights[index]\n",
    "    out_v.write('\\t'.join([str(x) for x in vec]) + \"\\n\")\n",
    "    out_m.write(word + \"\\n\")\n",
    "out_v.close()\n",
    "out_m.close()"
   ]
  },
  {
   "cell_type": "markdown",
   "id": "6b871502",
   "metadata": {},
   "source": [
    "### Reading vectors from Custom w2v:"
   ]
  },
  {
   "cell_type": "code",
   "execution_count": 15,
   "id": "3bfed005",
   "metadata": {},
   "outputs": [],
   "source": [
    "def read_custom_tsv(path):\n",
    "    result = []\n",
    "    file = open(path,'r')\n",
    "    while (True):\n",
    "        line = file.readline()\n",
    "        if not line:\n",
    "            break\n",
    "        result.append([float(value) for value in line.split()])\n",
    "        \n",
    "    file.close()\n",
    "    return result"
   ]
  },
  {
   "cell_type": "code",
   "execution_count": 16,
   "id": "df169b96",
   "metadata": {},
   "outputs": [],
   "source": [
    "def read_custom_meta(path):\n",
    "    result = []\n",
    "    file = open(path,'r')\n",
    "    while (True):\n",
    "        line = file.readline()\n",
    "        if not line:\n",
    "            break\n",
    "            \n",
    "        result.append(line.strip())\n",
    "    file.close()\n",
    "    return result"
   ]
  },
  {
   "cell_type": "code",
   "execution_count": 17,
   "id": "781717fd",
   "metadata": {},
   "outputs": [],
   "source": [
    "vectors = read_custom_tsv('./data/custom_vectors.tsv')\n",
    "classes = read_custom_meta('./data/custom_metadata.tsv')"
   ]
  },
  {
   "cell_type": "code",
   "execution_count": 18,
   "id": "1e892268",
   "metadata": {},
   "outputs": [],
   "source": [
    "# make an inverse index of the classes name -> index\n",
    "word_vector_map = {}\n",
    "for index,word in enumerate(classes):\n",
    "    word_vector_map[word] = vectors[index]"
   ]
  },
  {
   "cell_type": "markdown",
   "id": "7e19e84b",
   "metadata": {},
   "source": [
    "### Now we are done with getting the vectors for embedding layer ...\n",
    "---"
   ]
  },
  {
   "cell_type": "markdown",
   "id": "00fe4d06",
   "metadata": {},
   "source": [
    "# Visualising the data"
   ]
  },
  {
   "cell_type": "markdown",
   "id": "8f652f21",
   "metadata": {},
   "source": [
    "### Distribution of lengths of sentences"
   ]
  },
  {
   "cell_type": "code",
   "execution_count": 19,
   "id": "0a2bba39",
   "metadata": {},
   "outputs": [
    {
     "data": {
      "image/png": "[encoded data removed]",
      "text/plain": [
       "<Figure size 2000x500 with 1 Axes>"
      ]
     },
     "metadata": {},
     "output_type": "display_data"
    }
   ],
   "source": [
    "lengths = [len(sentence.split()) for sentence in cleaned_df['content']]\n",
    "plt.rcParams['figure.figsize'] = [20, 5]\n",
    "plt.hist(lengths,bins=len(set(lengths)))\n",
    "plt.xlabel('sentence length')\n",
    "plt.ylabel('number of sentences')\n",
    "\n",
    "plt.show()"
   ]
  },
  {
   "cell_type": "code",
   "execution_count": 20,
   "id": "629cd7a8",
   "metadata": {
    "scrolled": false
   },
   "outputs": [
    {
     "name": "stdout",
     "output_type": "stream",
     "text": [
      "Unique labels:\n",
      "0) fun\n",
      "1) sadness\n",
      "2) relief\n",
      "3) neutral\n",
      "4) worry\n",
      "5) love\n",
      "6) surprise\n",
      "7) happiness\n",
      "8) empty\n",
      "9) enthusiasm\n",
      "10) hate\n",
      "11) anger\n",
      "12) boredom\n"
     ]
    }
   ],
   "source": [
    "print('Unique labels:')\n",
    "for i, label in enumerate(cleaned_df['sentiment'].unique()):\n",
    "    print('{}) {}'.format(i,label)) "
   ]
  },
  {
   "cell_type": "markdown",
   "id": "6f3896c3",
   "metadata": {},
   "source": [
    "### distribution of sentiments"
   ]
  },
  {
   "cell_type": "code",
   "execution_count": 21,
   "id": "77ff9f0b",
   "metadata": {
    "scrolled": true
   },
   "outputs": [
    {
     "data": {
      "image/png": "[encoded data removed]",
      "text/plain": [
       "<Figure size 2000x500 with 1 Axes>"
      ]
     },
     "metadata": {},
     "output_type": "display_data"
    }
   ],
   "source": [
    "plt.rcParams['figure.figsize'] = [20, 5]\n",
    "x= list(dict(cleaned_df.sentiment.value_counts()).keys())\n",
    "y = list(cleaned_df.sentiment.value_counts())\n",
    "plt.bar(x,y)\n",
    "plt.show()"
   ]
  },
  {
   "cell_type": "code",
   "execution_count": 22,
   "id": "d9df2294",
   "metadata": {
    "scrolled": false
   },
   "outputs": [
    {
     "data": {
      "text/plain": [
       "neutral       8480\n",
       "worry         8429\n",
       "happiness     5202\n",
       "sadness       5156\n",
       "love          3836\n",
       "surprise      2176\n",
       "fun           1775\n",
       "relief        1523\n",
       "hate          1320\n",
       "empty          801\n",
       "enthusiasm     759\n",
       "boredom        179\n",
       "anger          110\n",
       "Name: sentiment, dtype: int64"
      ]
     },
     "execution_count": 22,
     "metadata": {},
     "output_type": "execute_result"
    }
   ],
   "source": [
    "cleaned_df['sentiment'].value_counts()"
   ]
  },
  {
   "cell_type": "markdown",
   "id": "e8487b8b",
   "metadata": {},
   "source": [
    "## To prevent long-tailed distribution problem. we duplicate data for each underrepresented sentiments to be equals to the number of the sentiment with the most number of data"
   ]
  },
  {
   "cell_type": "code",
   "execution_count": 23,
   "id": "86b806b3",
   "metadata": {},
   "outputs": [
    {
     "name": "stdout",
     "output_type": "stream",
     "text": [
      "The sentiment with the most number of data is neutral with 8480 data\n"
     ]
    }
   ],
   "source": [
    "sentiment_count = dict(cleaned_df['sentiment'].value_counts())\n",
    "\n",
    "# find the sentiment with the largest number of data in training setsentiment,count\n",
    "max_sentiment = [0,0]\n",
    "for sentiment,count in sentiment_count.items():\n",
    "    if(count > max_sentiment[1]):\n",
    "        max_sentiment[0] = sentiment\n",
    "        max_sentiment[1] = count\n",
    "print(\"The sentiment with the most number of data is {} with {} data\".format(max_sentiment[0],max_sentiment[1]))"
   ]
  },
  {
   "cell_type": "markdown",
   "id": "435e3012",
   "metadata": {},
   "source": [
    "### Duplicating sentences from lesser represented sentiments"
   ]
  },
  {
   "cell_type": "code",
   "execution_count": 24,
   "id": "d3d31414",
   "metadata": {},
   "outputs": [
    {
     "name": "stderr",
     "output_type": "stream",
     "text": [
      "100%|████████████████████████████████████████████████████████████████████████████████████████████████| 12/12 [00:00<00:00, 21.74it/s]\n"
     ]
    }
   ],
   "source": [
    "# We augment data until each sentiment has equal number of data as the sentiment with the largest amount of data\n",
    "benchmark_count = max_sentiment[1]\n",
    "\n",
    "# remove the sentiment with the largest amount of data as it need not be augmented\n",
    "sentiments_to_augment = [sentiment for sentiment in cleaned_df['sentiment'].unique() if sentiment!= max_sentiment[0]]\n",
    "\n",
    "augmented_df = {\n",
    "    \"content\":[],\n",
    "    \"sentiment\":[]\n",
    "}\n",
    "\n",
    "# duplicate data\n",
    "for i in tqdm.tqdm(range(len(sentiments_to_augment))):\n",
    "    sentiment = sentiments_to_augment[i]\n",
    "    current_no = sentiment_count[sentiment]\n",
    "    augment_no = benchmark_count -  current_no\n",
    "    data = cleaned_df[cleaned_df['sentiment'] == sentiment].reset_index(drop=True)\n",
    "    for i in range(augment_no):\n",
    "        content = data['content'].iloc[i % len(data)]\n",
    "        augmented_df['content'].append(content)\n",
    "        augmented_df['sentiment'].append(sentiment)"
   ]
  },
  {
   "cell_type": "code",
   "execution_count": 25,
   "id": "c925a912",
   "metadata": {
    "scrolled": true
   },
   "outputs": [],
   "source": [
    "cleaned_df = pd.concat([cleaned_df,pd.DataFrame(augmented_df)],ignore_index=True)"
   ]
  },
  {
   "cell_type": "markdown",
   "id": "449f11ad",
   "metadata": {},
   "source": [
    "### As we can see the distribution in the new dataset is now even"
   ]
  },
  {
   "cell_type": "code",
   "execution_count": 26,
   "id": "a0edb34a",
   "metadata": {},
   "outputs": [
    {
     "data": {
      "image/png": "[encoded data removed]",
      "text/plain": [
       "<Figure size 2000x500 with 1 Axes>"
      ]
     },
     "metadata": {},
     "output_type": "display_data"
    }
   ],
   "source": [
    "plt.rcParams['figure.figsize'] = [20, 5]\n",
    "x= list(dict(cleaned_df.sentiment.value_counts()).keys())\n",
    "y = list(cleaned_df.sentiment.value_counts())\n",
    "plt.bar(x,y)\n",
    "plt.show()"
   ]
  },
  {
   "cell_type": "code",
   "execution_count": 27,
   "id": "4ff36053",
   "metadata": {
    "scrolled": false
   },
   "outputs": [
    {
     "data": {
      "text/plain": [
       "fun           8480\n",
       "sadness       8480\n",
       "relief        8480\n",
       "neutral       8480\n",
       "worry         8480\n",
       "love          8480\n",
       "surprise      8480\n",
       "happiness     8480\n",
       "empty         8480\n",
       "enthusiasm    8480\n",
       "hate          8480\n",
       "anger         8480\n",
       "boredom       8480\n",
       "Name: sentiment, dtype: int64"
      ]
     },
     "execution_count": 27,
     "metadata": {},
     "output_type": "execute_result"
    }
   ],
   "source": [
    "cleaned_df['sentiment'].value_counts()"
   ]
  },
  {
   "cell_type": "code",
   "execution_count": 28,
   "id": "9b2bbba6",
   "metadata": {},
   "outputs": [],
   "source": [
    "# shuffle data\n",
    "cleaned_df = cleaned_df.sample(frac=1).reset_index(drop=True)"
   ]
  },
  {
   "cell_type": "markdown",
   "id": "de973f1b",
   "metadata": {},
   "source": [
    "# Converting 'content' column to sequences\n",
    "---"
   ]
  },
  {
   "cell_type": "code",
   "execution_count": 29,
   "id": "a35e1a82",
   "metadata": {
    "scrolled": false
   },
   "outputs": [
    {
     "name": "stdout",
     "output_type": "stream",
     "text": [
      "Found 31044 unique tokens\n"
     ]
    }
   ],
   "source": [
    "# Vectir dimension is 50\n",
    "EMBEDDING_DIM = 50\n",
    "\n",
    "# get all the content lines train and test\n",
    "content_lines = list(cleaned_df['content'])\n",
    "tokeniser_obj = Tokenizer()\n",
    "tokeniser_obj.fit_on_texts(content_lines)\n",
    "\n",
    "word_index = tokeniser_obj.word_index\n",
    "print('Found {} unique tokens'.format(len(word_index)))\n",
    "\n",
    "sequences = tokeniser_obj.texts_to_sequences(content_lines)\n",
    "\n",
    "# pad shorter sentence to fit max_length of sentence\n",
    "content_pad = pad_sequences(sequences,maxlen = max_length)"
   ]
  },
  {
   "cell_type": "code",
   "execution_count": 30,
   "id": "4fdda978",
   "metadata": {},
   "outputs": [],
   "source": [
    "# number of words has to +1 for the padding\n",
    "num_words = len(word_index) + 1\n",
    "embedding_matrix = np.zeros((num_words,EMBEDDING_DIM))"
   ]
  },
  {
   "cell_type": "code",
   "execution_count": 31,
   "id": "5b573ea1",
   "metadata": {},
   "outputs": [
    {
     "data": {
      "text/plain": [
       "(31045, 50)"
      ]
     },
     "execution_count": 31,
     "metadata": {},
     "output_type": "execute_result"
    }
   ],
   "source": [
    "embedding_matrix.shape"
   ]
  },
  {
   "cell_type": "markdown",
   "id": "ac60ff41",
   "metadata": {},
   "source": [
    "### Map embeddings to the embedding Matrix to feed into Models"
   ]
  },
  {
   "cell_type": "code",
   "execution_count": 32,
   "id": "2c7af163",
   "metadata": {},
   "outputs": [
    {
     "name": "stdout",
     "output_type": "stream",
     "text": [
      "number of words vectorised from w2v: 31043/31045\n"
     ]
    }
   ],
   "source": [
    "count_w2v = 0\n",
    "\n",
    "for word,i in word_index.items():\n",
    "\n",
    "    embedding_vector_w2v = word_vector_map.get(word)\n",
    "\n",
    "    if(embedding_vector_w2v is not None):\n",
    "        embedding_matrix[i] = embedding_vector_w2v\n",
    "        count_w2v+=1\n",
    "        continue\n",
    "        \n",
    "print(\"number of words vectorised from w2v: {}/{}\".format(count_w2v,num_words))"
   ]
  },
  {
   "cell_type": "markdown",
   "id": "4ead4e12",
   "metadata": {},
   "source": [
    "## One-hot encoding the indices"
   ]
  },
  {
   "cell_type": "code",
   "execution_count": 33,
   "id": "731cd43b",
   "metadata": {},
   "outputs": [],
   "source": [
    "# map labels -> indices\n",
    "sentiment_labels = cleaned_df['sentiment'].unique().copy()\n",
    "\n",
    "# index key -> class\n",
    "label_map = {}\n",
    "\n",
    "# class -> index key\n",
    "inverse_label_map = {}\n",
    "for i, label in enumerate(sentiment_labels):\n",
    "    label_map[i] = label \n",
    "    inverse_label_map[label] = i"
   ]
  },
  {
   "cell_type": "code",
   "execution_count": 34,
   "id": "3d9f14a2",
   "metadata": {},
   "outputs": [
    {
     "data": {
      "text/plain": [
       "[0, 1, 2, 3, 4, 5, 6, 7, 8, 9, 10, 11, 12]"
      ]
     },
     "execution_count": 34,
     "metadata": {},
     "output_type": "execute_result"
    }
   ],
   "source": [
    "# get all keys\n",
    "indices = list(label_map.keys())\n",
    "indices"
   ]
  },
  {
   "cell_type": "code",
   "execution_count": 35,
   "id": "7b572589",
   "metadata": {},
   "outputs": [],
   "source": [
    "# maps the word to the one hot vector\n",
    "depth = len(indices)\n",
    "one_hot_encoding = tf.one_hot(indices,depth)"
   ]
  },
  {
   "cell_type": "markdown",
   "id": "1ea34310",
   "metadata": {},
   "source": [
    "## map for indices to labels"
   ]
  },
  {
   "cell_type": "code",
   "execution_count": 36,
   "id": "b816903a",
   "metadata": {
    "scrolled": true
   },
   "outputs": [
    {
     "name": "stdout",
     "output_type": "stream",
     "text": [
      "[1. 0. 0. 0. 0. 0. 0. 0. 0. 0. 0. 0. 0.] --> boredom\n",
      "[0. 1. 0. 0. 0. 0. 0. 0. 0. 0. 0. 0. 0.] --> fun\n",
      "[0. 0. 1. 0. 0. 0. 0. 0. 0. 0. 0. 0. 0.] --> neutral\n",
      "[0. 0. 0. 1. 0. 0. 0. 0. 0. 0. 0. 0. 0.] --> relief\n",
      "[0. 0. 0. 0. 1. 0. 0. 0. 0. 0. 0. 0. 0.] --> anger\n",
      "[0. 0. 0. 0. 0. 1. 0. 0. 0. 0. 0. 0. 0.] --> enthusiasm\n",
      "[0. 0. 0. 0. 0. 0. 1. 0. 0. 0. 0. 0. 0.] --> surprise\n",
      "[0. 0. 0. 0. 0. 0. 0. 1. 0. 0. 0. 0. 0.] --> happiness\n",
      "[0. 0. 0. 0. 0. 0. 0. 0. 1. 0. 0. 0. 0.] --> sadness\n",
      "[0. 0. 0. 0. 0. 0. 0. 0. 0. 1. 0. 0. 0.] --> worry\n",
      "[0. 0. 0. 0. 0. 0. 0. 0. 0. 0. 1. 0. 0.] --> love\n",
      "[0. 0. 0. 0. 0. 0. 0. 0. 0. 0. 0. 1. 0.] --> hate\n",
      "[0. 0. 0. 0. 0. 0. 0. 0. 0. 0. 0. 0. 1.] --> empty\n"
     ]
    }
   ],
   "source": [
    "word_to_vec = {}    \n",
    "for i,oh in enumerate(one_hot_encoding):\n",
    "    print(\"{} --> {}\".format(oh,label_map[i]))\n",
    "    word_to_vec[label_map[i]] = oh.numpy()"
   ]
  },
  {
   "cell_type": "code",
   "execution_count": 37,
   "id": "6c78279c",
   "metadata": {
    "scrolled": true
   },
   "outputs": [
    {
     "data": {
      "text/plain": [
       "{'boredom': array([1., 0., 0., 0., 0., 0., 0., 0., 0., 0., 0., 0., 0.], dtype=float32),\n",
       " 'fun': array([0., 1., 0., 0., 0., 0., 0., 0., 0., 0., 0., 0., 0.], dtype=float32),\n",
       " 'neutral': array([0., 0., 1., 0., 0., 0., 0., 0., 0., 0., 0., 0., 0.], dtype=float32),\n",
       " 'relief': array([0., 0., 0., 1., 0., 0., 0., 0., 0., 0., 0., 0., 0.], dtype=float32),\n",
       " 'anger': array([0., 0., 0., 0., 1., 0., 0., 0., 0., 0., 0., 0., 0.], dtype=float32),\n",
       " 'enthusiasm': array([0., 0., 0., 0., 0., 1., 0., 0., 0., 0., 0., 0., 0.], dtype=float32),\n",
       " 'surprise': array([0., 0., 0., 0., 0., 0., 1., 0., 0., 0., 0., 0., 0.], dtype=float32),\n",
       " 'happiness': array([0., 0., 0., 0., 0., 0., 0., 1., 0., 0., 0., 0., 0.], dtype=float32),\n",
       " 'sadness': array([0., 0., 0., 0., 0., 0., 0., 0., 1., 0., 0., 0., 0.], dtype=float32),\n",
       " 'worry': array([0., 0., 0., 0., 0., 0., 0., 0., 0., 1., 0., 0., 0.], dtype=float32),\n",
       " 'love': array([0., 0., 0., 0., 0., 0., 0., 0., 0., 0., 1., 0., 0.], dtype=float32),\n",
       " 'hate': array([0., 0., 0., 0., 0., 0., 0., 0., 0., 0., 0., 1., 0.], dtype=float32),\n",
       " 'empty': array([0., 0., 0., 0., 0., 0., 0., 0., 0., 0., 0., 0., 1.], dtype=float32)}"
      ]
     },
     "execution_count": 37,
     "metadata": {},
     "output_type": "execute_result"
    }
   ],
   "source": [
    "word_to_vec"
   ]
  },
  {
   "cell_type": "markdown",
   "id": "814534e9",
   "metadata": {},
   "source": [
    "## replacing the labels in dataset with one-hot encoding"
   ]
  },
  {
   "cell_type": "code",
   "execution_count": 38,
   "id": "ca046647",
   "metadata": {},
   "outputs": [
    {
     "name": "stderr",
     "output_type": "stream",
     "text": [
      "100%|██████████████████████████████████████████████████████████████████████████████████████| 110240/110240 [00:17<00:00, 6405.22it/s]\n"
     ]
    }
   ],
   "source": [
    "# getting one-hot encoding for labels\n",
    "\n",
    "labels=[]\n",
    "for sentiment in tqdm.tqdm(cleaned_df['sentiment'].values):\n",
    "    o_h = one_hot_encoding[inverse_label_map[sentiment]]\n",
    "    labels.append(o_h)\n",
    "labels = np.asarray(labels)"
   ]
  },
  {
   "cell_type": "code",
   "execution_count": 39,
   "id": "b138f49d",
   "metadata": {},
   "outputs": [
    {
     "name": "stdout",
     "output_type": "stream",
     "text": [
      "Training size: 77168\n",
      "Test size: 33072\n"
     ]
    }
   ],
   "source": [
    "TRAINING_SIZE = int(len(content_pad)*0.7)\n",
    "\n",
    "X_train_pad = content_pad[:TRAINING_SIZE]\n",
    "y_train = labels[:TRAINING_SIZE]\n",
    "\n",
    "X_test_pad = content_pad[TRAINING_SIZE:]\n",
    "y_test = labels[TRAINING_SIZE:]\n",
    "\n",
    "print(\"Training size: {}\".format(TRAINING_SIZE))\n",
    "print(\"Test size: {}\".format(len(content_pad)-TRAINING_SIZE))\n"
   ]
  },
  {
   "cell_type": "markdown",
   "id": "6f48d92e",
   "metadata": {},
   "source": [
    "# Training and testing RNN,GRU,LSTM and Transformer models"
   ]
  },
  {
   "cell_type": "markdown",
   "id": "8866fb14",
   "metadata": {},
   "source": [
    "### callback to save weights:"
   ]
  },
  {
   "cell_type": "code",
   "execution_count": 40,
   "id": "31428be9",
   "metadata": {},
   "outputs": [],
   "source": [
    "# callback to save the best weights for the model\n",
    "def saveWeightsCallback(path,monitor,mode,save_freq):\n",
    "    return tf.keras.callbacks.ModelCheckpoint(\n",
    "        filepath=path,\n",
    "        monitor = monitor,\n",
    "        verbose = 2,\n",
    "        save_best_only = True,\n",
    "        save_weights_only = True,\n",
    "        mode = mode,\n",
    "        save_freq=save_freq,\n",
    ")"
   ]
  },
  {
   "cell_type": "markdown",
   "id": "902beffc",
   "metadata": {},
   "source": [
    "## Building a RNN model"
   ]
  },
  {
   "cell_type": "code",
   "execution_count": null,
   "id": "4092286d",
   "metadata": {},
   "outputs": [],
   "source": [
    "def build_RNN_model(embedding_dim,max_length):\n",
    "    model = keras.models.Sequential()\n",
    "    model.add(layers.Embedding(num_words,\n",
    "                               embedding_dim,\n",
    "                               weights=[embedding_matrix]))\n",
    "\n",
    "    model.add(\n",
    "        layers.Bidirectional(\n",
    "            layers.SimpleRNN(units=64,return_sequences=True)\n",
    "        ))\n",
    "    model.add(layers.Dropout(0.2))\n",
    "    model.add(\n",
    "        layers.Bidirectional(\n",
    "            layers.SimpleRNN(units=64)\n",
    "        ))\n",
    "    model.add(layers.Dropout(0.2))\n",
    "    model.add(layers.Dense(13,activation='softmax'))\n",
    "    \n",
    "    return model"
   ]
  },
  {
   "cell_type": "code",
   "execution_count": null,
   "id": "8f80cdbb",
   "metadata": {},
   "outputs": [],
   "source": [
    "RNN_model = build_RNN_model(EMBEDDING_DIM,max_length)\n",
    "\n",
    "RNN_model.compile(\n",
    "    optimizer= Adam(learning_rate=0.0001),\n",
    "    loss='categorical_crossentropy',\n",
    "    metrics=[\n",
    "        'accuracy',\n",
    "    ]\n",
    ")\n",
    "\n",
    "RNN_model.summary()"
   ]
  },
  {
   "cell_type": "code",
   "execution_count": null,
   "id": "afd9b886",
   "metadata": {
    "scrolled": true
   },
   "outputs": [],
   "source": [
    "history = RNN_model.fit(X_train_pad,\n",
    "                        y_train,\n",
    "                        batch_size=128,\n",
    "                        epochs = 20,\n",
    "                        verbose=1,\n",
    "                        validation_data = (X_test_pad,y_test),\n",
    "                        callbacks = [EarlyStopping(monitor='val_accuracy', patience=2),\n",
    "                                     saveWeightsCallback(\n",
    "                                         path='./weights/RNN',\n",
    "                                         monitor = 'val_loss',\n",
    "                                         mode = 'min',\n",
    "                                         save_freq='epoch')])         "
   ]
  },
  {
   "cell_type": "markdown",
   "id": "7c3a49c9",
   "metadata": {},
   "source": [
    "## Loss over Epochs"
   ]
  },
  {
   "cell_type": "code",
   "execution_count": null,
   "id": "b4c00c14",
   "metadata": {},
   "outputs": [],
   "source": [
    "loss = history.history['loss']\n",
    "plt.plot(loss,[epoch+1 for epoch in range(0,len(loss))])\n",
    "plt.xlabel('epochs')\n",
    "plt.ylabel('loss')"
   ]
  },
  {
   "cell_type": "markdown",
   "id": "4285f7ea",
   "metadata": {},
   "source": [
    "## Validation accuracy over Epochs"
   ]
  },
  {
   "cell_type": "code",
   "execution_count": null,
   "id": "b17a17fd",
   "metadata": {},
   "outputs": [],
   "source": [
    "val_accuracy = history.history['val_accuracy']\n",
    "plt.plot([epoch+1 for epoch in range(0,len(val_accuracy))],val_accuracy)\n",
    "plt.xlabel('epochs')\n",
    "plt.ylabel('val_accuracy')\n",
    "\n",
    "print('RNN validation accuracy: {}'.format(round(val_accuracy[-1],4)))"
   ]
  },
  {
   "cell_type": "markdown",
   "id": "604f1f15",
   "metadata": {},
   "source": [
    "# Building GRU model"
   ]
  },
  {
   "cell_type": "code",
   "execution_count": null,
   "id": "715b73dd",
   "metadata": {},
   "outputs": [],
   "source": [
    "def build_GRU_model(embedding_dim,max_length):\n",
    "    model = keras.models.Sequential()\n",
    "    model.add(layers.Embedding(num_words,\n",
    "                               embedding_dim,\n",
    "                               weights=[embedding_matrix]))\n",
    "\n",
    "    model.add(\n",
    "        layers.Bidirectional(\n",
    "            layers.GRU(units=64,return_sequences=True)\n",
    "        ))\n",
    "    model.add(layers.Dropout(0.2))\n",
    "    model.add(\n",
    "        layers.Bidirectional(\n",
    "            layers.GRU(units=64)\n",
    "        ))\n",
    "    model.add(layers.Dropout(0.2))\n",
    "    model.add(layers.Dense(13,activation='softmax'))\n",
    "    \n",
    "    return model"
   ]
  },
  {
   "cell_type": "code",
   "execution_count": null,
   "id": "d5749d50",
   "metadata": {},
   "outputs": [],
   "source": [
    "GRU_model = build_GRU_model(EMBEDDING_DIM,max_length)\n",
    "\n",
    "GRU_model.compile(\n",
    "    optimizer= Adam(learning_rate=0.0001),\n",
    "    loss='categorical_crossentropy',\n",
    "    metrics=[\n",
    "        'accuracy',\n",
    "    ]\n",
    ")\n",
    "\n",
    "GRU_model.summary()"
   ]
  },
  {
   "cell_type": "code",
   "execution_count": null,
   "id": "a6cc91e3",
   "metadata": {
    "scrolled": false
   },
   "outputs": [],
   "source": [
    "history = GRU_model.fit(X_train_pad,\n",
    "                        y_train,\n",
    "                        batch_size=128,\n",
    "                        epochs = 20,\n",
    "                        verbose=1,\n",
    "                        validation_data = (X_test_pad,y_test))\n",
    "\n",
    "callbacks = [EarlyStopping(monitor='val_accuracy', patience=2),\n",
    "                     saveWeightsCallback(\n",
    "                         path='./weights/GRU',\n",
    "                         monitor = 'val_loss',\n",
    "                         mode = 'min',\n",
    "                         save_freq='epoch',\n",
    "                     )],         "
   ]
  },
  {
   "cell_type": "markdown",
   "id": "6dafffbb",
   "metadata": {},
   "source": [
    "## Loss over Epochs"
   ]
  },
  {
   "cell_type": "code",
   "execution_count": null,
   "id": "6dd548c1",
   "metadata": {},
   "outputs": [],
   "source": [
    "loss = history.history['loss']\n",
    "plt.plot(loss,[epoch+1 for epoch in range(0,len(loss))])\n",
    "plt.xlabel('epochs')\n",
    "plt.ylabel('loss')"
   ]
  },
  {
   "cell_type": "markdown",
   "id": "f578d75f",
   "metadata": {},
   "source": [
    "## Validation accuracy over Epochs"
   ]
  },
  {
   "cell_type": "code",
   "execution_count": null,
   "id": "dd6ad136",
   "metadata": {},
   "outputs": [],
   "source": [
    "val_accuracy = history.history['val_accuracy']\n",
    "plt.plot([epoch+1 for epoch in range(0,len(val_accuracy))],val_accuracy)\n",
    "plt.xlabel('epochs')\n",
    "plt.ylabel('val_accuracy')\n",
    "print('GRU validation accuracy: {}'.format(round(val_accuracy[-1],4)))"
   ]
  },
  {
   "cell_type": "markdown",
   "id": "00efea0f",
   "metadata": {},
   "source": [
    "# LSTM"
   ]
  },
  {
   "cell_type": "code",
   "execution_count": null,
   "id": "d50f4ec7",
   "metadata": {},
   "outputs": [],
   "source": [
    "def build_LSTM_model(embedding_dim,max_length):\n",
    "    model = keras.models.Sequential()\n",
    "    model.add(layers.Embedding(input_dim=num_words,\n",
    "                               output_dim=embedding_dim))\n",
    "    model.add(layers.Bidirectional(\n",
    "        layers.LSTM(units=64,return_sequences=True)))\n",
    "    model.add(layers.Dropout(0.2))\n",
    "    model.add(layers.Bidirectional(\n",
    "        layers.LSTM(units=64)))\n",
    "    model.add(layers.Dropout(0.2))\n",
    "    model.add(layers.Dense(13,activation='softmax'))\n",
    "    return model"
   ]
  },
  {
   "cell_type": "code",
   "execution_count": null,
   "id": "40765e20",
   "metadata": {},
   "outputs": [],
   "source": [
    "LSTM_model = build_LSTM_model(EMBEDDING_DIM,max_length)\n",
    "\n",
    "LSTM_model.compile(\n",
    "    optimizer= Adam(learning_rate=0.0001),\n",
    "    loss='categorical_crossentropy',\n",
    "    metrics=[\n",
    "        'accuracy',\n",
    "    ]\n",
    ")\n",
    "\n",
    "LSTM_model.summary()"
   ]
  },
  {
   "cell_type": "code",
   "execution_count": null,
   "id": "6a58d45e",
   "metadata": {},
   "outputs": [],
   "source": [
    "history = LSTM_model.fit(X_train_pad,\n",
    "                        y_train,\n",
    "                        batch_size=128,\n",
    "                        epochs = 20,\n",
    "                        verbose=1,\n",
    "                        validation_data = (X_test_pad,y_test),\n",
    "                        callbacks = [EarlyStopping(monitor='val_accuracy', patience=2),\n",
    "                                     saveWeightsCallback(\n",
    "                                         path='./weights/LSTM',\n",
    "                                         monitor = 'val_loss',\n",
    "                                         mode = 'min',\n",
    "                                         save_freq='epoch')])\n",
    "callbacks = [EarlyStopping(monitor='val_accuracy', patience=2),\n",
    "                     saveWeightsCallback(\n",
    "                         path='./weights/LSTM',\n",
    "                         monitor = 'val_loss',\n",
    "                         mode = 'min',\n",
    "                         save_freq='epoch',\n",
    "                     )],         "
   ]
  },
  {
   "cell_type": "markdown",
   "id": "90eb3013",
   "metadata": {},
   "source": [
    "## Loss over epochs for LSTM model"
   ]
  },
  {
   "cell_type": "code",
   "execution_count": null,
   "id": "0c575884",
   "metadata": {},
   "outputs": [],
   "source": [
    "loss = history.history['loss']\n",
    "plt.plot(loss,[epoch+1 for epoch in range(0,len(loss))])\n",
    "plt.xlabel('epochs')\n",
    "plt.ylabel('loss')"
   ]
  },
  {
   "cell_type": "markdown",
   "id": "8c24b30d",
   "metadata": {},
   "source": [
    "## Accuracy over epochs for LSTM model"
   ]
  },
  {
   "cell_type": "code",
   "execution_count": null,
   "id": "df9c1776",
   "metadata": {},
   "outputs": [],
   "source": [
    "val_accuracy = history.history['val_accuracy']\n",
    "plt.plot([epoch+1 for epoch in range(0,len(val_accuracy))],val_accuracy)\n",
    "plt.xlabel('epochs')\n",
    "plt.ylabel('accuracy')\n",
    "print('LSTM validation accuracy: {}'.format(round(val_accuracy[-1],4)))"
   ]
  },
  {
   "cell_type": "markdown",
   "id": "303a6870",
   "metadata": {},
   "source": [
    "# Transformers"
   ]
  },
  {
   "cell_type": "code",
   "execution_count": 40,
   "id": "c5a4c068",
   "metadata": {},
   "outputs": [],
   "source": [
    "import warnings \n",
    "warnings.filterwarnings('ignore')"
   ]
  },
  {
   "cell_type": "code",
   "execution_count": 41,
   "id": "902942c4",
   "metadata": {},
   "outputs": [],
   "source": [
    "df = cleaned_df.copy()"
   ]
  },
  {
   "cell_type": "code",
   "execution_count": 42,
   "id": "0caeaccf",
   "metadata": {},
   "outputs": [
    {
     "data": {
      "text/html": [
       "<div>\n",
       "<style scoped>\n",
       "    .dataframe tbody tr th:only-of-type {\n",
       "        vertical-align: middle;\n",
       "    }\n",
       "\n",
       "    .dataframe tbody tr th {\n",
       "        vertical-align: top;\n",
       "    }\n",
       "\n",
       "    .dataframe thead th {\n",
       "        text-align: right;\n",
       "    }\n",
       "</style>\n",
       "<table border=\"1\" class=\"dataframe\">\n",
       "  <thead>\n",
       "    <tr style=\"text-align: right;\">\n",
       "      <th></th>\n",
       "      <th>sentiment</th>\n",
       "      <th>content</th>\n",
       "    </tr>\n",
       "  </thead>\n",
       "  <tbody>\n",
       "    <tr>\n",
       "      <th>0</th>\n",
       "      <td>boredom</td>\n",
       "      <td>twitter shit bore c month</td>\n",
       "    </tr>\n",
       "    <tr>\n",
       "      <th>1</th>\n",
       "      <td>fun</td>\n",
       "      <td>feel like red lea</td>\n",
       "    </tr>\n",
       "    <tr>\n",
       "      <th>2</th>\n",
       "      <td>neutral</td>\n",
       "      <td>perky purple nail polish perky chipped</td>\n",
       "    </tr>\n",
       "    <tr>\n",
       "      <th>3</th>\n",
       "      <td>relief</td>\n",
       "      <td>body itching anymore</td>\n",
       "    </tr>\n",
       "    <tr>\n",
       "      <th>4</th>\n",
       "      <td>anger</td>\n",
       "      <td>studying bullshit econ test</td>\n",
       "    </tr>\n",
       "  </tbody>\n",
       "</table>\n",
       "</div>"
      ],
      "text/plain": [
       "  sentiment                                 content\n",
       "0   boredom               twitter shit bore c month\n",
       "1       fun                       feel like red lea\n",
       "2   neutral  perky purple nail polish perky chipped\n",
       "3    relief                    body itching anymore\n",
       "4     anger             studying bullshit econ test"
      ]
     },
     "execution_count": 42,
     "metadata": {},
     "output_type": "execute_result"
    }
   ],
   "source": [
    "df.head()"
   ]
  },
  {
   "cell_type": "code",
   "execution_count": 43,
   "id": "f94d0644",
   "metadata": {},
   "outputs": [
    {
     "name": "stderr",
     "output_type": "stream",
     "text": [
      "2022-11-11 20:41:56.583537: W tensorflow/python/util/util.cc:368] Sets are not currently considered sequences, but this may change in the future, so consider avoiding using them.\n",
      "Some layers from the model checkpoint at distilbert-base-uncased were not used when initializing TFDistilBertModel: ['vocab_layer_norm', 'vocab_projector', 'vocab_transform', 'activation_13']\n",
      "- This IS expected if you are initializing TFDistilBertModel from the checkpoint of a model trained on another task or with another architecture (e.g. initializing a BertForSequenceClassification model from a BertForPreTraining model).\n",
      "- This IS NOT expected if you are initializing TFDistilBertModel from the checkpoint of a model that you expect to be exactly identical (initializing a BertForSequenceClassification model from a BertForSequenceClassification model).\n",
      "All the layers of TFDistilBertModel were initialized from the model checkpoint at distilbert-base-uncased.\n",
      "If your task is similar to the task the model of the checkpoint was trained on, you can already use TFDistilBertModel for predictions without further training.\n"
     ]
    }
   ],
   "source": [
    "from transformers import AutoTokenizer,DistilBertTokenizer,DistilBertConfig,TFDistilBertModel\n",
    "tokenizer=AutoTokenizer.from_pretrained('distilbert-base-uncased')\n",
    "bert = TFDistilBertModel.from_pretrained('distilbert-base-uncased')"
   ]
  },
  {
   "cell_type": "markdown",
   "id": "1fb26248",
   "metadata": {},
   "source": [
    "## Tokenizing dataset"
   ]
  },
  {
   "cell_type": "code",
   "execution_count": 44,
   "id": "58c3f147",
   "metadata": {},
   "outputs": [],
   "source": [
    "df['sentiment'] = df['sentiment'].astype(\"category\")"
   ]
  },
  {
   "cell_type": "code",
   "execution_count": 45,
   "id": "132def23",
   "metadata": {
    "scrolled": true
   },
   "outputs": [],
   "source": [
    "df['encoded_sentiment'] = df.sentiment.cat.codes "
   ]
  },
  {
   "cell_type": "code",
   "execution_count": 46,
   "id": "513f1977",
   "metadata": {},
   "outputs": [],
   "source": [
    "sentiment_encoding_map = {}\n",
    "inverse_sentiment_encoding_map = {}\n",
    "\n",
    "\n",
    "for key,value in df['encoded_sentiment'].items():\n",
    "    sentiment =df['sentiment'].iloc[key] \n",
    "    if sentiment_encoding_map.get(sentiment) == None:\n",
    "        sentiment_encoding_map[sentiment] = value\n",
    "        inverse_sentiment_encoding_map[value] = sentiment"
   ]
  },
  {
   "cell_type": "code",
   "execution_count": 47,
   "id": "51c8be67",
   "metadata": {},
   "outputs": [
    {
     "data": {
      "text/plain": [
       "{'boredom': 1,\n",
       " 'fun': 4,\n",
       " 'neutral': 8,\n",
       " 'relief': 9,\n",
       " 'anger': 0,\n",
       " 'enthusiasm': 3,\n",
       " 'surprise': 11,\n",
       " 'happiness': 5,\n",
       " 'sadness': 10,\n",
       " 'worry': 12,\n",
       " 'love': 7,\n",
       " 'hate': 6,\n",
       " 'empty': 2}"
      ]
     },
     "execution_count": 47,
     "metadata": {},
     "output_type": "execute_result"
    }
   ],
   "source": [
    "sentiment_encoding_map"
   ]
  },
  {
   "cell_type": "code",
   "execution_count": 48,
   "id": "13b2a476",
   "metadata": {},
   "outputs": [],
   "source": [
    "df['sentiment'] = df.sentiment.cat.codes"
   ]
  },
  {
   "cell_type": "code",
   "execution_count": 49,
   "id": "e4e419fe",
   "metadata": {},
   "outputs": [],
   "source": [
    "TRAINING_SIZE = int(0.7 * len(df['content']))\n",
    "\n",
    "X_train = df['content'][:TRAINING_SIZE]\n",
    "y_train = df['sentiment'][:TRAINING_SIZE] \n",
    "\n",
    "X_test = df['content'][TRAINING_SIZE:] \n",
    "y_test = df['sentiment'][TRAINING_SIZE:] "
   ]
  },
  {
   "cell_type": "markdown",
   "id": "3e83996b",
   "metadata": {},
   "source": [
    "## Tokenizing dataset with Bert tokens"
   ]
  },
  {
   "cell_type": "code",
   "execution_count": 50,
   "id": "33d59d16",
   "metadata": {},
   "outputs": [],
   "source": [
    "x_train = tokenizer(\n",
    "    text= X_train.to_list(),\n",
    "    add_special_tokens=True,\n",
    "    max_length=max_length,\n",
    "    truncation=True,\n",
    "    padding=True,\n",
    "    return_tensors='tf',\n",
    "    return_token_type_ids=False,\n",
    "    return_attention_mask=True,\n",
    "    verbose=True\n",
    ")\n",
    "\n",
    "x_test = tokenizer(\n",
    "    text= X_test.to_list(),\n",
    "    add_special_tokens=True,\n",
    "    max_length=max_length,\n",
    "    truncation=True,\n",
    "    padding=True,\n",
    "    return_tensors='tf',\n",
    "    return_token_type_ids=False,\n",
    "    return_attention_mask=True,\n",
    "    verbose=True\n",
    ")\n"
   ]
  },
  {
   "cell_type": "code",
   "execution_count": 51,
   "id": "349555bf",
   "metadata": {},
   "outputs": [],
   "source": [
    "from tensorflow.keras.optimizers import Adam\n",
    "from tensorflow.keras.callbacks import EarlyStopping\n",
    "from tensorflow.keras.initializers import TruncatedNormal\n",
    "from tensorflow.keras.losses import CategoricalCrossentropy\n",
    "from tensorflow.keras.metrics import CategoricalAccuracy\n",
    "from tensorflow.keras.utils import to_categorical\n",
    "\n",
    "from tensorflow.keras.layers import Input, Dense"
   ]
  },
  {
   "cell_type": "markdown",
   "id": "560598af",
   "metadata": {},
   "source": [
    "## specifying input_ids and attention masks to pass into Transformers model"
   ]
  },
  {
   "cell_type": "code",
   "execution_count": 52,
   "id": "3c0f29c3",
   "metadata": {},
   "outputs": [],
   "source": [
    "input_ids = Input(shape=(max_length,),dtype=tf.int32,name=\"input_ids\")\n",
    "input_mask = Input(shape=(max_length,),dtype=tf.int32,name=\"attention_mask\")\n",
    "\n",
    "embeddings = bert(input_ids,attention_mask=input_mask)[0]\n",
    "out = tf.keras.layers.GlobalMaxPool1D()(embeddings)\n",
    "out = tf.keras.layers.Dropout(0.2)(out)\n",
    "out = Dense(64,activation='relu')(out)\n",
    "out = tf.keras.layers.Dropout(0.2)(out)\n",
    "y = Dense(13,activation='sigmoid')(out)\n",
    "\n",
    "model = tf.keras.Model(inputs=[input_ids, input_mask], outputs=y)\n",
    "\n",
    "#enables embeddings to be trained\n",
    "model.layers[2].trainable = True"
   ]
  },
  {
   "cell_type": "markdown",
   "id": "2163b488",
   "metadata": {},
   "source": [
    "### Model graph:"
   ]
  },
  {
   "cell_type": "code",
   "execution_count": 53,
   "id": "f3223659",
   "metadata": {
    "scrolled": true
   },
   "outputs": [
    {
     "data": {
      "image/png": "[encoded data removed]",
      "text/plain": [
       "<IPython.core.display.Image object>"
      ]
     },
     "execution_count": 53,
     "metadata": {},
     "output_type": "execute_result"
    }
   ],
   "source": [
    "tf.keras.utils.plot_model(model,show_shapes=True)"
   ]
  },
  {
   "cell_type": "code",
   "execution_count": 54,
   "id": "538cea16",
   "metadata": {},
   "outputs": [],
   "source": [
    "optimizer = Adam(\n",
    "    learning_rate = 1e-5,\n",
    "    clipnorm=1.0,\n",
    ")\n",
    "\n",
    "# set loss and metrics\n",
    "\n",
    "loss = CategoricalCrossentropy(from_logits=True)\n",
    "metric = CategoricalAccuracy('balanced_accuracy')\n",
    "\n",
    "model.compile(\n",
    "    optimizer=optimizer,\n",
    "    loss=loss,\n",
    "    metrics = metric,\n",
    ")"
   ]
  },
  {
   "cell_type": "code",
   "execution_count": 55,
   "id": "a99b95f0",
   "metadata": {},
   "outputs": [
    {
     "name": "stdout",
     "output_type": "stream",
     "text": [
      "Model: \"model\"\n",
      "__________________________________________________________________________________________________\n",
      " Layer (type)                   Output Shape         Param #     Connected to                     \n",
      "==================================================================================================\n",
      " input_ids (InputLayer)         [(None, 25)]         0           []                               \n",
      "                                                                                                  \n",
      " attention_mask (InputLayer)    [(None, 25)]         0           []                               \n",
      "                                                                                                  \n",
      " tf_distil_bert_model (TFDistil  TFBaseModelOutput(l  66362880   ['input_ids[0][0]',              \n",
      " BertModel)                     ast_hidden_state=(N               'attention_mask[0][0]']         \n",
      "                                one, 25, 768),                                                    \n",
      "                                 hidden_states=None                                               \n",
      "                                , attentions=None)                                                \n",
      "                                                                                                  \n",
      " global_max_pooling1d (GlobalMa  (None, 768)         0           ['tf_distil_bert_model[0][0]']   \n",
      " xPooling1D)                                                                                      \n",
      "                                                                                                  \n",
      " dropout_19 (Dropout)           (None, 768)          0           ['global_max_pooling1d[0][0]']   \n",
      "                                                                                                  \n",
      " dense (Dense)                  (None, 64)           49216       ['dropout_19[0][0]']             \n",
      "                                                                                                  \n",
      " dropout_20 (Dropout)           (None, 64)           0           ['dense[0][0]']                  \n",
      "                                                                                                  \n",
      " dense_1 (Dense)                (None, 13)           845         ['dropout_20[0][0]']             \n",
      "                                                                                                  \n",
      "==================================================================================================\n",
      "Total params: 66,412,941\n",
      "Trainable params: 66,412,941\n",
      "Non-trainable params: 0\n",
      "__________________________________________________________________________________________________\n"
     ]
    }
   ],
   "source": [
    "model.summary()"
   ]
  },
  {
   "cell_type": "code",
   "execution_count": 56,
   "id": "d1e72f09",
   "metadata": {},
   "outputs": [
    {
     "name": "stdout",
     "output_type": "stream",
     "text": [
      "WARNING:tensorflow:From /tmp/ipykernel_20445/403206910.py:1: experimental_run_functions_eagerly (from tensorflow.python.eager.def_function) is deprecated and will be removed in a future version.\n",
      "Instructions for updating:\n",
      "Use `tf.config.run_functions_eagerly` instead of the experimental version.\n"
     ]
    }
   ],
   "source": [
    "tf.config.run_functions_eagerly(True)"
   ]
  },
  {
   "cell_type": "code",
   "execution_count": 60,
   "id": "f8c64f9d",
   "metadata": {},
   "outputs": [
    {
     "data": {
      "text/plain": [
       "<tf.Tensor: shape=(77168, 25), dtype=int32, numpy=\n",
       "array([[  101, 10474,  4485, ...,     0,     0,     0],\n",
       "       [  101,  2514,  2066, ...,     0,     0,     0],\n",
       "       [  101,  2566,  4801, ...,     0,     0,     0],\n",
       "       ...,\n",
       "       [  101,  7592,  5959, ...,     0,     0,     0],\n",
       "       [  101,  2812,  2666, ...,     0,     0,     0],\n",
       "       [  101,  2652,  8103, ...,     0,     0,     0]], dtype=int32)>"
      ]
     },
     "execution_count": 60,
     "metadata": {},
     "output_type": "execute_result"
    }
   ],
   "source": [
    "x_train['input_ids']"
   ]
  },
  {
   "cell_type": "markdown",
   "id": "17e84616",
   "metadata": {},
   "source": [
    "### Fine tune DistilBert model"
   ]
  },
  {
   "cell_type": "code",
   "execution_count": 61,
   "id": "98d1a055",
   "metadata": {
    "scrolled": true
   },
   "outputs": [
    {
     "name": "stdout",
     "output_type": "stream",
     "text": [
      "Epoch 1/4\n",
      "2412/2412 [==============================] - 5908s 2s/step - loss: 1.5652 - balanced_accuracy: 0.4883 - val_loss: 1.2902 - val_balanced_accuracy: 0.5809\n",
      "Epoch 2/4\n",
      "2412/2412 [==============================] - 5545s 2s/step - loss: 1.2215 - balanced_accuracy: 0.5999 - val_loss: 1.0513 - val_balanced_accuracy: 0.6565\n",
      "Epoch 3/4\n",
      "2412/2412 [==============================] - 5453s 2s/step - loss: 0.9805 - balanced_accuracy: 0.6749 - val_loss: 0.9106 - val_balanced_accuracy: 0.7055\n",
      "Epoch 4/4\n",
      "2412/2412 [==============================] - 5463s 2s/step - loss: 0.8076 - balanced_accuracy: 0.7309 - val_loss: 0.8449 - val_balanced_accuracy: 0.7318\n"
     ]
    }
   ],
   "source": [
    "history = model.fit(\n",
    "    x= {'input_ids':x_train['input_ids'], 'attention_mask':x_train['attention_mask']},\n",
    "    y= to_categorical(y_train),\n",
    "    validation_data=(\n",
    "        {'input_ids':x_test['input_ids'],'attention_mask':x_test['attention_mask']},\n",
    "        to_categorical(y_test)\n",
    "    ),\n",
    "    epochs=4,\n",
    "    batch_size = 32)"
   ]
  },
  {
   "cell_type": "code",
   "execution_count": null,
   "id": "092e55a1",
   "metadata": {},
   "outputs": [],
   "source": []
  }
 ],
 "metadata": {
  "kernelspec": {
   "display_name": "neuralNetworks",
   "language": "python",
   "name": "neuralnetworks"
  },
  "language_info": {
   "codemirror_mode": {
    "name": "ipython",
    "version": 3
   },
   "file_extension": ".py",
   "mimetype": "text/x-python",
   "name": "python",
   "nbconvert_exporter": "python",
   "pygments_lexer": "ipython3",
   "version": "3.10.4"
  }
 },
 "nbformat": 4,
 "nbformat_minor": 5
}
