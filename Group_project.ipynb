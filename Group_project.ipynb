{
 "cells": [
  {
   "cell_type": "code",
   "execution_count": 1,
   "id": "ce0b8b5f",
   "metadata": {},
   "outputs": [
    {
     "name": "stderr",
     "output_type": "stream",
     "text": [
      "2022-11-10 14:35:50.037642: W tensorflow/stream_executor/platform/default/dso_loader.cc:64] Could not load dynamic library 'libcudart.so.11.0'; dlerror: libcudart.so.11.0: cannot open shared object file: No such file or directory\n",
      "2022-11-10 14:35:50.037667: I tensorflow/stream_executor/cuda/cudart_stub.cc:29] Ignore above cudart dlerror if you do not have a GPU set up on your machine.\n",
      "2022-11-10 14:35:55.119334: I tensorflow/stream_executor/cuda/cuda_gpu_executor.cc:975] successful NUMA node read from SysFS had negative value (-1), but there must be at least one NUMA node, so returning NUMA node zero\n",
      "2022-11-10 14:35:55.119769: W tensorflow/stream_executor/platform/default/dso_loader.cc:64] Could not load dynamic library 'libcudart.so.11.0'; dlerror: libcudart.so.11.0: cannot open shared object file: No such file or directory\n",
      "2022-11-10 14:35:55.119874: W tensorflow/stream_executor/platform/default/dso_loader.cc:64] Could not load dynamic library 'libcublas.so.11'; dlerror: libcublas.so.11: cannot open shared object file: No such file or directory\n",
      "2022-11-10 14:35:55.119959: W tensorflow/stream_executor/platform/default/dso_loader.cc:64] Could not load dynamic library 'libcublasLt.so.11'; dlerror: libcublasLt.so.11: cannot open shared object file: No such file or directory\n",
      "2022-11-10 14:35:55.137385: W tensorflow/stream_executor/platform/default/dso_loader.cc:64] Could not load dynamic library 'libcusolver.so.11'; dlerror: libcusolver.so.11: cannot open shared object file: No such file or directory\n",
      "2022-11-10 14:35:55.137498: W tensorflow/stream_executor/platform/default/dso_loader.cc:64] Could not load dynamic library 'libcusparse.so.11'; dlerror: libcusparse.so.11: cannot open shared object file: No such file or directory\n",
      "2022-11-10 14:35:55.137575: W tensorflow/stream_executor/platform/default/dso_loader.cc:64] Could not load dynamic library 'libcudnn.so.8'; dlerror: libcudnn.so.8: cannot open shared object file: No such file or directory\n",
      "2022-11-10 14:35:55.137585: W tensorflow/core/common_runtime/gpu/gpu_device.cc:1850] Cannot dlopen some GPU libraries. Please make sure the missing libraries mentioned above are installed properly if you would like to use GPU. Follow the guide at https://www.tensorflow.org/install/gpu for how to download and setup the required libraries for your platform.\n",
      "Skipping registering GPU devices...\n"
     ]
    }
   ],
   "source": [
    "import pandas as pd\n",
    "import os\n",
    "import tensorflow as tf\n",
    "from tensorflow import keras\n",
    "from tensorflow.keras import layers\n",
    "from tensorflow.keras.optimizers import Adam\n",
    "from tensorflow.keras.callbacks import EarlyStopping,ModelCheckpoint\n",
    "from tensorflow.keras.preprocessing.text import Tokenizer\n",
    "from tensorflow.keras.preprocessing.sequence import pad_sequences\n",
    "\n",
    "\n",
    "import numpy as np\n",
    "import io\n",
    "import re\n",
    "import string\n",
    "import tqdm\n",
    "import nltk\n",
    "from nltk.stem.wordnet import WordNetLemmatizer \n",
    "from nltk.tokenize import word_tokenize\n",
    "import contractions\n",
    "\n",
    "import matplotlib.pyplot as plt\n",
    "\n",
    "import nlpaug.augmenter.word as naw\n",
    "physical_devices = tf.config.list_physical_devices('GPU')\n",
    "#tf.config.experimental.set_memory_growth(physical_devices[0],True)"
   ]
  },
  {
   "cell_type": "code",
   "execution_count": 2,
   "id": "27427c6e",
   "metadata": {},
   "outputs": [],
   "source": [
    "%load_ext tensorboard\n",
    "SEED = 42\n",
    "AUTOTUNE = tf.data.AUTOTUNE"
   ]
  },
  {
   "cell_type": "markdown",
   "id": "77377333",
   "metadata": {},
   "source": [
    "### We are using dataset from https://data.world/crowdflower/sentiment-analysis-in-text"
   ]
  },
  {
   "cell_type": "code",
   "execution_count": 3,
   "id": "7c9eaef1",
   "metadata": {},
   "outputs": [],
   "source": [
    "pd.set_option('display.max_colwidth', None)\n",
    "df = pd.read_csv(\"./data/text_emotion.csv\")"
   ]
  },
  {
   "cell_type": "code",
   "execution_count": 4,
   "id": "962c59a5",
   "metadata": {
    "scrolled": true
   },
   "outputs": [],
   "source": [
    "cleaned_df = df.copy()\n",
    "# lowercasing 'content' column\n",
    "cleaned_df['content'] = cleaned_df['content'].str.lower()\n",
    "\n",
    "# expanding contractions\n",
    "cleaned_df['content'] = cleaned_df['content'].apply(lambda sentence: contractions.fix(sentence))\n",
    "\n",
    "# remove anything http\n",
    "cleaned_df['content'] = cleaned_df['content'].apply(lambda sentence: \" \".join([re.sub('.*http.*','',word) for word in sentence.split()]))\n",
    "\n",
    "# removing all words with #hastag and @name and urls\n",
    "cleaned_df['content'] = cleaned_df['content'].apply(lambda sentence: \" \".join([re.sub('@.*','',word) for word in sentence.split()]))\n",
    "cleaned_df['content'] = cleaned_df['content'].apply(lambda sentence: \" \".join([re.sub('#.*','',word) for word in sentence.split()]))\n",
    "cleaned_df['content'] = cleaned_df['content'].apply(lambda sentence: \" \".join([re.sub('.*www\\..*','',word) for word in sentence.split()]))\n",
    "\n",
    "# removing words with digits like game57\n",
    "cleaned_df['content'] = cleaned_df['content'].apply(lambda sentence: re.sub('\\w*\\d+\\w*','',sentence))\n",
    "\n",
    "# removing all punctuation marks\n",
    "exclude = set(string.punctuation)\n",
    "regex = re.compile('[%s]' % re.escape(string.punctuation))\n",
    "cleaned_df['content'] = cleaned_df['content'].apply(lambda sentence: regex.sub(\"\",sentence))\n",
    "\n",
    "# removing unicode characters\n",
    "cleaned_df['content'] = cleaned_df['content'].apply(lambda sentence: sentence.encode(\"ascii\",\"ignore\").decode())\n",
    "\n",
    "# removing stopwords\n",
    "from nltk.corpus import stopwords\n",
    "\n",
    "stop_words = stopwords.words('english')\n",
    "cleaned_df['content'] = cleaned_df['content'].apply(lambda sentence: \" \".join([word for word in sentence.split() if word not in stop_words]))\n",
    "\n",
    "# lemmatization\n",
    "lemmatizer = WordNetLemmatizer()\n",
    "cleaned_df['content'] = cleaned_df['content'].apply(lambda sentence: \" \".join([lemmatizer.lemmatize(word) for word in sentence.split()]))\n",
    "\n",
    "# remove empty sentences\n",
    "cleaned_df= cleaned_df[cleaned_df['content'] != '']\n",
    "\n",
    "# dropping unecessary columns\n",
    "cleaned_df = cleaned_df.drop(columns=['tweet_id','author']).sample(frac=1).reset_index(drop=True)"
   ]
  },
  {
   "cell_type": "markdown",
   "id": "b3b8a23b",
   "metadata": {},
   "source": [
    "# Using word2vec skip-gram algorithm to get non-contextual word vectors"
   ]
  },
  {
   "cell_type": "markdown",
   "id": "a25c2419",
   "metadata": {},
   "source": [
    "### Finding the length of the maximum sentence, and vocab size in the dataset"
   ]
  },
  {
   "cell_type": "code",
   "execution_count": 5,
   "id": "2b5d269e",
   "metadata": {},
   "outputs": [
    {
     "name": "stdout",
     "output_type": "stream",
     "text": [
      "max sentence length of 'content' is 25\n",
      "total number of words of content is 269556\n",
      "total number of unique words/vocab_size of content is 31045\n"
     ]
    }
   ],
   "source": [
    "max_length = cleaned_df['content'].apply(lambda s: len(s.split())).max()\n",
    "no_of_words = cleaned_df['content'].apply(lambda content: len(content.split())).sum()\n",
    "\n",
    "\n",
    "# count vocab size\n",
    "cache=set()\n",
    "\n",
    "#counting padding and [unkownd] token\n",
    "vocab_size= 1\n",
    "for key,sentence in cleaned_df['content'].items():\n",
    "    words = sentence.split()\n",
    "    for word in words:\n",
    "        if(word not in cache):\n",
    "            vocab_size+=1\n",
    "            cache.add(word)\n",
    "            \n",
    "print(\"max sentence length of 'content' is {}\".format(max_length))\n",
    "print(\"total number of words of content is {}\".format(no_of_words))\n",
    "print(\"total number of unique words/vocab_size of content is {}\".format(vocab_size))"
   ]
  },
  {
   "cell_type": "markdown",
   "id": "bc3a918f",
   "metadata": {},
   "source": [
    "### function to generate training data"
   ]
  },
  {
   "cell_type": "code",
   "execution_count": 6,
   "id": "cbbea4b5",
   "metadata": {},
   "outputs": [],
   "source": [
    "def generate_training_data(sequences, window_size,num_ns,vocab_size,seed):\n",
    "    \n",
    "    # each training sentence is appended to these list\n",
    "    targets,contexts,labels = [],[],[]\n",
    "    \n",
    "    # sampling table for vocab_size tokens\n",
    "    sampling_table = tf.keras.preprocessing.sequence.make_sampling_table(vocab_size)\n",
    "    \n",
    "    # iterate over all sentences in dataset\n",
    "    for sequence in tqdm.tqdm(sequences):\n",
    "       \n",
    "\n",
    "        # generating positive skip-gram pairs for a sequence\n",
    "        positive_skip_grams,_ = tf.keras.preprocessing.sequence.skipgrams(\n",
    "            sequence,\n",
    "            vocabulary_size = vocab_size,\n",
    "            sampling_table=sampling_table,\n",
    "            window_size=window_size, # TODO: change window size\n",
    "            negative_samples=0\n",
    "        )\n",
    "        \n",
    "        # produce negative samples and create training samples (x_train,labels)\n",
    "        for target_word, context_word in positive_skip_grams:\n",
    "    \n",
    "    \n",
    "            # expand context word to frmo dim shape (1,0) to (1,1)\n",
    "            context_class = tf.expand_dims(\n",
    "                tf.constant([context_word],dtype='int64'),1)\n",
    "            negative_sampling_candidates, _, _ = tf.random.log_uniform_candidate_sampler(\n",
    "                true_classes=context_class, # to tell the which sample is positive\n",
    "                num_true=1,\n",
    "                num_sampled=num_ns,\n",
    "                unique=True,\n",
    "                range_max=vocab_size, #TODO: may need to change to just the negative samples of the sentence itself instead of the entire vocab\n",
    "                seed=seed,\n",
    "                name='negative_sampling')\n",
    "    \n",
    "    \n",
    "            # building the context and label vectors for a target word\n",
    "            context = tf.concat([tf.squeeze(context_class,1),negative_sampling_candidates],0)\n",
    "            label = tf.constant([1] + [0]*num_ns, dtype=\"int64\")\n",
    "    \n",
    "    \n",
    "            # append each element from the training ex to global lists\n",
    "            targets.append(target_word)\n",
    "            contexts.append(context)\n",
    "            labels.append(label)\n",
    "    \n",
    "    \n",
    "    return targets, contexts, labels \n",
    "            \n",
    "            "
   ]
  },
  {
   "cell_type": "markdown",
   "id": "8c31d13e",
   "metadata": {},
   "source": [
    "### Vectorizing all vocab found in cleaned_df"
   ]
  },
  {
   "cell_type": "code",
   "execution_count": 7,
   "id": "95e1dd72",
   "metadata": {},
   "outputs": [
    {
     "name": "stderr",
     "output_type": "stream",
     "text": [
      "2022-11-10 14:36:22.076378: I tensorflow/core/platform/cpu_feature_guard.cc:193] This TensorFlow binary is optimized with oneAPI Deep Neural Network Library (oneDNN) to use the following CPU instructions in performance-critical operations:  AVX2 FMA\n",
      "To enable them in other operations, rebuild TensorFlow with the appropriate compiler flags.\n"
     ]
    }
   ],
   "source": [
    "vectorize_layer = layers.TextVectorization(\n",
    "    max_tokens=vocab_size,\n",
    "    output_mode='int',\n",
    "    output_sequence_length=int(max_length))"
   ]
  },
  {
   "cell_type": "markdown",
   "id": "dc12f517",
   "metadata": {},
   "source": [
    "### replace vocab with their respective tokens:"
   ]
  },
  {
   "cell_type": "code",
   "execution_count": 8,
   "id": "4c754da3",
   "metadata": {},
   "outputs": [],
   "source": [
    "BATCH_SIZE = 64"
   ]
  },
  {
   "cell_type": "code",
   "execution_count": 9,
   "id": "9ddc275d",
   "metadata": {},
   "outputs": [],
   "source": [
    "# creating a dataset of all sentences\n",
    "text_ds = tf.data.Dataset.from_tensor_slices(cleaned_df['content'])\n",
    "vectorize_layer.adapt(text_ds.batch(BATCH_SIZE))"
   ]
  },
  {
   "cell_type": "markdown",
   "id": "0848a8ec",
   "metadata": {},
   "source": [
    "### build a inverse vocab which maps indexes -> words which can be handy"
   ]
  },
  {
   "cell_type": "code",
   "execution_count": 10,
   "id": "c48fa6fd",
   "metadata": {},
   "outputs": [],
   "source": [
    "inverse_vocab = vectorize_layer.get_vocabulary()"
   ]
  },
  {
   "cell_type": "code",
   "execution_count": 11,
   "id": "6cb083d9",
   "metadata": {},
   "outputs": [],
   "source": [
    "# Vectorize the data in text_ds.\n",
    "# prefetch does fetching of data and training at the same time using multiple thread\n",
    "# improving performance\n",
    "text_vector_ds = text_ds.batch(BATCH_SIZE).prefetch(AUTOTUNE).map(vectorize_layer).unbatch()"
   ]
  },
  {
   "cell_type": "markdown",
   "id": "6a8e4dd9",
   "metadata": {},
   "source": [
    "### As you can see we have successfully vectorised our sentences/sequences"
   ]
  },
  {
   "cell_type": "code",
   "execution_count": 12,
   "id": "d895a62f",
   "metadata": {
    "scrolled": true
   },
   "outputs": [
    {
     "name": "stdout",
     "output_type": "stream",
     "text": [
      "39746\n"
     ]
    }
   ],
   "source": [
    "sequences = list(text_vector_ds.as_numpy_iterator())\n",
    "print(len(sequences))"
   ]
  },
  {
   "cell_type": "markdown",
   "id": "97ade707",
   "metadata": {},
   "source": [
    "## Using unsupervised learning (word2Vec skip_gram) to predict context from targets. \n",
    ">While doing so, we are also training the weights on the embeddings. We can increase window size so that the embeddings learn more contextutal knowledge with respect to the words around them"
   ]
  },
  {
   "cell_type": "code",
   "execution_count": 13,
   "id": "2c9d9d9e",
   "metadata": {},
   "outputs": [
    {
     "name": "stdout",
     "output_type": "stream",
     "text": [
      "6.0\n",
      "6.7819654808031\n"
     ]
    }
   ],
   "source": [
    "# to determine window size, we see the median length of a sentence\n",
    "\n",
    "print(cleaned_df['content'].apply(lambda s: len(s.split())).median())\n",
    "print(cleaned_df['content'].apply(lambda s: len(s.split())).mean())"
   ]
  },
  {
   "cell_type": "markdown",
   "id": "fae7e802",
   "metadata": {},
   "source": [
    "### We go with window size of 2 since that the median length of a sentence is 6. we want to offer 4 slots some space for negative sampling"
   ]
  },
  {
   "cell_type": "code",
   "execution_count": 17,
   "id": "050277ee",
   "metadata": {},
   "outputs": [
    {
     "name": "stderr",
     "output_type": "stream",
     "text": [
      "100%|████████████████████████████████████| 39746/39746 [00:55<00:00, 720.32it/s]\n"
     ]
    },
    {
     "name": "stdout",
     "output_type": "stream",
     "text": [
      "\n",
      "\n",
      "targets.shape: (228172,)\n",
      "contexts.shape: (228172, 5)\n",
      "labels.shape: (228172, 5)\n"
     ]
    }
   ],
   "source": [
    "# note higher window size is more computationally expensive\n",
    "# from documentation, it is said that for small datasets, negative samples of range 5to 20 yields the best results\n",
    "\n",
    "WINDOW_SIZE = 2\n",
    "num_ns = 4\n",
    "\n",
    "targets, contexts, labels = generate_training_data(\n",
    "    sequences=sequences,\n",
    "    window_size=WINDOW_SIZE,\n",
    "    num_ns=num_ns,\n",
    "    vocab_size=vocab_size,\n",
    "    seed=SEED)\n",
    "\n",
    "targets = np.array(targets)\n",
    "contexts = np.array(contexts)\n",
    "labels = np.array(labels)\n",
    "\n",
    "print('\\n')\n",
    "print(f\"targets.shape: {targets.shape}\")\n",
    "print(f\"contexts.shape: {contexts.shape}\")\n",
    "print(f\"labels.shape: {labels.shape}\")"
   ]
  },
  {
   "cell_type": "markdown",
   "id": "394b47e9",
   "metadata": {},
   "source": [
    "### Configuring training sets for Word2Vec model"
   ]
  },
  {
   "cell_type": "code",
   "execution_count": 18,
   "id": "9447aafa",
   "metadata": {},
   "outputs": [
    {
     "name": "stdout",
     "output_type": "stream",
     "text": [
      "<BatchDataset element_spec=((TensorSpec(shape=(64,), dtype=tf.int64, name=None), TensorSpec(shape=(64, 5), dtype=tf.int64, name=None)), TensorSpec(shape=(64, 5), dtype=tf.int64, name=None))>\n"
     ]
    }
   ],
   "source": [
    "# batching the dataset\n",
    "BUFFER_SIZE = 10000\n",
    "dataset = tf.data.Dataset.from_tensor_slices(((targets, contexts), labels))\n",
    "dataset = dataset.shuffle(BUFFER_SIZE).batch(BATCH_SIZE, drop_remainder=True)\n",
    "print(dataset)"
   ]
  },
  {
   "cell_type": "code",
   "execution_count": 19,
   "id": "6e512360",
   "metadata": {},
   "outputs": [
    {
     "name": "stdout",
     "output_type": "stream",
     "text": [
      "<PrefetchDataset element_spec=((TensorSpec(shape=(64,), dtype=tf.int64, name=None), TensorSpec(shape=(64, 5), dtype=tf.int64, name=None)), TensorSpec(shape=(64, 5), dtype=tf.int64, name=None))>\n"
     ]
    }
   ],
   "source": [
    "dataset = dataset.cache().prefetch(buffer_size=AUTOTUNE)\n",
    "print(dataset)"
   ]
  },
  {
   "cell_type": "code",
   "execution_count": 20,
   "id": "4fd5de0d",
   "metadata": {},
   "outputs": [],
   "source": [
    "class Word2Vec(tf.keras.Model):\n",
    "    def __init__(self, vocab_size, embedding_dim):\n",
    "        super(Word2Vec, self).__init__()\n",
    "        self.target_embedding = layers.Embedding(vocab_size,\n",
    "              embedding_dim,\n",
    "              input_length=1,\n",
    "              name=\"w2v_embedding\")\n",
    "        self.context_embedding = layers.Embedding(vocab_size,\n",
    "               embedding_dim,\n",
    "               input_length=num_ns+1)\n",
    "\n",
    "    def call(self, pair):\n",
    "        target, context = pair\n",
    "        if len(target.shape) == 2:\n",
    "            target = tf.squeeze(target, axis=1)\n",
    "        word_emb = self.target_embedding(target)\n",
    "        context_emb = self.context_embedding(context)\n",
    "        dots = tf.einsum('be,bce->bc', word_emb, context_emb)\n",
    "        return dots"
   ]
  },
  {
   "cell_type": "code",
   "execution_count": 21,
   "id": "604a26cc",
   "metadata": {},
   "outputs": [],
   "source": [
    "# embedding size for a word is chosen to be 50\n",
    "\n",
    "EMBEDDING_DIM = 50\n",
    "\n",
    "word2vec = Word2Vec(vocab_size, EMBEDDING_DIM)\n",
    "word2vec.compile(optimizer='adam',\n",
    "                 loss=tf.keras.losses.CategoricalCrossentropy(from_logits=True),\n",
    "                 metrics=['accuracy'])\n",
    "# call back to log training stats for TensorBoard\n",
    "tensorboard_callback = tf.keras.callbacks.TensorBoard(log_dir=\"logs\")"
   ]
  },
  {
   "cell_type": "code",
   "execution_count": 42,
   "id": "b9e8350a",
   "metadata": {
    "scrolled": true
   },
   "outputs": [
    {
     "name": "stdout",
     "output_type": "stream",
     "text": [
      "Epoch 1/15\n",
      "3565/3565 [==============================] - 77s 21ms/step - loss: 1.5453 - accuracy: 0.2633\n",
      "Epoch 2/15\n",
      "3565/3565 [==============================] - 84s 24ms/step - loss: 1.3938 - accuracy: 0.4415\n",
      "Epoch 3/15\n",
      "3565/3565 [==============================] - 76s 21ms/step - loss: 1.1698 - accuracy: 0.6347\n",
      "Epoch 4/15\n",
      "3565/3565 [==============================] - 67s 19ms/step - loss: 0.8884 - accuracy: 0.7832\n",
      "Epoch 5/15\n",
      "3565/3565 [==============================] - 68s 19ms/step - loss: 0.6382 - accuracy: 0.8599\n",
      "Epoch 6/15\n",
      "3565/3565 [==============================] - 68s 19ms/step - loss: 0.4513 - accuracy: 0.9027\n",
      "Epoch 7/15\n",
      "3565/3565 [==============================] - 68s 19ms/step - loss: 0.3218 - accuracy: 0.9293\n",
      "Epoch 8/15\n",
      "3565/3565 [==============================] - 67s 19ms/step - loss: 0.2348 - accuracy: 0.9474\n",
      "Epoch 9/15\n",
      "3565/3565 [==============================] - 65s 18ms/step - loss: 0.1763 - accuracy: 0.9607\n",
      "Epoch 10/15\n",
      "3565/3565 [==============================] - 67s 19ms/step - loss: 0.1359 - accuracy: 0.9702\n",
      "Epoch 11/15\n",
      "3565/3565 [==============================] - 65s 18ms/step - loss: 0.1072 - accuracy: 0.9768\n",
      "Epoch 12/15\n",
      "3565/3565 [==============================] - 66s 18ms/step - loss: 0.0861 - accuracy: 0.9818\n",
      "Epoch 13/15\n",
      "3565/3565 [==============================] - 68s 19ms/step - loss: 0.0703 - accuracy: 0.9853\n",
      "Epoch 14/15\n",
      "3565/3565 [==============================] - 69s 19ms/step - loss: 0.0582 - accuracy: 0.9882\n",
      "Epoch 15/15\n",
      "3565/3565 [==============================] - 64s 18ms/step - loss: 0.0487 - accuracy: 0.9904\n"
     ]
    }
   ],
   "source": [
    "history = word2vec.fit(dataset, epochs=15, callbacks=[tensorboard_callback])"
   ]
  },
  {
   "cell_type": "code",
   "execution_count": 43,
   "id": "37cb3968",
   "metadata": {},
   "outputs": [
    {
     "data": {
      "text/plain": [
       "Text(0, 0.5, 'loss')"
      ]
     },
     "execution_count": 43,
     "metadata": {},
     "output_type": "execute_result"
    },
    {
     "data": {
      "image/png": "[encoded data removed]",
      "text/plain": [
       "<Figure size 640x480 with 1 Axes>"
      ]
     },
     "metadata": {},
     "output_type": "display_data"
    }
   ],
   "source": [
    "import matplotlib.pyplot as plt\n",
    "y = history.history['loss']\n",
    "x = [i+1 for i in range(0,len(y))]\n",
    "plt.plot(x,y)\n",
    "plt.xlabel('epochs')\n",
    "plt.ylabel('loss')"
   ]
  },
  {
   "cell_type": "markdown",
   "id": "7624fba0",
   "metadata": {},
   "source": [
    "### Writing vectors to file"
   ]
  },
  {
   "cell_type": "code",
   "execution_count": 44,
   "id": "6a8a0355",
   "metadata": {},
   "outputs": [],
   "source": [
    "weights = word2vec.get_layer('w2v_embedding').get_weights()[0]\n",
    "vocab = vectorize_layer.get_vocabulary()"
   ]
  },
  {
   "cell_type": "code",
   "execution_count": 45,
   "id": "94b2b202",
   "metadata": {},
   "outputs": [],
   "source": [
    "out_v = io.open('./data/custom_vectors.tsv', 'w')\n",
    "out_m = io.open('./data/custom_metadata.tsv', 'w')\n",
    "\n",
    "for index, word in enumerate(vocab):\n",
    "    if index == 0:\n",
    "        continue  # skip 0, it's padding.\n",
    "    vec = weights[index]\n",
    "    out_v.write('\\t'.join([str(x) for x in vec]) + \"\\n\")\n",
    "    out_m.write(word + \"\\n\")\n",
    "out_v.close()\n",
    "out_m.close()"
   ]
  },
  {
   "cell_type": "markdown",
   "id": "6b871502",
   "metadata": {},
   "source": [
    "### Reading vectors from Custom w2v:"
   ]
  },
  {
   "cell_type": "code",
   "execution_count": 14,
   "id": "3bfed005",
   "metadata": {},
   "outputs": [],
   "source": [
    "def read_custom_tsv(path):\n",
    "    result = []\n",
    "    file = open(path,'r')\n",
    "    while (True):\n",
    "        line = file.readline()\n",
    "        if not line:\n",
    "            break\n",
    "        result.append([float(value) for value in line.split()])\n",
    "        \n",
    "    file.close()\n",
    "    return result"
   ]
  },
  {
   "cell_type": "code",
   "execution_count": 15,
   "id": "df169b96",
   "metadata": {},
   "outputs": [],
   "source": [
    "def read_custom_meta(path):\n",
    "    result = []\n",
    "    file = open(path,'r')\n",
    "    while (True):\n",
    "        line = file.readline()\n",
    "        if not line:\n",
    "            break\n",
    "            \n",
    "        result.append(line.strip())\n",
    "    file.close()\n",
    "    return result"
   ]
  },
  {
   "cell_type": "code",
   "execution_count": 16,
   "id": "781717fd",
   "metadata": {},
   "outputs": [],
   "source": [
    "vectors = read_custom_tsv('./data/custom_vectors.tsv')\n",
    "classes = read_custom_meta('./data/custom_metadata.tsv')"
   ]
  },
  {
   "cell_type": "code",
   "execution_count": 17,
   "id": "1e892268",
   "metadata": {},
   "outputs": [],
   "source": [
    "# make an inverse index of the classes name -> index\n",
    "word_vector_map = {}\n",
    "for index,word in enumerate(classes):\n",
    "    word_vector_map[word] = vectors[index]"
   ]
  },
  {
   "cell_type": "markdown",
   "id": "7e19e84b",
   "metadata": {},
   "source": [
    "### Now we are done with getting the vectors for embedding layer ...\n",
    "---"
   ]
  },
  {
   "cell_type": "markdown",
   "id": "00fe4d06",
   "metadata": {},
   "source": [
    "# Visualising the data"
   ]
  },
  {
   "cell_type": "markdown",
   "id": "8f652f21",
   "metadata": {},
   "source": [
    "### Distribution of lengths of sentences"
   ]
  },
  {
   "cell_type": "code",
   "execution_count": 18,
   "id": "0a2bba39",
   "metadata": {},
   "outputs": [
    {
     "data": {
      "image/png": "[encoded data removed]",
      "text/plain": [
       "<Figure size 2000x500 with 1 Axes>"
      ]
     },
     "metadata": {},
     "output_type": "display_data"
    }
   ],
   "source": [
    "lengths = [len(sentence.split()) for sentence in cleaned_df['content']]\n",
    "plt.rcParams['figure.figsize'] = [20, 5]\n",
    "plt.hist(lengths,bins=len(set(lengths)))\n",
    "plt.xlabel('sentence length')\n",
    "plt.ylabel('number of sentences')\n",
    "\n",
    "plt.show()"
   ]
  },
  {
   "cell_type": "code",
   "execution_count": 19,
   "id": "629cd7a8",
   "metadata": {
    "scrolled": false
   },
   "outputs": [
    {
     "name": "stdout",
     "output_type": "stream",
     "text": [
      "Unique labels:\n",
      "0) enthusiasm\n",
      "1) surprise\n",
      "2) worry\n",
      "3) happiness\n",
      "4) neutral\n",
      "5) sadness\n",
      "6) love\n",
      "7) hate\n",
      "8) relief\n",
      "9) boredom\n",
      "10) fun\n",
      "11) empty\n",
      "12) anger\n"
     ]
    }
   ],
   "source": [
    "print('Unique labels:')\n",
    "for i, label in enumerate(cleaned_df['sentiment'].unique()):\n",
    "    print('{}) {}'.format(i,label)) "
   ]
  },
  {
   "cell_type": "markdown",
   "id": "6f3896c3",
   "metadata": {},
   "source": [
    "### distribution of sentiments"
   ]
  },
  {
   "cell_type": "code",
   "execution_count": 20,
   "id": "77ff9f0b",
   "metadata": {
    "scrolled": true
   },
   "outputs": [
    {
     "data": {
      "image/png": "[encoded data removed]",
      "text/plain": [
       "<Figure size 2000x500 with 1 Axes>"
      ]
     },
     "metadata": {},
     "output_type": "display_data"
    }
   ],
   "source": [
    "plt.rcParams['figure.figsize'] = [20, 5]\n",
    "x= list(dict(cleaned_df.sentiment.value_counts()).keys())\n",
    "y = list(cleaned_df.sentiment.value_counts())\n",
    "plt.bar(x,y)\n",
    "plt.show()"
   ]
  },
  {
   "cell_type": "code",
   "execution_count": 21,
   "id": "d9df2294",
   "metadata": {
    "scrolled": false
   },
   "outputs": [
    {
     "data": {
      "text/plain": [
       "neutral       8480\n",
       "worry         8429\n",
       "happiness     5202\n",
       "sadness       5156\n",
       "love          3836\n",
       "surprise      2176\n",
       "fun           1775\n",
       "relief        1523\n",
       "hate          1320\n",
       "empty          801\n",
       "enthusiasm     759\n",
       "boredom        179\n",
       "anger          110\n",
       "Name: sentiment, dtype: int64"
      ]
     },
     "execution_count": 21,
     "metadata": {},
     "output_type": "execute_result"
    }
   ],
   "source": [
    "cleaned_df['sentiment'].value_counts()"
   ]
  },
  {
   "cell_type": "markdown",
   "id": "e8487b8b",
   "metadata": {},
   "source": [
    "## To prevent long-tailed distribution problem. we duplicate data for each underrepresented sentiments to be equals to the number of the sentiment with the most number of data"
   ]
  },
  {
   "cell_type": "code",
   "execution_count": 22,
   "id": "86b806b3",
   "metadata": {},
   "outputs": [
    {
     "name": "stdout",
     "output_type": "stream",
     "text": [
      "The sentiment with the most number of data is neutral with 8480 data\n"
     ]
    }
   ],
   "source": [
    "sentiment_count = dict(cleaned_df['sentiment'].value_counts())\n",
    "\n",
    "# find the sentiment with the largest number of data in training setsentiment,count\n",
    "max_sentiment = [0,0]\n",
    "for sentiment,count in sentiment_count.items():\n",
    "    if(count > max_sentiment[1]):\n",
    "        max_sentiment[0] = sentiment\n",
    "        max_sentiment[1] = count\n",
    "print(\"The sentiment with the most number of data is {} with {} data\".format(max_sentiment[0],max_sentiment[1]))"
   ]
  },
  {
   "cell_type": "markdown",
   "id": "435e3012",
   "metadata": {},
   "source": [
    "### Duplicating sentences from lesser represented sentiments"
   ]
  },
  {
   "cell_type": "code",
   "execution_count": 23,
   "id": "d3d31414",
   "metadata": {},
   "outputs": [
    {
     "name": "stderr",
     "output_type": "stream",
     "text": [
      "100%|███████████████████████████████████████████████████████████████████████████████████████████████████████████████████████████████████| 12/12 [00:00<00:00, 12.95it/s]\n"
     ]
    }
   ],
   "source": [
    "# We augment data until each sentiment has equal number of data as the sentiment with the largest amount of data\n",
    "benchmark_count = max_sentiment[1]\n",
    "\n",
    "# remove the sentiment with the largest amount of data as it need not be augmented\n",
    "sentiments_to_augment = [sentiment for sentiment in cleaned_df['sentiment'].unique() if sentiment!= max_sentiment[0]]\n",
    "\n",
    "augmented_df = {\n",
    "    \"content\":[],\n",
    "    \"sentiment\":[]\n",
    "}\n",
    "\n",
    "# duplicate data\n",
    "for i in tqdm.tqdm(range(len(sentiments_to_augment))):\n",
    "    sentiment = sentiments_to_augment[i]\n",
    "    current_no = sentiment_count[sentiment]\n",
    "    augment_no = benchmark_count -  current_no\n",
    "    data = cleaned_df[cleaned_df['sentiment'] == sentiment].reset_index(drop=True)\n",
    "    for i in range(augment_no):\n",
    "        content = data['content'].iloc[i % len(data)]\n",
    "        augmented_df['content'].append(content)\n",
    "        augmented_df['sentiment'].append(sentiment)"
   ]
  },
  {
   "cell_type": "code",
   "execution_count": 24,
   "id": "c925a912",
   "metadata": {
    "scrolled": true
   },
   "outputs": [],
   "source": [
    "cleaned_df = pd.concat([cleaned_df,pd.DataFrame(augmented_df)],ignore_index=True)"
   ]
  },
  {
   "cell_type": "markdown",
   "id": "449f11ad",
   "metadata": {},
   "source": [
    "### As we can see the distribution in the new dataset is now even"
   ]
  },
  {
   "cell_type": "code",
   "execution_count": 25,
   "id": "a0edb34a",
   "metadata": {},
   "outputs": [
    {
     "data": {
      "image/png": "[encoded data removed]",
      "text/plain": [
       "<Figure size 2000x500 with 1 Axes>"
      ]
     },
     "metadata": {},
     "output_type": "display_data"
    }
   ],
   "source": [
    "plt.rcParams['figure.figsize'] = [20, 5]\n",
    "x= list(dict(cleaned_df.sentiment.value_counts()).keys())\n",
    "y = list(cleaned_df.sentiment.value_counts())\n",
    "plt.bar(x,y)\n",
    "plt.show()"
   ]
  },
  {
   "cell_type": "code",
   "execution_count": 26,
   "id": "4ff36053",
   "metadata": {
    "scrolled": false
   },
   "outputs": [
    {
     "data": {
      "text/plain": [
       "enthusiasm    8480\n",
       "surprise      8480\n",
       "worry         8480\n",
       "happiness     8480\n",
       "neutral       8480\n",
       "sadness       8480\n",
       "love          8480\n",
       "hate          8480\n",
       "relief        8480\n",
       "boredom       8480\n",
       "fun           8480\n",
       "empty         8480\n",
       "anger         8480\n",
       "Name: sentiment, dtype: int64"
      ]
     },
     "execution_count": 26,
     "metadata": {},
     "output_type": "execute_result"
    }
   ],
   "source": [
    "cleaned_df['sentiment'].value_counts()"
   ]
  },
  {
   "cell_type": "code",
   "execution_count": 27,
   "id": "9b2bbba6",
   "metadata": {},
   "outputs": [],
   "source": [
    "# shuffle data\n",
    "cleaned_df = cleaned_df.sample(frac=1).reset_index(drop=True)"
   ]
  },
  {
   "cell_type": "markdown",
   "id": "de973f1b",
   "metadata": {},
   "source": [
    "# Converting 'content' column to sequences\n",
    "---"
   ]
  },
  {
   "cell_type": "code",
   "execution_count": 28,
   "id": "a35e1a82",
   "metadata": {
    "scrolled": false
   },
   "outputs": [
    {
     "name": "stdout",
     "output_type": "stream",
     "text": [
      "Found 31044 unique tokens\n"
     ]
    }
   ],
   "source": [
    "# Vectir dimension is 50\n",
    "EMBEDDING_DIM = 50\n",
    "\n",
    "# get all the content lines train and test\n",
    "content_lines = list(cleaned_df['content'])\n",
    "tokeniser_obj = Tokenizer()\n",
    "tokeniser_obj.fit_on_texts(content_lines)\n",
    "\n",
    "word_index = tokeniser_obj.word_index\n",
    "print('Found {} unique tokens'.format(len(word_index)))\n",
    "\n",
    "sequences = tokeniser_obj.texts_to_sequences(content_lines)\n",
    "\n",
    "# pad shorter sentence to fit max_length of sentence\n",
    "content_pad = pad_sequences(sequences,maxlen = max_length)"
   ]
  },
  {
   "cell_type": "code",
   "execution_count": 29,
   "id": "4fdda978",
   "metadata": {},
   "outputs": [],
   "source": [
    "# number of words has to +1 for the padding\n",
    "num_words = len(word_index) + 1\n",
    "embedding_matrix = np.zeros((num_words,EMBEDDING_DIM))"
   ]
  },
  {
   "cell_type": "code",
   "execution_count": 30,
   "id": "5b573ea1",
   "metadata": {},
   "outputs": [
    {
     "data": {
      "text/plain": [
       "(31045, 50)"
      ]
     },
     "execution_count": 30,
     "metadata": {},
     "output_type": "execute_result"
    }
   ],
   "source": [
    "embedding_matrix.shape"
   ]
  },
  {
   "cell_type": "markdown",
   "id": "ac60ff41",
   "metadata": {},
   "source": [
    "### Map embeddings to the embedding Matrix to feed into Models"
   ]
  },
  {
   "cell_type": "code",
   "execution_count": 32,
   "id": "2c7af163",
   "metadata": {},
   "outputs": [
    {
     "name": "stdout",
     "output_type": "stream",
     "text": [
      "number of words vectorised from w2v: 31043/31045\n"
     ]
    }
   ],
   "source": [
    "count_w2v = 0\n",
    "\n",
    "for word,i in word_index.items():\n",
    "\n",
    "    embedding_vector_w2v = word_vector_map.get(word)\n",
    "\n",
    "    if(embedding_vector_w2v is not None):\n",
    "        embedding_matrix[i] = embedding_vector_w2v\n",
    "        count_w2v+=1\n",
    "        continue\n",
    "        \n",
    "print(\"number of words vectorised from w2v: {}/{}\".format(count_w2v,num_words))"
   ]
  },
  {
   "cell_type": "markdown",
   "id": "4ead4e12",
   "metadata": {},
   "source": [
    "## One-hot encoding the indices"
   ]
  },
  {
   "cell_type": "code",
   "execution_count": 33,
   "id": "731cd43b",
   "metadata": {},
   "outputs": [],
   "source": [
    "# map labels -> indices\n",
    "sentiment_labels = cleaned_df['sentiment'].unique().copy()\n",
    "\n",
    "# index key -> class\n",
    "label_map = {}\n",
    "\n",
    "# class -> index key\n",
    "inverse_label_map = {}\n",
    "for i, label in enumerate(sentiment_labels):\n",
    "    label_map[i] = label \n",
    "    inverse_label_map[label] = i"
   ]
  },
  {
   "cell_type": "code",
   "execution_count": 34,
   "id": "3d9f14a2",
   "metadata": {},
   "outputs": [
    {
     "data": {
      "text/plain": [
       "[0, 1, 2, 3, 4, 5, 6, 7, 8, 9, 10, 11, 12]"
      ]
     },
     "execution_count": 34,
     "metadata": {},
     "output_type": "execute_result"
    }
   ],
   "source": [
    "# get all keys\n",
    "indices = list(label_map.keys())\n",
    "indices"
   ]
  },
  {
   "cell_type": "code",
   "execution_count": 35,
   "id": "7b572589",
   "metadata": {},
   "outputs": [],
   "source": [
    "# maps the word to the one hot vector\n",
    "depth = len(indices)\n",
    "one_hot_encoding = tf.one_hot(indices,depth)"
   ]
  },
  {
   "cell_type": "markdown",
   "id": "1ea34310",
   "metadata": {},
   "source": [
    "## map for indices to labels"
   ]
  },
  {
   "cell_type": "code",
   "execution_count": 36,
   "id": "b816903a",
   "metadata": {
    "scrolled": true
   },
   "outputs": [
    {
     "name": "stdout",
     "output_type": "stream",
     "text": [
      "[1. 0. 0. 0. 0. 0. 0. 0. 0. 0. 0. 0. 0.] --> worry\n",
      "[0. 1. 0. 0. 0. 0. 0. 0. 0. 0. 0. 0. 0.] --> anger\n",
      "[0. 0. 1. 0. 0. 0. 0. 0. 0. 0. 0. 0. 0.] --> surprise\n",
      "[0. 0. 0. 1. 0. 0. 0. 0. 0. 0. 0. 0. 0.] --> enthusiasm\n",
      "[0. 0. 0. 0. 1. 0. 0. 0. 0. 0. 0. 0. 0.] --> boredom\n",
      "[0. 0. 0. 0. 0. 1. 0. 0. 0. 0. 0. 0. 0.] --> relief\n",
      "[0. 0. 0. 0. 0. 0. 1. 0. 0. 0. 0. 0. 0.] --> happiness\n",
      "[0. 0. 0. 0. 0. 0. 0. 1. 0. 0. 0. 0. 0.] --> love\n",
      "[0. 0. 0. 0. 0. 0. 0. 0. 1. 0. 0. 0. 0.] --> neutral\n",
      "[0. 0. 0. 0. 0. 0. 0. 0. 0. 1. 0. 0. 0.] --> sadness\n",
      "[0. 0. 0. 0. 0. 0. 0. 0. 0. 0. 1. 0. 0.] --> fun\n",
      "[0. 0. 0. 0. 0. 0. 0. 0. 0. 0. 0. 1. 0.] --> hate\n",
      "[0. 0. 0. 0. 0. 0. 0. 0. 0. 0. 0. 0. 1.] --> empty\n"
     ]
    }
   ],
   "source": [
    "word_to_vec = {}    \n",
    "for i,oh in enumerate(one_hot_encoding):\n",
    "    print(\"{} --> {}\".format(oh,label_map[i]))\n",
    "    word_to_vec[label_map[i]] = oh.numpy()"
   ]
  },
  {
   "cell_type": "code",
   "execution_count": 37,
   "id": "6c78279c",
   "metadata": {
    "scrolled": true
   },
   "outputs": [
    {
     "data": {
      "text/plain": [
       "{'worry': array([1., 0., 0., 0., 0., 0., 0., 0., 0., 0., 0., 0., 0.], dtype=float32),\n",
       " 'anger': array([0., 1., 0., 0., 0., 0., 0., 0., 0., 0., 0., 0., 0.], dtype=float32),\n",
       " 'surprise': array([0., 0., 1., 0., 0., 0., 0., 0., 0., 0., 0., 0., 0.], dtype=float32),\n",
       " 'enthusiasm': array([0., 0., 0., 1., 0., 0., 0., 0., 0., 0., 0., 0., 0.], dtype=float32),\n",
       " 'boredom': array([0., 0., 0., 0., 1., 0., 0., 0., 0., 0., 0., 0., 0.], dtype=float32),\n",
       " 'relief': array([0., 0., 0., 0., 0., 1., 0., 0., 0., 0., 0., 0., 0.], dtype=float32),\n",
       " 'happiness': array([0., 0., 0., 0., 0., 0., 1., 0., 0., 0., 0., 0., 0.], dtype=float32),\n",
       " 'love': array([0., 0., 0., 0., 0., 0., 0., 1., 0., 0., 0., 0., 0.], dtype=float32),\n",
       " 'neutral': array([0., 0., 0., 0., 0., 0., 0., 0., 1., 0., 0., 0., 0.], dtype=float32),\n",
       " 'sadness': array([0., 0., 0., 0., 0., 0., 0., 0., 0., 1., 0., 0., 0.], dtype=float32),\n",
       " 'fun': array([0., 0., 0., 0., 0., 0., 0., 0., 0., 0., 1., 0., 0.], dtype=float32),\n",
       " 'hate': array([0., 0., 0., 0., 0., 0., 0., 0., 0., 0., 0., 1., 0.], dtype=float32),\n",
       " 'empty': array([0., 0., 0., 0., 0., 0., 0., 0., 0., 0., 0., 0., 1.], dtype=float32)}"
      ]
     },
     "execution_count": 37,
     "metadata": {},
     "output_type": "execute_result"
    }
   ],
   "source": [
    "word_to_vec"
   ]
  },
  {
   "cell_type": "markdown",
   "id": "814534e9",
   "metadata": {},
   "source": [
    "## replacing the labels in dataset with one-hot encoding"
   ]
  },
  {
   "cell_type": "code",
   "execution_count": 38,
   "id": "ca046647",
   "metadata": {},
   "outputs": [
    {
     "name": "stderr",
     "output_type": "stream",
     "text": [
      "100%|█████████████████████████████████████████████████████████████████████████████████████████████████████████████████████████| 110240/110240 [00:23<00:00, 4639.64it/s]\n"
     ]
    }
   ],
   "source": [
    "# getting one-hot encoding for labels\n",
    "\n",
    "labels=[]\n",
    "for sentiment in tqdm.tqdm(cleaned_df['sentiment'].values):\n",
    "    o_h = one_hot_encoding[inverse_label_map[sentiment]]\n",
    "    labels.append(o_h)\n",
    "labels = np.asarray(labels)"
   ]
  },
  {
   "cell_type": "code",
   "execution_count": 39,
   "id": "b138f49d",
   "metadata": {},
   "outputs": [
    {
     "name": "stdout",
     "output_type": "stream",
     "text": [
      "Training size: 77168\n",
      "Test size: 33072\n"
     ]
    }
   ],
   "source": [
    "TRAINING_SIZE = int(len(content_pad)*0.7)\n",
    "\n",
    "X_train_pad = content_pad[:TRAINING_SIZE]\n",
    "y_train = labels[:TRAINING_SIZE]\n",
    "\n",
    "X_test_pad = content_pad[TRAINING_SIZE:]\n",
    "y_test = labels[TRAINING_SIZE:]\n",
    "\n",
    "print(\"Training size: {}\".format(TRAINING_SIZE))\n",
    "print(\"Test size: {}\".format(len(content_pad)-TRAINING_SIZE))\n"
   ]
  },
  {
   "cell_type": "markdown",
   "id": "6f48d92e",
   "metadata": {},
   "source": [
    "# Training and testing RNN,GRU,LSTM and Transformer models"
   ]
  },
  {
   "cell_type": "markdown",
   "id": "8866fb14",
   "metadata": {},
   "source": [
    "### callback to save weights:"
   ]
  },
  {
   "cell_type": "code",
   "execution_count": 40,
   "id": "31428be9",
   "metadata": {},
   "outputs": [],
   "source": [
    "# callback to save the best weights for the model\n",
    "def saveWeightsCallback(path,monitor,mode,save_freq):\n",
    "    return tf.keras.callbacks.ModelCheckpoint(\n",
    "        filepath=path,\n",
    "        monitor = monitor,\n",
    "        verbose = 2,\n",
    "        save_best_only = True,\n",
    "        save_weights_only = True,\n",
    "        mode = mode,\n",
    "        save_freq=save_freq,\n",
    ")"
   ]
  },
  {
   "cell_type": "markdown",
   "id": "902beffc",
   "metadata": {},
   "source": [
    "## Building a RNN model"
   ]
  },
  {
   "cell_type": "code",
   "execution_count": 45,
   "id": "4092286d",
   "metadata": {},
   "outputs": [],
   "source": [
    "def build_RNN_model(embedding_dim,max_length):\n",
    "    model = keras.models.Sequential()\n",
    "    model.add(layers.Embedding(num_words,\n",
    "                               embedding_dim,\n",
    "                               weights=[embedding_matrix]))\n",
    "\n",
    "    model.add(\n",
    "        layers.Bidirectional(\n",
    "            layers.SimpleRNN(units=64,return_sequences=True)\n",
    "        ))\n",
    "    model.add(layers.Dropout(0.2))\n",
    "    model.add(\n",
    "        layers.Bidirectional(\n",
    "            layers.SimpleRNN(units=64)\n",
    "        ))\n",
    "    model.add(layers.Dropout(0.2))\n",
    "    model.add(layers.Dense(13,activation='softmax'))\n",
    "    \n",
    "    return model"
   ]
  },
  {
   "cell_type": "code",
   "execution_count": 46,
   "id": "8f80cdbb",
   "metadata": {},
   "outputs": [
    {
     "name": "stdout",
     "output_type": "stream",
     "text": [
      "Model: \"sequential_1\"\n",
      "_________________________________________________________________\n",
      " Layer (type)                Output Shape              Param #   \n",
      "=================================================================\n",
      " embedding_1 (Embedding)     (None, None, 50)          1552250   \n",
      "                                                                 \n",
      " bidirectional_2 (Bidirectio  (None, None, 128)        14720     \n",
      " nal)                                                            \n",
      "                                                                 \n",
      " dropout (Dropout)           (None, None, 128)         0         \n",
      "                                                                 \n",
      " bidirectional_3 (Bidirectio  (None, 128)              24704     \n",
      " nal)                                                            \n",
      "                                                                 \n",
      " dropout_1 (Dropout)         (None, 128)               0         \n",
      "                                                                 \n",
      " dense_1 (Dense)             (None, 13)                1677      \n",
      "                                                                 \n",
      "=================================================================\n",
      "Total params: 1,593,351\n",
      "Trainable params: 1,593,351\n",
      "Non-trainable params: 0\n",
      "_________________________________________________________________\n"
     ]
    }
   ],
   "source": [
    "RNN_model = build_RNN_model(EMBEDDING_DIM,max_length)\n",
    "\n",
    "RNN_model.compile(\n",
    "    optimizer= Adam(learning_rate=0.0001),\n",
    "    loss='categorical_crossentropy',\n",
    "    metrics=[\n",
    "        'accuracy',\n",
    "    ]\n",
    ")\n",
    "\n",
    "RNN_model.summary()"
   ]
  },
  {
   "cell_type": "code",
   "execution_count": 47,
   "id": "afd9b886",
   "metadata": {
    "scrolled": true
   },
   "outputs": [
    {
     "name": "stdout",
     "output_type": "stream",
     "text": [
      "Epoch 1/20\n",
      "603/603 [==============================] - ETA: 0s - loss: 2.6330 - accuracy: 0.1112\n",
      "Epoch 1: val_loss improved from inf to 2.45761, saving model to ./weights/RNN\n",
      "603/603 [==============================] - 44s 68ms/step - loss: 2.6330 - accuracy: 0.1112 - val_loss: 2.4576 - val_accuracy: 0.1759\n",
      "Epoch 2/20\n",
      "603/603 [==============================] - ETA: 0s - loss: 2.4380 - accuracy: 0.1846\n",
      "Epoch 2: val_loss improved from 2.45761 to 2.31219, saving model to ./weights/RNN\n",
      "603/603 [==============================] - 49s 82ms/step - loss: 2.4380 - accuracy: 0.1846 - val_loss: 2.3122 - val_accuracy: 0.2330\n",
      "Epoch 3/20\n",
      "603/603 [==============================] - ETA: 0s - loss: 2.2931 - accuracy: 0.2358\n",
      "Epoch 3: val_loss improved from 2.31219 to 2.17477, saving model to ./weights/RNN\n",
      "603/603 [==============================] - 44s 74ms/step - loss: 2.2931 - accuracy: 0.2358 - val_loss: 2.1748 - val_accuracy: 0.2735\n",
      "Epoch 4/20\n",
      "602/603 [============================>.] - ETA: 0s - loss: 2.1596 - accuracy: 0.2759\n",
      "Epoch 4: val_loss improved from 2.17477 to 2.06269, saving model to ./weights/RNN\n",
      "603/603 [==============================] - 38s 63ms/step - loss: 2.1595 - accuracy: 0.2760 - val_loss: 2.0627 - val_accuracy: 0.3039\n",
      "Epoch 5/20\n",
      "603/603 [==============================] - ETA: 0s - loss: 2.0519 - accuracy: 0.3047\n",
      "Epoch 5: val_loss improved from 2.06269 to 1.97504, saving model to ./weights/RNN\n",
      "603/603 [==============================] - 37s 62ms/step - loss: 2.0519 - accuracy: 0.3047 - val_loss: 1.9750 - val_accuracy: 0.3253\n",
      "Epoch 6/20\n",
      "603/603 [==============================] - ETA: 0s - loss: 1.9668 - accuracy: 0.3282\n",
      "Epoch 6: val_loss improved from 1.97504 to 1.90910, saving model to ./weights/RNN\n",
      "603/603 [==============================] - 37s 61ms/step - loss: 1.9668 - accuracy: 0.3282 - val_loss: 1.9091 - val_accuracy: 0.3482\n",
      "Epoch 7/20\n",
      "603/603 [==============================] - ETA: 0s - loss: 1.9028 - accuracy: 0.3469\n",
      "Epoch 7: val_loss improved from 1.90910 to 1.86326, saving model to ./weights/RNN\n",
      "603/603 [==============================] - 37s 62ms/step - loss: 1.9028 - accuracy: 0.3469 - val_loss: 1.8633 - val_accuracy: 0.3638\n",
      "Epoch 8/20\n",
      "603/603 [==============================] - ETA: 0s - loss: 1.8515 - accuracy: 0.3626\n",
      "Epoch 8: val_loss improved from 1.86326 to 1.81926, saving model to ./weights/RNN\n",
      "603/603 [==============================] - 37s 61ms/step - loss: 1.8515 - accuracy: 0.3626 - val_loss: 1.8193 - val_accuracy: 0.3807\n",
      "Epoch 9/20\n",
      "603/603 [==============================] - ETA: 0s - loss: 1.8027 - accuracy: 0.3814\n",
      "Epoch 9: val_loss improved from 1.81926 to 1.78127, saving model to ./weights/RNN\n",
      "603/603 [==============================] - 34s 56ms/step - loss: 1.8027 - accuracy: 0.3814 - val_loss: 1.7813 - val_accuracy: 0.3954\n",
      "Epoch 10/20\n",
      "602/603 [============================>.] - ETA: 0s - loss: 1.7612 - accuracy: 0.3970\n",
      "Epoch 10: val_loss improved from 1.78127 to 1.74780, saving model to ./weights/RNN\n",
      "603/603 [==============================] - 35s 57ms/step - loss: 1.7611 - accuracy: 0.3971 - val_loss: 1.7478 - val_accuracy: 0.4098\n",
      "Epoch 11/20\n",
      "602/603 [============================>.] - ETA: 0s - loss: 1.7175 - accuracy: 0.4132\n",
      "Epoch 11: val_loss improved from 1.74780 to 1.71141, saving model to ./weights/RNN\n",
      "603/603 [==============================] - 34s 57ms/step - loss: 1.7176 - accuracy: 0.4132 - val_loss: 1.7114 - val_accuracy: 0.4227\n",
      "Epoch 12/20\n",
      "603/603 [==============================] - ETA: 0s - loss: 1.6728 - accuracy: 0.4306\n",
      "Epoch 12: val_loss improved from 1.71141 to 1.67038, saving model to ./weights/RNN\n",
      "603/603 [==============================] - 35s 58ms/step - loss: 1.6728 - accuracy: 0.4306 - val_loss: 1.6704 - val_accuracy: 0.4406\n",
      "Epoch 13/20\n",
      "603/603 [==============================] - ETA: 0s - loss: 1.6260 - accuracy: 0.4471\n",
      "Epoch 13: val_loss improved from 1.67038 to 1.63381, saving model to ./weights/RNN\n",
      "603/603 [==============================] - 32s 53ms/step - loss: 1.6260 - accuracy: 0.4471 - val_loss: 1.6338 - val_accuracy: 0.4511\n",
      "Epoch 14/20\n",
      "603/603 [==============================] - ETA: 0s - loss: 1.5806 - accuracy: 0.4633\n",
      "Epoch 14: val_loss improved from 1.63381 to 1.59598, saving model to ./weights/RNN\n",
      "603/603 [==============================] - 27s 45ms/step - loss: 1.5806 - accuracy: 0.4633 - val_loss: 1.5960 - val_accuracy: 0.4652\n",
      "Epoch 15/20\n",
      "602/603 [============================>.] - ETA: 0s - loss: 1.5350 - accuracy: 0.4816\n",
      "Epoch 15: val_loss improved from 1.59598 to 1.55793, saving model to ./weights/RNN\n",
      "603/603 [==============================] - 27s 45ms/step - loss: 1.5347 - accuracy: 0.4818 - val_loss: 1.5579 - val_accuracy: 0.4777\n",
      "Epoch 16/20\n",
      "602/603 [============================>.] - ETA: 0s - loss: 1.4896 - accuracy: 0.4962\n",
      "Epoch 16: val_loss improved from 1.55793 to 1.52148, saving model to ./weights/RNN\n",
      "603/603 [==============================] - 26s 44ms/step - loss: 1.4898 - accuracy: 0.4963 - val_loss: 1.5215 - val_accuracy: 0.4910\n",
      "Epoch 17/20\n",
      "602/603 [============================>.] - ETA: 0s - loss: 1.4467 - accuracy: 0.5098\n",
      "Epoch 17: val_loss improved from 1.52148 to 1.48156, saving model to ./weights/RNN\n",
      "603/603 [==============================] - 26s 44ms/step - loss: 1.4467 - accuracy: 0.5098 - val_loss: 1.4816 - val_accuracy: 0.5036\n",
      "Epoch 18/20\n",
      "603/603 [==============================] - ETA: 0s - loss: 1.4050 - accuracy: 0.5226\n",
      "Epoch 18: val_loss improved from 1.48156 to 1.45339, saving model to ./weights/RNN\n",
      "603/603 [==============================] - 26s 44ms/step - loss: 1.4050 - accuracy: 0.5226 - val_loss: 1.4534 - val_accuracy: 0.5137\n",
      "Epoch 19/20\n",
      "603/603 [==============================] - ETA: 0s - loss: 1.3607 - accuracy: 0.5366\n",
      "Epoch 19: val_loss improved from 1.45339 to 1.41585, saving model to ./weights/RNN\n",
      "603/603 [==============================] - 26s 44ms/step - loss: 1.3607 - accuracy: 0.5366 - val_loss: 1.4158 - val_accuracy: 0.5268\n",
      "Epoch 20/20\n",
      "602/603 [============================>.] - ETA: 0s - loss: 1.3248 - accuracy: 0.5482\n",
      "Epoch 20: val_loss improved from 1.41585 to 1.38400, saving model to ./weights/RNN\n",
      "603/603 [==============================] - 26s 44ms/step - loss: 1.3248 - accuracy: 0.5482 - val_loss: 1.3840 - val_accuracy: 0.5360\n"
     ]
    }
   ],
   "source": [
    "history = RNN_model.fit(X_train_pad,\n",
    "                        y_train,\n",
    "                        batch_size=128,\n",
    "                        epochs = 20,\n",
    "                        verbose=1,\n",
    "                        validation_data = (X_test_pad,y_test),\n",
    "                        callbacks = [EarlyStopping(monitor='val_accuracy', patience=2),\n",
    "                                     saveWeightsCallback(\n",
    "                                         path='./weights/RNN',\n",
    "                                         monitor = 'val_loss',\n",
    "                                         mode = 'min',\n",
    "                                         save_freq='epoch')])         "
   ]
  },
  {
   "cell_type": "markdown",
   "id": "7c3a49c9",
   "metadata": {},
   "source": [
    "## Loss over Epochs"
   ]
  },
  {
   "cell_type": "code",
   "execution_count": 48,
   "id": "b4c00c14",
   "metadata": {},
   "outputs": [
    {
     "data": {
      "text/plain": [
       "Text(0, 0.5, 'loss')"
      ]
     },
     "execution_count": 48,
     "metadata": {},
     "output_type": "execute_result"
    },
    {
     "data": {
      "image/png": "[encoded data removed]",
      "text/plain": [
       "<Figure size 2000x500 with 1 Axes>"
      ]
     },
     "metadata": {},
     "output_type": "display_data"
    }
   ],
   "source": [
    "loss = history.history['loss']\n",
    "plt.plot(loss,[epoch+1 for epoch in range(0,len(loss))])\n",
    "plt.xlabel('epochs')\n",
    "plt.ylabel('loss')"
   ]
  },
  {
   "cell_type": "markdown",
   "id": "4285f7ea",
   "metadata": {},
   "source": [
    "## Validation accuracy over Epochs"
   ]
  },
  {
   "cell_type": "code",
   "execution_count": 49,
   "id": "b17a17fd",
   "metadata": {},
   "outputs": [
    {
     "name": "stdout",
     "output_type": "stream",
     "text": [
      "RNN validation accuracy: 0.536\n"
     ]
    },
    {
     "data": {
      "image/png": "[encoded data removed]",
      "text/plain": [
       "<Figure size 2000x500 with 1 Axes>"
      ]
     },
     "metadata": {},
     "output_type": "display_data"
    }
   ],
   "source": [
    "val_accuracy = history.history['val_accuracy']\n",
    "plt.plot([epoch+1 for epoch in range(0,len(val_accuracy))],val_accuracy)\n",
    "plt.xlabel('epochs')\n",
    "plt.ylabel('val_accuracy')\n",
    "\n",
    "print('RNN validation accuracy: {}'.format(round(val_accuracy[-1],4)))"
   ]
  },
  {
   "cell_type": "markdown",
   "id": "604f1f15",
   "metadata": {},
   "source": [
    "# Building GRU model"
   ]
  },
  {
   "cell_type": "code",
   "execution_count": 50,
   "id": "715b73dd",
   "metadata": {},
   "outputs": [],
   "source": [
    "def build_GRU_model(embedding_dim,max_length):\n",
    "    model = keras.models.Sequential()\n",
    "    model.add(layers.Embedding(num_words,\n",
    "                               embedding_dim,\n",
    "                               weights=[embedding_matrix]))\n",
    "\n",
    "    model.add(\n",
    "        layers.Bidirectional(\n",
    "            layers.GRU(units=64,return_sequences=True)\n",
    "        ))\n",
    "    model.add(layers.Dropout(0.2))\n",
    "    model.add(\n",
    "        layers.Bidirectional(\n",
    "            layers.GRU(units=64)\n",
    "        ))\n",
    "    model.add(layers.Dropout(0.2))\n",
    "    model.add(layers.Dense(13,activation='softmax'))\n",
    "    \n",
    "    return model"
   ]
  },
  {
   "cell_type": "code",
   "execution_count": 51,
   "id": "d5749d50",
   "metadata": {},
   "outputs": [
    {
     "name": "stdout",
     "output_type": "stream",
     "text": [
      "Model: \"sequential_2\"\n",
      "_________________________________________________________________\n",
      " Layer (type)                Output Shape              Param #   \n",
      "=================================================================\n",
      " embedding_2 (Embedding)     (None, None, 50)          1552250   \n",
      "                                                                 \n",
      " bidirectional_4 (Bidirectio  (None, None, 128)        44544     \n",
      " nal)                                                            \n",
      "                                                                 \n",
      " dropout_2 (Dropout)         (None, None, 128)         0         \n",
      "                                                                 \n",
      " bidirectional_5 (Bidirectio  (None, 128)              74496     \n",
      " nal)                                                            \n",
      "                                                                 \n",
      " dropout_3 (Dropout)         (None, 128)               0         \n",
      "                                                                 \n",
      " dense_2 (Dense)             (None, 13)                1677      \n",
      "                                                                 \n",
      "=================================================================\n",
      "Total params: 1,672,967\n",
      "Trainable params: 1,672,967\n",
      "Non-trainable params: 0\n",
      "_________________________________________________________________\n"
     ]
    }
   ],
   "source": [
    "GRU_model = build_GRU_model(EMBEDDING_DIM,max_length)\n",
    "\n",
    "GRU_model.compile(\n",
    "    optimizer= Adam(learning_rate=0.0001),\n",
    "    loss='categorical_crossentropy',\n",
    "    metrics=[\n",
    "        'accuracy',\n",
    "    ]\n",
    ")\n",
    "\n",
    "GRU_model.summary()"
   ]
  },
  {
   "cell_type": "code",
   "execution_count": 52,
   "id": "a6cc91e3",
   "metadata": {
    "scrolled": false
   },
   "outputs": [
    {
     "name": "stdout",
     "output_type": "stream",
     "text": [
      "Epoch 1/20\n",
      "603/603 [==============================] - 46s 69ms/step - loss: 2.5116 - accuracy: 0.1362 - val_loss: 2.4338 - val_accuracy: 0.1791\n",
      "Epoch 2/20\n",
      "603/603 [==============================] - 53s 88ms/step - loss: 2.3647 - accuracy: 0.2034 - val_loss: 2.3001 - val_accuracy: 0.2277\n",
      "Epoch 3/20\n",
      "603/603 [==============================] - 53s 88ms/step - loss: 2.2187 - accuracy: 0.2533 - val_loss: 2.1527 - val_accuracy: 0.2769\n",
      "Epoch 4/20\n",
      "603/603 [==============================] - 55s 92ms/step - loss: 2.0768 - accuracy: 0.2988 - val_loss: 2.0331 - val_accuracy: 0.3151\n",
      "Epoch 5/20\n",
      "603/603 [==============================] - 58s 96ms/step - loss: 1.9691 - accuracy: 0.3283 - val_loss: 1.9440 - val_accuracy: 0.3385\n",
      "Epoch 6/20\n",
      "603/603 [==============================] - 58s 96ms/step - loss: 1.8881 - accuracy: 0.3516 - val_loss: 1.8766 - val_accuracy: 0.3589\n",
      "Epoch 7/20\n",
      "603/603 [==============================] - 54s 89ms/step - loss: 1.8280 - accuracy: 0.3694 - val_loss: 1.8288 - val_accuracy: 0.3767\n",
      "Epoch 8/20\n",
      "603/603 [==============================] - 54s 90ms/step - loss: 1.7803 - accuracy: 0.3857 - val_loss: 1.7931 - val_accuracy: 0.3893\n",
      "Epoch 9/20\n",
      "603/603 [==============================] - 57s 94ms/step - loss: 1.7376 - accuracy: 0.4014 - val_loss: 1.7606 - val_accuracy: 0.4024\n",
      "Epoch 10/20\n",
      "603/603 [==============================] - 56s 93ms/step - loss: 1.7001 - accuracy: 0.4160 - val_loss: 1.7300 - val_accuracy: 0.4135\n",
      "Epoch 11/20\n",
      "603/603 [==============================] - 55s 92ms/step - loss: 1.6604 - accuracy: 0.4312 - val_loss: 1.7037 - val_accuracy: 0.4233\n",
      "Epoch 12/20\n",
      "603/603 [==============================] - 55s 91ms/step - loss: 1.6227 - accuracy: 0.4459 - val_loss: 1.6682 - val_accuracy: 0.4384\n",
      "Epoch 13/20\n",
      "603/603 [==============================] - 54s 90ms/step - loss: 1.5847 - accuracy: 0.4593 - val_loss: 1.6381 - val_accuracy: 0.4514\n",
      "Epoch 14/20\n",
      "603/603 [==============================] - 54s 90ms/step - loss: 1.5447 - accuracy: 0.4731 - val_loss: 1.6080 - val_accuracy: 0.4628\n",
      "Epoch 15/20\n",
      "603/603 [==============================] - 55s 92ms/step - loss: 1.5051 - accuracy: 0.4879 - val_loss: 1.5755 - val_accuracy: 0.4748\n",
      "Epoch 16/20\n",
      "603/603 [==============================] - 57s 95ms/step - loss: 1.4648 - accuracy: 0.5001 - val_loss: 1.5428 - val_accuracy: 0.4862\n",
      "Epoch 17/20\n",
      "603/603 [==============================] - 54s 89ms/step - loss: 1.4268 - accuracy: 0.5145 - val_loss: 1.5081 - val_accuracy: 0.5003\n",
      "Epoch 18/20\n",
      "603/603 [==============================] - 55s 91ms/step - loss: 1.3896 - accuracy: 0.5271 - val_loss: 1.4810 - val_accuracy: 0.5110\n",
      "Epoch 19/20\n",
      "603/603 [==============================] - 56s 93ms/step - loss: 1.3514 - accuracy: 0.5409 - val_loss: 1.4467 - val_accuracy: 0.5217\n",
      "Epoch 20/20\n",
      "603/603 [==============================] - 69s 114ms/step - loss: 1.3137 - accuracy: 0.5540 - val_loss: 1.4235 - val_accuracy: 0.5314\n"
     ]
    }
   ],
   "source": [
    "history = GRU_model.fit(X_train_pad,\n",
    "                        y_train,\n",
    "                        batch_size=128,\n",
    "                        epochs = 20,\n",
    "                        verbose=1,\n",
    "                        validation_data = (X_test_pad,y_test))\n",
    "\n",
    "callbacks = [EarlyStopping(monitor='val_accuracy', patience=2),\n",
    "                     saveWeightsCallback(\n",
    "                         path='./weights/GRU',\n",
    "                         monitor = 'val_loss',\n",
    "                         mode = 'min',\n",
    "                         save_freq='epoch',\n",
    "                     )],         "
   ]
  },
  {
   "cell_type": "markdown",
   "id": "6dafffbb",
   "metadata": {},
   "source": [
    "## Loss over Epochs"
   ]
  },
  {
   "cell_type": "code",
   "execution_count": 53,
   "id": "6dd548c1",
   "metadata": {},
   "outputs": [
    {
     "data": {
      "text/plain": [
       "Text(0, 0.5, 'loss')"
      ]
     },
     "execution_count": 53,
     "metadata": {},
     "output_type": "execute_result"
    },
    {
     "data": {
      "image/png": "[encoded data removed]",
      "text/plain": [
       "<Figure size 2000x500 with 1 Axes>"
      ]
     },
     "metadata": {},
     "output_type": "display_data"
    }
   ],
   "source": [
    "loss = history.history['loss']\n",
    "plt.plot(loss,[epoch+1 for epoch in range(0,len(loss))])\n",
    "plt.xlabel('epochs')\n",
    "plt.ylabel('loss')"
   ]
  },
  {
   "cell_type": "markdown",
   "id": "f578d75f",
   "metadata": {},
   "source": [
    "## Validation accuracy over Epochs"
   ]
  },
  {
   "cell_type": "code",
   "execution_count": 54,
   "id": "dd6ad136",
   "metadata": {},
   "outputs": [
    {
     "name": "stdout",
     "output_type": "stream",
     "text": [
      "GRU validation accuracy: 0.5314\n"
     ]
    },
    {
     "data": {
      "image/png": "[encoded data removed]",
      "text/plain": [
       "<Figure size 2000x500 with 1 Axes>"
      ]
     },
     "metadata": {},
     "output_type": "display_data"
    }
   ],
   "source": [
    "val_accuracy = history.history['val_accuracy']\n",
    "plt.plot([epoch+1 for epoch in range(0,len(val_accuracy))],val_accuracy)\n",
    "plt.xlabel('epochs')\n",
    "plt.ylabel('val_accuracy')\n",
    "print('GRU validation accuracy: {}'.format(round(val_accuracy[-1],4)))"
   ]
  },
  {
   "cell_type": "markdown",
   "id": "00efea0f",
   "metadata": {},
   "source": [
    "# LSTM"
   ]
  },
  {
   "cell_type": "code",
   "execution_count": 55,
   "id": "d50f4ec7",
   "metadata": {},
   "outputs": [],
   "source": [
    "def build_LSTM_model(embedding_dim,max_length):\n",
    "    model = keras.models.Sequential()\n",
    "    model.add(layers.Embedding(input_dim=num_words,\n",
    "                               output_dim=embedding_dim))\n",
    "    model.add(layers.Bidirectional(\n",
    "        layers.LSTM(units=64,return_sequences=True)))\n",
    "    model.add(layers.Dropout(0.2))\n",
    "    model.add(layers.Bidirectional(\n",
    "        layers.LSTM(units=64)))\n",
    "    model.add(layers.Dropout(0.2))\n",
    "    model.add(layers.Dense(13,activation='softmax'))\n",
    "    return model"
   ]
  },
  {
   "cell_type": "code",
   "execution_count": 56,
   "id": "40765e20",
   "metadata": {},
   "outputs": [
    {
     "name": "stdout",
     "output_type": "stream",
     "text": [
      "Model: \"sequential_3\"\n",
      "_________________________________________________________________\n",
      " Layer (type)                Output Shape              Param #   \n",
      "=================================================================\n",
      " embedding_3 (Embedding)     (None, None, 50)          1552250   \n",
      "                                                                 \n",
      " bidirectional_6 (Bidirectio  (None, None, 128)        58880     \n",
      " nal)                                                            \n",
      "                                                                 \n",
      " dropout_4 (Dropout)         (None, None, 128)         0         \n",
      "                                                                 \n",
      " bidirectional_7 (Bidirectio  (None, 128)              98816     \n",
      " nal)                                                            \n",
      "                                                                 \n",
      " dropout_5 (Dropout)         (None, 128)               0         \n",
      "                                                                 \n",
      " dense_3 (Dense)             (None, 13)                1677      \n",
      "                                                                 \n",
      "=================================================================\n",
      "Total params: 1,711,623\n",
      "Trainable params: 1,711,623\n",
      "Non-trainable params: 0\n",
      "_________________________________________________________________\n"
     ]
    }
   ],
   "source": [
    "LSTM_model = build_LSTM_model(EMBEDDING_DIM,max_length)\n",
    "\n",
    "LSTM_model.compile(\n",
    "    optimizer= Adam(learning_rate=0.0001),\n",
    "    loss='categorical_crossentropy',\n",
    "    metrics=[\n",
    "        'accuracy',\n",
    "    ]\n",
    ")\n",
    "\n",
    "LSTM_model.summary()"
   ]
  },
  {
   "cell_type": "code",
   "execution_count": 57,
   "id": "6a58d45e",
   "metadata": {},
   "outputs": [
    {
     "name": "stdout",
     "output_type": "stream",
     "text": [
      "Epoch 1/20\n",
      "603/603 [==============================] - ETA: 0s - loss: 2.4634 - accuracy: 0.1408\n",
      "Epoch 1: val_loss improved from inf to 2.08432, saving model to ./weights/LSTM\n",
      "603/603 [==============================] - 87s 132ms/step - loss: 2.4634 - accuracy: 0.1408 - val_loss: 2.0843 - val_accuracy: 0.2762\n",
      "Epoch 2/20\n",
      "603/603 [==============================] - ETA: 0s - loss: 1.8703 - accuracy: 0.3502\n",
      "Epoch 2: val_loss improved from 2.08432 to 1.72856, saving model to ./weights/LSTM\n",
      "603/603 [==============================] - 79s 131ms/step - loss: 1.8703 - accuracy: 0.3502 - val_loss: 1.7286 - val_accuracy: 0.4179\n",
      "Epoch 3/20\n",
      "603/603 [==============================] - ETA: 0s - loss: 1.6055 - accuracy: 0.4598\n",
      "Epoch 3: val_loss improved from 1.72856 to 1.58921, saving model to ./weights/LSTM\n",
      "603/603 [==============================] - 72s 119ms/step - loss: 1.6055 - accuracy: 0.4598 - val_loss: 1.5892 - val_accuracy: 0.4826\n",
      "Epoch 4/20\n",
      "603/603 [==============================] - ETA: 0s - loss: 1.4370 - accuracy: 0.5351\n",
      "Epoch 4: val_loss improved from 1.58921 to 1.48128, saving model to ./weights/LSTM\n",
      "603/603 [==============================] - 75s 124ms/step - loss: 1.4370 - accuracy: 0.5351 - val_loss: 1.4813 - val_accuracy: 0.5334\n",
      "Epoch 5/20\n",
      "603/603 [==============================] - ETA: 0s - loss: 1.3083 - accuracy: 0.5842\n",
      "Epoch 5: val_loss improved from 1.48128 to 1.38763, saving model to ./weights/LSTM\n",
      "603/603 [==============================] - 74s 123ms/step - loss: 1.3083 - accuracy: 0.5842 - val_loss: 1.3876 - val_accuracy: 0.5657\n",
      "Epoch 6/20\n",
      "603/603 [==============================] - ETA: 0s - loss: 1.2136 - accuracy: 0.6173\n",
      "Epoch 6: val_loss improved from 1.38763 to 1.33879, saving model to ./weights/LSTM\n",
      "603/603 [==============================] - 72s 119ms/step - loss: 1.2136 - accuracy: 0.6173 - val_loss: 1.3388 - val_accuracy: 0.5842\n",
      "Epoch 7/20\n",
      "603/603 [==============================] - ETA: 0s - loss: 1.1416 - accuracy: 0.6426\n",
      "Epoch 7: val_loss improved from 1.33879 to 1.31467, saving model to ./weights/LSTM\n",
      "603/603 [==============================] - 71s 118ms/step - loss: 1.1416 - accuracy: 0.6426 - val_loss: 1.3147 - val_accuracy: 0.5948\n",
      "Epoch 8/20\n",
      "603/603 [==============================] - ETA: 0s - loss: 1.0894 - accuracy: 0.6612\n",
      "Epoch 8: val_loss improved from 1.31467 to 1.28542, saving model to ./weights/LSTM\n",
      "603/603 [==============================] - 84s 140ms/step - loss: 1.0894 - accuracy: 0.6612 - val_loss: 1.2854 - val_accuracy: 0.6017\n",
      "Epoch 9/20\n",
      "603/603 [==============================] - ETA: 0s - loss: 1.0431 - accuracy: 0.6766\n",
      "Epoch 9: val_loss improved from 1.28542 to 1.25100, saving model to ./weights/LSTM\n",
      "603/603 [==============================] - 133s 220ms/step - loss: 1.0431 - accuracy: 0.6766 - val_loss: 1.2510 - val_accuracy: 0.6113\n",
      "Epoch 10/20\n",
      "603/603 [==============================] - ETA: 0s - loss: 1.0060 - accuracy: 0.6920\n",
      "Epoch 10: val_loss did not improve from 1.25100\n",
      "603/603 [==============================] - 98s 162ms/step - loss: 1.0060 - accuracy: 0.6920 - val_loss: 1.2557 - val_accuracy: 0.6149\n",
      "Epoch 11/20\n",
      "603/603 [==============================] - ETA: 0s - loss: 0.9768 - accuracy: 0.7012\n",
      "Epoch 11: val_loss improved from 1.25100 to 1.23174, saving model to ./weights/LSTM\n",
      "603/603 [==============================] - 82s 137ms/step - loss: 0.9768 - accuracy: 0.7012 - val_loss: 1.2317 - val_accuracy: 0.6191\n",
      "Epoch 12/20\n",
      "603/603 [==============================] - ETA: 0s - loss: 0.9420 - accuracy: 0.7126\n",
      "Epoch 12: val_loss did not improve from 1.23174\n",
      "603/603 [==============================] - 83s 137ms/step - loss: 0.9420 - accuracy: 0.7126 - val_loss: 1.2416 - val_accuracy: 0.6182\n",
      "Epoch 13/20\n",
      "603/603 [==============================] - ETA: 0s - loss: 0.9263 - accuracy: 0.7179\n",
      "Epoch 13: val_loss improved from 1.23174 to 1.21935, saving model to ./weights/LSTM\n",
      "603/603 [==============================] - 78s 129ms/step - loss: 0.9263 - accuracy: 0.7179 - val_loss: 1.2194 - val_accuracy: 0.6299\n",
      "Epoch 14/20\n",
      "603/603 [==============================] - ETA: 0s - loss: 0.9002 - accuracy: 0.7259\n",
      "Epoch 14: val_loss improved from 1.21935 to 1.19702, saving model to ./weights/LSTM\n",
      "603/603 [==============================] - 75s 125ms/step - loss: 0.9002 - accuracy: 0.7259 - val_loss: 1.1970 - val_accuracy: 0.6311\n",
      "Epoch 15/20\n",
      "603/603 [==============================] - ETA: 0s - loss: 0.8752 - accuracy: 0.7329\n",
      "Epoch 15: val_loss improved from 1.19702 to 1.17898, saving model to ./weights/LSTM\n",
      "603/603 [==============================] - 80s 133ms/step - loss: 0.8752 - accuracy: 0.7329 - val_loss: 1.1790 - val_accuracy: 0.6337\n",
      "Epoch 16/20\n",
      "603/603 [==============================] - ETA: 0s - loss: 0.8614 - accuracy: 0.7360\n",
      "Epoch 16: val_loss improved from 1.17898 to 1.17640, saving model to ./weights/LSTM\n",
      "603/603 [==============================] - 115s 190ms/step - loss: 0.8614 - accuracy: 0.7360 - val_loss: 1.1764 - val_accuracy: 0.6387\n",
      "Epoch 17/20\n",
      "603/603 [==============================] - ETA: 0s - loss: 0.8453 - accuracy: 0.7415\n",
      "Epoch 17: val_loss improved from 1.17640 to 1.17498, saving model to ./weights/LSTM\n",
      "603/603 [==============================] - 81s 135ms/step - loss: 0.8453 - accuracy: 0.7415 - val_loss: 1.1750 - val_accuracy: 0.6381\n",
      "Epoch 18/20\n",
      "603/603 [==============================] - ETA: 0s - loss: 0.8293 - accuracy: 0.7457\n",
      "Epoch 18: val_loss improved from 1.17498 to 1.16673, saving model to ./weights/LSTM\n",
      "603/603 [==============================] - 81s 133ms/step - loss: 0.8293 - accuracy: 0.7457 - val_loss: 1.1667 - val_accuracy: 0.6444\n",
      "Epoch 19/20\n",
      "603/603 [==============================] - ETA: 0s - loss: 0.8094 - accuracy: 0.7501\n",
      "Epoch 19: val_loss improved from 1.16673 to 1.14496, saving model to ./weights/LSTM\n",
      "603/603 [==============================] - 80s 132ms/step - loss: 0.8094 - accuracy: 0.7501 - val_loss: 1.1450 - val_accuracy: 0.6483\n",
      "Epoch 20/20\n",
      "603/603 [==============================] - ETA: 0s - loss: 0.7929 - accuracy: 0.7563\n",
      "Epoch 20: val_loss did not improve from 1.14496\n",
      "603/603 [==============================] - 80s 133ms/step - loss: 0.7929 - accuracy: 0.7563 - val_loss: 1.1701 - val_accuracy: 0.6468\n"
     ]
    }
   ],
   "source": [
    "history = LSTM_model.fit(X_train_pad,\n",
    "                        y_train,\n",
    "                        batch_size=128,\n",
    "                        epochs = 20,\n",
    "                        verbose=1,\n",
    "                        validation_data = (X_test_pad,y_test),\n",
    "                        callbacks = [EarlyStopping(monitor='val_accuracy', patience=2),\n",
    "                                     saveWeightsCallback(\n",
    "                                         path='./weights/LSTM',\n",
    "                                         monitor = 'val_loss',\n",
    "                                         mode = 'min',\n",
    "                                         save_freq='epoch')])\n",
    "callbacks = [EarlyStopping(monitor='val_accuracy', patience=2),\n",
    "                     saveWeightsCallback(\n",
    "                         path='./weights/LSTM',\n",
    "                         monitor = 'val_loss',\n",
    "                         mode = 'min',\n",
    "                         save_freq='epoch',\n",
    "                     )],         "
   ]
  },
  {
   "cell_type": "markdown",
   "id": "90eb3013",
   "metadata": {},
   "source": [
    "## Loss over epochs for LSTM model"
   ]
  },
  {
   "cell_type": "code",
   "execution_count": 58,
   "id": "0c575884",
   "metadata": {},
   "outputs": [
    {
     "data": {
      "text/plain": [
       "Text(0, 0.5, 'loss')"
      ]
     },
     "execution_count": 58,
     "metadata": {},
     "output_type": "execute_result"
    },
    {
     "data": {
      "image/png": "[encoded data removed]",
      "text/plain": [
       "<Figure size 2000x500 with 1 Axes>"
      ]
     },
     "metadata": {},
     "output_type": "display_data"
    }
   ],
   "source": [
    "loss = history.history['loss']\n",
    "plt.plot(loss,[epoch+1 for epoch in range(0,len(loss))])\n",
    "plt.xlabel('epochs')\n",
    "plt.ylabel('loss')"
   ]
  },
  {
   "cell_type": "markdown",
   "id": "8c24b30d",
   "metadata": {},
   "source": [
    "## Accuracy over epochs for LSTM model"
   ]
  },
  {
   "cell_type": "code",
   "execution_count": 59,
   "id": "df9c1776",
   "metadata": {},
   "outputs": [
    {
     "name": "stdout",
     "output_type": "stream",
     "text": [
      "LSTM validation accuracy: 0.6468\n"
     ]
    },
    {
     "data": {
      "image/png": "[encoded data removed]",
      "text/plain": [
       "<Figure size 2000x500 with 1 Axes>"
      ]
     },
     "metadata": {},
     "output_type": "display_data"
    }
   ],
   "source": [
    "val_accuracy = history.history['val_accuracy']\n",
    "plt.plot([epoch+1 for epoch in range(0,len(val_accuracy))],val_accuracy)\n",
    "plt.xlabel('epochs')\n",
    "plt.ylabel('accuracy')\n",
    "print('LSTM validation accuracy: {}'.format(round(val_accuracy[-1],4)))"
   ]
  },
  {
   "cell_type": "markdown",
   "id": "303a6870",
   "metadata": {},
   "source": [
    "# Transformers (Hwan Add Plz)"
   ]
  }
 ],
 "metadata": {
  "kernelspec": {
   "display_name": "neuralNetworks",
   "language": "python",
   "name": "neuralnetworks"
  },
  "language_info": {
   "codemirror_mode": {
    "name": "ipython",
    "version": 3
   },
   "file_extension": ".py",
   "mimetype": "text/x-python",
   "name": "python",
   "nbconvert_exporter": "python",
   "pygments_lexer": "ipython3",
   "version": "3.10.4"
  }
 },
 "nbformat": 4,
 "nbformat_minor": 5
}
