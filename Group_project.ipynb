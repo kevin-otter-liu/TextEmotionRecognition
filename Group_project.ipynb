{
 "cells": [
  {
   "cell_type": "code",
   "execution_count": 1,
   "id": "ce0b8b5f",
   "metadata": {},
   "outputs": [
    {
     "name": "stderr",
     "output_type": "stream",
     "text": [
      "2022-11-08 00:47:56.761229: I tensorflow/core/platform/cpu_feature_guard.cc:193] This TensorFlow binary is optimized with oneAPI Deep Neural Network Library (oneDNN) to use the following CPU instructions in performance-critical operations:  AVX2 FMA\n",
      "To enable them in other operations, rebuild TensorFlow with the appropriate compiler flags.\n"
     ]
    }
   ],
   "source": [
    "import pandas as pd\n",
    "import os\n",
    "import tensorflow as tf\n",
    "from tensorflow import keras\n",
    "from tensorflow.keras import layers\n",
    "from tensorflow.keras.optimizers import Adam\n",
    "from tensorflow.keras.callbacks import EarlyStopping,ModelCheckpoint\n",
    "from tensorflow.keras.preprocessing.text import Tokenizer\n",
    "from tensorflow.keras.preprocessing.sequence import pad_sequences\n",
    "\n",
    "\n",
    "import numpy as np\n",
    "import io\n",
    "import re\n",
    "import string\n",
    "import tqdm\n",
    "import nltk\n",
    "from nltk.stem.wordnet import WordNetLemmatizer \n",
    "from nltk.tokenize import word_tokenize\n",
    "import contractions\n",
    "\n",
    "import matplotlib.pyplot as plt\n",
    "\n",
    "import nlpaug.augmenter.word as naw\n",
    "physical_devices = tf.config.list_physical_devices('GPU')\n",
    "#tf.config.experimental.set_memory_growth(physical_devices[0],True)"
   ]
  },
  {
   "cell_type": "code",
   "execution_count": 2,
   "id": "27427c6e",
   "metadata": {},
   "outputs": [],
   "source": [
    "%load_ext tensorboard\n",
    "SEED = 42\n",
    "AUTOTUNE = tf.data.AUTOTUNE"
   ]
  },
  {
   "cell_type": "code",
   "execution_count": 3,
   "id": "7c9eaef1",
   "metadata": {},
   "outputs": [],
   "source": [
    "pd.set_option('display.max_colwidth', None)\n",
    "df = pd.read_csv(\"./data/text_emotion.csv\")"
   ]
  },
  {
   "cell_type": "code",
   "execution_count": 4,
   "id": "962c59a5",
   "metadata": {
    "scrolled": true
   },
   "outputs": [],
   "source": [
    "cleaned_df = df.copy()\n",
    "# lowercasing 'content' column\n",
    "cleaned_df['content'] = cleaned_df['content'].str.lower()\n",
    "\n",
    "# tokenising words with nltk word tokeniser\n",
    "# cleaned_df['content'] = cleaned_df['content'].apply(lambda sentence: \" \".join(word_tokenize(sentence)))\n",
    "\n",
    "# expanding contractions\n",
    "cleaned_df['content'] = cleaned_df['content'].apply(lambda sentence: contractions.fix(sentence))\n",
    "\n",
    "# remove anything http\n",
    "cleaned_df['content'] = cleaned_df['content'].apply(lambda sentence: \" \".join([re.sub('.*http.*','',word) for word in sentence.split()]))\n",
    "\n",
    "# removing all words with #hastag and @name and urls\n",
    "cleaned_df['content'] = cleaned_df['content'].apply(lambda sentence: \" \".join([re.sub('@.*','',word) for word in sentence.split()]))\n",
    "cleaned_df['content'] = cleaned_df['content'].apply(lambda sentence: \" \".join([re.sub('#.*','',word) for word in sentence.split()]))\n",
    "cleaned_df['content'] = cleaned_df['content'].apply(lambda sentence: \" \".join([re.sub('.*www\\..*','',word) for word in sentence.split()]))\n",
    "\n",
    "# removing words with digits like game57\n",
    "cleaned_df['content'] = cleaned_df['content'].apply(lambda sentence: re.sub('\\w*\\d+\\w*','',sentence))\n",
    "\n",
    "\n",
    "# removing all punctuation marks\n",
    "exclude = set(string.punctuation)\n",
    "regex = re.compile('[%s]' % re.escape(string.punctuation))\n",
    "cleaned_df['content'] = cleaned_df['content'].apply(lambda sentence: regex.sub(\"\",sentence))\n",
    "\n",
    "# removing unicode characters\n",
    "cleaned_df['content'] = cleaned_df['content'].apply(lambda sentence: sentence.encode(\"ascii\",\"ignore\").decode())\n",
    "\n",
    "# removing stopwords\n",
    "from nltk.corpus import stopwords\n",
    "\n",
    "stop_words = stopwords.words('english')\n",
    "cleaned_df['content'] = cleaned_df['content'].apply(lambda sentence: \" \".join([word for word in sentence.split() if word not in stop_words]))\n",
    "\n",
    "# lemmatization\n",
    "lemmatizer = WordNetLemmatizer()\n",
    "cleaned_df['content'] = cleaned_df['content'].apply(lambda sentence: \" \".join([lemmatizer.lemmatize(word) for word in sentence.split()]))\n",
    "\n",
    "# remove empty sentences\n",
    "cleaned_df= cleaned_df[cleaned_df['content'] != '']\n",
    "\n",
    "# dropping unecessary columns\n",
    "cleaned_df = cleaned_df.drop(columns=['tweet_id','author']).sample(frac=1).reset_index(drop=True)"
   ]
  },
  {
   "cell_type": "markdown",
   "id": "b3b8a23b",
   "metadata": {},
   "source": [
    "# Using word2vec skip gram to get non-contextula embeddings"
   ]
  },
  {
   "cell_type": "markdown",
   "id": "a25c2419",
   "metadata": {},
   "source": [
    "### Finding the length of the maximum sentence, and vocab size in the dataset"
   ]
  },
  {
   "cell_type": "code",
   "execution_count": 5,
   "id": "2b5d269e",
   "metadata": {},
   "outputs": [
    {
     "name": "stdout",
     "output_type": "stream",
     "text": [
      "max sentence length of 'content' is 25\n",
      "total number of words of content is 269556\n",
      "total number of unique words/vocab_size of content is 31045\n"
     ]
    }
   ],
   "source": [
    "max_length = cleaned_df['content'].apply(lambda s: len(s.split())).max()\n",
    "no_of_words = cleaned_df['content'].apply(lambda content: len(content.split())).sum()\n",
    "\n",
    "\n",
    "# count vocab size\n",
    "cache=set()\n",
    "\n",
    "#counting padding and [unkownd] token\n",
    "vocab_size= 1\n",
    "for key,sentence in cleaned_df['content'].items():\n",
    "    words = sentence.split()\n",
    "    for word in words:\n",
    "        if(word not in cache):\n",
    "            vocab_size+=1\n",
    "            cache.add(word)\n",
    "            \n",
    "print(\"max sentence length of 'content' is {}\".format(max_length))\n",
    "print(\"total number of words of content is {}\".format(no_of_words))\n",
    "print(\"total number of unique words/vocab_size of content is {}\".format(vocab_size))"
   ]
  },
  {
   "cell_type": "markdown",
   "id": "bc3a918f",
   "metadata": {},
   "source": [
    "### function to generate training data"
   ]
  },
  {
   "cell_type": "code",
   "execution_count": 9,
   "id": "cbbea4b5",
   "metadata": {},
   "outputs": [],
   "source": [
    "def generate_training_data(sequences, window_size,num_ns,vocab_size,seed):\n",
    "    \n",
    "    # each training sentence is appended to these list\n",
    "    targets,contexts,labels = [],[],[]\n",
    "    \n",
    "    # sampling table for vocab_size tokens\n",
    "    sampling_table = tf.keras.preprocessing.sequence.make_sampling_table(vocab_size)\n",
    "    \n",
    "    # iterate over all sentences in dataset\n",
    "    for sequence in tqdm.tqdm(sequences):\n",
    "       \n",
    "\n",
    "        # generating positive skip-gram pairs for a sequence\n",
    "        positive_skip_grams,_ = tf.keras.preprocessing.sequence.skipgrams(\n",
    "            sequence,\n",
    "            vocabulary_size = vocab_size,\n",
    "            sampling_table=sampling_table,\n",
    "            window_size=window_size, # TODO: change window size\n",
    "            negative_samples=0\n",
    "        )\n",
    "        \n",
    "        # produce negative samples and create training samples (x_train,labels)\n",
    "        for target_word, context_word in positive_skip_grams:\n",
    "    \n",
    "    \n",
    "            # expand context word to frmo dim shape (1,0) to (1,1)\n",
    "            context_class = tf.expand_dims(\n",
    "                tf.constant([context_word],dtype='int64'),1)\n",
    "            negative_sampling_candidates, _, _ = tf.random.log_uniform_candidate_sampler(\n",
    "                true_classes=context_class, # to tell the which sample is positive\n",
    "                num_true=1,\n",
    "                num_sampled=num_ns,\n",
    "                unique=True,\n",
    "                range_max=vocab_size, #TODO: may need to change to just the negative samples of the sentence itself instead of the entire vocab\n",
    "                seed=seed,\n",
    "                name='negative_sampling')\n",
    "    \n",
    "    \n",
    "            # building the context and label vectors for a target word\n",
    "            context = tf.concat([tf.squeeze(context_class,1),negative_sampling_candidates],0)\n",
    "            label = tf.constant([1] + [0]*num_ns, dtype=\"int64\")\n",
    "    \n",
    "    \n",
    "            # append each element from the training ex to global lists\n",
    "            targets.append(target_word)\n",
    "            contexts.append(context)\n",
    "            labels.append(label)\n",
    "    \n",
    "    \n",
    "    return targets, contexts, labels \n",
    "            \n",
    "            "
   ]
  },
  {
   "cell_type": "markdown",
   "id": "8c31d13e",
   "metadata": {},
   "source": [
    "### Vectorizing all vocab found in cleaned_df"
   ]
  },
  {
   "cell_type": "code",
   "execution_count": 10,
   "id": "95e1dd72",
   "metadata": {},
   "outputs": [],
   "source": [
    "# size of one sentence is 33 but we just use 64\n",
    "vectorize_layer = layers.TextVectorization(\n",
    "    max_tokens=vocab_size,\n",
    "    output_mode='int',\n",
    "    output_sequence_length=int(max_length))"
   ]
  },
  {
   "cell_type": "markdown",
   "id": "dc12f517",
   "metadata": {},
   "source": [
    "### replace vocab with their respective tokens:"
   ]
  },
  {
   "cell_type": "code",
   "execution_count": 11,
   "id": "4c754da3",
   "metadata": {},
   "outputs": [],
   "source": [
    "BATCH_SIZE = 64"
   ]
  },
  {
   "cell_type": "code",
   "execution_count": 12,
   "id": "9ddc275d",
   "metadata": {},
   "outputs": [],
   "source": [
    "# creating a dataset of all sentences\n",
    "text_ds = tf.data.Dataset.from_tensor_slices(cleaned_df['content'])\n",
    "vectorize_layer.adapt(text_ds.batch(BATCH_SIZE))"
   ]
  },
  {
   "cell_type": "markdown",
   "id": "0848a8ec",
   "metadata": {},
   "source": [
    "### build a inverse vocab which maps indexes -> words which can be handy"
   ]
  },
  {
   "cell_type": "code",
   "execution_count": 13,
   "id": "c48fa6fd",
   "metadata": {},
   "outputs": [],
   "source": [
    "inverse_vocab = vectorize_layer.get_vocabulary()"
   ]
  },
  {
   "cell_type": "code",
   "execution_count": 14,
   "id": "6cb083d9",
   "metadata": {},
   "outputs": [],
   "source": [
    "# Vectorize the data in text_ds.\n",
    "# prefetch does fetching of data and training at the same time using multiple thread\n",
    "# improving performance\n",
    "text_vector_ds = text_ds.batch(BATCH_SIZE).prefetch(AUTOTUNE).map(vectorize_layer).unbatch()"
   ]
  },
  {
   "cell_type": "markdown",
   "id": "6a8e4dd9",
   "metadata": {},
   "source": [
    "### As you can see we have successfully vectorised our sentences/sequences"
   ]
  },
  {
   "cell_type": "code",
   "execution_count": 15,
   "id": "d895a62f",
   "metadata": {
    "scrolled": true
   },
   "outputs": [
    {
     "name": "stdout",
     "output_type": "stream",
     "text": [
      "39746\n"
     ]
    }
   ],
   "source": [
    "sequences = list(text_vector_ds.as_numpy_iterator())\n",
    "print(len(sequences))"
   ]
  },
  {
   "cell_type": "markdown",
   "id": "97ade707",
   "metadata": {},
   "source": [
    "## Using unsupervised learning (word2Vec skip_gram) to predict context from targets. \n",
    ">While doing so, we are also training the weights on the embeddings. We can increase window size so that the embeddings learn more contextutal knowledge with respect to the words around them"
   ]
  },
  {
   "cell_type": "code",
   "execution_count": 16,
   "id": "2c9d9d9e",
   "metadata": {},
   "outputs": [
    {
     "name": "stdout",
     "output_type": "stream",
     "text": [
      "6.0\n",
      "6.7819654808031\n"
     ]
    }
   ],
   "source": [
    "# to determine window size, we see the median length of a sentence\n",
    "\n",
    "print(cleaned_df['content'].apply(lambda s: len(s.split())).median())\n",
    "print(cleaned_df['content'].apply(lambda s: len(s.split())).mean())"
   ]
  },
  {
   "cell_type": "markdown",
   "id": "fae7e802",
   "metadata": {},
   "source": [
    "### We go with window size of 2 since that the median length of a sentence is 6. we want to offer 4 slots some space for negative sampling"
   ]
  },
  {
   "cell_type": "code",
   "execution_count": 17,
   "id": "050277ee",
   "metadata": {},
   "outputs": [
    {
     "name": "stderr",
     "output_type": "stream",
     "text": [
      "100%|████████████████████████████████████| 39746/39746 [00:55<00:00, 720.32it/s]\n"
     ]
    },
    {
     "name": "stdout",
     "output_type": "stream",
     "text": [
      "\n",
      "\n",
      "targets.shape: (228172,)\n",
      "contexts.shape: (228172, 5)\n",
      "labels.shape: (228172, 5)\n"
     ]
    }
   ],
   "source": [
    "# note higher window size is more computationally expensive\n",
    "# from documentation, it is said that for small datasets, negative samples of range 5to 20 yields the best results\n",
    "\n",
    "WINDOW_SIZE = 2\n",
    "num_ns = 4\n",
    "\n",
    "targets, contexts, labels = generate_training_data(\n",
    "    sequences=sequences,\n",
    "    window_size=WINDOW_SIZE,\n",
    "    num_ns=num_ns,\n",
    "    vocab_size=vocab_size,\n",
    "    seed=SEED)\n",
    "\n",
    "targets = np.array(targets)\n",
    "contexts = np.array(contexts)\n",
    "labels = np.array(labels)\n",
    "\n",
    "print('\\n')\n",
    "print(f\"targets.shape: {targets.shape}\")\n",
    "print(f\"contexts.shape: {contexts.shape}\")\n",
    "print(f\"labels.shape: {labels.shape}\")"
   ]
  },
  {
   "cell_type": "markdown",
   "id": "394b47e9",
   "metadata": {},
   "source": [
    "### Configuring training sets for Word2Vec model"
   ]
  },
  {
   "cell_type": "code",
   "execution_count": 18,
   "id": "9447aafa",
   "metadata": {},
   "outputs": [
    {
     "name": "stdout",
     "output_type": "stream",
     "text": [
      "<BatchDataset element_spec=((TensorSpec(shape=(64,), dtype=tf.int64, name=None), TensorSpec(shape=(64, 5), dtype=tf.int64, name=None)), TensorSpec(shape=(64, 5), dtype=tf.int64, name=None))>\n"
     ]
    }
   ],
   "source": [
    "# batching the dataset\n",
    "BUFFER_SIZE = 10000\n",
    "dataset = tf.data.Dataset.from_tensor_slices(((targets, contexts), labels))\n",
    "dataset = dataset.shuffle(BUFFER_SIZE).batch(BATCH_SIZE, drop_remainder=True)\n",
    "print(dataset)"
   ]
  },
  {
   "cell_type": "code",
   "execution_count": 19,
   "id": "6e512360",
   "metadata": {},
   "outputs": [
    {
     "name": "stdout",
     "output_type": "stream",
     "text": [
      "<PrefetchDataset element_spec=((TensorSpec(shape=(64,), dtype=tf.int64, name=None), TensorSpec(shape=(64, 5), dtype=tf.int64, name=None)), TensorSpec(shape=(64, 5), dtype=tf.int64, name=None))>\n"
     ]
    }
   ],
   "source": [
    "dataset = dataset.cache().prefetch(buffer_size=AUTOTUNE)\n",
    "print(dataset)"
   ]
  },
  {
   "cell_type": "code",
   "execution_count": 20,
   "id": "4fd5de0d",
   "metadata": {},
   "outputs": [],
   "source": [
    "class Word2Vec(tf.keras.Model):\n",
    "    def __init__(self, vocab_size, embedding_dim):\n",
    "        super(Word2Vec, self).__init__()\n",
    "        self.target_embedding = layers.Embedding(vocab_size,\n",
    "              embedding_dim,\n",
    "              input_length=1,\n",
    "              name=\"w2v_embedding\")\n",
    "        self.context_embedding = layers.Embedding(vocab_size,\n",
    "               embedding_dim,\n",
    "               input_length=num_ns+1)\n",
    "\n",
    "    def call(self, pair):\n",
    "        target, context = pair\n",
    "        # target: (batch, dummy?)  # The dummy axis doesn't exist in TF2.7+\n",
    "        # context: (batch, context)\n",
    "        if len(target.shape) == 2:\n",
    "            target = tf.squeeze(target, axis=1)\n",
    "        # target: (batch,)\n",
    "        word_emb = self.target_embedding(target)\n",
    "        # word_emb: (batch, embed)\n",
    "        context_emb = self.context_embedding(context)\n",
    "        # context_emb: (batch, context, embed)\n",
    "        dots = tf.einsum('be,bce->bc', word_emb, context_emb)\n",
    "        # dots: (batch, context)\n",
    "        return dots"
   ]
  },
  {
   "cell_type": "code",
   "execution_count": 21,
   "id": "604a26cc",
   "metadata": {},
   "outputs": [],
   "source": [
    "# embedding size for a word is chosen to be 100\n",
    "\n",
    "EMBEDDING_DIM = 50\n",
    "\n",
    "word2vec = Word2Vec(vocab_size, EMBEDDING_DIM)\n",
    "word2vec.compile(optimizer='adam',\n",
    "                 loss=tf.keras.losses.CategoricalCrossentropy(from_logits=True),\n",
    "                 metrics=['accuracy'])\n",
    "# call back to log training stats for TensorBoard\n",
    "tensorboard_callback = tf.keras.callbacks.TensorBoard(log_dir=\"logs\")"
   ]
  },
  {
   "cell_type": "code",
   "execution_count": 42,
   "id": "b9e8350a",
   "metadata": {
    "scrolled": true
   },
   "outputs": [
    {
     "name": "stdout",
     "output_type": "stream",
     "text": [
      "Epoch 1/15\n",
      "3565/3565 [==============================] - 77s 21ms/step - loss: 1.5453 - accuracy: 0.2633\n",
      "Epoch 2/15\n",
      "3565/3565 [==============================] - 84s 24ms/step - loss: 1.3938 - accuracy: 0.4415\n",
      "Epoch 3/15\n",
      "3565/3565 [==============================] - 76s 21ms/step - loss: 1.1698 - accuracy: 0.6347\n",
      "Epoch 4/15\n",
      "3565/3565 [==============================] - 67s 19ms/step - loss: 0.8884 - accuracy: 0.7832\n",
      "Epoch 5/15\n",
      "3565/3565 [==============================] - 68s 19ms/step - loss: 0.6382 - accuracy: 0.8599\n",
      "Epoch 6/15\n",
      "3565/3565 [==============================] - 68s 19ms/step - loss: 0.4513 - accuracy: 0.9027\n",
      "Epoch 7/15\n",
      "3565/3565 [==============================] - 68s 19ms/step - loss: 0.3218 - accuracy: 0.9293\n",
      "Epoch 8/15\n",
      "3565/3565 [==============================] - 67s 19ms/step - loss: 0.2348 - accuracy: 0.9474\n",
      "Epoch 9/15\n",
      "3565/3565 [==============================] - 65s 18ms/step - loss: 0.1763 - accuracy: 0.9607\n",
      "Epoch 10/15\n",
      "3565/3565 [==============================] - 67s 19ms/step - loss: 0.1359 - accuracy: 0.9702\n",
      "Epoch 11/15\n",
      "3565/3565 [==============================] - 65s 18ms/step - loss: 0.1072 - accuracy: 0.9768\n",
      "Epoch 12/15\n",
      "3565/3565 [==============================] - 66s 18ms/step - loss: 0.0861 - accuracy: 0.9818\n",
      "Epoch 13/15\n",
      "3565/3565 [==============================] - 68s 19ms/step - loss: 0.0703 - accuracy: 0.9853\n",
      "Epoch 14/15\n",
      "3565/3565 [==============================] - 69s 19ms/step - loss: 0.0582 - accuracy: 0.9882\n",
      "Epoch 15/15\n",
      "3565/3565 [==============================] - 64s 18ms/step - loss: 0.0487 - accuracy: 0.9904\n"
     ]
    }
   ],
   "source": [
    "history = word2vec.fit(dataset, epochs=15, callbacks=[tensorboard_callback])"
   ]
  },
  {
   "cell_type": "code",
   "execution_count": 43,
   "id": "37cb3968",
   "metadata": {},
   "outputs": [
    {
     "data": {
      "text/plain": [
       "Text(0, 0.5, 'loss')"
      ]
     },
     "execution_count": 43,
     "metadata": {},
     "output_type": "execute_result"
    },
    {
     "data": {
      "image/png": "[encoded data removed]",
      "text/plain": [
       "<Figure size 640x480 with 1 Axes>"
      ]
     },
     "metadata": {},
     "output_type": "display_data"
    }
   ],
   "source": [
    "import matplotlib.pyplot as plt\n",
    "y = history.history['loss']\n",
    "x = [i+1 for i in range(0,len(y))]\n",
    "plt.plot(x,y)\n",
    "plt.xlabel('epochs')\n",
    "plt.ylabel('loss')"
   ]
  },
  {
   "cell_type": "markdown",
   "id": "7624fba0",
   "metadata": {},
   "source": [
    "### Writing vectors to file"
   ]
  },
  {
   "cell_type": "code",
   "execution_count": 44,
   "id": "6a8a0355",
   "metadata": {},
   "outputs": [],
   "source": [
    "weights = word2vec.get_layer('w2v_embedding').get_weights()[0]\n",
    "vocab = vectorize_layer.get_vocabulary()"
   ]
  },
  {
   "cell_type": "code",
   "execution_count": 45,
   "id": "94b2b202",
   "metadata": {},
   "outputs": [],
   "source": [
    "out_v = io.open('./data/custom_vectors.tsv', 'w')\n",
    "out_m = io.open('./data/custom_metadata.tsv', 'w')\n",
    "\n",
    "for index, word in enumerate(vocab):\n",
    "    if index == 0:\n",
    "        continue  # skip 0, it's padding.\n",
    "    vec = weights[index]\n",
    "    out_v.write('\\t'.join([str(x) for x in vec]) + \"\\n\")\n",
    "    out_m.write(word + \"\\n\")\n",
    "out_v.close()\n",
    "out_m.close()"
   ]
  },
  {
   "cell_type": "markdown",
   "id": "27df9d00",
   "metadata": {},
   "source": [
    "## Replacing vocab with twitter-trained word2vec vectors and the rest with custom trained word2vec vectors\n",
    "### To download data for embeddings for twitter:\n",
    "> wget https://zenodo.org/record/3237458/files/glove.twitter.27B.50d.txt.gz?download=1\n",
    "### Please store and unzip this file in the ./data directory\n",
    "---"
   ]
  },
  {
   "cell_type": "markdown",
   "id": "2c8a8c74",
   "metadata": {},
   "source": [
    "### Embeddings from Twitter:"
   ]
  },
  {
   "cell_type": "code",
   "execution_count": 36,
   "id": "60d41112",
   "metadata": {},
   "outputs": [],
   "source": [
    "def read_twitter_embeddings_file(path):\n",
    "    \n",
    "    word_embedding_map = {}\n",
    "    inverse_word_embedding_map = {}\n",
    "    \n",
    "    file = open(path,'r')\n",
    "    vocab_size, embedding_dim = file.readline().split()\n",
    "    vocab_size,embedding_dim = int(vocab_size),int(embedding_dim)\n",
    "    print(\"vocab size:{}\".format(vocab_size))\n",
    "    print(\"vocab size:{}\".format(embedding_dim))\n",
    "    \n",
    "    for i in tqdm.tqdm(range(vocab_size)):\n",
    "    #while(True):\n",
    "        line = file.readline()\n",
    "        word,embedding = line.split()[0],line.split()[1:]\n",
    "        \n",
    "        if not line:\n",
    "            break\n",
    "        word_embedding_map[word] = embedding\n",
    "        \n",
    "    file.close()\n",
    "    return word_embedding_map,vocab_size,embedding_dim"
   ]
  },
  {
   "cell_type": "code",
   "execution_count": 37,
   "id": "d7f6b4fb",
   "metadata": {},
   "outputs": [
    {
     "name": "stdout",
     "output_type": "stream",
     "text": [
      "vocab size:1193514\n",
      "vocab size:50\n"
     ]
    },
    {
     "name": "stderr",
     "output_type": "stream",
     "text": [
      "100%|██████████████████████████████| 1193514/1193514 [00:15<00:00, 76857.45it/s]\n"
     ]
    }
   ],
   "source": [
    "word_embedding_map,vocab_size,_ = read_twitter_embeddings_file(\"./data/glove.twitter.27B.50d.txt\")"
   ]
  },
  {
   "cell_type": "markdown",
   "id": "6b871502",
   "metadata": {},
   "source": [
    "### Embeddings from Custom w2v:"
   ]
  },
  {
   "cell_type": "code",
   "execution_count": 24,
   "id": "3bfed005",
   "metadata": {},
   "outputs": [],
   "source": [
    "def read_custom_tsv(path):\n",
    "    result = []\n",
    "    file = open(path,'r')\n",
    "    while (True):\n",
    "        line = file.readline()\n",
    "        if not line:\n",
    "            break\n",
    "        result.append([float(value) for value in line.split()])\n",
    "        \n",
    "    file.close()\n",
    "    return result"
   ]
  },
  {
   "cell_type": "code",
   "execution_count": 25,
   "id": "df169b96",
   "metadata": {},
   "outputs": [],
   "source": [
    "def read_custom_meta(path):\n",
    "    result = []\n",
    "    file = open(path,'r')\n",
    "    while (True):\n",
    "        line = file.readline()\n",
    "        if not line:\n",
    "            break\n",
    "            \n",
    "        result.append(line.strip())\n",
    "    file.close()\n",
    "    return result"
   ]
  },
  {
   "cell_type": "code",
   "execution_count": 46,
   "id": "781717fd",
   "metadata": {},
   "outputs": [],
   "source": [
    "vectors = read_custom_tsv('./data/custom_vectors.tsv')\n",
    "classes = read_custom_meta('./data/custom_metadata.tsv')"
   ]
  },
  {
   "cell_type": "code",
   "execution_count": 47,
   "id": "1e892268",
   "metadata": {},
   "outputs": [],
   "source": [
    "# make an inverse index of the classes name -> index\n",
    "word_vector_map = {}\n",
    "for index,word in enumerate(classes):\n",
    "    word_vector_map[word] = vectors[index]"
   ]
  },
  {
   "cell_type": "markdown",
   "id": "7e19e84b",
   "metadata": {},
   "source": [
    "### Now we are done with getting the vectors for embedding layer ...\n",
    "---"
   ]
  },
  {
   "cell_type": "markdown",
   "id": "00fe4d06",
   "metadata": {},
   "source": [
    "# Visualising the data"
   ]
  },
  {
   "cell_type": "markdown",
   "id": "8f652f21",
   "metadata": {},
   "source": [
    "### Distribution of lengths of sentences"
   ]
  },
  {
   "cell_type": "code",
   "execution_count": 55,
   "id": "0a2bba39",
   "metadata": {},
   "outputs": [
    {
     "data": {
      "image/png": "[encoded data removed]",
      "text/plain": [
       "<Figure size 2000x500 with 1 Axes>"
      ]
     },
     "metadata": {},
     "output_type": "display_data"
    }
   ],
   "source": [
    "lengths = [len(sentence.split()) for sentence in cleaned_df['content']]\n",
    "plt.rcParams['figure.figsize'] = [20, 5]\n",
    "plt.hist(lengths,bins=len(set(lengths)))\n",
    "plt.xlabel('sentence length')\n",
    "plt.ylabel('number of sentences')\n",
    "\n",
    "plt.show()"
   ]
  },
  {
   "cell_type": "code",
   "execution_count": 56,
   "id": "629cd7a8",
   "metadata": {
    "scrolled": false
   },
   "outputs": [
    {
     "name": "stdout",
     "output_type": "stream",
     "text": [
      "Unique labels:\n",
      "0) neutral\n",
      "1) hate\n",
      "2) sadness\n",
      "3) worry\n",
      "4) love\n",
      "5) happiness\n",
      "6) empty\n",
      "7) surprise\n",
      "8) relief\n",
      "9) fun\n",
      "10) enthusiasm\n",
      "11) boredom\n",
      "12) anger\n"
     ]
    }
   ],
   "source": [
    "print('Unique labels:')\n",
    "for i, label in enumerate(cleaned_df['sentiment'].unique()):\n",
    "    print('{}) {}'.format(i,label)) "
   ]
  },
  {
   "cell_type": "markdown",
   "id": "6f3896c3",
   "metadata": {},
   "source": [
    "### distribution of sentiments"
   ]
  },
  {
   "cell_type": "code",
   "execution_count": 57,
   "id": "77ff9f0b",
   "metadata": {
    "scrolled": true
   },
   "outputs": [
    {
     "data": {
      "image/png": "[encoded data removed]",
      "text/plain": [
       "<Figure size 2000x500 with 1 Axes>"
      ]
     },
     "metadata": {},
     "output_type": "display_data"
    }
   ],
   "source": [
    "plt.rcParams['figure.figsize'] = [20, 5]\n",
    "x= list(dict(cleaned_df.sentiment.value_counts()).keys())\n",
    "y = list(cleaned_df.sentiment.value_counts())\n",
    "plt.bar(x,y)\n",
    "plt.show()"
   ]
  },
  {
   "cell_type": "code",
   "execution_count": 58,
   "id": "d9df2294",
   "metadata": {
    "scrolled": false
   },
   "outputs": [
    {
     "data": {
      "text/plain": [
       "neutral       8480\n",
       "worry         8429\n",
       "happiness     5202\n",
       "sadness       5156\n",
       "love          3836\n",
       "surprise      2176\n",
       "fun           1775\n",
       "relief        1523\n",
       "hate          1320\n",
       "empty          801\n",
       "enthusiasm     759\n",
       "boredom        179\n",
       "anger          110\n",
       "Name: sentiment, dtype: int64"
      ]
     },
     "execution_count": 58,
     "metadata": {},
     "output_type": "execute_result"
    }
   ],
   "source": [
    "cleaned_df['sentiment'].value_counts()"
   ]
  },
  {
   "cell_type": "markdown",
   "id": "e8487b8b",
   "metadata": {},
   "source": [
    "## To prevent long-tailed distribution problem. we duplicate data for each underrepresented sentiments to be equals to the number of the sentiment with the most number of data"
   ]
  },
  {
   "cell_type": "code",
   "execution_count": 48,
   "id": "86b806b3",
   "metadata": {},
   "outputs": [
    {
     "name": "stdout",
     "output_type": "stream",
     "text": [
      "The sentiment with the most number of data is boredom with 8480 data\n"
     ]
    }
   ],
   "source": [
    "sentiment_count = dict(cleaned_df['sentiment'].value_counts())\n",
    "\n",
    "# find the sentiment with the largest number of data in training setsentiment,count\n",
    "max_sentiment = [0,0]\n",
    "for sentiment,count in sentiment_count.items():\n",
    "    if(count > max_sentiment[1]):\n",
    "        max_sentiment[0] = sentiment\n",
    "        max_sentiment[1] = count\n",
    "print(\"The sentiment with the most number of data is {} with {} data\".format(max_sentiment[0],max_sentiment[1]))"
   ]
  },
  {
   "cell_type": "markdown",
   "id": "435e3012",
   "metadata": {},
   "source": [
    "### Duplicating sentences from lesser represented sentiments"
   ]
  },
  {
   "cell_type": "code",
   "execution_count": 49,
   "id": "d3d31414",
   "metadata": {},
   "outputs": [
    {
     "name": "stderr",
     "output_type": "stream",
     "text": [
      "100%|██████████████████████████████████████████| 12/12 [00:00<00:00, 128.93it/s]\n"
     ]
    }
   ],
   "source": [
    "#synonym replacement\n",
    "# We augment data until each sentiment has equal number of data as the sentiment with the largest amount of data\n",
    "benchmark_count = max_sentiment[1]\n",
    "\n",
    "# remove the sentiment with the largest amount of data as it need not be augmented\n",
    "sentiments_to_augment = [sentiment for sentiment in cleaned_df['sentiment'].unique() if sentiment!= max_sentiment[0]]\n",
    "\n",
    "# augment each sentiment\n",
    "# aug = naw.SynonymAug()\n",
    "\n",
    "augmented_df = {\n",
    "    \"content\":[],\n",
    "    \"sentiment\":[]\n",
    "}\n",
    "\n",
    "for i in tqdm.tqdm(range(len(sentiments_to_augment))):\n",
    "    sentiment = sentiments_to_augment[i]\n",
    "    current_no = sentiment_count[sentiment]\n",
    "    augment_no = benchmark_count -  current_no\n",
    "    data = cleaned_df[cleaned_df['sentiment'] == sentiment].reset_index(drop=True)\n",
    "    for i in range(augment_no):\n",
    "        content = data['content'].iloc[i % len(data)]\n",
    "#         augmented_content = aug.augment(content)        \n",
    "        augmented_df['content'].append(content)\n",
    "        augmented_df['sentiment'].append(sentiment)"
   ]
  },
  {
   "cell_type": "code",
   "execution_count": 50,
   "id": "c925a912",
   "metadata": {
    "scrolled": true
   },
   "outputs": [],
   "source": [
    "cleaned_df = pd.concat([cleaned_df,pd.DataFrame(augmented_df)],ignore_index=True)"
   ]
  },
  {
   "cell_type": "markdown",
   "id": "449f11ad",
   "metadata": {},
   "source": [
    "### As we can see the distribution in the new dataset is now even"
   ]
  },
  {
   "cell_type": "code",
   "execution_count": 62,
   "id": "a0edb34a",
   "metadata": {},
   "outputs": [
    {
     "data": {
      "image/png": "[encoded data removed]",
      "text/plain": [
       "<Figure size 2000x500 with 1 Axes>"
      ]
     },
     "metadata": {},
     "output_type": "display_data"
    }
   ],
   "source": [
    "plt.rcParams['figure.figsize'] = [20, 5]\n",
    "x= list(dict(cleaned_df.sentiment.value_counts()).keys())\n",
    "y = list(cleaned_df.sentiment.value_counts())\n",
    "plt.bar(x,y)\n",
    "plt.show()"
   ]
  },
  {
   "cell_type": "code",
   "execution_count": 30,
   "id": "4ff36053",
   "metadata": {
    "scrolled": false
   },
   "outputs": [
    {
     "data": {
      "text/plain": [
       "hate          8480\n",
       "sadness       8480\n",
       "worry         8480\n",
       "love          8480\n",
       "happiness     8480\n",
       "relief        8480\n",
       "neutral       8480\n",
       "enthusiasm    8480\n",
       "surprise      8480\n",
       "fun           8480\n",
       "empty         8480\n",
       "anger         8480\n",
       "boredom       8480\n",
       "Name: sentiment, dtype: int64"
      ]
     },
     "execution_count": 30,
     "metadata": {},
     "output_type": "execute_result"
    }
   ],
   "source": [
    "cleaned_df['sentiment'].value_counts()"
   ]
  },
  {
   "cell_type": "code",
   "execution_count": 51,
   "id": "9b2bbba6",
   "metadata": {},
   "outputs": [],
   "source": [
    "# split the train and test first\n",
    "\n",
    "# shuffle data\n",
    "cleaned_df = cleaned_df.sample(frac=1).reset_index(drop=True)\n",
    "\n",
    "#get traing test split\n",
    "# TRAINING_SPLIT = int(0.7 * len(cleaned_df))\n",
    "# X_train = cleaned_df.iloc[:TRAINING_SPLIT]\n",
    "# X_test =  cleaned_df[TRAINING_SPLIT:]"
   ]
  },
  {
   "cell_type": "markdown",
   "id": "9a914fe0",
   "metadata": {},
   "source": [
    "### Do data augmentation on the training data. keep the test data unaugmented to prevent wrong test accuracy"
   ]
  },
  {
   "cell_type": "markdown",
   "id": "cc483cf4",
   "metadata": {
    "scrolled": true
   },
   "source": [
    "# join the 2 training_data\n",
    "X_train = pd.concat([X_train,pd.DataFrame(augmented_df)],ignore_index=True)"
   ]
  },
  {
   "cell_type": "markdown",
   "id": "cb914674",
   "metadata": {},
   "source": [
    "## Combining the original Test dataset back to the training dataset to form the new dataset"
   ]
  },
  {
   "cell_type": "markdown",
   "id": "287a0fe8",
   "metadata": {},
   "source": [
    "# remember the where the train data ends in the merged data\n",
    "train_index = len(X_train)\n",
    "cleaned_df = pd.concat([X_train,X_test],ignore_index=True)"
   ]
  },
  {
   "cell_type": "markdown",
   "id": "cddce61f",
   "metadata": {},
   "source": [
    "# Training data after augmentation"
   ]
  },
  {
   "cell_type": "markdown",
   "id": "ed217586",
   "metadata": {
    "scrolled": true
   },
   "source": [
    "cleaned_df['sentiment'][:train_index].value_counts()"
   ]
  },
  {
   "cell_type": "markdown",
   "id": "de973f1b",
   "metadata": {},
   "source": [
    "# Converting 'content' column to sequences\n",
    "---"
   ]
  },
  {
   "cell_type": "code",
   "execution_count": 52,
   "id": "a35e1a82",
   "metadata": {
    "scrolled": false
   },
   "outputs": [
    {
     "name": "stdout",
     "output_type": "stream",
     "text": [
      "Found 31044 unique tokens\n"
     ]
    }
   ],
   "source": [
    "# if google EMBEDDING DIM is 300, Twitter, 50\n",
    "EMBEDDING_DIM = 50\n",
    "\n",
    "# get all the content lines train and test\n",
    "content_lines = list(cleaned_df['content'])\n",
    "tokeniser_obj = Tokenizer()\n",
    "tokeniser_obj.fit_on_texts(content_lines)\n",
    "\n",
    "word_index = tokeniser_obj.word_index\n",
    "print('Found {} unique tokens'.format(len(word_index)))\n",
    "\n",
    "sequences = tokeniser_obj.texts_to_sequences(content_lines)\n",
    "\n",
    "# pad shorter sentence to fit max_length of sentence\n",
    "content_pad = pad_sequences(sequences,maxlen = max_length)\n",
    "# print(\"labels: {}\".format(labels))"
   ]
  },
  {
   "cell_type": "code",
   "execution_count": 53,
   "id": "4fdda978",
   "metadata": {},
   "outputs": [],
   "source": [
    "# number of words has to +1 for the padding\n",
    "num_words = len(word_index) + 1\n",
    "embedding_matrix = np.zeros((num_words,EMBEDDING_DIM))"
   ]
  },
  {
   "cell_type": "code",
   "execution_count": 54,
   "id": "5b573ea1",
   "metadata": {},
   "outputs": [
    {
     "data": {
      "text/plain": [
       "(31045, 50)"
      ]
     },
     "execution_count": 54,
     "metadata": {},
     "output_type": "execute_result"
    }
   ],
   "source": [
    "embedding_matrix.shape"
   ]
  },
  {
   "cell_type": "markdown",
   "id": "ac60ff41",
   "metadata": {},
   "source": [
    "### Map embeddings to the embedding Matrix to feed into Models"
   ]
  },
  {
   "cell_type": "code",
   "execution_count": 55,
   "id": "2c7af163",
   "metadata": {},
   "outputs": [
    {
     "name": "stdout",
     "output_type": "stream",
     "text": [
      "number of words vectorised from GloVe: 31044/31045\n",
      "number of words vectorised from w2v: 0/31045\n",
      "number of words vectorised from GloVe: 31044/31045\n"
     ]
    }
   ],
   "source": [
    "count_twitter = 0\n",
    "count_w2v = 0\n",
    "\n",
    "for word,i in word_index.items():\n",
    "    if i> num_words:\n",
    "        continue\n",
    "    embedding_vector_glove = word_embedding_map.get(word)\n",
    "    embedding_vector_w2v = word_vector_map.get(word)\n",
    "    \n",
    "    if(embedding_vector_glove is not None):\n",
    "        # if embedding vector is able to be mapped \n",
    "        embedding_matrix[i] = embedding_vector_glove\n",
    "        count_twitter+=1\n",
    "        continue\n",
    "    if(embedding_vector_w2v is not None):\n",
    "        embedding_matrix[i] = embedding_vector_w2v\n",
    "        count_twitter+=1\n",
    "        continue\n",
    "        \n",
    "print(\"number of words vectorised from GloVe: {}/{}\".format(count_twitter,num_words))\n",
    "print(\"number of words vectorised from w2v: {}/{}\".format(count_w2v,num_words))\n",
    "print(\"number of words vectorised from GloVe: {}/{}\".format(count_twitter+count_w2v,num_words))"
   ]
  },
  {
   "cell_type": "markdown",
   "id": "b4435d11",
   "metadata": {},
   "source": [
    "# Using embedded Google data (dimension = 300) vectors to replace words\n",
    "---\n",
    "> Reading embedded vectors from google data that has a dimension of 300. You can download it from http://vectors.nlpl.eu/repository/ under Google News 2013\n",
    "\n",
    "it takes awhile to load ..."
   ]
  },
  {
   "cell_type": "markdown",
   "id": "1792e074",
   "metadata": {
    "scrolled": true
   },
   "source": [
    "from gensim.models import KeyedVectors\n",
    "model = KeyedVectors.load_word2vec_format('data/GoogleNews-vectors-negative300.bin',binary=True)"
   ]
  },
  {
   "cell_type": "markdown",
   "id": "0fc2ec8c",
   "metadata": {},
   "source": [
    "count_gnews = 0\n",
    "\n",
    "corpus = model.index_to_key\n",
    "for word,i in tqdm.tqdm(word_index.items()):\n",
    "    if i> num_words:\n",
    "        continue\n",
    "    if word in corpus:\n",
    "        embedding_vector_gnews = model[word]\n",
    "        embedding_matrix[i] = embedding_vector_gnews\n",
    "        count_gnews+=1\n",
    "            \n",
    "print(\"number of words vectorised from Gnews: {}/{}\".format(count_gnews,num_words))\n",
    "print(\"number of words vectorised from GloVe: {}/{}\".format(count_gnews,num_words))"
   ]
  },
  {
   "cell_type": "markdown",
   "id": "4ead4e12",
   "metadata": {},
   "source": [
    "## One-hot encoding the indices"
   ]
  },
  {
   "cell_type": "code",
   "execution_count": 56,
   "id": "731cd43b",
   "metadata": {},
   "outputs": [],
   "source": [
    "# map labels -> indices\n",
    "sentiment_labels = cleaned_df['sentiment'].unique().copy()\n",
    "\n",
    "# index key -> class\n",
    "label_map = {}\n",
    "\n",
    "# class -> index key\n",
    "inverse_label_map = {}\n",
    "for i, label in enumerate(sentiment_labels):\n",
    "    label_map[i] = label \n",
    "    inverse_label_map[label] = i"
   ]
  },
  {
   "cell_type": "code",
   "execution_count": 57,
   "id": "3d9f14a2",
   "metadata": {},
   "outputs": [
    {
     "data": {
      "text/plain": [
       "[0, 1, 2, 3, 4, 5, 6, 7, 8, 9, 10, 11, 12]"
      ]
     },
     "execution_count": 57,
     "metadata": {},
     "output_type": "execute_result"
    }
   ],
   "source": [
    "# get all keys\n",
    "indices = list(label_map.keys())\n",
    "indices"
   ]
  },
  {
   "cell_type": "code",
   "execution_count": 58,
   "id": "7b572589",
   "metadata": {},
   "outputs": [],
   "source": [
    "# maps the word to the one hot vector\n",
    "depth = len(indices)\n",
    "one_hot_encoding = tf.one_hot(indices,depth)"
   ]
  },
  {
   "cell_type": "markdown",
   "id": "1ea34310",
   "metadata": {},
   "source": [
    "## map for indices to labels"
   ]
  },
  {
   "cell_type": "code",
   "execution_count": 59,
   "id": "b816903a",
   "metadata": {
    "scrolled": true
   },
   "outputs": [
    {
     "name": "stdout",
     "output_type": "stream",
     "text": [
      "[1. 0. 0. 0. 0. 0. 0. 0. 0. 0. 0. 0. 0.] --> fun\n",
      "[0. 1. 0. 0. 0. 0. 0. 0. 0. 0. 0. 0. 0.] --> relief\n",
      "[0. 0. 1. 0. 0. 0. 0. 0. 0. 0. 0. 0. 0.] --> worry\n",
      "[0. 0. 0. 1. 0. 0. 0. 0. 0. 0. 0. 0. 0.] --> enthusiasm\n",
      "[0. 0. 0. 0. 1. 0. 0. 0. 0. 0. 0. 0. 0.] --> anger\n",
      "[0. 0. 0. 0. 0. 1. 0. 0. 0. 0. 0. 0. 0.] --> love\n",
      "[0. 0. 0. 0. 0. 0. 1. 0. 0. 0. 0. 0. 0.] --> neutral\n",
      "[0. 0. 0. 0. 0. 0. 0. 1. 0. 0. 0. 0. 0.] --> empty\n",
      "[0. 0. 0. 0. 0. 0. 0. 0. 1. 0. 0. 0. 0.] --> surprise\n",
      "[0. 0. 0. 0. 0. 0. 0. 0. 0. 1. 0. 0. 0.] --> happiness\n",
      "[0. 0. 0. 0. 0. 0. 0. 0. 0. 0. 1. 0. 0.] --> sadness\n",
      "[0. 0. 0. 0. 0. 0. 0. 0. 0. 0. 0. 1. 0.] --> hate\n",
      "[0. 0. 0. 0. 0. 0. 0. 0. 0. 0. 0. 0. 1.] --> boredom\n"
     ]
    }
   ],
   "source": [
    "word_to_vec = {}    \n",
    "for i,oh in enumerate(one_hot_encoding):\n",
    "    print(\"{} --> {}\".format(oh,label_map[i]))\n",
    "    word_to_vec[label_map[i]] = oh.numpy()"
   ]
  },
  {
   "cell_type": "code",
   "execution_count": 60,
   "id": "6c78279c",
   "metadata": {
    "scrolled": true
   },
   "outputs": [
    {
     "data": {
      "text/plain": [
       "{'fun': array([1., 0., 0., 0., 0., 0., 0., 0., 0., 0., 0., 0., 0.], dtype=float32),\n",
       " 'relief': array([0., 1., 0., 0., 0., 0., 0., 0., 0., 0., 0., 0., 0.], dtype=float32),\n",
       " 'worry': array([0., 0., 1., 0., 0., 0., 0., 0., 0., 0., 0., 0., 0.], dtype=float32),\n",
       " 'enthusiasm': array([0., 0., 0., 1., 0., 0., 0., 0., 0., 0., 0., 0., 0.], dtype=float32),\n",
       " 'anger': array([0., 0., 0., 0., 1., 0., 0., 0., 0., 0., 0., 0., 0.], dtype=float32),\n",
       " 'love': array([0., 0., 0., 0., 0., 1., 0., 0., 0., 0., 0., 0., 0.], dtype=float32),\n",
       " 'neutral': array([0., 0., 0., 0., 0., 0., 1., 0., 0., 0., 0., 0., 0.], dtype=float32),\n",
       " 'empty': array([0., 0., 0., 0., 0., 0., 0., 1., 0., 0., 0., 0., 0.], dtype=float32),\n",
       " 'surprise': array([0., 0., 0., 0., 0., 0., 0., 0., 1., 0., 0., 0., 0.], dtype=float32),\n",
       " 'happiness': array([0., 0., 0., 0., 0., 0., 0., 0., 0., 1., 0., 0., 0.], dtype=float32),\n",
       " 'sadness': array([0., 0., 0., 0., 0., 0., 0., 0., 0., 0., 1., 0., 0.], dtype=float32),\n",
       " 'hate': array([0., 0., 0., 0., 0., 0., 0., 0., 0., 0., 0., 1., 0.], dtype=float32),\n",
       " 'boredom': array([0., 0., 0., 0., 0., 0., 0., 0., 0., 0., 0., 0., 1.], dtype=float32)}"
      ]
     },
     "execution_count": 60,
     "metadata": {},
     "output_type": "execute_result"
    }
   ],
   "source": [
    "word_to_vec"
   ]
  },
  {
   "cell_type": "markdown",
   "id": "814534e9",
   "metadata": {},
   "source": [
    "## replacing the labels in dataset with one-hot encoding"
   ]
  },
  {
   "cell_type": "code",
   "execution_count": 61,
   "id": "ca046647",
   "metadata": {},
   "outputs": [
    {
     "name": "stderr",
     "output_type": "stream",
     "text": [
      "100%|█████████████████████████████████| 110240/110240 [00:20<00:00, 5350.46it/s]\n"
     ]
    }
   ],
   "source": [
    "# getting one-hot encoding for labels\n",
    "\n",
    "labels=[]\n",
    "for sentiment in tqdm.tqdm(cleaned_df['sentiment'].values):\n",
    "    o_h = one_hot_encoding[inverse_label_map[sentiment]]\n",
    "    labels.append(o_h)\n",
    "labels = np.asarray(labels)"
   ]
  },
  {
   "cell_type": "code",
   "execution_count": 62,
   "id": "b138f49d",
   "metadata": {},
   "outputs": [
    {
     "name": "stdout",
     "output_type": "stream",
     "text": [
      "Training size: 77168\n",
      "Test size: 33072\n"
     ]
    }
   ],
   "source": [
    "TRAINING_SIZE = int(len(content_pad)*0.7)\n",
    "\n",
    "X_train_pad = content_pad[:TRAINING_SIZE]\n",
    "y_train = labels[:TRAINING_SIZE]\n",
    "\n",
    "X_test_pad = content_pad[TRAINING_SIZE:]\n",
    "y_test = labels[TRAINING_SIZE:]\n",
    "\n",
    "print(\"Training size: {}\".format(TRAINING_SIZE))\n",
    "print(\"Test size: {}\".format(len(content_pad)-TRAINING_SIZE))\n"
   ]
  },
  {
   "cell_type": "markdown",
   "id": "6f48d92e",
   "metadata": {},
   "source": [
    "# Training and testing RNN,GRU,LSTM and Transformer models"
   ]
  },
  {
   "cell_type": "markdown",
   "id": "8866fb14",
   "metadata": {},
   "source": [
    "### callback to save weights:"
   ]
  },
  {
   "cell_type": "code",
   "execution_count": 63,
   "id": "31428be9",
   "metadata": {},
   "outputs": [],
   "source": [
    "# callback to save the best weights for the model\n",
    "def saveWeightsCallback(path,monitor,mode,save_freq):\n",
    "    return tf.keras.callbacks.ModelCheckpoint(\n",
    "        filepath=path,\n",
    "        monitor = monitor,\n",
    "        verbose = 2,\n",
    "        save_best_only = True,\n",
    "        save_weights_only = True,\n",
    "        mode = mode,\n",
    "        save_freq=save_freq,\n",
    ")"
   ]
  },
  {
   "cell_type": "markdown",
   "id": "902beffc",
   "metadata": {},
   "source": [
    "## Building a RNN model"
   ]
  },
  {
   "cell_type": "code",
   "execution_count": 78,
   "id": "4092286d",
   "metadata": {},
   "outputs": [],
   "source": [
    "def build_RNN_model(embedding_dim,max_length):\n",
    "    model = keras.models.Sequential()\n",
    "    model.add(layers.Embedding(num_words,\n",
    "                               embedding_dim,\n",
    "                               weights=[embedding_matrix]))\n",
    "\n",
    "#     model.add(\n",
    "#         layers.Bidirectional(\n",
    "#             layers.SimpleRNN(units=64,return_sequences=True)\n",
    "#         ))\n",
    "    \n",
    "    model.add(\n",
    "        layers.Bidirectional(\n",
    "            layers.SimpleRNN(units=64)\n",
    "        ))\n",
    "    model.add(layers.Dense(13,activation='softmax'))\n",
    "    \n",
    "    model.summary()\n",
    "    return model"
   ]
  },
  {
   "cell_type": "code",
   "execution_count": 79,
   "id": "8f80cdbb",
   "metadata": {},
   "outputs": [
    {
     "name": "stdout",
     "output_type": "stream",
     "text": [
      "Model: \"sequential\"\n",
      "_________________________________________________________________\n",
      " Layer (type)                Output Shape              Param #   \n",
      "=================================================================\n",
      " embedding_2 (Embedding)     (None, None, 50)          1552250   \n",
      "                                                                 \n",
      " bidirectional (Bidirectiona  (None, 128)              14720     \n",
      " l)                                                              \n",
      "                                                                 \n",
      " dense (Dense)               (None, 13)                1677      \n",
      "                                                                 \n",
      "=================================================================\n",
      "Total params: 1,568,647\n",
      "Trainable params: 1,568,647\n",
      "Non-trainable params: 0\n",
      "_________________________________________________________________\n",
      "Model: \"sequential\"\n",
      "_________________________________________________________________\n",
      " Layer (type)                Output Shape              Param #   \n",
      "=================================================================\n",
      " embedding_2 (Embedding)     (None, None, 50)          1552250   \n",
      "                                                                 \n",
      " bidirectional (Bidirectiona  (None, 128)              14720     \n",
      " l)                                                              \n",
      "                                                                 \n",
      " dense (Dense)               (None, 13)                1677      \n",
      "                                                                 \n",
      "=================================================================\n",
      "Total params: 1,568,647\n",
      "Trainable params: 1,568,647\n",
      "Non-trainable params: 0\n",
      "_________________________________________________________________\n"
     ]
    }
   ],
   "source": [
    "RNN_model = build_RNN_model(EMBEDDING_DIM,max_length)\n",
    "\n",
    "RNN_model.compile(\n",
    "    optimizer= Adam(learning_rate=0.0001),\n",
    "    loss='categorical_crossentropy',\n",
    "    metrics=[\n",
    "        'accuracy',\n",
    "    ]\n",
    ")\n",
    "\n",
    "RNN_model.summary()"
   ]
  },
  {
   "cell_type": "code",
   "execution_count": 84,
   "id": "afd9b886",
   "metadata": {
    "scrolled": true
   },
   "outputs": [
    {
     "name": "stdout",
     "output_type": "stream",
     "text": [
      "Epoch 1/20\n",
      "603/603 [==============================] - ETA: 0s - loss: 1.6023 - accuracy: 0.4628\n",
      "Epoch 1: val_loss improved from inf to 1.67239, saving model to ./weights/RNN\n",
      "603/603 [==============================] - 14s 23ms/step - loss: 1.6023 - accuracy: 0.4628 - val_loss: 1.6724 - val_accuracy: 0.4357\n",
      "Epoch 2/20\n",
      "603/603 [==============================] - ETA: 0s - loss: 1.5515 - accuracy: 0.4827\n",
      "Epoch 2: val_loss improved from 1.67239 to 1.63037, saving model to ./weights/RNN\n",
      "603/603 [==============================] - 15s 25ms/step - loss: 1.5515 - accuracy: 0.4827 - val_loss: 1.6304 - val_accuracy: 0.4581\n",
      "Epoch 3/20\n",
      "603/603 [==============================] - ETA: 0s - loss: 1.4996 - accuracy: 0.5025\n",
      "Epoch 3: val_loss improved from 1.63037 to 1.59676, saving model to ./weights/RNN\n",
      "603/603 [==============================] - 16s 27ms/step - loss: 1.4996 - accuracy: 0.5025 - val_loss: 1.5968 - val_accuracy: 0.4719\n",
      "Epoch 4/20\n",
      "602/603 [============================>.] - ETA: 0s - loss: 1.4524 - accuracy: 0.5196\n",
      "Epoch 4: val_loss improved from 1.59676 to 1.55806, saving model to ./weights/RNN\n",
      "603/603 [==============================] - 16s 27ms/step - loss: 1.4523 - accuracy: 0.5196 - val_loss: 1.5581 - val_accuracy: 0.4863\n",
      "Epoch 5/20\n",
      "601/603 [============================>.] - ETA: 0s - loss: 1.4060 - accuracy: 0.5357\n",
      "Epoch 5: val_loss improved from 1.55806 to 1.51991, saving model to ./weights/RNN\n",
      "603/603 [==============================] - 16s 26ms/step - loss: 1.4058 - accuracy: 0.5357 - val_loss: 1.5199 - val_accuracy: 0.4998\n",
      "Epoch 6/20\n",
      "602/603 [============================>.] - ETA: 0s - loss: 1.3596 - accuracy: 0.5507\n",
      "Epoch 6: val_loss improved from 1.51991 to 1.48349, saving model to ./weights/RNN\n",
      "603/603 [==============================] - 15s 25ms/step - loss: 1.3596 - accuracy: 0.5507 - val_loss: 1.4835 - val_accuracy: 0.5129\n",
      "Epoch 7/20\n",
      "602/603 [============================>.] - ETA: 0s - loss: 1.3179 - accuracy: 0.5649\n",
      "Epoch 7: val_loss improved from 1.48349 to 1.45314, saving model to ./weights/RNN\n",
      "603/603 [==============================] - 16s 26ms/step - loss: 1.3180 - accuracy: 0.5649 - val_loss: 1.4531 - val_accuracy: 0.5217\n",
      "Epoch 8/20\n",
      "602/603 [============================>.] - ETA: 0s - loss: 1.2780 - accuracy: 0.5783\n",
      "Epoch 8: val_loss improved from 1.45314 to 1.42771, saving model to ./weights/RNN\n",
      "603/603 [==============================] - 15s 26ms/step - loss: 1.2780 - accuracy: 0.5783 - val_loss: 1.4277 - val_accuracy: 0.5300\n",
      "Epoch 9/20\n",
      "601/603 [============================>.] - ETA: 0s - loss: 1.2391 - accuracy: 0.5906\n",
      "Epoch 9: val_loss improved from 1.42771 to 1.39819, saving model to ./weights/RNN\n",
      "603/603 [==============================] - 15s 25ms/step - loss: 1.2392 - accuracy: 0.5905 - val_loss: 1.3982 - val_accuracy: 0.5403\n",
      "Epoch 10/20\n",
      "602/603 [============================>.] - ETA: 0s - loss: 1.2021 - accuracy: 0.6030\n",
      "Epoch 10: val_loss improved from 1.39819 to 1.37723, saving model to ./weights/RNN\n",
      "603/603 [==============================] - 15s 25ms/step - loss: 1.2020 - accuracy: 0.6031 - val_loss: 1.3772 - val_accuracy: 0.5484\n",
      "Epoch 11/20\n",
      "602/603 [============================>.] - ETA: 0s - loss: 1.1676 - accuracy: 0.6146\n",
      "Epoch 11: val_loss improved from 1.37723 to 1.34639, saving model to ./weights/RNN\n",
      "603/603 [==============================] - 14s 24ms/step - loss: 1.1676 - accuracy: 0.6146 - val_loss: 1.3464 - val_accuracy: 0.5578\n",
      "Epoch 12/20\n",
      "603/603 [==============================] - ETA: 0s - loss: 1.1343 - accuracy: 0.6259\n",
      "Epoch 12: val_loss improved from 1.34639 to 1.32347, saving model to ./weights/RNN\n",
      "603/603 [==============================] - 15s 25ms/step - loss: 1.1343 - accuracy: 0.6259 - val_loss: 1.3235 - val_accuracy: 0.5653\n",
      "Epoch 13/20\n",
      "602/603 [============================>.] - ETA: 0s - loss: 1.1010 - accuracy: 0.6373\n",
      "Epoch 13: val_loss improved from 1.32347 to 1.29905, saving model to ./weights/RNN\n",
      "603/603 [==============================] - 15s 25ms/step - loss: 1.1011 - accuracy: 0.6374 - val_loss: 1.2990 - val_accuracy: 0.5737\n",
      "Epoch 14/20\n",
      "602/603 [============================>.] - ETA: 0s - loss: 1.0701 - accuracy: 0.6471\n",
      "Epoch 14: val_loss improved from 1.29905 to 1.28169, saving model to ./weights/RNN\n",
      "603/603 [==============================] - 15s 25ms/step - loss: 1.0701 - accuracy: 0.6471 - val_loss: 1.2817 - val_accuracy: 0.5799\n",
      "Epoch 15/20\n",
      "603/603 [==============================] - ETA: 0s - loss: 1.0393 - accuracy: 0.6584\n",
      "Epoch 15: val_loss improved from 1.28169 to 1.26111, saving model to ./weights/RNN\n",
      "603/603 [==============================] - 15s 25ms/step - loss: 1.0393 - accuracy: 0.6584 - val_loss: 1.2611 - val_accuracy: 0.5867\n",
      "Epoch 16/20\n",
      "601/603 [============================>.] - ETA: 0s - loss: 1.0107 - accuracy: 0.6684\n",
      "Epoch 16: val_loss improved from 1.26111 to 1.24236, saving model to ./weights/RNN\n",
      "603/603 [==============================] - 15s 25ms/step - loss: 1.0106 - accuracy: 0.6683 - val_loss: 1.2424 - val_accuracy: 0.5938\n",
      "Epoch 17/20\n",
      "602/603 [============================>.] - ETA: 0s - loss: 0.9829 - accuracy: 0.6773\n",
      "Epoch 17: val_loss improved from 1.24236 to 1.22697, saving model to ./weights/RNN\n",
      "603/603 [==============================] - 15s 24ms/step - loss: 0.9831 - accuracy: 0.6771 - val_loss: 1.2270 - val_accuracy: 0.6028\n",
      "Epoch 18/20\n",
      "602/603 [============================>.] - ETA: 0s - loss: 0.9574 - accuracy: 0.6870\n",
      "Epoch 18: val_loss improved from 1.22697 to 1.20988, saving model to ./weights/RNN\n",
      "603/603 [==============================] - 14s 24ms/step - loss: 0.9575 - accuracy: 0.6870 - val_loss: 1.2099 - val_accuracy: 0.6061\n",
      "Epoch 19/20\n",
      "603/603 [==============================] - ETA: 0s - loss: 0.9298 - accuracy: 0.6963\n",
      "Epoch 19: val_loss improved from 1.20988 to 1.19157, saving model to ./weights/RNN\n",
      "603/603 [==============================] - 15s 24ms/step - loss: 0.9298 - accuracy: 0.6963 - val_loss: 1.1916 - val_accuracy: 0.6129\n",
      "Epoch 20/20\n",
      "603/603 [==============================] - ETA: 0s - loss: 0.9049 - accuracy: 0.7042\n",
      "Epoch 20: val_loss improved from 1.19157 to 1.17295, saving model to ./weights/RNN\n",
      "603/603 [==============================] - 15s 24ms/step - loss: 0.9049 - accuracy: 0.7042 - val_loss: 1.1729 - val_accuracy: 0.6184\n"
     ]
    }
   ],
   "source": [
    "history = RNN_model.fit(X_train_pad,\n",
    "                        y_train,\n",
    "                        batch_size=128,\n",
    "                        epochs = 20,\n",
    "                        verbose=1,\n",
    "                        validation_data = (X_test_pad,y_test),\n",
    "                        callbacks = [EarlyStopping(monitor='val_accuracy', patience=2),\n",
    "                                     saveWeightsCallback(\n",
    "                                         path='./weights/RNN',\n",
    "                                         monitor = 'val_loss',\n",
    "                                         mode = 'min',\n",
    "                                         save_freq='epoch')])         "
   ]
  },
  {
   "cell_type": "markdown",
   "id": "7c3a49c9",
   "metadata": {},
   "source": [
    "## Loss over Epochs"
   ]
  },
  {
   "cell_type": "code",
   "execution_count": 85,
   "id": "b4c00c14",
   "metadata": {},
   "outputs": [
    {
     "data": {
      "text/plain": [
       "Text(0, 0.5, 'loss')"
      ]
     },
     "execution_count": 85,
     "metadata": {},
     "output_type": "execute_result"
    },
    {
     "data": {
      "image/png": "[encoded data removed]",
      "text/plain": [
       "<Figure size 2000x500 with 1 Axes>"
      ]
     },
     "metadata": {},
     "output_type": "display_data"
    }
   ],
   "source": [
    "loss = history.history['loss']\n",
    "plt.plot(loss,[epoch+1 for epoch in range(0,len(loss))])\n",
    "plt.xlabel('epochs')\n",
    "plt.ylabel('loss')"
   ]
  },
  {
   "cell_type": "markdown",
   "id": "4285f7ea",
   "metadata": {},
   "source": [
    "## Validation accuracy over Epochs"
   ]
  },
  {
   "cell_type": "code",
   "execution_count": 88,
   "id": "b17a17fd",
   "metadata": {},
   "outputs": [
    {
     "name": "stdout",
     "output_type": "stream",
     "text": [
      "RNN validation accuracy: 0.6184083223342896\n"
     ]
    },
    {
     "data": {
      "image/png": "[encoded data removed]",
      "text/plain": [
       "<Figure size 2000x500 with 1 Axes>"
      ]
     },
     "metadata": {},
     "output_type": "display_data"
    }
   ],
   "source": [
    "val_accuracy = history.history['val_accuracy']\n",
    "plt.plot([epoch+1 for epoch in range(0,len(val_accuracy))],val_accuracy)\n",
    "plt.xlabel('epochs')\n",
    "plt.ylabel('val_accuracy')\n",
    "\n",
    "print('RNN validation accuracy: {}'.format(round(val_accuracy[-1],4)))"
   ]
  },
  {
   "cell_type": "markdown",
   "id": "604f1f15",
   "metadata": {},
   "source": [
    "# Building GRU model"
   ]
  },
  {
   "cell_type": "code",
   "execution_count": 89,
   "id": "715b73dd",
   "metadata": {},
   "outputs": [],
   "source": [
    "def build_GRU_model(embedding_dim,max_length):\n",
    "    model = keras.models.Sequential()\n",
    "    model.add(layers.Embedding(num_words,\n",
    "                               embedding_dim,\n",
    "                               weights=[embedding_matrix]))\n",
    "\n",
    "#     model.add(\n",
    "#         layers.Bidirectional(\n",
    "#             layers.GRU(units=64,return_sequences=True)\n",
    "#         ))\n",
    "#     model.add(\n",
    "#         layers.Bidirectional(\n",
    "#             layers.GRU(units=64,return_sequences=True)\n",
    "#         ))\n",
    "    \n",
    "    model.add(\n",
    "        layers.Bidirectional(\n",
    "            layers.GRU(units=64)\n",
    "        ))\n",
    "    model.add(layers.Dense(13,activation='softmax'))\n",
    "    \n",
    "    model.summary()\n",
    "    return model"
   ]
  },
  {
   "cell_type": "code",
   "execution_count": 95,
   "id": "d5749d50",
   "metadata": {},
   "outputs": [
    {
     "name": "stdout",
     "output_type": "stream",
     "text": [
      "Model: \"sequential_3\"\n",
      "_________________________________________________________________\n",
      " Layer (type)                Output Shape              Param #   \n",
      "=================================================================\n",
      " embedding_5 (Embedding)     (None, None, 50)          1552250   \n",
      "                                                                 \n",
      " bidirectional_3 (Bidirectio  (None, 128)              44544     \n",
      " nal)                                                            \n",
      "                                                                 \n",
      " dense_3 (Dense)             (None, 13)                1677      \n",
      "                                                                 \n",
      "=================================================================\n",
      "Total params: 1,598,471\n",
      "Trainable params: 1,598,471\n",
      "Non-trainable params: 0\n",
      "_________________________________________________________________\n",
      "Model: \"sequential_3\"\n",
      "_________________________________________________________________\n",
      " Layer (type)                Output Shape              Param #   \n",
      "=================================================================\n",
      " embedding_5 (Embedding)     (None, None, 50)          1552250   \n",
      "                                                                 \n",
      " bidirectional_3 (Bidirectio  (None, 128)              44544     \n",
      " nal)                                                            \n",
      "                                                                 \n",
      " dense_3 (Dense)             (None, 13)                1677      \n",
      "                                                                 \n",
      "=================================================================\n",
      "Total params: 1,598,471\n",
      "Trainable params: 1,598,471\n",
      "Non-trainable params: 0\n",
      "_________________________________________________________________\n"
     ]
    }
   ],
   "source": [
    "GRU_model = build_GRU_model(EMBEDDING_DIM,max_length)\n",
    "\n",
    "GRU_model.compile(\n",
    "    optimizer= Adam(learning_rate=0.0001),\n",
    "    loss='categorical_crossentropy',\n",
    "    metrics=[\n",
    "        'accuracy',\n",
    "    ]\n",
    ")\n",
    "\n",
    "GRU_model.summary()"
   ]
  },
  {
   "cell_type": "code",
   "execution_count": 96,
   "id": "a6cc91e3",
   "metadata": {
    "scrolled": false
   },
   "outputs": [
    {
     "name": "stdout",
     "output_type": "stream",
     "text": [
      "Epoch 1/20\n",
      "603/603 [==============================] - 40s 61ms/step - loss: 2.5209 - accuracy: 0.1309 - val_loss: 2.4426 - val_accuracy: 0.1684\n",
      "Epoch 2/20\n",
      "603/603 [==============================] - 32s 52ms/step - loss: 2.3287 - accuracy: 0.2104 - val_loss: 2.2591 - val_accuracy: 0.2368\n",
      "Epoch 3/20\n",
      "603/603 [==============================] - 32s 53ms/step - loss: 2.1718 - accuracy: 0.2684 - val_loss: 2.1188 - val_accuracy: 0.2864\n",
      "Epoch 4/20\n",
      "603/603 [==============================] - 35s 58ms/step - loss: 2.0314 - accuracy: 0.3151 - val_loss: 2.0035 - val_accuracy: 0.3263\n",
      "Epoch 5/20\n",
      "603/603 [==============================] - 35s 58ms/step - loss: 1.9248 - accuracy: 0.3491 - val_loss: 1.9140 - val_accuracy: 0.3508\n",
      "Epoch 6/20\n",
      "603/603 [==============================] - 32s 52ms/step - loss: 1.8403 - accuracy: 0.3739 - val_loss: 1.8471 - val_accuracy: 0.3704\n",
      "Epoch 7/20\n",
      "603/603 [==============================] - 34s 57ms/step - loss: 1.7749 - accuracy: 0.3946 - val_loss: 1.8046 - val_accuracy: 0.3864\n",
      "Epoch 8/20\n",
      "603/603 [==============================] - 33s 54ms/step - loss: 1.7198 - accuracy: 0.4126 - val_loss: 1.7571 - val_accuracy: 0.4033\n",
      "Epoch 9/20\n",
      "603/603 [==============================] - 28s 47ms/step - loss: 1.6683 - accuracy: 0.4320 - val_loss: 1.7171 - val_accuracy: 0.4174\n",
      "Epoch 10/20\n",
      "603/603 [==============================] - 27s 45ms/step - loss: 1.6210 - accuracy: 0.4477 - val_loss: 1.6866 - val_accuracy: 0.4303\n",
      "Epoch 11/20\n",
      "603/603 [==============================] - 26s 43ms/step - loss: 1.5744 - accuracy: 0.4652 - val_loss: 1.6490 - val_accuracy: 0.4432\n",
      "Epoch 12/20\n",
      "603/603 [==============================] - 25s 41ms/step - loss: 1.5300 - accuracy: 0.4806 - val_loss: 1.6153 - val_accuracy: 0.4529\n",
      "Epoch 13/20\n",
      "603/603 [==============================] - 26s 44ms/step - loss: 1.4865 - accuracy: 0.4977 - val_loss: 1.5852 - val_accuracy: 0.4700\n",
      "Epoch 14/20\n",
      "603/603 [==============================] - 26s 43ms/step - loss: 1.4445 - accuracy: 0.5140 - val_loss: 1.5613 - val_accuracy: 0.4807\n",
      "Epoch 15/20\n",
      "603/603 [==============================] - 27s 44ms/step - loss: 1.4027 - accuracy: 0.5295 - val_loss: 1.5251 - val_accuracy: 0.4934\n",
      "Epoch 16/20\n",
      "603/603 [==============================] - 29s 48ms/step - loss: 1.3629 - accuracy: 0.5445 - val_loss: 1.4936 - val_accuracy: 0.5070\n",
      "Epoch 17/20\n",
      "603/603 [==============================] - 26s 43ms/step - loss: 1.3210 - accuracy: 0.5601 - val_loss: 1.4663 - val_accuracy: 0.5174\n",
      "Epoch 18/20\n",
      "603/603 [==============================] - 31s 51ms/step - loss: 1.2824 - accuracy: 0.5748 - val_loss: 1.4447 - val_accuracy: 0.5293\n",
      "Epoch 19/20\n",
      "603/603 [==============================] - 27s 45ms/step - loss: 1.2456 - accuracy: 0.5885 - val_loss: 1.4164 - val_accuracy: 0.5388\n",
      "Epoch 20/20\n",
      "603/603 [==============================] - 29s 47ms/step - loss: 1.2094 - accuracy: 0.6012 - val_loss: 1.3863 - val_accuracy: 0.5491\n"
     ]
    }
   ],
   "source": [
    "history = GRU_model.fit(X_train_pad,\n",
    "                        y_train,\n",
    "                        batch_size=128,\n",
    "                        epochs = 20,\n",
    "                        verbose=1,\n",
    "                        validation_data = (X_test_pad,y_test))\n",
    "\n",
    "callbacks = [EarlyStopping(monitor='val_accuracy', patience=2),\n",
    "                     saveWeightsCallback(\n",
    "                         path='./weights/GRU',\n",
    "                         monitor = 'val_loss',\n",
    "                         mode = 'min',\n",
    "                         save_freq='epoch',\n",
    "                     )],         "
   ]
  },
  {
   "cell_type": "markdown",
   "id": "6dafffbb",
   "metadata": {},
   "source": [
    "## Loss over Epochs"
   ]
  },
  {
   "cell_type": "code",
   "execution_count": 97,
   "id": "6dd548c1",
   "metadata": {},
   "outputs": [
    {
     "data": {
      "text/plain": [
       "Text(0, 0.5, 'loss')"
      ]
     },
     "execution_count": 97,
     "metadata": {},
     "output_type": "execute_result"
    },
    {
     "data": {
      "image/png": "[encoded data removed]",
      "text/plain": [
       "<Figure size 2000x500 with 1 Axes>"
      ]
     },
     "metadata": {},
     "output_type": "display_data"
    }
   ],
   "source": [
    "loss = history.history['loss']\n",
    "plt.plot(loss,[epoch+1 for epoch in range(0,len(loss))])\n",
    "plt.xlabel('epochs')\n",
    "plt.ylabel('loss')"
   ]
  },
  {
   "cell_type": "markdown",
   "id": "f578d75f",
   "metadata": {},
   "source": [
    "## Validation accuracy over Epochs"
   ]
  },
  {
   "cell_type": "code",
   "execution_count": 101,
   "id": "dd6ad136",
   "metadata": {},
   "outputs": [
    {
     "name": "stdout",
     "output_type": "stream",
     "text": [
      "GRU validation accuracy: 0.5491\n"
     ]
    },
    {
     "data": {
      "image/png": "[encoded data removed]",
      "text/plain": [
       "<Figure size 2000x500 with 1 Axes>"
      ]
     },
     "metadata": {},
     "output_type": "display_data"
    }
   ],
   "source": [
    "val_accuracy = history.history['val_accuracy']\n",
    "plt.plot([epoch+1 for epoch in range(0,len(val_accuracy))],val_accuracy)\n",
    "plt.xlabel('epochs')\n",
    "plt.ylabel('val_accuracy')\n",
    "print('GRU validation accuracy: {}'.format(round(val_accuracy[-1],4)))"
   ]
  },
  {
   "cell_type": "markdown",
   "id": "00efea0f",
   "metadata": {},
   "source": [
    "# LSTM (Clarissa add plz)"
   ]
  },
  {
   "cell_type": "code",
   "execution_count": 64,
   "id": "d50f4ec7",
   "metadata": {},
   "outputs": [],
   "source": [
    "def build_LSTM_model(embedding_dim,max_length):\n",
    "    model = keras.models.Sequential()\n",
    "    model.add(layers.Embedding(input_dim=num_words,\n",
    "                               output_dim=embedding_dim))\n",
    "    model.add(layers.Bidirectional(\n",
    "        layers.LSTM(units=64,return_sequences=True)))\n",
    "    model.add(layers.Dropout(0.2))\n",
    "    model.add(layers.Bidirectional(\n",
    "        layers.LSTM(units=64)))\n",
    "    model.add(layers.Dropout(0.2))\n",
    "    model.add(layers.Dense(13,activation='softmax'))\n",
    "    return model"
   ]
  },
  {
   "cell_type": "code",
   "execution_count": 65,
   "id": "40765e20",
   "metadata": {},
   "outputs": [
    {
     "name": "stdout",
     "output_type": "stream",
     "text": [
      "Model: \"sequential\"\n",
      "_________________________________________________________________\n",
      " Layer (type)                Output Shape              Param #   \n",
      "=================================================================\n",
      " embedding_1 (Embedding)     (None, None, 50)          1552250   \n",
      "                                                                 \n",
      " bidirectional (Bidirectiona  (None, None, 128)        58880     \n",
      " l)                                                              \n",
      "                                                                 \n",
      " dropout (Dropout)           (None, None, 128)         0         \n",
      "                                                                 \n",
      " bidirectional_1 (Bidirectio  (None, 128)              98816     \n",
      " nal)                                                            \n",
      "                                                                 \n",
      " dropout_1 (Dropout)         (None, 128)               0         \n",
      "                                                                 \n",
      " dense (Dense)               (None, 13)                1677      \n",
      "                                                                 \n",
      "=================================================================\n",
      "Total params: 1,711,623\n",
      "Trainable params: 1,711,623\n",
      "Non-trainable params: 0\n",
      "_________________________________________________________________\n"
     ]
    }
   ],
   "source": [
    "LSTM_model = build_LSTM_model(EMBEDDING_DIM,max_length)\n",
    "\n",
    "LSTM_model.compile(\n",
    "    optimizer= Adam(learning_rate=0.0001),\n",
    "    loss='categorical_crossentropy',\n",
    "    metrics=[\n",
    "        'accuracy',\n",
    "    ]\n",
    ")\n",
    "\n",
    "LSTM_model.summary()"
   ]
  },
  {
   "cell_type": "code",
   "execution_count": 68,
   "id": "6a58d45e",
   "metadata": {},
   "outputs": [
    {
     "name": "stdout",
     "output_type": "stream",
     "text": [
      "Epoch 1/20\n",
      "603/603 [==============================] - ETA: 0s - loss: 1.0272 - accuracy: 0.7010\n",
      "Epoch 1: val_loss improved from inf to 1.26375, saving model to ./weights/LSTM\n",
      "603/603 [==============================] - 61s 100ms/step - loss: 1.0272 - accuracy: 0.7010 - val_loss: 1.2637 - val_accuracy: 0.6196\n",
      "Epoch 2/20\n",
      "603/603 [==============================] - ETA: 0s - loss: 0.9815 - accuracy: 0.7125\n",
      "Epoch 2: val_loss improved from 1.26375 to 1.24755, saving model to ./weights/LSTM\n",
      "603/603 [==============================] - 70s 117ms/step - loss: 0.9815 - accuracy: 0.7125 - val_loss: 1.2475 - val_accuracy: 0.6235\n",
      "Epoch 3/20\n",
      "603/603 [==============================] - ETA: 0s - loss: 0.9466 - accuracy: 0.7218\n",
      "Epoch 3: val_loss improved from 1.24755 to 1.22924, saving model to ./weights/LSTM\n",
      "603/603 [==============================] - 63s 104ms/step - loss: 0.9466 - accuracy: 0.7218 - val_loss: 1.2292 - val_accuracy: 0.6292\n",
      "Epoch 4/20\n",
      "603/603 [==============================] - ETA: 0s - loss: 0.9071 - accuracy: 0.7321\n",
      "Epoch 4: val_loss improved from 1.22924 to 1.21625, saving model to ./weights/LSTM\n",
      "603/603 [==============================] - 61s 100ms/step - loss: 0.9071 - accuracy: 0.7321 - val_loss: 1.2162 - val_accuracy: 0.6340\n",
      "Epoch 5/20\n",
      "603/603 [==============================] - ETA: 0s - loss: 0.8827 - accuracy: 0.7376\n",
      "Epoch 5: val_loss improved from 1.21625 to 1.20205, saving model to ./weights/LSTM\n",
      "603/603 [==============================] - 61s 101ms/step - loss: 0.8827 - accuracy: 0.7376 - val_loss: 1.2021 - val_accuracy: 0.6376\n",
      "Epoch 6/20\n",
      "603/603 [==============================] - ETA: 0s - loss: 0.8537 - accuracy: 0.7442\n",
      "Epoch 6: val_loss improved from 1.20205 to 1.18384, saving model to ./weights/LSTM\n",
      "603/603 [==============================] - 61s 101ms/step - loss: 0.8537 - accuracy: 0.7442 - val_loss: 1.1838 - val_accuracy: 0.6437\n",
      "Epoch 7/20\n",
      "603/603 [==============================] - ETA: 0s - loss: 0.8342 - accuracy: 0.7495\n",
      "Epoch 7: val_loss improved from 1.18384 to 1.17307, saving model to ./weights/LSTM\n",
      "603/603 [==============================] - 54s 89ms/step - loss: 0.8342 - accuracy: 0.7495 - val_loss: 1.1731 - val_accuracy: 0.6474\n",
      "Epoch 8/20\n",
      "603/603 [==============================] - ETA: 0s - loss: 0.8058 - accuracy: 0.7569\n",
      "Epoch 8: val_loss did not improve from 1.17307\n",
      "603/603 [==============================] - 55s 91ms/step - loss: 0.8058 - accuracy: 0.7569 - val_loss: 1.1781 - val_accuracy: 0.6489\n",
      "Epoch 9/20\n",
      "603/603 [==============================] - ETA: 0s - loss: 0.7878 - accuracy: 0.7612\n",
      "Epoch 9: val_loss improved from 1.17307 to 1.14727, saving model to ./weights/LSTM\n",
      "603/603 [==============================] - 63s 105ms/step - loss: 0.7878 - accuracy: 0.7612 - val_loss: 1.1473 - val_accuracy: 0.6561\n",
      "Epoch 10/20\n",
      "603/603 [==============================] - ETA: 0s - loss: 0.7638 - accuracy: 0.7677\n",
      "Epoch 10: val_loss improved from 1.14727 to 1.14042, saving model to ./weights/LSTM\n",
      "603/603 [==============================] - 56s 93ms/step - loss: 0.7638 - accuracy: 0.7677 - val_loss: 1.1404 - val_accuracy: 0.6589\n",
      "Epoch 11/20\n",
      "603/603 [==============================] - ETA: 0s - loss: 0.7512 - accuracy: 0.7707\n",
      "Epoch 11: val_loss improved from 1.14042 to 1.13072, saving model to ./weights/LSTM\n",
      "603/603 [==============================] - 53s 88ms/step - loss: 0.7512 - accuracy: 0.7707 - val_loss: 1.1307 - val_accuracy: 0.6625\n",
      "Epoch 12/20\n",
      "603/603 [==============================] - ETA: 0s - loss: 0.7308 - accuracy: 0.7753\n",
      "Epoch 12: val_loss improved from 1.13072 to 1.12096, saving model to ./weights/LSTM\n",
      "603/603 [==============================] - 60s 99ms/step - loss: 0.7308 - accuracy: 0.7753 - val_loss: 1.1210 - val_accuracy: 0.6633\n",
      "Epoch 13/20\n",
      "603/603 [==============================] - ETA: 0s - loss: 0.7199 - accuracy: 0.7788\n",
      "Epoch 13: val_loss improved from 1.12096 to 1.11578, saving model to ./weights/LSTM\n",
      "603/603 [==============================] - 58s 97ms/step - loss: 0.7199 - accuracy: 0.7788 - val_loss: 1.1158 - val_accuracy: 0.6678\n",
      "Epoch 14/20\n",
      "603/603 [==============================] - ETA: 0s - loss: 0.7017 - accuracy: 0.7839\n",
      "Epoch 14: val_loss did not improve from 1.11578\n",
      "603/603 [==============================] - 61s 101ms/step - loss: 0.7017 - accuracy: 0.7839 - val_loss: 1.1184 - val_accuracy: 0.6697\n",
      "Epoch 15/20\n",
      "603/603 [==============================] - ETA: 0s - loss: 0.6892 - accuracy: 0.7865\n",
      "Epoch 15: val_loss improved from 1.11578 to 1.10873, saving model to ./weights/LSTM\n",
      "603/603 [==============================] - 61s 101ms/step - loss: 0.6892 - accuracy: 0.7865 - val_loss: 1.1087 - val_accuracy: 0.6730\n",
      "Epoch 16/20\n",
      "603/603 [==============================] - ETA: 0s - loss: 0.6766 - accuracy: 0.7908\n",
      "Epoch 16: val_loss improved from 1.10873 to 1.09238, saving model to ./weights/LSTM\n",
      "603/603 [==============================] - 61s 101ms/step - loss: 0.6766 - accuracy: 0.7908 - val_loss: 1.0924 - val_accuracy: 0.6734\n",
      "Epoch 17/20\n",
      "603/603 [==============================] - ETA: 0s - loss: 0.6623 - accuracy: 0.7935\n",
      "Epoch 17: val_loss did not improve from 1.09238\n",
      "603/603 [==============================] - 61s 101ms/step - loss: 0.6623 - accuracy: 0.7935 - val_loss: 1.1112 - val_accuracy: 0.6742\n",
      "Epoch 18/20\n",
      "603/603 [==============================] - ETA: 0s - loss: 0.6548 - accuracy: 0.7951\n",
      "Epoch 18: val_loss improved from 1.09238 to 1.08464, saving model to ./weights/LSTM\n",
      "603/603 [==============================] - 62s 103ms/step - loss: 0.6548 - accuracy: 0.7951 - val_loss: 1.0846 - val_accuracy: 0.6784\n",
      "Epoch 19/20\n",
      "603/603 [==============================] - ETA: 0s - loss: 0.6436 - accuracy: 0.7987\n",
      "Epoch 19: val_loss did not improve from 1.08464\n",
      "603/603 [==============================] - 70s 116ms/step - loss: 0.6436 - accuracy: 0.7987 - val_loss: 1.0885 - val_accuracy: 0.6780\n",
      "Epoch 20/20\n",
      "603/603 [==============================] - ETA: 0s - loss: 0.6325 - accuracy: 0.8020\n",
      "Epoch 20: val_loss improved from 1.08464 to 1.08430, saving model to ./weights/LSTM\n",
      "603/603 [==============================] - 60s 100ms/step - loss: 0.6325 - accuracy: 0.8020 - val_loss: 1.0843 - val_accuracy: 0.6792\n"
     ]
    }
   ],
   "source": [
    "history = LSTM_model.fit(X_train_pad,\n",
    "                        y_train,\n",
    "                        batch_size=128,\n",
    "                        epochs = 20,\n",
    "                        verbose=1,\n",
    "                        validation_data = (X_test_pad,y_test),\n",
    "                        callbacks = [EarlyStopping(monitor='val_accuracy', patience=2),\n",
    "                                     saveWeightsCallback(\n",
    "                                         path='./weights/LSTM',\n",
    "                                         monitor = 'val_loss',\n",
    "                                         mode = 'min',\n",
    "                                         save_freq='epoch')])\n",
    "callbacks = [EarlyStopping(monitor='val_accuracy', patience=2),\n",
    "                     saveWeightsCallback(\n",
    "                         path='./weights/LSTM',\n",
    "                         monitor = 'val_loss',\n",
    "                         mode = 'min',\n",
    "                         save_freq='epoch',\n",
    "                     )],         "
   ]
  },
  {
   "cell_type": "markdown",
   "id": "90eb3013",
   "metadata": {},
   "source": [
    "## Loss over epochs for LSTM model"
   ]
  },
  {
   "cell_type": "code",
   "execution_count": 78,
   "id": "0c575884",
   "metadata": {},
   "outputs": [
    {
     "data": {
      "text/plain": [
       "Text(0, 0.5, 'loss')"
      ]
     },
     "execution_count": 78,
     "metadata": {},
     "output_type": "execute_result"
    },
    {
     "data": {
      "image/png": "[encoded data removed]",
      "text/plain": [
       "<Figure size 640x480 with 1 Axes>"
      ]
     },
     "metadata": {},
     "output_type": "display_data"
    }
   ],
   "source": [
    "loss = history.history['loss']\n",
    "plt.plot(loss,[epoch+1 for epoch in range(0,len(loss))])\n",
    "plt.xlabel('epochs')\n",
    "plt.ylabel('loss')"
   ]
  },
  {
   "cell_type": "markdown",
   "id": "8c24b30d",
   "metadata": {},
   "source": [
    "## Accuracy over epochs for LSTM model"
   ]
  },
  {
   "cell_type": "code",
   "execution_count": 79,
   "id": "df9c1776",
   "metadata": {},
   "outputs": [
    {
     "name": "stdout",
     "output_type": "stream",
     "text": [
      "LSTM validation accuracy: 0.6792\n"
     ]
    },
    {
     "data": {
      "image/png": "[encoded data removed]",
      "text/plain": [
       "<Figure size 640x480 with 1 Axes>"
      ]
     },
     "metadata": {},
     "output_type": "display_data"
    }
   ],
   "source": [
    "val_accuracy = history.history['val_accuracy']\n",
    "plt.plot([epoch+1 for epoch in range(0,len(val_accuracy))],val_accuracy)\n",
    "plt.xlabel('epochs')\n",
    "plt.ylabel('accuracy')\n",
    "print('LSTM validation accuracy: {}'.format(round(val_accuracy[-1],4)))"
   ]
  },
  {
   "cell_type": "markdown",
   "id": "303a6870",
   "metadata": {},
   "source": [
    "# Transformers (Hwan Add Plz)"
   ]
  },
  {
   "cell_type": "markdown",
   "id": "c5c35040",
   "metadata": {},
   "source": [
    "# (KIV) Using kerastuner to optimise the val_accuracy and find optimum hyperparameters of \n",
    "1. batch_size (64,128,256,512)\n",
    "2. neurons (32,64,128)\n",
    "3. learning_rate (0.0001,0.001, 0.01)"
   ]
  },
  {
   "cell_type": "code",
   "execution_count": null,
   "id": "e100af30",
   "metadata": {},
   "outputs": [],
   "source": [
    "import keras_tuner as kt\n",
    "from keras_tuner.tuners import RandomSearch\n",
    "\n",
    "def tuner_GRU_model(hp):\n",
    "    \n",
    "    # to change for other vector sizes\n",
    "    EMBEDDING_DIM = 300\n",
    "    #tuner variables\n",
    "    tuner_units = hp.Choice('units',[32,64,128])\n",
    "    tuner_lr = hp.Choice('learning_rate',[0.0001,0.001,0.01])\n",
    "    tuner_batch_size = hp.Choice('batch_size',[64,128,256,512])\n",
    "    \n",
    "    gru_model = keras.models.Sequential()\n",
    "    gru_model.add(layers.Embedding(num_words,\n",
    "                               embedding_dim = EMBEDDING_DIM,\n",
    "                               weights=[embedding_matrix]))\n",
    "    \n",
    "    gru_model.add(\n",
    "        layers.Bidirectional(\n",
    "            layers.GRU(units=tuner_units,return_sequences=True)\n",
    "        ))\n",
    "    \n",
    "    gru_model.add(\n",
    "        layers.Bidirectional(\n",
    "            layers.GRU(units=tuner_units)\n",
    "        ))\n",
    "    gru_model.add(layers.Dense(13,activation='softmax'))\n",
    "    \n",
    "    # compile model\n",
    "    GRU_model.compile(\n",
    "        optimizer= Adam(learning_rate=tuner_lr),\n",
    "        batch_size=tuner_batch_size,\n",
    "        loss='categorical_crossentropy',\n",
    "        metrics=['val_accuracy']\n",
    "    )\n",
    "    \n",
    "    \n",
    "    return gru_model"
   ]
  },
  {
   "cell_type": "code",
   "execution_count": null,
   "id": "d81fcd62",
   "metadata": {},
   "outputs": [],
   "source": [
    "tuner = RandomSearch(\n",
    "    tuner_GRU_model,\n",
    "    objective='val_loss',\n",
    "    max_trials=10,\n",
    "    overwrite=True,\n",
    ")\n",
    "\n",
    "tuner.search(train_ds,\n",
    "             validation_data=(X_test_pad,y_test), \n",
    "             epochs=20,\n",
    "             callbacks=[EarlyStopping(monitor='val_loss', patience=2,min_delta=0.5)],\n",
    "             verbose=1)"
   ]
  }
 ],
 "metadata": {
  "kernelspec": {
   "display_name": "Python 3 (ipykernel)",
   "language": "python",
   "name": "python3"
  },
  "language_info": {
   "codemirror_mode": {
    "name": "ipython",
    "version": 3
   },
   "file_extension": ".py",
   "mimetype": "text/x-python",
   "name": "python",
   "nbconvert_exporter": "python",
   "pygments_lexer": "ipython3",
   "version": "3.7.13"
  }
 },
 "nbformat": 4,
 "nbformat_minor": 5
}
